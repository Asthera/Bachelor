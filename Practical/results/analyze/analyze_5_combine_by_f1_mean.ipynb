{
 "cells": [
  {
   "cell_type": "code",
   "execution_count": 1,
   "id": "initial_id",
   "metadata": {
    "collapsed": true,
    "ExecuteTime": {
     "end_time": "2024-05-26T12:45:11.932714Z",
     "start_time": "2024-05-26T12:45:10.928004Z"
    }
   },
   "outputs": [],
   "source": [
    "from read_sweep import SweepReader\n",
    "from edit_sweep_df import SweepEditorDataFrame"
   ]
  },
  {
   "cell_type": "code",
   "outputs": [],
   "source": [
    "# affine_single name of the sweep\n",
    "sweep_id = \"jfzuq313\"\n",
    "project_path = \"daswoldemar/bachelor\""
   ],
   "metadata": {
    "collapsed": false,
    "ExecuteTime": {
     "end_time": "2024-05-26T12:45:11.936276Z",
     "start_time": "2024-05-26T12:45:11.932996Z"
    }
   },
   "id": "13aea3320e86c35e",
   "execution_count": 2
  },
  {
   "cell_type": "code",
   "outputs": [
    {
     "name": "stderr",
     "output_type": "stream",
     "text": [
      "\u001B[34m\u001B[1mwandb\u001B[0m:   1 of 1 files downloaded.  \n",
      "\u001B[34m\u001B[1mwandb\u001B[0m:   1 of 1 files downloaded.  \n",
      "\u001B[34m\u001B[1mwandb\u001B[0m:   1 of 1 files downloaded.  \n",
      "\u001B[34m\u001B[1mwandb\u001B[0m:   1 of 1 files downloaded.  \n",
      "\u001B[34m\u001B[1mwandb\u001B[0m:   1 of 1 files downloaded.  \n",
      "\u001B[34m\u001B[1mwandb\u001B[0m:   1 of 1 files downloaded.  \n",
      "\u001B[34m\u001B[1mwandb\u001B[0m:   1 of 1 files downloaded.  \n",
      "\u001B[34m\u001B[1mwandb\u001B[0m:   1 of 1 files downloaded.  \n",
      "\u001B[34m\u001B[1mwandb\u001B[0m:   1 of 1 files downloaded.  \n",
      "\u001B[34m\u001B[1mwandb\u001B[0m:   1 of 1 files downloaded.  \n",
      "\u001B[34m\u001B[1mwandb\u001B[0m:   1 of 1 files downloaded.  \n",
      "\u001B[34m\u001B[1mwandb\u001B[0m:   1 of 1 files downloaded.  \n",
      "\u001B[34m\u001B[1mwandb\u001B[0m:   1 of 1 files downloaded.  \n",
      "\u001B[34m\u001B[1mwandb\u001B[0m:   1 of 1 files downloaded.  \n",
      "\u001B[34m\u001B[1mwandb\u001B[0m:   1 of 1 files downloaded.  \n",
      "\u001B[34m\u001B[1mwandb\u001B[0m:   1 of 1 files downloaded.  \n",
      "\u001B[34m\u001B[1mwandb\u001B[0m:   1 of 1 files downloaded.  \n",
      "\u001B[34m\u001B[1mwandb\u001B[0m:   1 of 1 files downloaded.  \n",
      "\u001B[34m\u001B[1mwandb\u001B[0m:   1 of 1 files downloaded.  \n",
      "\u001B[34m\u001B[1mwandb\u001B[0m:   1 of 1 files downloaded.  \n",
      "\u001B[34m\u001B[1mwandb\u001B[0m:   1 of 1 files downloaded.  \n",
      "\u001B[34m\u001B[1mwandb\u001B[0m:   1 of 1 files downloaded.  \n",
      "\u001B[34m\u001B[1mwandb\u001B[0m:   1 of 1 files downloaded.  \n",
      "\u001B[34m\u001B[1mwandb\u001B[0m:   1 of 1 files downloaded.  \n",
      "\u001B[34m\u001B[1mwandb\u001B[0m:   1 of 1 files downloaded.  \n",
      "\u001B[34m\u001B[1mwandb\u001B[0m:   1 of 1 files downloaded.  \n",
      "\u001B[34m\u001B[1mwandb\u001B[0m:   1 of 1 files downloaded.  \n",
      "\u001B[34m\u001B[1mwandb\u001B[0m:   1 of 1 files downloaded.  \n",
      "\u001B[34m\u001B[1mwandb\u001B[0m:   1 of 1 files downloaded.  \n",
      "\u001B[34m\u001B[1mwandb\u001B[0m:   1 of 1 files downloaded.  \n",
      "\u001B[34m\u001B[1mwandb\u001B[0m:   1 of 1 files downloaded.  \n",
      "\u001B[34m\u001B[1mwandb\u001B[0m:   1 of 1 files downloaded.  \n",
      "\u001B[34m\u001B[1mwandb\u001B[0m:   1 of 1 files downloaded.  \n",
      "\u001B[34m\u001B[1mwandb\u001B[0m:   1 of 1 files downloaded.  \n",
      "\u001B[34m\u001B[1mwandb\u001B[0m:   1 of 1 files downloaded.  \n",
      "\u001B[34m\u001B[1mwandb\u001B[0m:   1 of 1 files downloaded.  \n",
      "\u001B[34m\u001B[1mwandb\u001B[0m:   1 of 1 files downloaded.  \n",
      "\u001B[34m\u001B[1mwandb\u001B[0m:   1 of 1 files downloaded.  \n",
      "\u001B[34m\u001B[1mwandb\u001B[0m:   1 of 1 files downloaded.  \n",
      "\u001B[34m\u001B[1mwandb\u001B[0m:   1 of 1 files downloaded.  \n",
      "\u001B[34m\u001B[1mwandb\u001B[0m:   1 of 1 files downloaded.  \n",
      "\u001B[34m\u001B[1mwandb\u001B[0m:   1 of 1 files downloaded.  \n",
      "\u001B[34m\u001B[1mwandb\u001B[0m:   1 of 1 files downloaded.  \n",
      "\u001B[34m\u001B[1mwandb\u001B[0m:   1 of 1 files downloaded.  \n",
      "\u001B[34m\u001B[1mwandb\u001B[0m:   1 of 1 files downloaded.  \n",
      "\u001B[34m\u001B[1mwandb\u001B[0m:   1 of 1 files downloaded.  \n",
      "\u001B[34m\u001B[1mwandb\u001B[0m:   1 of 1 files downloaded.  \n",
      "\u001B[34m\u001B[1mwandb\u001B[0m:   1 of 1 files downloaded.  \n",
      "\u001B[34m\u001B[1mwandb\u001B[0m:   1 of 1 files downloaded.  \n",
      "\u001B[34m\u001B[1mwandb\u001B[0m:   1 of 1 files downloaded.  \n"
     ]
    },
    {
     "name": "stdout",
     "output_type": "stream",
     "text": [
      "Data saved to CSV file\n"
     ]
    }
   ],
   "source": [
    "# read sweep, save raw\n",
    "reader = SweepReader(sweep_id, project_path)\n",
    "df_raw = reader.fetch_sweep_runs()\n",
    "reader.save_to_csv(\"../sweeps_raw/\"+sweep_id+\".csv\")"
   ],
   "metadata": {
    "collapsed": false,
    "ExecuteTime": {
     "end_time": "2024-05-26T12:46:29.512904Z",
     "start_time": "2024-05-26T12:45:12.591728Z"
    }
   },
   "id": "95ecb466f702d3a8",
   "execution_count": 3
  },
  {
   "cell_type": "code",
   "outputs": [],
   "source": [
    "# edit sweep, save edited\n",
    "editor = SweepEditorDataFrame([df_raw,])\n",
    "df_edited = editor.init_edit()\n",
    "df_edited.to_csv(\"../sweeps_edited/\"+sweep_id+\".csv\")"
   ],
   "metadata": {
    "collapsed": false,
    "ExecuteTime": {
     "end_time": "2024-05-26T12:46:29.526166Z",
     "start_time": "2024-05-26T12:46:29.510426Z"
    }
   },
   "id": "a2eef6fd7163b19f",
   "execution_count": 4
  },
  {
   "cell_type": "code",
   "outputs": [
    {
     "data": {
      "text/plain": "                                                    Test F1_mean  Test F1_max  \\\nTransforms                                                                      \nCT.RandomSaltAndPepperNoise(p=0.5, density=(0.0...      0.320027     0.615385   \nMT.RandShiftIntensity(prob=0.5, offsets=(0.1, 0...      0.396706     0.833333   \nMT.RandSmoothFieldAdjustContrast(prob=0.5, spat...      0.436159     0.923077   \nT.RandomApply([T.RandomAffine(degrees=(-30, 30)...      0.251047     0.823529   \nT.RandomApply([T.RandomAffine(degrees=(-30, 30)...      0.327467     0.777778   \nT.RandomApply([T.RandomAffine(degrees=(-30, 30)...      0.356321     0.693333   \nT.RandomApply([T.RandomAffine(degrees=(-30, 30)...      0.305850     0.753247   \nT.RandomApply([T.RandomAffine(degrees=(-30, 30)...      0.367981     0.769231   \nT.RandomApply([T.RandomAffine(degrees=0, shear=...      0.364072     0.630631   \nT.RandomApply([T.RandomAffine(degrees=0, transl...      0.348138     0.827586   \n\n                                                    Test F1_min  Test F1_std  \\\nTransforms                                                                     \nCT.RandomSaltAndPepperNoise(p=0.5, density=(0.0...     0.070175     0.271905   \nMT.RandShiftIntensity(prob=0.5, offsets=(0.1, 0...     0.161435     0.277371   \nMT.RandSmoothFieldAdjustContrast(prob=0.5, spat...     0.078431     0.391109   \nT.RandomApply([T.RandomAffine(degrees=(-30, 30)...     0.038710     0.327265   \nT.RandomApply([T.RandomAffine(degrees=(-30, 30)...     0.117647     0.268827   \nT.RandomApply([T.RandomAffine(degrees=(-30, 30)...     0.093458     0.292406   \nT.RandomApply([T.RandomAffine(degrees=(-30, 30)...     0.105263     0.271131   \nT.RandomApply([T.RandomAffine(degrees=(-30, 30)...     0.029412     0.291446   \nT.RandomApply([T.RandomAffine(degrees=0, shear=...     0.099010     0.247576   \nT.RandomApply([T.RandomAffine(degrees=0, transl...     0.086957     0.285721   \n\n                                                    Test Precision_mean  \\\nTransforms                                                                \nCT.RandomSaltAndPepperNoise(p=0.5, density=(0.0...             0.355025   \nMT.RandShiftIntensity(prob=0.5, offsets=(0.1, 0...             0.603259   \nMT.RandSmoothFieldAdjustContrast(prob=0.5, spat...             0.427084   \nT.RandomApply([T.RandomAffine(degrees=(-30, 30)...             0.421427   \nT.RandomApply([T.RandomAffine(degrees=(-30, 30)...             0.448168   \nT.RandomApply([T.RandomAffine(degrees=(-30, 30)...             0.295026   \nT.RandomApply([T.RandomAffine(degrees=(-30, 30)...             0.628121   \nT.RandomApply([T.RandomAffine(degrees=(-30, 30)...             0.503474   \nT.RandomApply([T.RandomAffine(degrees=0, shear=...             0.298642   \nT.RandomApply([T.RandomAffine(degrees=0, transl...             0.474498   \n\n                                                    Test Precision_max  \\\nTransforms                                                               \nCT.RandomSaltAndPepperNoise(p=0.5, density=(0.0...            1.000000   \nMT.RandShiftIntensity(prob=0.5, offsets=(0.1, 0...            1.000000   \nMT.RandSmoothFieldAdjustContrast(prob=0.5, spat...            0.960000   \nT.RandomApply([T.RandomAffine(degrees=(-30, 30)...            1.000000   \nT.RandomApply([T.RandomAffine(degrees=(-30, 30)...            1.000000   \nT.RandomApply([T.RandomAffine(degrees=(-30, 30)...            0.541667   \nT.RandomApply([T.RandomAffine(degrees=(-30, 30)...            1.000000   \nT.RandomApply([T.RandomAffine(degrees=(-30, 30)...            1.000000   \nT.RandomApply([T.RandomAffine(degrees=0, shear=...            0.546875   \nT.RandomApply([T.RandomAffine(degrees=0, transl...            1.000000   \n\n                                                    Test Precision_min  \\\nTransforms                                                               \nCT.RandomSaltAndPepperNoise(p=0.5, density=(0.0...            0.066667   \nMT.RandShiftIntensity(prob=0.5, offsets=(0.1, 0...            0.092784   \nMT.RandSmoothFieldAdjustContrast(prob=0.5, spat...            0.053333   \nT.RandomApply([T.RandomAffine(degrees=(-30, 30)...            0.023810   \nT.RandomApply([T.RandomAffine(degrees=(-30, 30)...            0.080000   \nT.RandomApply([T.RandomAffine(degrees=(-30, 30)...            0.054054   \nT.RandomApply([T.RandomAffine(degrees=(-30, 30)...            0.081633   \nT.RandomApply([T.RandomAffine(degrees=(-30, 30)...            0.018692   \nT.RandomApply([T.RandomAffine(degrees=0, shear=...            0.067568   \nT.RandomApply([T.RandomAffine(degrees=0, transl...            0.119617   \n\n                                                    Test Precision_std  \\\nTransforms                                                               \nCT.RandomSaltAndPepperNoise(p=0.5, density=(0.0...            0.407935   \nMT.RandShiftIntensity(prob=0.5, offsets=(0.1, 0...            0.423950   \nMT.RandSmoothFieldAdjustContrast(prob=0.5, spat...            0.435416   \nT.RandomApply([T.RandomAffine(degrees=(-30, 30)...            0.493727   \nT.RandomApply([T.RandomAffine(degrees=(-30, 30)...            0.429983   \nT.RandomApply([T.RandomAffine(degrees=(-30, 30)...            0.224248   \nT.RandomApply([T.RandomAffine(degrees=(-30, 30)...            0.494203   \nT.RandomApply([T.RandomAffine(degrees=(-30, 30)...            0.393146   \nT.RandomApply([T.RandomAffine(degrees=0, shear=...            0.230361   \nT.RandomApply([T.RandomAffine(degrees=0, transl...            0.436144   \n\n                                                    Test Recall_mean  \\\nTransforms                                                             \nCT.RandomSaltAndPepperNoise(p=0.5, density=(0.0...          0.422295   \nMT.RandShiftIntensity(prob=0.5, offsets=(0.1, 0...          0.418471   \nMT.RandSmoothFieldAdjustContrast(prob=0.5, spat...          0.521467   \nT.RandomApply([T.RandomAffine(degrees=(-30, 30)...          0.250684   \nT.RandomApply([T.RandomAffine(degrees=(-30, 30)...          0.395066   \nT.RandomApply([T.RandomAffine(degrees=(-30, 30)...          0.516616   \nT.RandomApply([T.RandomAffine(degrees=(-30, 30)...          0.337701   \nT.RandomApply([T.RandomAffine(degrees=(-30, 30)...          0.372253   \nT.RandomApply([T.RandomAffine(degrees=0, shear=...          0.562496   \nT.RandomApply([T.RandomAffine(degrees=0, transl...          0.477775   \n\n                                                    Test Recall_max  \\\nTransforms                                                            \nCT.RandomSaltAndPepperNoise(p=0.5, density=(0.0...         0.744681   \nMT.RandShiftIntensity(prob=0.5, offsets=(0.1, 0...         0.744681   \nMT.RandSmoothFieldAdjustContrast(prob=0.5, spat...         0.888889   \nT.RandomApply([T.RandomAffine(degrees=(-30, 30)...         0.744681   \nT.RandomApply([T.RandomAffine(degrees=(-30, 30)...         0.744681   \nT.RandomApply([T.RandomAffine(degrees=(-30, 30)...         0.962963   \nT.RandomApply([T.RandomAffine(degrees=(-30, 30)...         0.620690   \nT.RandomApply([T.RandomAffine(degrees=(-30, 30)...         0.744681   \nT.RandomApply([T.RandomAffine(degrees=0, shear=...         0.827586   \nT.RandomApply([T.RandomAffine(degrees=0, transl...         0.862069   \n\n                                                    Test Recall_min  \\\nTransforms                                                            \nCT.RandomSaltAndPepperNoise(p=0.5, density=(0.0...         0.074074   \nMT.RandShiftIntensity(prob=0.5, offsets=(0.1, 0...         0.171429   \nMT.RandSmoothFieldAdjustContrast(prob=0.5, spat...         0.148148   \nT.RandomApply([T.RandomAffine(degrees=(-30, 30)...         0.037037   \nT.RandomApply([T.RandomAffine(degrees=(-30, 30)...         0.200000   \nT.RandomApply([T.RandomAffine(degrees=(-30, 30)...         0.074074   \nT.RandomApply([T.RandomAffine(degrees=(-30, 30)...         0.074074   \nT.RandomApply([T.RandomAffine(degrees=(-30, 30)...         0.068966   \nT.RandomApply([T.RandomAffine(degrees=0, shear=...         0.185185   \nT.RandomApply([T.RandomAffine(degrees=0, transl...         0.057143   \n\n                                                    Test Recall_std  \\\nTransforms                                                            \nCT.RandomSaltAndPepperNoise(p=0.5, density=(0.0...         0.238146   \nMT.RandShiftIntensity(prob=0.5, offsets=(0.1, 0...         0.257425   \nMT.RandSmoothFieldAdjustContrast(prob=0.5, spat...         0.298994   \nT.RandomApply([T.RandomAffine(degrees=(-30, 30)...         0.287610   \nT.RandomApply([T.RandomAffine(degrees=(-30, 30)...         0.253262   \nT.RandomApply([T.RandomAffine(degrees=(-30, 30)...         0.368692   \nT.RandomApply([T.RandomAffine(degrees=(-30, 30)...         0.262412   \nT.RandomApply([T.RandomAffine(degrees=(-30, 30)...         0.331050   \nT.RandomApply([T.RandomAffine(degrees=0, shear=...         0.291207   \nT.RandomApply([T.RandomAffine(degrees=0, transl...         0.343869   \n\n                                                   Test Accuracy_mean  \\\nTransforms                                                              \nCT.RandomSaltAndPepperNoise(p=0.5, density=(0.0...                NaN   \nMT.RandShiftIntensity(prob=0.5, offsets=(0.1, 0...                NaN   \nMT.RandSmoothFieldAdjustContrast(prob=0.5, spat...                NaN   \nT.RandomApply([T.RandomAffine(degrees=(-30, 30)...                NaN   \nT.RandomApply([T.RandomAffine(degrees=(-30, 30)...                NaN   \nT.RandomApply([T.RandomAffine(degrees=(-30, 30)...                NaN   \nT.RandomApply([T.RandomAffine(degrees=(-30, 30)...                NaN   \nT.RandomApply([T.RandomAffine(degrees=(-30, 30)...                NaN   \nT.RandomApply([T.RandomAffine(degrees=0, shear=...                NaN   \nT.RandomApply([T.RandomAffine(degrees=0, transl...                NaN   \n\n                                                   Test Accuracy_max  \\\nTransforms                                                             \nCT.RandomSaltAndPepperNoise(p=0.5, density=(0.0...               NaN   \nMT.RandShiftIntensity(prob=0.5, offsets=(0.1, 0...               NaN   \nMT.RandSmoothFieldAdjustContrast(prob=0.5, spat...               NaN   \nT.RandomApply([T.RandomAffine(degrees=(-30, 30)...               NaN   \nT.RandomApply([T.RandomAffine(degrees=(-30, 30)...               NaN   \nT.RandomApply([T.RandomAffine(degrees=(-30, 30)...               NaN   \nT.RandomApply([T.RandomAffine(degrees=(-30, 30)...               NaN   \nT.RandomApply([T.RandomAffine(degrees=(-30, 30)...               NaN   \nT.RandomApply([T.RandomAffine(degrees=0, shear=...               NaN   \nT.RandomApply([T.RandomAffine(degrees=0, transl...               NaN   \n\n                                                   Test Accuracy_min  \\\nTransforms                                                             \nCT.RandomSaltAndPepperNoise(p=0.5, density=(0.0...               NaN   \nMT.RandShiftIntensity(prob=0.5, offsets=(0.1, 0...               NaN   \nMT.RandSmoothFieldAdjustContrast(prob=0.5, spat...               NaN   \nT.RandomApply([T.RandomAffine(degrees=(-30, 30)...               NaN   \nT.RandomApply([T.RandomAffine(degrees=(-30, 30)...               NaN   \nT.RandomApply([T.RandomAffine(degrees=(-30, 30)...               NaN   \nT.RandomApply([T.RandomAffine(degrees=(-30, 30)...               NaN   \nT.RandomApply([T.RandomAffine(degrees=(-30, 30)...               NaN   \nT.RandomApply([T.RandomAffine(degrees=0, shear=...               NaN   \nT.RandomApply([T.RandomAffine(degrees=0, transl...               NaN   \n\n                                                    Test Accuracy_std  \nTransforms                                                             \nCT.RandomSaltAndPepperNoise(p=0.5, density=(0.0...                NaN  \nMT.RandShiftIntensity(prob=0.5, offsets=(0.1, 0...                NaN  \nMT.RandSmoothFieldAdjustContrast(prob=0.5, spat...                NaN  \nT.RandomApply([T.RandomAffine(degrees=(-30, 30)...                NaN  \nT.RandomApply([T.RandomAffine(degrees=(-30, 30)...                NaN  \nT.RandomApply([T.RandomAffine(degrees=(-30, 30)...                NaN  \nT.RandomApply([T.RandomAffine(degrees=(-30, 30)...                NaN  \nT.RandomApply([T.RandomAffine(degrees=(-30, 30)...                NaN  \nT.RandomApply([T.RandomAffine(degrees=0, shear=...                NaN  \nT.RandomApply([T.RandomAffine(degrees=0, transl...                NaN  ",
      "text/html": "<div>\n<style scoped>\n    .dataframe tbody tr th:only-of-type {\n        vertical-align: middle;\n    }\n\n    .dataframe tbody tr th {\n        vertical-align: top;\n    }\n\n    .dataframe thead th {\n        text-align: right;\n    }\n</style>\n<table border=\"1\" class=\"dataframe\">\n  <thead>\n    <tr style=\"text-align: right;\">\n      <th></th>\n      <th>Test F1_mean</th>\n      <th>Test F1_max</th>\n      <th>Test F1_min</th>\n      <th>Test F1_std</th>\n      <th>Test Precision_mean</th>\n      <th>Test Precision_max</th>\n      <th>Test Precision_min</th>\n      <th>Test Precision_std</th>\n      <th>Test Recall_mean</th>\n      <th>Test Recall_max</th>\n      <th>Test Recall_min</th>\n      <th>Test Recall_std</th>\n      <th>Test Accuracy_mean</th>\n      <th>Test Accuracy_max</th>\n      <th>Test Accuracy_min</th>\n      <th>Test Accuracy_std</th>\n    </tr>\n    <tr>\n      <th>Transforms</th>\n      <th></th>\n      <th></th>\n      <th></th>\n      <th></th>\n      <th></th>\n      <th></th>\n      <th></th>\n      <th></th>\n      <th></th>\n      <th></th>\n      <th></th>\n      <th></th>\n      <th></th>\n      <th></th>\n      <th></th>\n      <th></th>\n    </tr>\n  </thead>\n  <tbody>\n    <tr>\n      <th>CT.RandomSaltAndPepperNoise(p=0.5, density=(0.005, 0.01))\\nCT.RandomBrightnessByAdd(p=0.5, delta=(-0.35, 0.35))\\nT.RandomHorizontalFlip(p=0.5)\\nT.RandomApply([T.RandomAffine(degrees=0, translate=(0.15, 0.15))], p=0.5)\\nT.RandomApply([T.RandomAffine(degrees=(-30, 30))], p=0.5)</th>\n      <td>0.320027</td>\n      <td>0.615385</td>\n      <td>0.070175</td>\n      <td>0.271905</td>\n      <td>0.355025</td>\n      <td>1.000000</td>\n      <td>0.066667</td>\n      <td>0.407935</td>\n      <td>0.422295</td>\n      <td>0.744681</td>\n      <td>0.074074</td>\n      <td>0.238146</td>\n      <td>NaN</td>\n      <td>NaN</td>\n      <td>NaN</td>\n      <td>NaN</td>\n    </tr>\n    <tr>\n      <th>MT.RandShiftIntensity(prob=0.5, offsets=(0.1, 0.4))\\nCT.RandomBrightnessByAdd(p=0.5, delta=(-0.35, 0.35))\\nT.RandomHorizontalFlip(p=0.5)\\nT.RandomApply([T.RandomAffine(degrees=0, translate=(0.15, 0.15))], p=0.5)\\nT.RandomApply([T.RandomAffine(degrees=(-30, 30))], p=0.5)</th>\n      <td>0.396706</td>\n      <td>0.833333</td>\n      <td>0.161435</td>\n      <td>0.277371</td>\n      <td>0.603259</td>\n      <td>1.000000</td>\n      <td>0.092784</td>\n      <td>0.423950</td>\n      <td>0.418471</td>\n      <td>0.744681</td>\n      <td>0.171429</td>\n      <td>0.257425</td>\n      <td>NaN</td>\n      <td>NaN</td>\n      <td>NaN</td>\n      <td>NaN</td>\n    </tr>\n    <tr>\n      <th>MT.RandSmoothFieldAdjustContrast(prob=0.5, spatial_size=(600, 400), rand_size=(2, 2))\\nCT.RandomBrightnessByAdd(p=0.5, delta=(-0.35, 0.35))\\nT.RandomHorizontalFlip(p=0.5)\\nT.RandomApply([T.RandomAffine(degrees=0, translate=(0.15, 0.15))], p=0.5)\\nT.RandomApply([T.RandomAffine(degrees=(-30, 30))], p=0.5)</th>\n      <td>0.436159</td>\n      <td>0.923077</td>\n      <td>0.078431</td>\n      <td>0.391109</td>\n      <td>0.427084</td>\n      <td>0.960000</td>\n      <td>0.053333</td>\n      <td>0.435416</td>\n      <td>0.521467</td>\n      <td>0.888889</td>\n      <td>0.148148</td>\n      <td>0.298994</td>\n      <td>NaN</td>\n      <td>NaN</td>\n      <td>NaN</td>\n      <td>NaN</td>\n    </tr>\n    <tr>\n      <th>T.RandomApply([T.RandomAffine(degrees=(-30, 30))], p=0.5)\\nT.RandomApply([T.RandomAffine(degrees=0, translate=(0.15, 0.15))], p=0.5)\\nT.RandomHorizontalFlip(p=0.5)\\nCT.RandomBrightnessByAdd(p=0.5, delta=(-0.35, 0.35))\\nCT.RandomSaltAndPepperNoise(p=0.5, density=(0.005, 0.01))</th>\n      <td>0.251047</td>\n      <td>0.823529</td>\n      <td>0.038710</td>\n      <td>0.327265</td>\n      <td>0.421427</td>\n      <td>1.000000</td>\n      <td>0.023810</td>\n      <td>0.493727</td>\n      <td>0.250684</td>\n      <td>0.744681</td>\n      <td>0.037037</td>\n      <td>0.287610</td>\n      <td>NaN</td>\n      <td>NaN</td>\n      <td>NaN</td>\n      <td>NaN</td>\n    </tr>\n    <tr>\n      <th>T.RandomApply([T.RandomAffine(degrees=(-30, 30))], p=0.5)\\nT.RandomApply([T.RandomAffine(degrees=0, translate=(0.15, 0.15))], p=0.5)\\nT.RandomHorizontalFlip(p=0.5)\\nCT.RandomBrightnessByAdd(p=0.5, delta=(-0.35, 0.35))\\nMT.RandShiftIntensity(prob=0.5, offsets=(0.1, 0.4))</th>\n      <td>0.327467</td>\n      <td>0.777778</td>\n      <td>0.117647</td>\n      <td>0.268827</td>\n      <td>0.448168</td>\n      <td>1.000000</td>\n      <td>0.080000</td>\n      <td>0.429983</td>\n      <td>0.395066</td>\n      <td>0.744681</td>\n      <td>0.200000</td>\n      <td>0.253262</td>\n      <td>NaN</td>\n      <td>NaN</td>\n      <td>NaN</td>\n      <td>NaN</td>\n    </tr>\n    <tr>\n      <th>T.RandomApply([T.RandomAffine(degrees=(-30, 30))], p=0.5)\\nT.RandomApply([T.RandomAffine(degrees=0, translate=(0.15, 0.15))], p=0.5)\\nT.RandomHorizontalFlip(p=0.5)\\nCT.RandomBrightnessByAdd(p=0.5, delta=(-0.35, 0.35))\\nMT.RandSmoothFieldAdjustContrast(prob=0.5, spatial_size=(600, 400), rand_size=(2, 2))</th>\n      <td>0.356321</td>\n      <td>0.693333</td>\n      <td>0.093458</td>\n      <td>0.292406</td>\n      <td>0.295026</td>\n      <td>0.541667</td>\n      <td>0.054054</td>\n      <td>0.224248</td>\n      <td>0.516616</td>\n      <td>0.962963</td>\n      <td>0.074074</td>\n      <td>0.368692</td>\n      <td>NaN</td>\n      <td>NaN</td>\n      <td>NaN</td>\n      <td>NaN</td>\n    </tr>\n    <tr>\n      <th>T.RandomApply([T.RandomAffine(degrees=(-30, 30))], p=0.5)\\nT.RandomApply([T.RandomAffine(degrees=0, translate=(0.15, 0.15))], p=0.5)\\nT.RandomHorizontalFlip(p=0.5)\\nCT.RandomBrightnessByAdd(p=0.5, delta=(-0.35, 0.35))\\nT.RandomApply([T.RandomAffine(degrees=0, shear=(-15, 15, -15, 15))], p=0.5)</th>\n      <td>0.305850</td>\n      <td>0.753247</td>\n      <td>0.105263</td>\n      <td>0.271131</td>\n      <td>0.628121</td>\n      <td>1.000000</td>\n      <td>0.081633</td>\n      <td>0.494203</td>\n      <td>0.337701</td>\n      <td>0.620690</td>\n      <td>0.074074</td>\n      <td>0.262412</td>\n      <td>NaN</td>\n      <td>NaN</td>\n      <td>NaN</td>\n      <td>NaN</td>\n    </tr>\n    <tr>\n      <th>T.RandomApply([T.RandomAffine(degrees=(-30, 30))], p=0.5)\\nT.RandomApply([T.RandomAffine(degrees=0, translate=(0.15, 0.15))], p=0.5)\\nT.RandomHorizontalFlip(p=0.5)\\nCT.RandomBrightnessByAdd(p=0.5, delta=(-0.35, 0.35))\\nT.RandomApply([T.RandomAffine(degrees=0, translate=(0.3, 0.3))], p=0.5)</th>\n      <td>0.367981</td>\n      <td>0.769231</td>\n      <td>0.029412</td>\n      <td>0.291446</td>\n      <td>0.503474</td>\n      <td>1.000000</td>\n      <td>0.018692</td>\n      <td>0.393146</td>\n      <td>0.372253</td>\n      <td>0.744681</td>\n      <td>0.068966</td>\n      <td>0.331050</td>\n      <td>NaN</td>\n      <td>NaN</td>\n      <td>NaN</td>\n      <td>NaN</td>\n    </tr>\n    <tr>\n      <th>T.RandomApply([T.RandomAffine(degrees=0, shear=(-15, 15, -15, 15))], p=0.5)\\nCT.RandomBrightnessByAdd(p=0.5, delta=(-0.35, 0.35))\\nT.RandomHorizontalFlip(p=0.5)\\nT.RandomApply([T.RandomAffine(degrees=0, translate=(0.15, 0.15))], p=0.5)\\nT.RandomApply([T.RandomAffine(degrees=(-30, 30))], p=0.5)</th>\n      <td>0.364072</td>\n      <td>0.630631</td>\n      <td>0.099010</td>\n      <td>0.247576</td>\n      <td>0.298642</td>\n      <td>0.546875</td>\n      <td>0.067568</td>\n      <td>0.230361</td>\n      <td>0.562496</td>\n      <td>0.827586</td>\n      <td>0.185185</td>\n      <td>0.291207</td>\n      <td>NaN</td>\n      <td>NaN</td>\n      <td>NaN</td>\n      <td>NaN</td>\n    </tr>\n    <tr>\n      <th>T.RandomApply([T.RandomAffine(degrees=0, translate=(0.3, 0.3))], p=0.5)\\nCT.RandomBrightnessByAdd(p=0.5, delta=(-0.35, 0.35))\\nT.RandomHorizontalFlip(p=0.5)\\nT.RandomApply([T.RandomAffine(degrees=0, translate=(0.15, 0.15))], p=0.5)\\nT.RandomApply([T.RandomAffine(degrees=(-30, 30))], p=0.5)</th>\n      <td>0.348138</td>\n      <td>0.827586</td>\n      <td>0.086957</td>\n      <td>0.285721</td>\n      <td>0.474498</td>\n      <td>1.000000</td>\n      <td>0.119617</td>\n      <td>0.436144</td>\n      <td>0.477775</td>\n      <td>0.862069</td>\n      <td>0.057143</td>\n      <td>0.343869</td>\n      <td>NaN</td>\n      <td>NaN</td>\n      <td>NaN</td>\n      <td>NaN</td>\n    </tr>\n  </tbody>\n</table>\n</div>"
     },
     "execution_count": 5,
     "metadata": {},
     "output_type": "execute_result"
    }
   ],
   "source": [
    "df_edited"
   ],
   "metadata": {
    "collapsed": false,
    "ExecuteTime": {
     "end_time": "2024-05-26T12:46:29.552370Z",
     "start_time": "2024-05-26T12:46:29.528982Z"
    }
   },
   "id": "cb2673cbf2679b69",
   "execution_count": 5
  },
  {
   "cell_type": "code",
   "outputs": [],
   "source": [],
   "metadata": {
    "collapsed": false
   },
   "id": "59dde5c8cf0f7f9a"
  }
 ],
 "metadata": {
  "kernelspec": {
   "display_name": "Python 3",
   "language": "python",
   "name": "python3"
  },
  "language_info": {
   "codemirror_mode": {
    "name": "ipython",
    "version": 2
   },
   "file_extension": ".py",
   "mimetype": "text/x-python",
   "name": "python",
   "nbconvert_exporter": "python",
   "pygments_lexer": "ipython2",
   "version": "2.7.6"
  }
 },
 "nbformat": 4,
 "nbformat_minor": 5
}
