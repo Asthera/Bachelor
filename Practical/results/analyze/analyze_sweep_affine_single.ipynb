{
 "cells": [
  {
   "cell_type": "code",
   "execution_count": 1,
   "id": "initial_id",
   "metadata": {
    "collapsed": true,
    "ExecuteTime": {
     "end_time": "2024-05-27T14:46:28.356084Z",
     "start_time": "2024-05-27T14:46:25.848951Z"
    }
   },
   "outputs": [],
   "source": [
    "from read_sweep import SweepReader\n",
    "from edit_sweep_df import SweepEditorDataFrame"
   ]
  },
  {
   "cell_type": "code",
   "outputs": [],
   "source": [
    "# affine_single name of the sweep\n",
    "sweep_id = \"m2a2visa\"\n",
    "project_path = \"daswoldemar/bachelor\""
   ],
   "metadata": {
    "collapsed": false,
    "ExecuteTime": {
     "end_time": "2024-05-27T14:46:28.364336Z",
     "start_time": "2024-05-27T14:46:28.356399Z"
    }
   },
   "id": "e7c2a5d790c12778",
   "execution_count": 2
  },
  {
   "cell_type": "code",
   "outputs": [
    {
     "name": "stderr",
     "output_type": "stream",
     "text": [
      "\u001B[34m\u001B[1mwandb\u001B[0m:   1 of 1 files downloaded.  \n",
      "\u001B[34m\u001B[1mwandb\u001B[0m:   1 of 1 files downloaded.  \n",
      "\u001B[34m\u001B[1mwandb\u001B[0m:   1 of 1 files downloaded.  \n",
      "\u001B[34m\u001B[1mwandb\u001B[0m:   1 of 1 files downloaded.  \n",
      "\u001B[34m\u001B[1mwandb\u001B[0m:   1 of 1 files downloaded.  \n",
      "\u001B[34m\u001B[1mwandb\u001B[0m:   1 of 1 files downloaded.  \n",
      "\u001B[34m\u001B[1mwandb\u001B[0m:   1 of 1 files downloaded.  \n",
      "\u001B[34m\u001B[1mwandb\u001B[0m:   1 of 1 files downloaded.  \n",
      "\u001B[34m\u001B[1mwandb\u001B[0m:   1 of 1 files downloaded.  \n",
      "\u001B[34m\u001B[1mwandb\u001B[0m:   1 of 1 files downloaded.  \n",
      "\u001B[34m\u001B[1mwandb\u001B[0m:   1 of 1 files downloaded.  \n",
      "\u001B[34m\u001B[1mwandb\u001B[0m:   1 of 1 files downloaded.  \n",
      "\u001B[34m\u001B[1mwandb\u001B[0m:   1 of 1 files downloaded.  \n",
      "\u001B[34m\u001B[1mwandb\u001B[0m:   1 of 1 files downloaded.  \n",
      "\u001B[34m\u001B[1mwandb\u001B[0m:   1 of 1 files downloaded.  \n",
      "\u001B[34m\u001B[1mwandb\u001B[0m:   1 of 1 files downloaded.  \n",
      "\u001B[34m\u001B[1mwandb\u001B[0m:   1 of 1 files downloaded.  \n",
      "\u001B[34m\u001B[1mwandb\u001B[0m:   1 of 1 files downloaded.  \n",
      "\u001B[34m\u001B[1mwandb\u001B[0m:   1 of 1 files downloaded.  \n",
      "\u001B[34m\u001B[1mwandb\u001B[0m:   1 of 1 files downloaded.  \n",
      "\u001B[34m\u001B[1mwandb\u001B[0m:   1 of 1 files downloaded.  \n",
      "\u001B[34m\u001B[1mwandb\u001B[0m:   1 of 1 files downloaded.  \n",
      "\u001B[34m\u001B[1mwandb\u001B[0m:   1 of 1 files downloaded.  \n",
      "\u001B[34m\u001B[1mwandb\u001B[0m:   1 of 1 files downloaded.  \n",
      "\u001B[34m\u001B[1mwandb\u001B[0m:   1 of 1 files downloaded.  \n",
      "\u001B[34m\u001B[1mwandb\u001B[0m:   1 of 1 files downloaded.  \n",
      "\u001B[34m\u001B[1mwandb\u001B[0m:   1 of 1 files downloaded.  \n",
      "\u001B[34m\u001B[1mwandb\u001B[0m:   1 of 1 files downloaded.  \n",
      "\u001B[34m\u001B[1mwandb\u001B[0m:   1 of 1 files downloaded.  \n",
      "\u001B[34m\u001B[1mwandb\u001B[0m:   1 of 1 files downloaded.  \n",
      "\u001B[34m\u001B[1mwandb\u001B[0m:   1 of 1 files downloaded.  \n",
      "\u001B[34m\u001B[1mwandb\u001B[0m:   1 of 1 files downloaded.  \n",
      "\u001B[34m\u001B[1mwandb\u001B[0m:   1 of 1 files downloaded.  \n",
      "\u001B[34m\u001B[1mwandb\u001B[0m:   1 of 1 files downloaded.  \n",
      "\u001B[34m\u001B[1mwandb\u001B[0m:   1 of 1 files downloaded.  \n",
      "\u001B[34m\u001B[1mwandb\u001B[0m:   1 of 1 files downloaded.  \n",
      "\u001B[34m\u001B[1mwandb\u001B[0m:   1 of 1 files downloaded.  \n",
      "\u001B[34m\u001B[1mwandb\u001B[0m:   1 of 1 files downloaded.  \n",
      "\u001B[34m\u001B[1mwandb\u001B[0m:   1 of 1 files downloaded.  \n",
      "\u001B[34m\u001B[1mwandb\u001B[0m:   1 of 1 files downloaded.  \n",
      "\u001B[34m\u001B[1mwandb\u001B[0m:   1 of 1 files downloaded.  \n",
      "\u001B[34m\u001B[1mwandb\u001B[0m:   1 of 1 files downloaded.  \n",
      "\u001B[34m\u001B[1mwandb\u001B[0m:   1 of 1 files downloaded.  \n",
      "\u001B[34m\u001B[1mwandb\u001B[0m:   1 of 1 files downloaded.  \n",
      "\u001B[34m\u001B[1mwandb\u001B[0m:   1 of 1 files downloaded.  \n",
      "\u001B[34m\u001B[1mwandb\u001B[0m:   1 of 1 files downloaded.  \n",
      "\u001B[34m\u001B[1mwandb\u001B[0m:   1 of 1 files downloaded.  \n",
      "\u001B[34m\u001B[1mwandb\u001B[0m:   1 of 1 files downloaded.  \n",
      "\u001B[34m\u001B[1mwandb\u001B[0m:   1 of 1 files downloaded.  \n",
      "\u001B[34m\u001B[1mwandb\u001B[0m:   1 of 1 files downloaded.  \n",
      "\u001B[34m\u001B[1mwandb\u001B[0m:   1 of 1 files downloaded.  \n",
      "\u001B[34m\u001B[1mwandb\u001B[0m:   1 of 1 files downloaded.  \n",
      "\u001B[34m\u001B[1mwandb\u001B[0m:   1 of 1 files downloaded.  \n",
      "\u001B[34m\u001B[1mwandb\u001B[0m:   1 of 1 files downloaded.  \n",
      "\u001B[34m\u001B[1mwandb\u001B[0m:   1 of 1 files downloaded.  \n",
      "\u001B[34m\u001B[1mwandb\u001B[0m:   1 of 1 files downloaded.  \n",
      "\u001B[34m\u001B[1mwandb\u001B[0m:   1 of 1 files downloaded.  \n",
      "\u001B[34m\u001B[1mwandb\u001B[0m:   1 of 1 files downloaded.  \n",
      "\u001B[34m\u001B[1mwandb\u001B[0m:   1 of 1 files downloaded.  \n",
      "\u001B[34m\u001B[1mwandb\u001B[0m:   1 of 1 files downloaded.  \n",
      "\u001B[34m\u001B[1mwandb\u001B[0m:   1 of 1 files downloaded.  \n",
      "\u001B[34m\u001B[1mwandb\u001B[0m:   1 of 1 files downloaded.  \n",
      "\u001B[34m\u001B[1mwandb\u001B[0m:   1 of 1 files downloaded.  \n",
      "\u001B[34m\u001B[1mwandb\u001B[0m:   1 of 1 files downloaded.  \n",
      "\u001B[34m\u001B[1mwandb\u001B[0m:   1 of 1 files downloaded.  \n",
      "\u001B[34m\u001B[1mwandb\u001B[0m:   1 of 1 files downloaded.  \n",
      "\u001B[34m\u001B[1mwandb\u001B[0m:   1 of 1 files downloaded.  \n",
      "\u001B[34m\u001B[1mwandb\u001B[0m:   1 of 1 files downloaded.  \n",
      "\u001B[34m\u001B[1mwandb\u001B[0m:   1 of 1 files downloaded.  \n",
      "\u001B[34m\u001B[1mwandb\u001B[0m:   1 of 1 files downloaded.  \n",
      "\u001B[34m\u001B[1mwandb\u001B[0m:   1 of 1 files downloaded.  \n",
      "\u001B[34m\u001B[1mwandb\u001B[0m:   1 of 1 files downloaded.  \n",
      "\u001B[34m\u001B[1mwandb\u001B[0m:   1 of 1 files downloaded.  \n",
      "\u001B[34m\u001B[1mwandb\u001B[0m:   1 of 1 files downloaded.  \n",
      "\u001B[34m\u001B[1mwandb\u001B[0m:   1 of 1 files downloaded.  \n",
      "\u001B[34m\u001B[1mwandb\u001B[0m:   1 of 1 files downloaded.  \n",
      "\u001B[34m\u001B[1mwandb\u001B[0m:   1 of 1 files downloaded.  \n",
      "\u001B[34m\u001B[1mwandb\u001B[0m:   1 of 1 files downloaded.  \n",
      "\u001B[34m\u001B[1mwandb\u001B[0m:   1 of 1 files downloaded.  \n",
      "\u001B[34m\u001B[1mwandb\u001B[0m:   1 of 1 files downloaded.  \n",
      "\u001B[34m\u001B[1mwandb\u001B[0m:   1 of 1 files downloaded.  \n",
      "\u001B[34m\u001B[1mwandb\u001B[0m:   1 of 1 files downloaded.  \n",
      "\u001B[34m\u001B[1mwandb\u001B[0m:   1 of 1 files downloaded.  \n",
      "\u001B[34m\u001B[1mwandb\u001B[0m:   1 of 1 files downloaded.  \n",
      "\u001B[34m\u001B[1mwandb\u001B[0m:   1 of 1 files downloaded.  \n",
      "\u001B[34m\u001B[1mwandb\u001B[0m:   1 of 1 files downloaded.  \n",
      "\u001B[34m\u001B[1mwandb\u001B[0m:   1 of 1 files downloaded.  \n",
      "\u001B[34m\u001B[1mwandb\u001B[0m:   1 of 1 files downloaded.  \n",
      "\u001B[34m\u001B[1mwandb\u001B[0m:   1 of 1 files downloaded.  \n",
      "\u001B[34m\u001B[1mwandb\u001B[0m:   1 of 1 files downloaded.  \n",
      "\u001B[34m\u001B[1mwandb\u001B[0m:   1 of 1 files downloaded.  \n",
      "\u001B[34m\u001B[1mwandb\u001B[0m:   1 of 1 files downloaded.  \n",
      "\u001B[34m\u001B[1mwandb\u001B[0m:   1 of 1 files downloaded.  \n",
      "\u001B[34m\u001B[1mwandb\u001B[0m:   1 of 1 files downloaded.  \n",
      "\u001B[34m\u001B[1mwandb\u001B[0m:   1 of 1 files downloaded.  \n",
      "\u001B[34m\u001B[1mwandb\u001B[0m:   1 of 1 files downloaded.  \n",
      "\u001B[34m\u001B[1mwandb\u001B[0m:   1 of 1 files downloaded.  \n",
      "\u001B[34m\u001B[1mwandb\u001B[0m:   1 of 1 files downloaded.  \n",
      "\u001B[34m\u001B[1mwandb\u001B[0m:   1 of 1 files downloaded.  \n",
      "\u001B[34m\u001B[1mwandb\u001B[0m:   1 of 1 files downloaded.  \n",
      "\u001B[34m\u001B[1mwandb\u001B[0m:   1 of 1 files downloaded.  \n",
      "\u001B[34m\u001B[1mwandb\u001B[0m:   1 of 1 files downloaded.  \n",
      "\u001B[34m\u001B[1mwandb\u001B[0m:   1 of 1 files downloaded.  \n",
      "\u001B[34m\u001B[1mwandb\u001B[0m:   1 of 1 files downloaded.  \n",
      "\u001B[34m\u001B[1mwandb\u001B[0m:   1 of 1 files downloaded.  \n",
      "\u001B[34m\u001B[1mwandb\u001B[0m:   1 of 1 files downloaded.  \n",
      "\u001B[34m\u001B[1mwandb\u001B[0m:   1 of 1 files downloaded.  \n",
      "\u001B[34m\u001B[1mwandb\u001B[0m:   1 of 1 files downloaded.  \n",
      "\u001B[34m\u001B[1mwandb\u001B[0m:   1 of 1 files downloaded.  \n",
      "\u001B[34m\u001B[1mwandb\u001B[0m:   1 of 1 files downloaded.  \n",
      "\u001B[34m\u001B[1mwandb\u001B[0m:   1 of 1 files downloaded.  \n",
      "\u001B[34m\u001B[1mwandb\u001B[0m:   1 of 1 files downloaded.  \n",
      "\u001B[34m\u001B[1mwandb\u001B[0m:   1 of 1 files downloaded.  \n",
      "\u001B[34m\u001B[1mwandb\u001B[0m:   1 of 1 files downloaded.  \n",
      "\u001B[34m\u001B[1mwandb\u001B[0m:   1 of 1 files downloaded.  \n"
     ]
    },
    {
     "name": "stdout",
     "output_type": "stream",
     "text": [
      "Data saved to CSV file\n"
     ]
    }
   ],
   "source": [
    "# read sweep, save raw\n",
    "reader = SweepReader(sweep_id, project_path)\n",
    "df_raw = reader.fetch_sweep_runs()\n",
    "reader.save_to_csv(\"../sweeps_raw/\"+sweep_id+\".csv\")"
   ],
   "metadata": {
    "collapsed": false,
    "ExecuteTime": {
     "end_time": "2024-05-27T14:48:44.257827Z",
     "start_time": "2024-05-27T14:46:28.362771Z"
    }
   },
   "id": "c24f75d53f163a81",
   "execution_count": 3
  },
  {
   "cell_type": "code",
   "outputs": [],
   "source": [
    "# edit sweep, save edited\n",
    "editor = SweepEditorDataFrame([df_raw,])\n",
    "df_edited = editor.init_edit()\n",
    "df_edited.to_csv(\"../sweeps_edited/\"+sweep_id+\".csv\")"
   ],
   "metadata": {
    "collapsed": false,
    "ExecuteTime": {
     "end_time": "2024-05-27T14:48:44.274910Z",
     "start_time": "2024-05-27T14:48:44.271473Z"
    }
   },
   "id": "b4069a5d1bd4aea1",
   "execution_count": 4
  },
  {
   "cell_type": "code",
   "outputs": [
    {
     "data": {
      "text/plain": "                                                    Test F1_mean  Test F1_max  \\\nTransforms                                                                      \nNone                                                    0.249238     0.531250   \nT.RandomApply([T.RandomAffine(degrees=(-15, 15)...      0.253167     0.819277   \nT.RandomApply([T.RandomAffine(degrees=(-30, 30)...      0.365285     0.843373   \nT.RandomApply([T.RandomAffine(degrees=(-45, 45)...      0.303703     0.804598   \nT.RandomApply([T.RandomAffine(degrees=(-5, 5))]...      0.241375     0.741573   \nT.RandomApply([T.RandomAffine(degrees=0, scale=...      0.211583     0.555556   \nT.RandomApply([T.RandomAffine(degrees=0, scale=...      0.203619     0.654206   \nT.RandomApply([T.RandomAffine(degrees=0, scale=...      0.287642     0.736842   \nT.RandomApply([T.RandomAffine(degrees=0, scale=...      0.235233     0.833333   \nT.RandomApply([T.RandomAffine(degrees=0, shear=...      0.307217     0.833333   \nT.RandomApply([T.RandomAffine(degrees=0, shear=...      0.217524     0.466667   \nT.RandomApply([T.RandomAffine(degrees=0, shear=...      0.235832     0.500000   \nT.RandomApply([T.RandomAffine(degrees=0, shear=...      0.260347     0.786517   \nT.RandomApply([T.RandomAffine(degrees=0, transl...      0.204228     0.542373   \nT.RandomApply([T.RandomAffine(degrees=0, transl...      0.182819     0.712329   \nT.RandomApply([T.RandomAffine(degrees=0, transl...      0.350255     0.823529   \nT.RandomApply([T.RandomAffine(degrees=0, transl...      0.306830     0.551181   \nT.RandomApply([T.RandomResizedCrop(size=(600, 4...      0.241335     0.578512   \nT.RandomApply([T.RandomResizedCrop(size=(600, 4...      0.186126     0.451613   \nT.RandomApply([T.RandomResizedCrop(size=(600, 4...      0.280569     0.813953   \nT.RandomApply([T.RandomResizedCrop(size=(600, 4...      0.283542     0.636364   \nT.RandomHorizontalFlip(p=0.5)                           0.349859     0.810127   \nT.RandomVerticalFlip(p=0.5)                             0.163363     0.507246   \n\n                                                    Test F1_min  Test F1_std  \\\nTransforms                                                                     \nNone                                                   0.048000     0.229130   \nT.RandomApply([T.RandomAffine(degrees=(-15, 15)...     0.047059     0.321692   \nT.RandomApply([T.RandomAffine(degrees=(-30, 30)...     0.120000     0.299338   \nT.RandomApply([T.RandomAffine(degrees=(-45, 45)...     0.058824     0.303118   \nT.RandomApply([T.RandomAffine(degrees=(-5, 5))]...     0.020101     0.294119   \nT.RandomApply([T.RandomAffine(degrees=0, scale=...     0.054054     0.207113   \nT.RandomApply([T.RandomAffine(degrees=0, scale=...     0.029268     0.262677   \nT.RandomApply([T.RandomAffine(degrees=0, scale=...     0.000000     0.291927   \nT.RandomApply([T.RandomAffine(degrees=0, scale=...     0.000000     0.344483   \nT.RandomApply([T.RandomAffine(degrees=0, shear=...     0.049261     0.309257   \nT.RandomApply([T.RandomAffine(degrees=0, shear=...     0.000000     0.191646   \nT.RandomApply([T.RandomAffine(degrees=0, shear=...     0.000000     0.211453   \nT.RandomApply([T.RandomAffine(degrees=0, shear=...     0.053097     0.303588   \nT.RandomApply([T.RandomAffine(degrees=0, transl...     0.009950     0.232434   \nT.RandomApply([T.RandomAffine(degrees=0, transl...     0.000000     0.303611   \nT.RandomApply([T.RandomAffine(degrees=0, transl...     0.019704     0.334019   \nT.RandomApply([T.RandomAffine(degrees=0, transl...     0.147059     0.169578   \nT.RandomApply([T.RandomResizedCrop(size=(600, 4...     0.000000     0.231967   \nT.RandomApply([T.RandomResizedCrop(size=(600, 4...     0.010204     0.201549   \nT.RandomApply([T.RandomResizedCrop(size=(600, 4...     0.000000     0.352731   \nT.RandomApply([T.RandomResizedCrop(size=(600, 4...     0.009756     0.260089   \nT.RandomHorizontalFlip(p=0.5)                          0.000000     0.342698   \nT.RandomVerticalFlip(p=0.5)                            0.000000     0.218430   \n\n                                                    Test Precision_mean  \\\nTransforms                                                                \nNone                                                           0.562854   \nT.RandomApply([T.RandomAffine(degrees=(-15, 15)...             0.342609   \nT.RandomApply([T.RandomAffine(degrees=(-30, 30)...             0.483213   \nT.RandomApply([T.RandomAffine(degrees=(-45, 45)...             0.409740   \nT.RandomApply([T.RandomAffine(degrees=(-5, 5))]...             0.391293   \nT.RandomApply([T.RandomAffine(degrees=0, scale=...             0.266244   \nT.RandomApply([T.RandomAffine(degrees=0, scale=...             0.360933   \nT.RandomApply([T.RandomAffine(degrees=0, scale=...             0.361420   \nT.RandomApply([T.RandomAffine(degrees=0, scale=...             0.434635   \nT.RandomApply([T.RandomAffine(degrees=0, shear=...             0.473990   \nT.RandomApply([T.RandomAffine(degrees=0, shear=...             0.199243   \nT.RandomApply([T.RandomAffine(degrees=0, shear=...             0.294065   \nT.RandomApply([T.RandomAffine(degrees=0, shear=...             0.557241   \nT.RandomApply([T.RandomAffine(degrees=0, transl...             0.388095   \nT.RandomApply([T.RandomAffine(degrees=0, transl...             0.236579   \nT.RandomApply([T.RandomAffine(degrees=0, transl...             0.459521   \nT.RandomApply([T.RandomAffine(degrees=0, transl...             0.367748   \nT.RandomApply([T.RandomResizedCrop(size=(600, 4...             0.342591   \nT.RandomApply([T.RandomResizedCrop(size=(600, 4...             0.384068   \nT.RandomApply([T.RandomResizedCrop(size=(600, 4...             0.535428   \nT.RandomApply([T.RandomResizedCrop(size=(600, 4...             0.518699   \nT.RandomHorizontalFlip(p=0.5)                                  0.402876   \nT.RandomVerticalFlip(p=0.5)                                    0.122851   \n\n                                                    Test Precision_max  \\\nTransforms                                                               \nNone                                                          1.000000   \nT.RandomApply([T.RandomAffine(degrees=(-15, 15)...            0.944444   \nT.RandomApply([T.RandomAffine(degrees=(-30, 30)...            1.000000   \nT.RandomApply([T.RandomAffine(degrees=(-45, 45)...            0.875000   \nT.RandomApply([T.RandomAffine(degrees=(-5, 5))]...            1.000000   \nT.RandomApply([T.RandomAffine(degrees=0, scale=...            0.666667   \nT.RandomApply([T.RandomAffine(degrees=0, scale=...            1.000000   \nT.RandomApply([T.RandomAffine(degrees=0, scale=...            0.750000   \nT.RandomApply([T.RandomAffine(degrees=0, scale=...            1.000000   \nT.RandomApply([T.RandomAffine(degrees=0, shear=...            1.000000   \nT.RandomApply([T.RandomAffine(degrees=0, shear=...            0.400000   \nT.RandomApply([T.RandomAffine(degrees=0, shear=...            1.000000   \nT.RandomApply([T.RandomAffine(degrees=0, shear=...            1.000000   \nT.RandomApply([T.RandomAffine(degrees=0, transl...            1.000000   \nT.RandomApply([T.RandomAffine(degrees=0, transl...            1.000000   \nT.RandomApply([T.RandomAffine(degrees=0, transl...            0.921053   \nT.RandomApply([T.RandomAffine(degrees=0, transl...            1.000000   \nT.RandomApply([T.RandomResizedCrop(size=(600, 4...            1.000000   \nT.RandomApply([T.RandomResizedCrop(size=(600, 4...            1.000000   \nT.RandomApply([T.RandomResizedCrop(size=(600, 4...            1.000000   \nT.RandomApply([T.RandomResizedCrop(size=(600, 4...            1.000000   \nT.RandomHorizontalFlip(p=0.5)                                 1.000000   \nT.RandomVerticalFlip(p=0.5)                                   0.384615   \n\n                                                    Test Precision_min  \\\nTransforms                                                               \nNone                                                          0.030612   \nT.RandomApply([T.RandomAffine(degrees=(-15, 15)...            0.034483   \nT.RandomApply([T.RandomAffine(degrees=(-30, 30)...            0.079365   \nT.RandomApply([T.RandomAffine(degrees=(-45, 45)...            0.038462   \nT.RandomApply([T.RandomAffine(degrees=(-5, 5))]...            0.011765   \nT.RandomApply([T.RandomAffine(degrees=0, scale=...            0.034286   \nT.RandomApply([T.RandomAffine(degrees=0, scale=...            0.017045   \nT.RandomApply([T.RandomAffine(degrees=0, scale=...            0.000000   \nT.RandomApply([T.RandomAffine(degrees=0, scale=...            0.000000   \nT.RandomApply([T.RandomAffine(degrees=0, shear=...            0.028736   \nT.RandomApply([T.RandomAffine(degrees=0, shear=...            0.000000   \nT.RandomApply([T.RandomAffine(degrees=0, shear=...            0.000000   \nT.RandomApply([T.RandomAffine(degrees=0, shear=...            0.034884   \nT.RandomApply([T.RandomAffine(degrees=0, transl...            0.005814   \nT.RandomApply([T.RandomAffine(degrees=0, transl...            0.000000   \nT.RandomApply([T.RandomAffine(degrees=0, transl...            0.011494   \nT.RandomApply([T.RandomAffine(degrees=0, transl...            0.117647   \nT.RandomApply([T.RandomResizedCrop(size=(600, 4...            0.000000   \nT.RandomApply([T.RandomResizedCrop(size=(600, 4...            0.005988   \nT.RandomApply([T.RandomResizedCrop(size=(600, 4...            0.000000   \nT.RandomApply([T.RandomResizedCrop(size=(600, 4...            0.005682   \nT.RandomHorizontalFlip(p=0.5)                                 0.000000   \nT.RandomVerticalFlip(p=0.5)                                   0.000000   \n\n                                                    Test Precision_std  \\\nTransforms                                                               \nNone                                                          0.479904   \nT.RandomApply([T.RandomAffine(degrees=(-15, 15)...            0.382939   \nT.RandomApply([T.RandomAffine(degrees=(-30, 30)...            0.462555   \nT.RandomApply([T.RandomAffine(degrees=(-45, 45)...            0.416025   \nT.RandomApply([T.RandomAffine(degrees=(-5, 5))]...            0.465880   \nT.RandomApply([T.RandomAffine(degrees=0, scale=...            0.279153   \nT.RandomApply([T.RandomAffine(degrees=0, scale=...            0.424505   \nT.RandomApply([T.RandomAffine(degrees=0, scale=...            0.362745   \nT.RandomApply([T.RandomAffine(degrees=0, scale=...            0.497381   \nT.RandomApply([T.RandomAffine(degrees=0, shear=...            0.463944   \nT.RandomApply([T.RandomAffine(degrees=0, shear=...            0.177454   \nT.RandomApply([T.RandomAffine(degrees=0, shear=...            0.407831   \nT.RandomApply([T.RandomAffine(degrees=0, shear=...            0.459533   \nT.RandomApply([T.RandomAffine(degrees=0, transl...            0.405449   \nT.RandomApply([T.RandomAffine(degrees=0, transl...            0.431772   \nT.RandomApply([T.RandomAffine(degrees=0, transl...            0.444036   \nT.RandomApply([T.RandomAffine(degrees=0, transl...            0.377312   \nT.RandomApply([T.RandomResizedCrop(size=(600, 4...            0.412839   \nT.RandomApply([T.RandomResizedCrop(size=(600, 4...            0.413732   \nT.RandomApply([T.RandomResizedCrop(size=(600, 4...            0.483570   \nT.RandomApply([T.RandomResizedCrop(size=(600, 4...            0.491037   \nT.RandomHorizontalFlip(p=0.5)                                 0.439437   \nT.RandomVerticalFlip(p=0.5)                                   0.166204   \n\n                                                    Test Recall_mean  \\\nTransforms                                                             \nNone                                                        0.267093   \nT.RandomApply([T.RandomAffine(degrees=(-15, 15)...          0.321780   \nT.RandomApply([T.RandomAffine(degrees=(-30, 30)...          0.396723   \nT.RandomApply([T.RandomAffine(degrees=(-45, 45)...          0.319328   \nT.RandomApply([T.RandomAffine(degrees=(-5, 5))]...          0.234642   \nT.RandomApply([T.RandomAffine(degrees=0, scale=...          0.270739   \nT.RandomApply([T.RandomAffine(degrees=0, scale=...          0.256398   \nT.RandomApply([T.RandomAffine(degrees=0, scale=...          0.278460   \nT.RandomApply([T.RandomAffine(degrees=0, scale=...          0.229994   \nT.RandomApply([T.RandomAffine(degrees=0, shear=...          0.292414   \nT.RandomApply([T.RandomAffine(degrees=0, shear=...          0.331370   \nT.RandomApply([T.RandomAffine(degrees=0, shear=...          0.312111   \nT.RandomApply([T.RandomAffine(degrees=0, shear=...          0.317482   \nT.RandomApply([T.RandomAffine(degrees=0, transl...          0.229839   \nT.RandomApply([T.RandomAffine(degrees=0, transl...          0.159739   \nT.RandomApply([T.RandomAffine(degrees=0, transl...          0.310454   \nT.RandomApply([T.RandomAffine(degrees=0, transl...          0.526167   \nT.RandomApply([T.RandomResizedCrop(size=(600, 4...          0.282481   \nT.RandomApply([T.RandomResizedCrop(size=(600, 4...          0.236891   \nT.RandomApply([T.RandomResizedCrop(size=(600, 4...          0.247137   \nT.RandomApply([T.RandomResizedCrop(size=(600, 4...          0.266521   \nT.RandomHorizontalFlip(p=0.5)                               0.328974   \nT.RandomVerticalFlip(p=0.5)                                 0.245444   \n\n                                                    Test Recall_max  \\\nTransforms                                                            \nNone                                                       0.482759   \nT.RandomApply([T.RandomAffine(degrees=(-15, 15)...         0.723404   \nT.RandomApply([T.RandomAffine(degrees=(-30, 30)...         0.744681   \nT.RandomApply([T.RandomAffine(degrees=(-45, 45)...         0.744681   \nT.RandomApply([T.RandomAffine(degrees=(-5, 5))]...         0.702128   \nT.RandomApply([T.RandomAffine(degrees=0, scale=...         0.744681   \nT.RandomApply([T.RandomAffine(degrees=0, scale=...         0.744681   \nT.RandomApply([T.RandomAffine(degrees=0, scale=...         0.744681   \nT.RandomApply([T.RandomAffine(degrees=0, scale=...         0.744681   \nT.RandomApply([T.RandomAffine(degrees=0, shear=...         0.744681   \nT.RandomApply([T.RandomAffine(degrees=0, shear=...         0.744681   \nT.RandomApply([T.RandomAffine(degrees=0, shear=...         0.744681   \nT.RandomApply([T.RandomAffine(degrees=0, shear=...         0.744681   \nT.RandomApply([T.RandomAffine(degrees=0, transl...         0.680851   \nT.RandomApply([T.RandomAffine(degrees=0, transl...         0.553191   \nT.RandomApply([T.RandomAffine(degrees=0, transl...         0.744681   \nT.RandomApply([T.RandomAffine(degrees=0, transl...         0.965517   \nT.RandomApply([T.RandomResizedCrop(size=(600, 4...         0.744681   \nT.RandomApply([T.RandomResizedCrop(size=(600, 4...         0.744681   \nT.RandomApply([T.RandomResizedCrop(size=(600, 4...         0.744681   \nT.RandomApply([T.RandomResizedCrop(size=(600, 4...         0.744681   \nT.RandomHorizontalFlip(p=0.5)                              0.680851   \nT.RandomVerticalFlip(p=0.5)                                0.744681   \n\n                                                    Test Recall_min  \\\nTransforms                                                            \nNone                                                       0.037037   \nT.RandomApply([T.RandomAffine(degrees=(-15, 15)...         0.037037   \nT.RandomApply([T.RandomAffine(degrees=(-30, 30)...         0.111111   \nT.RandomApply([T.RandomAffine(degrees=(-45, 45)...         0.111111   \nT.RandomApply([T.RandomAffine(degrees=(-5, 5))]...         0.068966   \nT.RandomApply([T.RandomAffine(degrees=0, scale=...         0.111111   \nT.RandomApply([T.RandomAffine(degrees=0, scale=...         0.037037   \nT.RandomApply([T.RandomAffine(degrees=0, scale=...         0.000000   \nT.RandomApply([T.RandomAffine(degrees=0, scale=...         0.000000   \nT.RandomApply([T.RandomAffine(degrees=0, shear=...         0.111111   \nT.RandomApply([T.RandomAffine(degrees=0, shear=...         0.000000   \nT.RandomApply([T.RandomAffine(degrees=0, shear=...         0.000000   \nT.RandomApply([T.RandomAffine(degrees=0, shear=...         0.037037   \nT.RandomApply([T.RandomAffine(degrees=0, transl...         0.034483   \nT.RandomApply([T.RandomAffine(degrees=0, transl...         0.000000   \nT.RandomApply([T.RandomAffine(degrees=0, transl...         0.068966   \nT.RandomApply([T.RandomAffine(degrees=0, transl...         0.142857   \nT.RandomApply([T.RandomResizedCrop(size=(600, 4...         0.000000   \nT.RandomApply([T.RandomResizedCrop(size=(600, 4...         0.034483   \nT.RandomApply([T.RandomResizedCrop(size=(600, 4...         0.000000   \nT.RandomApply([T.RandomResizedCrop(size=(600, 4...         0.034483   \nT.RandomHorizontalFlip(p=0.5)                              0.000000   \nT.RandomVerticalFlip(p=0.5)                                0.000000   \n\n                                                    Test Recall_std  \\\nTransforms                                                            \nNone                                                       0.186050   \nT.RandomApply([T.RandomAffine(degrees=(-15, 15)...         0.294161   \nT.RandomApply([T.RandomAffine(degrees=(-30, 30)...         0.241896   \nT.RandomApply([T.RandomAffine(degrees=(-45, 45)...         0.249186   \nT.RandomApply([T.RandomAffine(degrees=(-5, 5))]...         0.263229   \nT.RandomApply([T.RandomAffine(degrees=0, scale=...         0.267189   \nT.RandomApply([T.RandomAffine(degrees=0, scale=...         0.288054   \nT.RandomApply([T.RandomAffine(degrees=0, scale=...         0.286074   \nT.RandomApply([T.RandomAffine(degrees=0, scale=...         0.304098   \nT.RandomApply([T.RandomAffine(degrees=0, shear=...         0.261091   \nT.RandomApply([T.RandomAffine(degrees=0, shear=...         0.333049   \nT.RandomApply([T.RandomAffine(degrees=0, shear=...         0.286749   \nT.RandomApply([T.RandomAffine(degrees=0, shear=...         0.311890   \nT.RandomApply([T.RandomAffine(degrees=0, transl...         0.272014   \nT.RandomApply([T.RandomAffine(degrees=0, transl...         0.230929   \nT.RandomApply([T.RandomAffine(degrees=0, transl...         0.270666   \nT.RandomApply([T.RandomAffine(degrees=0, transl...         0.338748   \nT.RandomApply([T.RandomResizedCrop(size=(600, 4...         0.291620   \nT.RandomApply([T.RandomResizedCrop(size=(600, 4...         0.297906   \nT.RandomApply([T.RandomResizedCrop(size=(600, 4...         0.308397   \nT.RandomApply([T.RandomResizedCrop(size=(600, 4...         0.279881   \nT.RandomHorizontalFlip(p=0.5)                              0.275938   \nT.RandomVerticalFlip(p=0.5)                                0.317663   \n\n                                                   Test Accuracy_mean  \\\nTransforms                                                              \nNone                                                              NaN   \nT.RandomApply([T.RandomAffine(degrees=(-15, 15)...                NaN   \nT.RandomApply([T.RandomAffine(degrees=(-30, 30)...                NaN   \nT.RandomApply([T.RandomAffine(degrees=(-45, 45)...                NaN   \nT.RandomApply([T.RandomAffine(degrees=(-5, 5))]...                NaN   \nT.RandomApply([T.RandomAffine(degrees=0, scale=...                NaN   \nT.RandomApply([T.RandomAffine(degrees=0, scale=...                NaN   \nT.RandomApply([T.RandomAffine(degrees=0, scale=...                NaN   \nT.RandomApply([T.RandomAffine(degrees=0, scale=...                NaN   \nT.RandomApply([T.RandomAffine(degrees=0, shear=...                NaN   \nT.RandomApply([T.RandomAffine(degrees=0, shear=...                NaN   \nT.RandomApply([T.RandomAffine(degrees=0, shear=...                NaN   \nT.RandomApply([T.RandomAffine(degrees=0, shear=...                NaN   \nT.RandomApply([T.RandomAffine(degrees=0, transl...                NaN   \nT.RandomApply([T.RandomAffine(degrees=0, transl...                NaN   \nT.RandomApply([T.RandomAffine(degrees=0, transl...                NaN   \nT.RandomApply([T.RandomAffine(degrees=0, transl...                NaN   \nT.RandomApply([T.RandomResizedCrop(size=(600, 4...                NaN   \nT.RandomApply([T.RandomResizedCrop(size=(600, 4...                NaN   \nT.RandomApply([T.RandomResizedCrop(size=(600, 4...                NaN   \nT.RandomApply([T.RandomResizedCrop(size=(600, 4...                NaN   \nT.RandomHorizontalFlip(p=0.5)                                     NaN   \nT.RandomVerticalFlip(p=0.5)                                       NaN   \n\n                                                   Test Accuracy_max  \\\nTransforms                                                             \nNone                                                             NaN   \nT.RandomApply([T.RandomAffine(degrees=(-15, 15)...               NaN   \nT.RandomApply([T.RandomAffine(degrees=(-30, 30)...               NaN   \nT.RandomApply([T.RandomAffine(degrees=(-45, 45)...               NaN   \nT.RandomApply([T.RandomAffine(degrees=(-5, 5))]...               NaN   \nT.RandomApply([T.RandomAffine(degrees=0, scale=...               NaN   \nT.RandomApply([T.RandomAffine(degrees=0, scale=...               NaN   \nT.RandomApply([T.RandomAffine(degrees=0, scale=...               NaN   \nT.RandomApply([T.RandomAffine(degrees=0, scale=...               NaN   \nT.RandomApply([T.RandomAffine(degrees=0, shear=...               NaN   \nT.RandomApply([T.RandomAffine(degrees=0, shear=...               NaN   \nT.RandomApply([T.RandomAffine(degrees=0, shear=...               NaN   \nT.RandomApply([T.RandomAffine(degrees=0, shear=...               NaN   \nT.RandomApply([T.RandomAffine(degrees=0, transl...               NaN   \nT.RandomApply([T.RandomAffine(degrees=0, transl...               NaN   \nT.RandomApply([T.RandomAffine(degrees=0, transl...               NaN   \nT.RandomApply([T.RandomAffine(degrees=0, transl...               NaN   \nT.RandomApply([T.RandomResizedCrop(size=(600, 4...               NaN   \nT.RandomApply([T.RandomResizedCrop(size=(600, 4...               NaN   \nT.RandomApply([T.RandomResizedCrop(size=(600, 4...               NaN   \nT.RandomApply([T.RandomResizedCrop(size=(600, 4...               NaN   \nT.RandomHorizontalFlip(p=0.5)                                    NaN   \nT.RandomVerticalFlip(p=0.5)                                      NaN   \n\n                                                   Test Accuracy_min  \\\nTransforms                                                             \nNone                                                             NaN   \nT.RandomApply([T.RandomAffine(degrees=(-15, 15)...               NaN   \nT.RandomApply([T.RandomAffine(degrees=(-30, 30)...               NaN   \nT.RandomApply([T.RandomAffine(degrees=(-45, 45)...               NaN   \nT.RandomApply([T.RandomAffine(degrees=(-5, 5))]...               NaN   \nT.RandomApply([T.RandomAffine(degrees=0, scale=...               NaN   \nT.RandomApply([T.RandomAffine(degrees=0, scale=...               NaN   \nT.RandomApply([T.RandomAffine(degrees=0, scale=...               NaN   \nT.RandomApply([T.RandomAffine(degrees=0, scale=...               NaN   \nT.RandomApply([T.RandomAffine(degrees=0, shear=...               NaN   \nT.RandomApply([T.RandomAffine(degrees=0, shear=...               NaN   \nT.RandomApply([T.RandomAffine(degrees=0, shear=...               NaN   \nT.RandomApply([T.RandomAffine(degrees=0, shear=...               NaN   \nT.RandomApply([T.RandomAffine(degrees=0, transl...               NaN   \nT.RandomApply([T.RandomAffine(degrees=0, transl...               NaN   \nT.RandomApply([T.RandomAffine(degrees=0, transl...               NaN   \nT.RandomApply([T.RandomAffine(degrees=0, transl...               NaN   \nT.RandomApply([T.RandomResizedCrop(size=(600, 4...               NaN   \nT.RandomApply([T.RandomResizedCrop(size=(600, 4...               NaN   \nT.RandomApply([T.RandomResizedCrop(size=(600, 4...               NaN   \nT.RandomApply([T.RandomResizedCrop(size=(600, 4...               NaN   \nT.RandomHorizontalFlip(p=0.5)                                    NaN   \nT.RandomVerticalFlip(p=0.5)                                      NaN   \n\n                                                    Test Accuracy_std  \nTransforms                                                             \nNone                                                              NaN  \nT.RandomApply([T.RandomAffine(degrees=(-15, 15)...                NaN  \nT.RandomApply([T.RandomAffine(degrees=(-30, 30)...                NaN  \nT.RandomApply([T.RandomAffine(degrees=(-45, 45)...                NaN  \nT.RandomApply([T.RandomAffine(degrees=(-5, 5))]...                NaN  \nT.RandomApply([T.RandomAffine(degrees=0, scale=...                NaN  \nT.RandomApply([T.RandomAffine(degrees=0, scale=...                NaN  \nT.RandomApply([T.RandomAffine(degrees=0, scale=...                NaN  \nT.RandomApply([T.RandomAffine(degrees=0, scale=...                NaN  \nT.RandomApply([T.RandomAffine(degrees=0, shear=...                NaN  \nT.RandomApply([T.RandomAffine(degrees=0, shear=...                NaN  \nT.RandomApply([T.RandomAffine(degrees=0, shear=...                NaN  \nT.RandomApply([T.RandomAffine(degrees=0, shear=...                NaN  \nT.RandomApply([T.RandomAffine(degrees=0, transl...                NaN  \nT.RandomApply([T.RandomAffine(degrees=0, transl...                NaN  \nT.RandomApply([T.RandomAffine(degrees=0, transl...                NaN  \nT.RandomApply([T.RandomAffine(degrees=0, transl...                NaN  \nT.RandomApply([T.RandomResizedCrop(size=(600, 4...                NaN  \nT.RandomApply([T.RandomResizedCrop(size=(600, 4...                NaN  \nT.RandomApply([T.RandomResizedCrop(size=(600, 4...                NaN  \nT.RandomApply([T.RandomResizedCrop(size=(600, 4...                NaN  \nT.RandomHorizontalFlip(p=0.5)                                     NaN  \nT.RandomVerticalFlip(p=0.5)                                       NaN  ",
      "text/html": "<div>\n<style scoped>\n    .dataframe tbody tr th:only-of-type {\n        vertical-align: middle;\n    }\n\n    .dataframe tbody tr th {\n        vertical-align: top;\n    }\n\n    .dataframe thead th {\n        text-align: right;\n    }\n</style>\n<table border=\"1\" class=\"dataframe\">\n  <thead>\n    <tr style=\"text-align: right;\">\n      <th></th>\n      <th>Test F1_mean</th>\n      <th>Test F1_max</th>\n      <th>Test F1_min</th>\n      <th>Test F1_std</th>\n      <th>Test Precision_mean</th>\n      <th>Test Precision_max</th>\n      <th>Test Precision_min</th>\n      <th>Test Precision_std</th>\n      <th>Test Recall_mean</th>\n      <th>Test Recall_max</th>\n      <th>Test Recall_min</th>\n      <th>Test Recall_std</th>\n      <th>Test Accuracy_mean</th>\n      <th>Test Accuracy_max</th>\n      <th>Test Accuracy_min</th>\n      <th>Test Accuracy_std</th>\n    </tr>\n    <tr>\n      <th>Transforms</th>\n      <th></th>\n      <th></th>\n      <th></th>\n      <th></th>\n      <th></th>\n      <th></th>\n      <th></th>\n      <th></th>\n      <th></th>\n      <th></th>\n      <th></th>\n      <th></th>\n      <th></th>\n      <th></th>\n      <th></th>\n      <th></th>\n    </tr>\n  </thead>\n  <tbody>\n    <tr>\n      <th>None</th>\n      <td>0.249238</td>\n      <td>0.531250</td>\n      <td>0.048000</td>\n      <td>0.229130</td>\n      <td>0.562854</td>\n      <td>1.000000</td>\n      <td>0.030612</td>\n      <td>0.479904</td>\n      <td>0.267093</td>\n      <td>0.482759</td>\n      <td>0.037037</td>\n      <td>0.186050</td>\n      <td>NaN</td>\n      <td>NaN</td>\n      <td>NaN</td>\n      <td>NaN</td>\n    </tr>\n    <tr>\n      <th>T.RandomApply([T.RandomAffine(degrees=(-15, 15))], p=0.5)</th>\n      <td>0.253167</td>\n      <td>0.819277</td>\n      <td>0.047059</td>\n      <td>0.321692</td>\n      <td>0.342609</td>\n      <td>0.944444</td>\n      <td>0.034483</td>\n      <td>0.382939</td>\n      <td>0.321780</td>\n      <td>0.723404</td>\n      <td>0.037037</td>\n      <td>0.294161</td>\n      <td>NaN</td>\n      <td>NaN</td>\n      <td>NaN</td>\n      <td>NaN</td>\n    </tr>\n    <tr>\n      <th>T.RandomApply([T.RandomAffine(degrees=(-30, 30))], p=0.5)</th>\n      <td>0.365285</td>\n      <td>0.843373</td>\n      <td>0.120000</td>\n      <td>0.299338</td>\n      <td>0.483213</td>\n      <td>1.000000</td>\n      <td>0.079365</td>\n      <td>0.462555</td>\n      <td>0.396723</td>\n      <td>0.744681</td>\n      <td>0.111111</td>\n      <td>0.241896</td>\n      <td>NaN</td>\n      <td>NaN</td>\n      <td>NaN</td>\n      <td>NaN</td>\n    </tr>\n    <tr>\n      <th>T.RandomApply([T.RandomAffine(degrees=(-45, 45))], p=0.5)</th>\n      <td>0.303703</td>\n      <td>0.804598</td>\n      <td>0.058824</td>\n      <td>0.303118</td>\n      <td>0.409740</td>\n      <td>0.875000</td>\n      <td>0.038462</td>\n      <td>0.416025</td>\n      <td>0.319328</td>\n      <td>0.744681</td>\n      <td>0.111111</td>\n      <td>0.249186</td>\n      <td>NaN</td>\n      <td>NaN</td>\n      <td>NaN</td>\n      <td>NaN</td>\n    </tr>\n    <tr>\n      <th>T.RandomApply([T.RandomAffine(degrees=(-5, 5))], p=0.5)</th>\n      <td>0.241375</td>\n      <td>0.741573</td>\n      <td>0.020101</td>\n      <td>0.294119</td>\n      <td>0.391293</td>\n      <td>1.000000</td>\n      <td>0.011765</td>\n      <td>0.465880</td>\n      <td>0.234642</td>\n      <td>0.702128</td>\n      <td>0.068966</td>\n      <td>0.263229</td>\n      <td>NaN</td>\n      <td>NaN</td>\n      <td>NaN</td>\n      <td>NaN</td>\n    </tr>\n    <tr>\n      <th>T.RandomApply([T.RandomAffine(degrees=0, scale=(0.7, 1.3))], p=0.5)</th>\n      <td>0.211583</td>\n      <td>0.555556</td>\n      <td>0.054054</td>\n      <td>0.207113</td>\n      <td>0.266244</td>\n      <td>0.666667</td>\n      <td>0.034286</td>\n      <td>0.279153</td>\n      <td>0.270739</td>\n      <td>0.744681</td>\n      <td>0.111111</td>\n      <td>0.267189</td>\n      <td>NaN</td>\n      <td>NaN</td>\n      <td>NaN</td>\n      <td>NaN</td>\n    </tr>\n    <tr>\n      <th>T.RandomApply([T.RandomAffine(degrees=0, scale=(0.85, 1.0))], p=0.5)</th>\n      <td>0.203619</td>\n      <td>0.654206</td>\n      <td>0.029268</td>\n      <td>0.262677</td>\n      <td>0.360933</td>\n      <td>1.000000</td>\n      <td>0.017045</td>\n      <td>0.424505</td>\n      <td>0.256398</td>\n      <td>0.744681</td>\n      <td>0.037037</td>\n      <td>0.288054</td>\n      <td>NaN</td>\n      <td>NaN</td>\n      <td>NaN</td>\n      <td>NaN</td>\n    </tr>\n    <tr>\n      <th>T.RandomApply([T.RandomAffine(degrees=0, scale=(0.85, 1.15))], p=0.5)</th>\n      <td>0.287642</td>\n      <td>0.736842</td>\n      <td>0.000000</td>\n      <td>0.291927</td>\n      <td>0.361420</td>\n      <td>0.750000</td>\n      <td>0.000000</td>\n      <td>0.362745</td>\n      <td>0.278460</td>\n      <td>0.744681</td>\n      <td>0.000000</td>\n      <td>0.286074</td>\n      <td>NaN</td>\n      <td>NaN</td>\n      <td>NaN</td>\n      <td>NaN</td>\n    </tr>\n    <tr>\n      <th>T.RandomApply([T.RandomAffine(degrees=0, scale=(1.0, 1.15))], p=0.5)</th>\n      <td>0.235233</td>\n      <td>0.833333</td>\n      <td>0.000000</td>\n      <td>0.344483</td>\n      <td>0.434635</td>\n      <td>1.000000</td>\n      <td>0.000000</td>\n      <td>0.497381</td>\n      <td>0.229994</td>\n      <td>0.744681</td>\n      <td>0.000000</td>\n      <td>0.304098</td>\n      <td>NaN</td>\n      <td>NaN</td>\n      <td>NaN</td>\n      <td>NaN</td>\n    </tr>\n    <tr>\n      <th>T.RandomApply([T.RandomAffine(degrees=0, shear=(-15, 15, -15, 15))], p=0.5)</th>\n      <td>0.307217</td>\n      <td>0.833333</td>\n      <td>0.049261</td>\n      <td>0.309257</td>\n      <td>0.473990</td>\n      <td>1.000000</td>\n      <td>0.028736</td>\n      <td>0.463944</td>\n      <td>0.292414</td>\n      <td>0.744681</td>\n      <td>0.111111</td>\n      <td>0.261091</td>\n      <td>NaN</td>\n      <td>NaN</td>\n      <td>NaN</td>\n      <td>NaN</td>\n    </tr>\n    <tr>\n      <th>T.RandomApply([T.RandomAffine(degrees=0, shear=(-15, 15, 0, 0))], p=0.5)</th>\n      <td>0.217524</td>\n      <td>0.466667</td>\n      <td>0.000000</td>\n      <td>0.191646</td>\n      <td>0.199243</td>\n      <td>0.400000</td>\n      <td>0.000000</td>\n      <td>0.177454</td>\n      <td>0.331370</td>\n      <td>0.744681</td>\n      <td>0.000000</td>\n      <td>0.333049</td>\n      <td>NaN</td>\n      <td>NaN</td>\n      <td>NaN</td>\n      <td>NaN</td>\n    </tr>\n    <tr>\n      <th>T.RandomApply([T.RandomAffine(degrees=0, shear=(-30, 30, -30, 30))], p=0.5)</th>\n      <td>0.235832</td>\n      <td>0.500000</td>\n      <td>0.000000</td>\n      <td>0.211453</td>\n      <td>0.294065</td>\n      <td>1.000000</td>\n      <td>0.000000</td>\n      <td>0.407831</td>\n      <td>0.312111</td>\n      <td>0.744681</td>\n      <td>0.000000</td>\n      <td>0.286749</td>\n      <td>NaN</td>\n      <td>NaN</td>\n      <td>NaN</td>\n      <td>NaN</td>\n    </tr>\n    <tr>\n      <th>T.RandomApply([T.RandomAffine(degrees=0, shear=(0, 0, -15, 15))], p=0.5)</th>\n      <td>0.260347</td>\n      <td>0.786517</td>\n      <td>0.053097</td>\n      <td>0.303588</td>\n      <td>0.557241</td>\n      <td>1.000000</td>\n      <td>0.034884</td>\n      <td>0.459533</td>\n      <td>0.317482</td>\n      <td>0.744681</td>\n      <td>0.037037</td>\n      <td>0.311890</td>\n      <td>NaN</td>\n      <td>NaN</td>\n      <td>NaN</td>\n      <td>NaN</td>\n    </tr>\n    <tr>\n      <th>T.RandomApply([T.RandomAffine(degrees=0, translate=(0.0, 0.15))], p=0.5)</th>\n      <td>0.204228</td>\n      <td>0.542373</td>\n      <td>0.009950</td>\n      <td>0.232434</td>\n      <td>0.388095</td>\n      <td>1.000000</td>\n      <td>0.005814</td>\n      <td>0.405449</td>\n      <td>0.229839</td>\n      <td>0.680851</td>\n      <td>0.034483</td>\n      <td>0.272014</td>\n      <td>NaN</td>\n      <td>NaN</td>\n      <td>NaN</td>\n      <td>NaN</td>\n    </tr>\n    <tr>\n      <th>T.RandomApply([T.RandomAffine(degrees=0, translate=(0.15, 0.0))], p=0.5)</th>\n      <td>0.182819</td>\n      <td>0.712329</td>\n      <td>0.000000</td>\n      <td>0.303611</td>\n      <td>0.236579</td>\n      <td>1.000000</td>\n      <td>0.000000</td>\n      <td>0.431772</td>\n      <td>0.159739</td>\n      <td>0.553191</td>\n      <td>0.000000</td>\n      <td>0.230929</td>\n      <td>NaN</td>\n      <td>NaN</td>\n      <td>NaN</td>\n      <td>NaN</td>\n    </tr>\n    <tr>\n      <th>T.RandomApply([T.RandomAffine(degrees=0, translate=(0.15, 0.15))], p=0.5)</th>\n      <td>0.350255</td>\n      <td>0.823529</td>\n      <td>0.019704</td>\n      <td>0.334019</td>\n      <td>0.459521</td>\n      <td>0.921053</td>\n      <td>0.011494</td>\n      <td>0.444036</td>\n      <td>0.310454</td>\n      <td>0.744681</td>\n      <td>0.068966</td>\n      <td>0.270666</td>\n      <td>NaN</td>\n      <td>NaN</td>\n      <td>NaN</td>\n      <td>NaN</td>\n    </tr>\n    <tr>\n      <th>T.RandomApply([T.RandomAffine(degrees=0, translate=(0.3, 0.3))], p=0.5)</th>\n      <td>0.306830</td>\n      <td>0.551181</td>\n      <td>0.147059</td>\n      <td>0.169578</td>\n      <td>0.367748</td>\n      <td>1.000000</td>\n      <td>0.117647</td>\n      <td>0.377312</td>\n      <td>0.526167</td>\n      <td>0.965517</td>\n      <td>0.142857</td>\n      <td>0.338748</td>\n      <td>NaN</td>\n      <td>NaN</td>\n      <td>NaN</td>\n      <td>NaN</td>\n    </tr>\n    <tr>\n      <th>T.RandomApply([T.RandomResizedCrop(size=(600, 400), scale=(0.7, 1.3), ratio=(3.0 / 2.0, 3.0 / 2.0), antialias=True)], p=0.5)</th>\n      <td>0.241335</td>\n      <td>0.578512</td>\n      <td>0.000000</td>\n      <td>0.231967</td>\n      <td>0.342591</td>\n      <td>1.000000</td>\n      <td>0.000000</td>\n      <td>0.412839</td>\n      <td>0.282481</td>\n      <td>0.744681</td>\n      <td>0.000000</td>\n      <td>0.291620</td>\n      <td>NaN</td>\n      <td>NaN</td>\n      <td>NaN</td>\n      <td>NaN</td>\n    </tr>\n    <tr>\n      <th>T.RandomApply([T.RandomResizedCrop(size=(600, 400), scale=(0.85, 1.0), ratio=(3.0 / 2.0, 3.0 / 2.0), antialias=True)], p=0.5)</th>\n      <td>0.186126</td>\n      <td>0.451613</td>\n      <td>0.010204</td>\n      <td>0.201549</td>\n      <td>0.384068</td>\n      <td>1.000000</td>\n      <td>0.005988</td>\n      <td>0.413732</td>\n      <td>0.236891</td>\n      <td>0.744681</td>\n      <td>0.034483</td>\n      <td>0.297906</td>\n      <td>NaN</td>\n      <td>NaN</td>\n      <td>NaN</td>\n      <td>NaN</td>\n    </tr>\n    <tr>\n      <th>T.RandomApply([T.RandomResizedCrop(size=(600, 400), scale=(0.85, 1.15), ratio=(3.0 / 2.0, 3.0 / 2.0), antialias=True)], p=0.5)</th>\n      <td>0.280569</td>\n      <td>0.813953</td>\n      <td>0.000000</td>\n      <td>0.352731</td>\n      <td>0.535428</td>\n      <td>1.000000</td>\n      <td>0.000000</td>\n      <td>0.483570</td>\n      <td>0.247137</td>\n      <td>0.744681</td>\n      <td>0.000000</td>\n      <td>0.308397</td>\n      <td>NaN</td>\n      <td>NaN</td>\n      <td>NaN</td>\n      <td>NaN</td>\n    </tr>\n    <tr>\n      <th>T.RandomApply([T.RandomResizedCrop(size=(600, 400), scale=(1.0, 1.15), ratio=(3.0 / 2.0, 3.0 / 2.0), antialias=True)], p=0.5)</th>\n      <td>0.283542</td>\n      <td>0.636364</td>\n      <td>0.009756</td>\n      <td>0.260089</td>\n      <td>0.518699</td>\n      <td>1.000000</td>\n      <td>0.005682</td>\n      <td>0.491037</td>\n      <td>0.266521</td>\n      <td>0.744681</td>\n      <td>0.034483</td>\n      <td>0.279881</td>\n      <td>NaN</td>\n      <td>NaN</td>\n      <td>NaN</td>\n      <td>NaN</td>\n    </tr>\n    <tr>\n      <th>T.RandomHorizontalFlip(p=0.5)</th>\n      <td>0.349859</td>\n      <td>0.810127</td>\n      <td>0.000000</td>\n      <td>0.342698</td>\n      <td>0.402876</td>\n      <td>1.000000</td>\n      <td>0.000000</td>\n      <td>0.439437</td>\n      <td>0.328974</td>\n      <td>0.680851</td>\n      <td>0.000000</td>\n      <td>0.275938</td>\n      <td>NaN</td>\n      <td>NaN</td>\n      <td>NaN</td>\n      <td>NaN</td>\n    </tr>\n    <tr>\n      <th>T.RandomVerticalFlip(p=0.5)</th>\n      <td>0.163363</td>\n      <td>0.507246</td>\n      <td>0.000000</td>\n      <td>0.218430</td>\n      <td>0.122851</td>\n      <td>0.384615</td>\n      <td>0.000000</td>\n      <td>0.166204</td>\n      <td>0.245444</td>\n      <td>0.744681</td>\n      <td>0.000000</td>\n      <td>0.317663</td>\n      <td>NaN</td>\n      <td>NaN</td>\n      <td>NaN</td>\n      <td>NaN</td>\n    </tr>\n  </tbody>\n</table>\n</div>"
     },
     "execution_count": 5,
     "metadata": {},
     "output_type": "execute_result"
    }
   ],
   "source": [
    "df_edited"
   ],
   "metadata": {
    "collapsed": false,
    "ExecuteTime": {
     "end_time": "2024-05-27T14:48:44.300433Z",
     "start_time": "2024-05-27T14:48:44.278618Z"
    }
   },
   "id": "cc0464aa9f6d6438",
   "execution_count": 5
  },
  {
   "cell_type": "code",
   "outputs": [],
   "source": [],
   "metadata": {
    "collapsed": false
   },
   "id": "9461582793ff410e"
  }
 ],
 "metadata": {
  "kernelspec": {
   "display_name": "Python 3",
   "language": "python",
   "name": "python3"
  },
  "language_info": {
   "codemirror_mode": {
    "name": "ipython",
    "version": 2
   },
   "file_extension": ".py",
   "mimetype": "text/x-python",
   "name": "python",
   "nbconvert_exporter": "python",
   "pygments_lexer": "ipython2",
   "version": "2.7.6"
  }
 },
 "nbformat": 4,
 "nbformat_minor": 5
}
