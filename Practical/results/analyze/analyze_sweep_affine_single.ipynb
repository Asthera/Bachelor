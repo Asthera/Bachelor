{
 "cells": [
  {
   "cell_type": "code",
   "execution_count": 1,
   "id": "initial_id",
   "metadata": {
    "collapsed": true,
    "ExecuteTime": {
     "end_time": "2024-05-26T10:50:17.787519Z",
     "start_time": "2024-05-26T10:50:16.957378Z"
    }
   },
   "outputs": [],
   "source": [
    "from read_sweep import SweepReader\n",
    "from edit_sweep_df import SweepEditorDataFrame"
   ]
  },
  {
   "cell_type": "code",
   "outputs": [],
   "source": [
    "# affine_single name of the sweep\n",
    "sweep_id = \"m2a2visa\"\n",
    "project_path = \"daswoldemar/bachelor\""
   ],
   "metadata": {
    "collapsed": false,
    "ExecuteTime": {
     "end_time": "2024-05-26T10:50:18.380788Z",
     "start_time": "2024-05-26T10:50:18.378251Z"
    }
   },
   "id": "e7c2a5d790c12778",
   "execution_count": 2
  },
  {
   "cell_type": "code",
   "outputs": [
    {
     "name": "stderr",
     "output_type": "stream",
     "text": [
      "\u001B[34m\u001B[1mwandb\u001B[0m:   1 of 1 files downloaded.  \n",
      "\u001B[34m\u001B[1mwandb\u001B[0m:   1 of 1 files downloaded.  \n",
      "\u001B[34m\u001B[1mwandb\u001B[0m:   1 of 1 files downloaded.  \n",
      "\u001B[34m\u001B[1mwandb\u001B[0m:   1 of 1 files downloaded.  \n",
      "\u001B[34m\u001B[1mwandb\u001B[0m:   1 of 1 files downloaded.  \n",
      "\u001B[34m\u001B[1mwandb\u001B[0m:   1 of 1 files downloaded.  \n",
      "\u001B[34m\u001B[1mwandb\u001B[0m:   1 of 1 files downloaded.  \n",
      "\u001B[34m\u001B[1mwandb\u001B[0m:   1 of 1 files downloaded.  \n",
      "\u001B[34m\u001B[1mwandb\u001B[0m:   1 of 1 files downloaded.  \n",
      "\u001B[34m\u001B[1mwandb\u001B[0m:   1 of 1 files downloaded.  \n",
      "\u001B[34m\u001B[1mwandb\u001B[0m:   1 of 1 files downloaded.  \n",
      "\u001B[34m\u001B[1mwandb\u001B[0m:   1 of 1 files downloaded.  \n",
      "\u001B[34m\u001B[1mwandb\u001B[0m:   1 of 1 files downloaded.  \n",
      "\u001B[34m\u001B[1mwandb\u001B[0m:   1 of 1 files downloaded.  \n",
      "\u001B[34m\u001B[1mwandb\u001B[0m:   1 of 1 files downloaded.  \n",
      "\u001B[34m\u001B[1mwandb\u001B[0m:   1 of 1 files downloaded.  \n",
      "\u001B[34m\u001B[1mwandb\u001B[0m:   1 of 1 files downloaded.  \n",
      "\u001B[34m\u001B[1mwandb\u001B[0m:   1 of 1 files downloaded.  \n",
      "\u001B[34m\u001B[1mwandb\u001B[0m:   1 of 1 files downloaded.  \n",
      "\u001B[34m\u001B[1mwandb\u001B[0m:   1 of 1 files downloaded.  \n",
      "\u001B[34m\u001B[1mwandb\u001B[0m:   1 of 1 files downloaded.  \n",
      "\u001B[34m\u001B[1mwandb\u001B[0m:   1 of 1 files downloaded.  \n",
      "\u001B[34m\u001B[1mwandb\u001B[0m:   1 of 1 files downloaded.  \n",
      "\u001B[34m\u001B[1mwandb\u001B[0m:   1 of 1 files downloaded.  \n",
      "\u001B[34m\u001B[1mwandb\u001B[0m:   1 of 1 files downloaded.  \n",
      "\u001B[34m\u001B[1mwandb\u001B[0m:   1 of 1 files downloaded.  \n",
      "\u001B[34m\u001B[1mwandb\u001B[0m:   1 of 1 files downloaded.  \n",
      "\u001B[34m\u001B[1mwandb\u001B[0m:   1 of 1 files downloaded.  \n",
      "\u001B[34m\u001B[1mwandb\u001B[0m:   1 of 1 files downloaded.  \n",
      "\u001B[34m\u001B[1mwandb\u001B[0m:   1 of 1 files downloaded.  \n",
      "\u001B[34m\u001B[1mwandb\u001B[0m:   1 of 1 files downloaded.  \n",
      "\u001B[34m\u001B[1mwandb\u001B[0m:   1 of 1 files downloaded.  \n",
      "\u001B[34m\u001B[1mwandb\u001B[0m:   1 of 1 files downloaded.  \n",
      "\u001B[34m\u001B[1mwandb\u001B[0m:   1 of 1 files downloaded.  \n",
      "\u001B[34m\u001B[1mwandb\u001B[0m:   1 of 1 files downloaded.  \n",
      "\u001B[34m\u001B[1mwandb\u001B[0m:   1 of 1 files downloaded.  \n",
      "\u001B[34m\u001B[1mwandb\u001B[0m:   1 of 1 files downloaded.  \n",
      "\u001B[34m\u001B[1mwandb\u001B[0m:   1 of 1 files downloaded.  \n",
      "\u001B[34m\u001B[1mwandb\u001B[0m:   1 of 1 files downloaded.  \n",
      "\u001B[34m\u001B[1mwandb\u001B[0m:   1 of 1 files downloaded.  \n",
      "\u001B[34m\u001B[1mwandb\u001B[0m:   1 of 1 files downloaded.  \n",
      "\u001B[34m\u001B[1mwandb\u001B[0m:   1 of 1 files downloaded.  \n",
      "\u001B[34m\u001B[1mwandb\u001B[0m:   1 of 1 files downloaded.  \n",
      "\u001B[34m\u001B[1mwandb\u001B[0m:   1 of 1 files downloaded.  \n",
      "\u001B[34m\u001B[1mwandb\u001B[0m:   1 of 1 files downloaded.  \n",
      "\u001B[34m\u001B[1mwandb\u001B[0m:   1 of 1 files downloaded.  \n",
      "\u001B[34m\u001B[1mwandb\u001B[0m:   1 of 1 files downloaded.  \n",
      "\u001B[34m\u001B[1mwandb\u001B[0m:   1 of 1 files downloaded.  \n",
      "\u001B[34m\u001B[1mwandb\u001B[0m:   1 of 1 files downloaded.  \n",
      "\u001B[34m\u001B[1mwandb\u001B[0m:   1 of 1 files downloaded.  \n",
      "\u001B[34m\u001B[1mwandb\u001B[0m:   1 of 1 files downloaded.  \n",
      "\u001B[34m\u001B[1mwandb\u001B[0m:   1 of 1 files downloaded.  \n",
      "\u001B[34m\u001B[1mwandb\u001B[0m:   1 of 1 files downloaded.  \n",
      "\u001B[34m\u001B[1mwandb\u001B[0m:   1 of 1 files downloaded.  \n",
      "\u001B[34m\u001B[1mwandb\u001B[0m:   1 of 1 files downloaded.  \n",
      "\u001B[34m\u001B[1mwandb\u001B[0m:   1 of 1 files downloaded.  \n",
      "\u001B[34m\u001B[1mwandb\u001B[0m:   1 of 1 files downloaded.  \n",
      "\u001B[34m\u001B[1mwandb\u001B[0m:   1 of 1 files downloaded.  \n",
      "\u001B[34m\u001B[1mwandb\u001B[0m:   1 of 1 files downloaded.  \n",
      "\u001B[34m\u001B[1mwandb\u001B[0m:   1 of 1 files downloaded.  \n",
      "\u001B[34m\u001B[1mwandb\u001B[0m:   1 of 1 files downloaded.  \n",
      "\u001B[34m\u001B[1mwandb\u001B[0m:   1 of 1 files downloaded.  \n",
      "\u001B[34m\u001B[1mwandb\u001B[0m:   1 of 1 files downloaded.  \n",
      "\u001B[34m\u001B[1mwandb\u001B[0m:   1 of 1 files downloaded.  \n",
      "\u001B[34m\u001B[1mwandb\u001B[0m:   1 of 1 files downloaded.  \n",
      "\u001B[34m\u001B[1mwandb\u001B[0m:   1 of 1 files downloaded.  \n",
      "\u001B[34m\u001B[1mwandb\u001B[0m:   1 of 1 files downloaded.  \n",
      "\u001B[34m\u001B[1mwandb\u001B[0m:   1 of 1 files downloaded.  \n",
      "\u001B[34m\u001B[1mwandb\u001B[0m:   1 of 1 files downloaded.  \n",
      "\u001B[34m\u001B[1mwandb\u001B[0m:   1 of 1 files downloaded.  \n",
      "\u001B[34m\u001B[1mwandb\u001B[0m:   1 of 1 files downloaded.  \n",
      "\u001B[34m\u001B[1mwandb\u001B[0m:   1 of 1 files downloaded.  \n",
      "\u001B[34m\u001B[1mwandb\u001B[0m:   1 of 1 files downloaded.  \n",
      "\u001B[34m\u001B[1mwandb\u001B[0m:   1 of 1 files downloaded.  \n",
      "\u001B[34m\u001B[1mwandb\u001B[0m:   1 of 1 files downloaded.  \n",
      "\u001B[34m\u001B[1mwandb\u001B[0m:   1 of 1 files downloaded.  \n",
      "\u001B[34m\u001B[1mwandb\u001B[0m:   1 of 1 files downloaded.  \n",
      "\u001B[34m\u001B[1mwandb\u001B[0m:   1 of 1 files downloaded.  \n",
      "\u001B[34m\u001B[1mwandb\u001B[0m:   1 of 1 files downloaded.  \n",
      "\u001B[34m\u001B[1mwandb\u001B[0m:   1 of 1 files downloaded.  \n",
      "\u001B[34m\u001B[1mwandb\u001B[0m:   1 of 1 files downloaded.  \n",
      "\u001B[34m\u001B[1mwandb\u001B[0m:   1 of 1 files downloaded.  \n",
      "\u001B[34m\u001B[1mwandb\u001B[0m:   1 of 1 files downloaded.  \n",
      "\u001B[34m\u001B[1mwandb\u001B[0m:   1 of 1 files downloaded.  \n",
      "\u001B[34m\u001B[1mwandb\u001B[0m:   1 of 1 files downloaded.  \n",
      "\u001B[34m\u001B[1mwandb\u001B[0m:   1 of 1 files downloaded.  \n",
      "\u001B[34m\u001B[1mwandb\u001B[0m:   1 of 1 files downloaded.  \n",
      "\u001B[34m\u001B[1mwandb\u001B[0m:   1 of 1 files downloaded.  \n",
      "\u001B[34m\u001B[1mwandb\u001B[0m:   1 of 1 files downloaded.  \n",
      "\u001B[34m\u001B[1mwandb\u001B[0m:   1 of 1 files downloaded.  \n",
      "\u001B[34m\u001B[1mwandb\u001B[0m:   1 of 1 files downloaded.  \n",
      "\u001B[34m\u001B[1mwandb\u001B[0m:   1 of 1 files downloaded.  \n",
      "\u001B[34m\u001B[1mwandb\u001B[0m:   1 of 1 files downloaded.  \n",
      "\u001B[34m\u001B[1mwandb\u001B[0m:   1 of 1 files downloaded.  \n",
      "\u001B[34m\u001B[1mwandb\u001B[0m:   1 of 1 files downloaded.  \n",
      "\u001B[34m\u001B[1mwandb\u001B[0m:   1 of 1 files downloaded.  \n",
      "\u001B[34m\u001B[1mwandb\u001B[0m:   1 of 1 files downloaded.  \n",
      "\u001B[34m\u001B[1mwandb\u001B[0m:   1 of 1 files downloaded.  \n",
      "\u001B[34m\u001B[1mwandb\u001B[0m:   1 of 1 files downloaded.  \n",
      "\u001B[34m\u001B[1mwandb\u001B[0m:   1 of 1 files downloaded.  \n",
      "\u001B[34m\u001B[1mwandb\u001B[0m:   1 of 1 files downloaded.  \n",
      "\u001B[34m\u001B[1mwandb\u001B[0m:   1 of 1 files downloaded.  \n",
      "\u001B[34m\u001B[1mwandb\u001B[0m:   1 of 1 files downloaded.  \n",
      "\u001B[34m\u001B[1mwandb\u001B[0m:   1 of 1 files downloaded.  \n",
      "\u001B[34m\u001B[1mwandb\u001B[0m:   1 of 1 files downloaded.  \n",
      "\u001B[34m\u001B[1mwandb\u001B[0m:   1 of 1 files downloaded.  \n",
      "\u001B[34m\u001B[1mwandb\u001B[0m:   1 of 1 files downloaded.  \n",
      "\u001B[34m\u001B[1mwandb\u001B[0m:   1 of 1 files downloaded.  \n",
      "\u001B[34m\u001B[1mwandb\u001B[0m:   1 of 1 files downloaded.  \n",
      "\u001B[34m\u001B[1mwandb\u001B[0m:   1 of 1 files downloaded.  \n",
      "\u001B[34m\u001B[1mwandb\u001B[0m:   1 of 1 files downloaded.  \n",
      "\u001B[34m\u001B[1mwandb\u001B[0m:   1 of 1 files downloaded.  \n",
      "\u001B[34m\u001B[1mwandb\u001B[0m:   1 of 1 files downloaded.  \n",
      "\u001B[34m\u001B[1mwandb\u001B[0m:   1 of 1 files downloaded.  \n",
      "\u001B[34m\u001B[1mwandb\u001B[0m:   1 of 1 files downloaded.  \n"
     ]
    },
    {
     "name": "stdout",
     "output_type": "stream",
     "text": [
      "Data saved to CSV file\n"
     ]
    }
   ],
   "source": [
    "# read sweep, save raw\n",
    "reader = SweepReader(sweep_id, project_path)\n",
    "df_raw = reader.fetch_sweep_runs()\n",
    "reader.save_to_csv(\"../sweeps_raw/\"+sweep_id+\".csv\")"
   ],
   "metadata": {
    "collapsed": false,
    "ExecuteTime": {
     "end_time": "2024-05-26T10:52:44.125037Z",
     "start_time": "2024-05-26T10:50:19.253102Z"
    }
   },
   "id": "c24f75d53f163a81",
   "execution_count": 3
  },
  {
   "cell_type": "code",
   "outputs": [],
   "source": [
    "# edit sweep, save edited\n",
    "editor = SweepEditorDataFrame([df_raw,])\n",
    "df_edited = editor.init_edit()\n",
    "df_edited.to_csv(\"../sweeps_edited/\"+sweep_id+\".csv\")"
   ],
   "metadata": {
    "collapsed": false,
    "ExecuteTime": {
     "end_time": "2024-04-24T18:46:11.001748Z",
     "start_time": "2024-04-24T18:46:10.997354Z"
    }
   },
   "id": "b4069a5d1bd4aea1",
   "execution_count": 5
  },
  {
   "cell_type": "code",
   "outputs": [
    {
     "data": {
      "text/plain": "                                                    Test F1_mean  Test F1_max  \\\nTransforms                                                                      \nNone                                                    0.249238     0.531250   \nT.RandomApply([T.RandomAffine(degrees=(-15, 15)...      0.253167     0.819277   \nT.RandomApply([T.RandomAffine(degrees=(-30, 30)...      0.365285     0.843373   \nT.RandomApply([T.RandomAffine(degrees=(-45, 45)...      0.303703     0.804598   \nT.RandomApply([T.RandomAffine(degrees=(-5, 5))]...      0.241375     0.741573   \nT.RandomApply([T.RandomAffine(degrees=0, scale=...      0.211583     0.555556   \nT.RandomApply([T.RandomAffine(degrees=0, scale=...      0.203619     0.654206   \nT.RandomApply([T.RandomAffine(degrees=0, scale=...      0.287642     0.736842   \nT.RandomApply([T.RandomAffine(degrees=0, scale=...      0.235233     0.833333   \nT.RandomApply([T.RandomAffine(degrees=0, shear=...      0.307217     0.833333   \nT.RandomApply([T.RandomAffine(degrees=0, shear=...      0.217524     0.466667   \nT.RandomApply([T.RandomAffine(degrees=0, shear=...      0.235832     0.500000   \nT.RandomApply([T.RandomAffine(degrees=0, shear=...      0.260347     0.786517   \nT.RandomApply([T.RandomAffine(degrees=0, transl...      0.204228     0.542373   \nT.RandomApply([T.RandomAffine(degrees=0, transl...      0.182819     0.712329   \nT.RandomApply([T.RandomAffine(degrees=0, transl...      0.350255     0.823529   \nT.RandomApply([T.RandomAffine(degrees=0, transl...      0.306830     0.551181   \nT.RandomApply([T.RandomResizedCrop(size=(600, 4...      0.241335     0.578512   \nT.RandomApply([T.RandomResizedCrop(size=(600, 4...      0.186126     0.451613   \nT.RandomApply([T.RandomResizedCrop(size=(600, 4...      0.280569     0.813953   \nT.RandomApply([T.RandomResizedCrop(size=(600, 4...      0.283542     0.636364   \nT.RandomHorizontalFlip(p=0.5)                           0.349859     0.810127   \nT.RandomVerticalFlip(p=0.5)                             0.163363     0.507246   \n\n                                                    Test F1_min  \\\nTransforms                                                        \nNone                                                   0.048000   \nT.RandomApply([T.RandomAffine(degrees=(-15, 15)...     0.047059   \nT.RandomApply([T.RandomAffine(degrees=(-30, 30)...     0.120000   \nT.RandomApply([T.RandomAffine(degrees=(-45, 45)...     0.058824   \nT.RandomApply([T.RandomAffine(degrees=(-5, 5))]...     0.020101   \nT.RandomApply([T.RandomAffine(degrees=0, scale=...     0.054054   \nT.RandomApply([T.RandomAffine(degrees=0, scale=...     0.029268   \nT.RandomApply([T.RandomAffine(degrees=0, scale=...     0.000000   \nT.RandomApply([T.RandomAffine(degrees=0, scale=...     0.000000   \nT.RandomApply([T.RandomAffine(degrees=0, shear=...     0.049261   \nT.RandomApply([T.RandomAffine(degrees=0, shear=...     0.000000   \nT.RandomApply([T.RandomAffine(degrees=0, shear=...     0.000000   \nT.RandomApply([T.RandomAffine(degrees=0, shear=...     0.053097   \nT.RandomApply([T.RandomAffine(degrees=0, transl...     0.009950   \nT.RandomApply([T.RandomAffine(degrees=0, transl...     0.000000   \nT.RandomApply([T.RandomAffine(degrees=0, transl...     0.019704   \nT.RandomApply([T.RandomAffine(degrees=0, transl...     0.147059   \nT.RandomApply([T.RandomResizedCrop(size=(600, 4...     0.000000   \nT.RandomApply([T.RandomResizedCrop(size=(600, 4...     0.010204   \nT.RandomApply([T.RandomResizedCrop(size=(600, 4...     0.000000   \nT.RandomApply([T.RandomResizedCrop(size=(600, 4...     0.009756   \nT.RandomHorizontalFlip(p=0.5)                          0.000000   \nT.RandomVerticalFlip(p=0.5)                            0.000000   \n\n                                                    Test Precision_mean  \\\nTransforms                                                                \nNone                                                           0.562854   \nT.RandomApply([T.RandomAffine(degrees=(-15, 15)...             0.342609   \nT.RandomApply([T.RandomAffine(degrees=(-30, 30)...             0.483213   \nT.RandomApply([T.RandomAffine(degrees=(-45, 45)...             0.409740   \nT.RandomApply([T.RandomAffine(degrees=(-5, 5))]...             0.391293   \nT.RandomApply([T.RandomAffine(degrees=0, scale=...             0.266244   \nT.RandomApply([T.RandomAffine(degrees=0, scale=...             0.360933   \nT.RandomApply([T.RandomAffine(degrees=0, scale=...             0.361420   \nT.RandomApply([T.RandomAffine(degrees=0, scale=...             0.434635   \nT.RandomApply([T.RandomAffine(degrees=0, shear=...             0.473990   \nT.RandomApply([T.RandomAffine(degrees=0, shear=...             0.199243   \nT.RandomApply([T.RandomAffine(degrees=0, shear=...             0.294065   \nT.RandomApply([T.RandomAffine(degrees=0, shear=...             0.557241   \nT.RandomApply([T.RandomAffine(degrees=0, transl...             0.388095   \nT.RandomApply([T.RandomAffine(degrees=0, transl...             0.236579   \nT.RandomApply([T.RandomAffine(degrees=0, transl...             0.459521   \nT.RandomApply([T.RandomAffine(degrees=0, transl...             0.367748   \nT.RandomApply([T.RandomResizedCrop(size=(600, 4...             0.342591   \nT.RandomApply([T.RandomResizedCrop(size=(600, 4...             0.384068   \nT.RandomApply([T.RandomResizedCrop(size=(600, 4...             0.535428   \nT.RandomApply([T.RandomResizedCrop(size=(600, 4...             0.518699   \nT.RandomHorizontalFlip(p=0.5)                                  0.402876   \nT.RandomVerticalFlip(p=0.5)                                    0.122851   \n\n                                                    Test Precision_max  \\\nTransforms                                                               \nNone                                                          1.000000   \nT.RandomApply([T.RandomAffine(degrees=(-15, 15)...            0.944444   \nT.RandomApply([T.RandomAffine(degrees=(-30, 30)...            1.000000   \nT.RandomApply([T.RandomAffine(degrees=(-45, 45)...            0.875000   \nT.RandomApply([T.RandomAffine(degrees=(-5, 5))]...            1.000000   \nT.RandomApply([T.RandomAffine(degrees=0, scale=...            0.666667   \nT.RandomApply([T.RandomAffine(degrees=0, scale=...            1.000000   \nT.RandomApply([T.RandomAffine(degrees=0, scale=...            0.750000   \nT.RandomApply([T.RandomAffine(degrees=0, scale=...            1.000000   \nT.RandomApply([T.RandomAffine(degrees=0, shear=...            1.000000   \nT.RandomApply([T.RandomAffine(degrees=0, shear=...            0.400000   \nT.RandomApply([T.RandomAffine(degrees=0, shear=...            1.000000   \nT.RandomApply([T.RandomAffine(degrees=0, shear=...            1.000000   \nT.RandomApply([T.RandomAffine(degrees=0, transl...            1.000000   \nT.RandomApply([T.RandomAffine(degrees=0, transl...            1.000000   \nT.RandomApply([T.RandomAffine(degrees=0, transl...            0.921053   \nT.RandomApply([T.RandomAffine(degrees=0, transl...            1.000000   \nT.RandomApply([T.RandomResizedCrop(size=(600, 4...            1.000000   \nT.RandomApply([T.RandomResizedCrop(size=(600, 4...            1.000000   \nT.RandomApply([T.RandomResizedCrop(size=(600, 4...            1.000000   \nT.RandomApply([T.RandomResizedCrop(size=(600, 4...            1.000000   \nT.RandomHorizontalFlip(p=0.5)                                 1.000000   \nT.RandomVerticalFlip(p=0.5)                                   0.384615   \n\n                                                    Test Precision_min  \\\nTransforms                                                               \nNone                                                          0.030612   \nT.RandomApply([T.RandomAffine(degrees=(-15, 15)...            0.034483   \nT.RandomApply([T.RandomAffine(degrees=(-30, 30)...            0.079365   \nT.RandomApply([T.RandomAffine(degrees=(-45, 45)...            0.038462   \nT.RandomApply([T.RandomAffine(degrees=(-5, 5))]...            0.011765   \nT.RandomApply([T.RandomAffine(degrees=0, scale=...            0.034286   \nT.RandomApply([T.RandomAffine(degrees=0, scale=...            0.017045   \nT.RandomApply([T.RandomAffine(degrees=0, scale=...            0.000000   \nT.RandomApply([T.RandomAffine(degrees=0, scale=...            0.000000   \nT.RandomApply([T.RandomAffine(degrees=0, shear=...            0.028736   \nT.RandomApply([T.RandomAffine(degrees=0, shear=...            0.000000   \nT.RandomApply([T.RandomAffine(degrees=0, shear=...            0.000000   \nT.RandomApply([T.RandomAffine(degrees=0, shear=...            0.034884   \nT.RandomApply([T.RandomAffine(degrees=0, transl...            0.005814   \nT.RandomApply([T.RandomAffine(degrees=0, transl...            0.000000   \nT.RandomApply([T.RandomAffine(degrees=0, transl...            0.011494   \nT.RandomApply([T.RandomAffine(degrees=0, transl...            0.117647   \nT.RandomApply([T.RandomResizedCrop(size=(600, 4...            0.000000   \nT.RandomApply([T.RandomResizedCrop(size=(600, 4...            0.005988   \nT.RandomApply([T.RandomResizedCrop(size=(600, 4...            0.000000   \nT.RandomApply([T.RandomResizedCrop(size=(600, 4...            0.005682   \nT.RandomHorizontalFlip(p=0.5)                                 0.000000   \nT.RandomVerticalFlip(p=0.5)                                   0.000000   \n\n                                                    Test Recall_mean  \\\nTransforms                                                             \nNone                                                        0.267093   \nT.RandomApply([T.RandomAffine(degrees=(-15, 15)...          0.321780   \nT.RandomApply([T.RandomAffine(degrees=(-30, 30)...          0.396723   \nT.RandomApply([T.RandomAffine(degrees=(-45, 45)...          0.319328   \nT.RandomApply([T.RandomAffine(degrees=(-5, 5))]...          0.234642   \nT.RandomApply([T.RandomAffine(degrees=0, scale=...          0.270739   \nT.RandomApply([T.RandomAffine(degrees=0, scale=...          0.256398   \nT.RandomApply([T.RandomAffine(degrees=0, scale=...          0.278460   \nT.RandomApply([T.RandomAffine(degrees=0, scale=...          0.229994   \nT.RandomApply([T.RandomAffine(degrees=0, shear=...          0.292414   \nT.RandomApply([T.RandomAffine(degrees=0, shear=...          0.331370   \nT.RandomApply([T.RandomAffine(degrees=0, shear=...          0.312111   \nT.RandomApply([T.RandomAffine(degrees=0, shear=...          0.317482   \nT.RandomApply([T.RandomAffine(degrees=0, transl...          0.229839   \nT.RandomApply([T.RandomAffine(degrees=0, transl...          0.159739   \nT.RandomApply([T.RandomAffine(degrees=0, transl...          0.310454   \nT.RandomApply([T.RandomAffine(degrees=0, transl...          0.526167   \nT.RandomApply([T.RandomResizedCrop(size=(600, 4...          0.282481   \nT.RandomApply([T.RandomResizedCrop(size=(600, 4...          0.236891   \nT.RandomApply([T.RandomResizedCrop(size=(600, 4...          0.247137   \nT.RandomApply([T.RandomResizedCrop(size=(600, 4...          0.266521   \nT.RandomHorizontalFlip(p=0.5)                               0.328974   \nT.RandomVerticalFlip(p=0.5)                                 0.245444   \n\n                                                    Test Recall_max  \\\nTransforms                                                            \nNone                                                       0.482759   \nT.RandomApply([T.RandomAffine(degrees=(-15, 15)...         0.723404   \nT.RandomApply([T.RandomAffine(degrees=(-30, 30)...         0.744681   \nT.RandomApply([T.RandomAffine(degrees=(-45, 45)...         0.744681   \nT.RandomApply([T.RandomAffine(degrees=(-5, 5))]...         0.702128   \nT.RandomApply([T.RandomAffine(degrees=0, scale=...         0.744681   \nT.RandomApply([T.RandomAffine(degrees=0, scale=...         0.744681   \nT.RandomApply([T.RandomAffine(degrees=0, scale=...         0.744681   \nT.RandomApply([T.RandomAffine(degrees=0, scale=...         0.744681   \nT.RandomApply([T.RandomAffine(degrees=0, shear=...         0.744681   \nT.RandomApply([T.RandomAffine(degrees=0, shear=...         0.744681   \nT.RandomApply([T.RandomAffine(degrees=0, shear=...         0.744681   \nT.RandomApply([T.RandomAffine(degrees=0, shear=...         0.744681   \nT.RandomApply([T.RandomAffine(degrees=0, transl...         0.680851   \nT.RandomApply([T.RandomAffine(degrees=0, transl...         0.553191   \nT.RandomApply([T.RandomAffine(degrees=0, transl...         0.744681   \nT.RandomApply([T.RandomAffine(degrees=0, transl...         0.965517   \nT.RandomApply([T.RandomResizedCrop(size=(600, 4...         0.744681   \nT.RandomApply([T.RandomResizedCrop(size=(600, 4...         0.744681   \nT.RandomApply([T.RandomResizedCrop(size=(600, 4...         0.744681   \nT.RandomApply([T.RandomResizedCrop(size=(600, 4...         0.744681   \nT.RandomHorizontalFlip(p=0.5)                              0.680851   \nT.RandomVerticalFlip(p=0.5)                                0.744681   \n\n                                                    Test Recall_min  \\\nTransforms                                                            \nNone                                                       0.037037   \nT.RandomApply([T.RandomAffine(degrees=(-15, 15)...         0.037037   \nT.RandomApply([T.RandomAffine(degrees=(-30, 30)...         0.111111   \nT.RandomApply([T.RandomAffine(degrees=(-45, 45)...         0.111111   \nT.RandomApply([T.RandomAffine(degrees=(-5, 5))]...         0.068966   \nT.RandomApply([T.RandomAffine(degrees=0, scale=...         0.111111   \nT.RandomApply([T.RandomAffine(degrees=0, scale=...         0.037037   \nT.RandomApply([T.RandomAffine(degrees=0, scale=...         0.000000   \nT.RandomApply([T.RandomAffine(degrees=0, scale=...         0.000000   \nT.RandomApply([T.RandomAffine(degrees=0, shear=...         0.111111   \nT.RandomApply([T.RandomAffine(degrees=0, shear=...         0.000000   \nT.RandomApply([T.RandomAffine(degrees=0, shear=...         0.000000   \nT.RandomApply([T.RandomAffine(degrees=0, shear=...         0.037037   \nT.RandomApply([T.RandomAffine(degrees=0, transl...         0.034483   \nT.RandomApply([T.RandomAffine(degrees=0, transl...         0.000000   \nT.RandomApply([T.RandomAffine(degrees=0, transl...         0.068966   \nT.RandomApply([T.RandomAffine(degrees=0, transl...         0.142857   \nT.RandomApply([T.RandomResizedCrop(size=(600, 4...         0.000000   \nT.RandomApply([T.RandomResizedCrop(size=(600, 4...         0.034483   \nT.RandomApply([T.RandomResizedCrop(size=(600, 4...         0.000000   \nT.RandomApply([T.RandomResizedCrop(size=(600, 4...         0.034483   \nT.RandomHorizontalFlip(p=0.5)                              0.000000   \nT.RandomVerticalFlip(p=0.5)                                0.000000   \n\n                                                   Test Accuracy_mean  \\\nTransforms                                                              \nNone                                                              NaN   \nT.RandomApply([T.RandomAffine(degrees=(-15, 15)...                NaN   \nT.RandomApply([T.RandomAffine(degrees=(-30, 30)...                NaN   \nT.RandomApply([T.RandomAffine(degrees=(-45, 45)...                NaN   \nT.RandomApply([T.RandomAffine(degrees=(-5, 5))]...                NaN   \nT.RandomApply([T.RandomAffine(degrees=0, scale=...                NaN   \nT.RandomApply([T.RandomAffine(degrees=0, scale=...                NaN   \nT.RandomApply([T.RandomAffine(degrees=0, scale=...                NaN   \nT.RandomApply([T.RandomAffine(degrees=0, scale=...                NaN   \nT.RandomApply([T.RandomAffine(degrees=0, shear=...                NaN   \nT.RandomApply([T.RandomAffine(degrees=0, shear=...                NaN   \nT.RandomApply([T.RandomAffine(degrees=0, shear=...                NaN   \nT.RandomApply([T.RandomAffine(degrees=0, shear=...                NaN   \nT.RandomApply([T.RandomAffine(degrees=0, transl...                NaN   \nT.RandomApply([T.RandomAffine(degrees=0, transl...                NaN   \nT.RandomApply([T.RandomAffine(degrees=0, transl...                NaN   \nT.RandomApply([T.RandomAffine(degrees=0, transl...                NaN   \nT.RandomApply([T.RandomResizedCrop(size=(600, 4...                NaN   \nT.RandomApply([T.RandomResizedCrop(size=(600, 4...                NaN   \nT.RandomApply([T.RandomResizedCrop(size=(600, 4...                NaN   \nT.RandomApply([T.RandomResizedCrop(size=(600, 4...                NaN   \nT.RandomHorizontalFlip(p=0.5)                                     NaN   \nT.RandomVerticalFlip(p=0.5)                                       NaN   \n\n                                                   Test Accuracy_max  \\\nTransforms                                                             \nNone                                                             NaN   \nT.RandomApply([T.RandomAffine(degrees=(-15, 15)...               NaN   \nT.RandomApply([T.RandomAffine(degrees=(-30, 30)...               NaN   \nT.RandomApply([T.RandomAffine(degrees=(-45, 45)...               NaN   \nT.RandomApply([T.RandomAffine(degrees=(-5, 5))]...               NaN   \nT.RandomApply([T.RandomAffine(degrees=0, scale=...               NaN   \nT.RandomApply([T.RandomAffine(degrees=0, scale=...               NaN   \nT.RandomApply([T.RandomAffine(degrees=0, scale=...               NaN   \nT.RandomApply([T.RandomAffine(degrees=0, scale=...               NaN   \nT.RandomApply([T.RandomAffine(degrees=0, shear=...               NaN   \nT.RandomApply([T.RandomAffine(degrees=0, shear=...               NaN   \nT.RandomApply([T.RandomAffine(degrees=0, shear=...               NaN   \nT.RandomApply([T.RandomAffine(degrees=0, shear=...               NaN   \nT.RandomApply([T.RandomAffine(degrees=0, transl...               NaN   \nT.RandomApply([T.RandomAffine(degrees=0, transl...               NaN   \nT.RandomApply([T.RandomAffine(degrees=0, transl...               NaN   \nT.RandomApply([T.RandomAffine(degrees=0, transl...               NaN   \nT.RandomApply([T.RandomResizedCrop(size=(600, 4...               NaN   \nT.RandomApply([T.RandomResizedCrop(size=(600, 4...               NaN   \nT.RandomApply([T.RandomResizedCrop(size=(600, 4...               NaN   \nT.RandomApply([T.RandomResizedCrop(size=(600, 4...               NaN   \nT.RandomHorizontalFlip(p=0.5)                                    NaN   \nT.RandomVerticalFlip(p=0.5)                                      NaN   \n\n                                                   Test Accuracy_min  \nTransforms                                                            \nNone                                                             NaN  \nT.RandomApply([T.RandomAffine(degrees=(-15, 15)...               NaN  \nT.RandomApply([T.RandomAffine(degrees=(-30, 30)...               NaN  \nT.RandomApply([T.RandomAffine(degrees=(-45, 45)...               NaN  \nT.RandomApply([T.RandomAffine(degrees=(-5, 5))]...               NaN  \nT.RandomApply([T.RandomAffine(degrees=0, scale=...               NaN  \nT.RandomApply([T.RandomAffine(degrees=0, scale=...               NaN  \nT.RandomApply([T.RandomAffine(degrees=0, scale=...               NaN  \nT.RandomApply([T.RandomAffine(degrees=0, scale=...               NaN  \nT.RandomApply([T.RandomAffine(degrees=0, shear=...               NaN  \nT.RandomApply([T.RandomAffine(degrees=0, shear=...               NaN  \nT.RandomApply([T.RandomAffine(degrees=0, shear=...               NaN  \nT.RandomApply([T.RandomAffine(degrees=0, shear=...               NaN  \nT.RandomApply([T.RandomAffine(degrees=0, transl...               NaN  \nT.RandomApply([T.RandomAffine(degrees=0, transl...               NaN  \nT.RandomApply([T.RandomAffine(degrees=0, transl...               NaN  \nT.RandomApply([T.RandomAffine(degrees=0, transl...               NaN  \nT.RandomApply([T.RandomResizedCrop(size=(600, 4...               NaN  \nT.RandomApply([T.RandomResizedCrop(size=(600, 4...               NaN  \nT.RandomApply([T.RandomResizedCrop(size=(600, 4...               NaN  \nT.RandomApply([T.RandomResizedCrop(size=(600, 4...               NaN  \nT.RandomHorizontalFlip(p=0.5)                                    NaN  \nT.RandomVerticalFlip(p=0.5)                                      NaN  ",
      "text/html": "<div>\n<style scoped>\n    .dataframe tbody tr th:only-of-type {\n        vertical-align: middle;\n    }\n\n    .dataframe tbody tr th {\n        vertical-align: top;\n    }\n\n    .dataframe thead th {\n        text-align: right;\n    }\n</style>\n<table border=\"1\" class=\"dataframe\">\n  <thead>\n    <tr style=\"text-align: right;\">\n      <th></th>\n      <th>Test F1_mean</th>\n      <th>Test F1_max</th>\n      <th>Test F1_min</th>\n      <th>Test Precision_mean</th>\n      <th>Test Precision_max</th>\n      <th>Test Precision_min</th>\n      <th>Test Recall_mean</th>\n      <th>Test Recall_max</th>\n      <th>Test Recall_min</th>\n      <th>Test Accuracy_mean</th>\n      <th>Test Accuracy_max</th>\n      <th>Test Accuracy_min</th>\n    </tr>\n    <tr>\n      <th>Transforms</th>\n      <th></th>\n      <th></th>\n      <th></th>\n      <th></th>\n      <th></th>\n      <th></th>\n      <th></th>\n      <th></th>\n      <th></th>\n      <th></th>\n      <th></th>\n      <th></th>\n    </tr>\n  </thead>\n  <tbody>\n    <tr>\n      <th>None</th>\n      <td>0.249238</td>\n      <td>0.531250</td>\n      <td>0.048000</td>\n      <td>0.562854</td>\n      <td>1.000000</td>\n      <td>0.030612</td>\n      <td>0.267093</td>\n      <td>0.482759</td>\n      <td>0.037037</td>\n      <td>NaN</td>\n      <td>NaN</td>\n      <td>NaN</td>\n    </tr>\n    <tr>\n      <th>T.RandomApply([T.RandomAffine(degrees=(-15, 15))], p=0.5)</th>\n      <td>0.253167</td>\n      <td>0.819277</td>\n      <td>0.047059</td>\n      <td>0.342609</td>\n      <td>0.944444</td>\n      <td>0.034483</td>\n      <td>0.321780</td>\n      <td>0.723404</td>\n      <td>0.037037</td>\n      <td>NaN</td>\n      <td>NaN</td>\n      <td>NaN</td>\n    </tr>\n    <tr>\n      <th>T.RandomApply([T.RandomAffine(degrees=(-30, 30))], p=0.5)</th>\n      <td>0.365285</td>\n      <td>0.843373</td>\n      <td>0.120000</td>\n      <td>0.483213</td>\n      <td>1.000000</td>\n      <td>0.079365</td>\n      <td>0.396723</td>\n      <td>0.744681</td>\n      <td>0.111111</td>\n      <td>NaN</td>\n      <td>NaN</td>\n      <td>NaN</td>\n    </tr>\n    <tr>\n      <th>T.RandomApply([T.RandomAffine(degrees=(-45, 45))], p=0.5)</th>\n      <td>0.303703</td>\n      <td>0.804598</td>\n      <td>0.058824</td>\n      <td>0.409740</td>\n      <td>0.875000</td>\n      <td>0.038462</td>\n      <td>0.319328</td>\n      <td>0.744681</td>\n      <td>0.111111</td>\n      <td>NaN</td>\n      <td>NaN</td>\n      <td>NaN</td>\n    </tr>\n    <tr>\n      <th>T.RandomApply([T.RandomAffine(degrees=(-5, 5))], p=0.5)</th>\n      <td>0.241375</td>\n      <td>0.741573</td>\n      <td>0.020101</td>\n      <td>0.391293</td>\n      <td>1.000000</td>\n      <td>0.011765</td>\n      <td>0.234642</td>\n      <td>0.702128</td>\n      <td>0.068966</td>\n      <td>NaN</td>\n      <td>NaN</td>\n      <td>NaN</td>\n    </tr>\n    <tr>\n      <th>T.RandomApply([T.RandomAffine(degrees=0, scale=(0.7, 1.3))], p=0.5)</th>\n      <td>0.211583</td>\n      <td>0.555556</td>\n      <td>0.054054</td>\n      <td>0.266244</td>\n      <td>0.666667</td>\n      <td>0.034286</td>\n      <td>0.270739</td>\n      <td>0.744681</td>\n      <td>0.111111</td>\n      <td>NaN</td>\n      <td>NaN</td>\n      <td>NaN</td>\n    </tr>\n    <tr>\n      <th>T.RandomApply([T.RandomAffine(degrees=0, scale=(0.85, 1.0))], p=0.5)</th>\n      <td>0.203619</td>\n      <td>0.654206</td>\n      <td>0.029268</td>\n      <td>0.360933</td>\n      <td>1.000000</td>\n      <td>0.017045</td>\n      <td>0.256398</td>\n      <td>0.744681</td>\n      <td>0.037037</td>\n      <td>NaN</td>\n      <td>NaN</td>\n      <td>NaN</td>\n    </tr>\n    <tr>\n      <th>T.RandomApply([T.RandomAffine(degrees=0, scale=(0.85, 1.15))], p=0.5)</th>\n      <td>0.287642</td>\n      <td>0.736842</td>\n      <td>0.000000</td>\n      <td>0.361420</td>\n      <td>0.750000</td>\n      <td>0.000000</td>\n      <td>0.278460</td>\n      <td>0.744681</td>\n      <td>0.000000</td>\n      <td>NaN</td>\n      <td>NaN</td>\n      <td>NaN</td>\n    </tr>\n    <tr>\n      <th>T.RandomApply([T.RandomAffine(degrees=0, scale=(1.0, 1.15))], p=0.5)</th>\n      <td>0.235233</td>\n      <td>0.833333</td>\n      <td>0.000000</td>\n      <td>0.434635</td>\n      <td>1.000000</td>\n      <td>0.000000</td>\n      <td>0.229994</td>\n      <td>0.744681</td>\n      <td>0.000000</td>\n      <td>NaN</td>\n      <td>NaN</td>\n      <td>NaN</td>\n    </tr>\n    <tr>\n      <th>T.RandomApply([T.RandomAffine(degrees=0, shear=(-15, 15, -15, 15))], p=0.5)</th>\n      <td>0.307217</td>\n      <td>0.833333</td>\n      <td>0.049261</td>\n      <td>0.473990</td>\n      <td>1.000000</td>\n      <td>0.028736</td>\n      <td>0.292414</td>\n      <td>0.744681</td>\n      <td>0.111111</td>\n      <td>NaN</td>\n      <td>NaN</td>\n      <td>NaN</td>\n    </tr>\n    <tr>\n      <th>T.RandomApply([T.RandomAffine(degrees=0, shear=(-15, 15, 0, 0))], p=0.5)</th>\n      <td>0.217524</td>\n      <td>0.466667</td>\n      <td>0.000000</td>\n      <td>0.199243</td>\n      <td>0.400000</td>\n      <td>0.000000</td>\n      <td>0.331370</td>\n      <td>0.744681</td>\n      <td>0.000000</td>\n      <td>NaN</td>\n      <td>NaN</td>\n      <td>NaN</td>\n    </tr>\n    <tr>\n      <th>T.RandomApply([T.RandomAffine(degrees=0, shear=(-30, 30, -30, 30))], p=0.5)</th>\n      <td>0.235832</td>\n      <td>0.500000</td>\n      <td>0.000000</td>\n      <td>0.294065</td>\n      <td>1.000000</td>\n      <td>0.000000</td>\n      <td>0.312111</td>\n      <td>0.744681</td>\n      <td>0.000000</td>\n      <td>NaN</td>\n      <td>NaN</td>\n      <td>NaN</td>\n    </tr>\n    <tr>\n      <th>T.RandomApply([T.RandomAffine(degrees=0, shear=(0, 0, -15, 15))], p=0.5)</th>\n      <td>0.260347</td>\n      <td>0.786517</td>\n      <td>0.053097</td>\n      <td>0.557241</td>\n      <td>1.000000</td>\n      <td>0.034884</td>\n      <td>0.317482</td>\n      <td>0.744681</td>\n      <td>0.037037</td>\n      <td>NaN</td>\n      <td>NaN</td>\n      <td>NaN</td>\n    </tr>\n    <tr>\n      <th>T.RandomApply([T.RandomAffine(degrees=0, translate=(0.0, 0.15))], p=0.5)</th>\n      <td>0.204228</td>\n      <td>0.542373</td>\n      <td>0.009950</td>\n      <td>0.388095</td>\n      <td>1.000000</td>\n      <td>0.005814</td>\n      <td>0.229839</td>\n      <td>0.680851</td>\n      <td>0.034483</td>\n      <td>NaN</td>\n      <td>NaN</td>\n      <td>NaN</td>\n    </tr>\n    <tr>\n      <th>T.RandomApply([T.RandomAffine(degrees=0, translate=(0.15, 0.0))], p=0.5)</th>\n      <td>0.182819</td>\n      <td>0.712329</td>\n      <td>0.000000</td>\n      <td>0.236579</td>\n      <td>1.000000</td>\n      <td>0.000000</td>\n      <td>0.159739</td>\n      <td>0.553191</td>\n      <td>0.000000</td>\n      <td>NaN</td>\n      <td>NaN</td>\n      <td>NaN</td>\n    </tr>\n    <tr>\n      <th>T.RandomApply([T.RandomAffine(degrees=0, translate=(0.15, 0.15))], p=0.5)</th>\n      <td>0.350255</td>\n      <td>0.823529</td>\n      <td>0.019704</td>\n      <td>0.459521</td>\n      <td>0.921053</td>\n      <td>0.011494</td>\n      <td>0.310454</td>\n      <td>0.744681</td>\n      <td>0.068966</td>\n      <td>NaN</td>\n      <td>NaN</td>\n      <td>NaN</td>\n    </tr>\n    <tr>\n      <th>T.RandomApply([T.RandomAffine(degrees=0, translate=(0.3, 0.3))], p=0.5)</th>\n      <td>0.306830</td>\n      <td>0.551181</td>\n      <td>0.147059</td>\n      <td>0.367748</td>\n      <td>1.000000</td>\n      <td>0.117647</td>\n      <td>0.526167</td>\n      <td>0.965517</td>\n      <td>0.142857</td>\n      <td>NaN</td>\n      <td>NaN</td>\n      <td>NaN</td>\n    </tr>\n    <tr>\n      <th>T.RandomApply([T.RandomResizedCrop(size=(600, 400), scale=(0.7, 1.3), ratio=(3.0 / 2.0, 3.0 / 2.0), antialias=True)], p=0.5)</th>\n      <td>0.241335</td>\n      <td>0.578512</td>\n      <td>0.000000</td>\n      <td>0.342591</td>\n      <td>1.000000</td>\n      <td>0.000000</td>\n      <td>0.282481</td>\n      <td>0.744681</td>\n      <td>0.000000</td>\n      <td>NaN</td>\n      <td>NaN</td>\n      <td>NaN</td>\n    </tr>\n    <tr>\n      <th>T.RandomApply([T.RandomResizedCrop(size=(600, 400), scale=(0.85, 1.0), ratio=(3.0 / 2.0, 3.0 / 2.0), antialias=True)], p=0.5)</th>\n      <td>0.186126</td>\n      <td>0.451613</td>\n      <td>0.010204</td>\n      <td>0.384068</td>\n      <td>1.000000</td>\n      <td>0.005988</td>\n      <td>0.236891</td>\n      <td>0.744681</td>\n      <td>0.034483</td>\n      <td>NaN</td>\n      <td>NaN</td>\n      <td>NaN</td>\n    </tr>\n    <tr>\n      <th>T.RandomApply([T.RandomResizedCrop(size=(600, 400), scale=(0.85, 1.15), ratio=(3.0 / 2.0, 3.0 / 2.0), antialias=True)], p=0.5)</th>\n      <td>0.280569</td>\n      <td>0.813953</td>\n      <td>0.000000</td>\n      <td>0.535428</td>\n      <td>1.000000</td>\n      <td>0.000000</td>\n      <td>0.247137</td>\n      <td>0.744681</td>\n      <td>0.000000</td>\n      <td>NaN</td>\n      <td>NaN</td>\n      <td>NaN</td>\n    </tr>\n    <tr>\n      <th>T.RandomApply([T.RandomResizedCrop(size=(600, 400), scale=(1.0, 1.15), ratio=(3.0 / 2.0, 3.0 / 2.0), antialias=True)], p=0.5)</th>\n      <td>0.283542</td>\n      <td>0.636364</td>\n      <td>0.009756</td>\n      <td>0.518699</td>\n      <td>1.000000</td>\n      <td>0.005682</td>\n      <td>0.266521</td>\n      <td>0.744681</td>\n      <td>0.034483</td>\n      <td>NaN</td>\n      <td>NaN</td>\n      <td>NaN</td>\n    </tr>\n    <tr>\n      <th>T.RandomHorizontalFlip(p=0.5)</th>\n      <td>0.349859</td>\n      <td>0.810127</td>\n      <td>0.000000</td>\n      <td>0.402876</td>\n      <td>1.000000</td>\n      <td>0.000000</td>\n      <td>0.328974</td>\n      <td>0.680851</td>\n      <td>0.000000</td>\n      <td>NaN</td>\n      <td>NaN</td>\n      <td>NaN</td>\n    </tr>\n    <tr>\n      <th>T.RandomVerticalFlip(p=0.5)</th>\n      <td>0.163363</td>\n      <td>0.507246</td>\n      <td>0.000000</td>\n      <td>0.122851</td>\n      <td>0.384615</td>\n      <td>0.000000</td>\n      <td>0.245444</td>\n      <td>0.744681</td>\n      <td>0.000000</td>\n      <td>NaN</td>\n      <td>NaN</td>\n      <td>NaN</td>\n    </tr>\n  </tbody>\n</table>\n</div>"
     },
     "execution_count": 6,
     "metadata": {},
     "output_type": "execute_result"
    }
   ],
   "source": [
    "df_edited"
   ],
   "metadata": {
    "collapsed": false,
    "ExecuteTime": {
     "end_time": "2024-04-24T18:46:12.146184Z",
     "start_time": "2024-04-24T18:46:12.135744Z"
    }
   },
   "id": "cc0464aa9f6d6438",
   "execution_count": 6
  },
  {
   "cell_type": "code",
   "outputs": [],
   "source": [],
   "metadata": {
    "collapsed": false
   },
   "id": "9461582793ff410e"
  }
 ],
 "metadata": {
  "kernelspec": {
   "display_name": "Python 3",
   "language": "python",
   "name": "python3"
  },
  "language_info": {
   "codemirror_mode": {
    "name": "ipython",
    "version": 2
   },
   "file_extension": ".py",
   "mimetype": "text/x-python",
   "name": "python",
   "nbconvert_exporter": "python",
   "pygments_lexer": "ipython2",
   "version": "2.7.6"
  }
 },
 "nbformat": 4,
 "nbformat_minor": 5
}
