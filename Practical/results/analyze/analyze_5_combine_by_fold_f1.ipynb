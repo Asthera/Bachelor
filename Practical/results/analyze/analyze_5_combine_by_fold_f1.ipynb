{
 "cells": [
  {
   "cell_type": "code",
   "execution_count": 1,
   "id": "initial_id",
   "metadata": {
    "collapsed": true,
    "ExecuteTime": {
     "end_time": "2024-05-05T20:01:22.006772Z",
     "start_time": "2024-05-05T20:01:21.239923Z"
    }
   },
   "outputs": [],
   "source": [
    "from read_sweep import SweepReader\n",
    "from edit_sweep_df import SweepEditorDataFrame"
   ]
  },
  {
   "cell_type": "code",
   "outputs": [],
   "source": [
    "# affine_single name of the sweep\n",
    "p = \"er2yvs4u\"\n",
    "project_path = \"daswoldemar/bachelor\""
   ],
   "metadata": {
    "collapsed": false,
    "ExecuteTime": {
     "end_time": "2024-05-05T20:01:22.009427Z",
     "start_time": "2024-05-05T20:01:22.007459Z"
    }
   },
   "id": "e3381dee87aff4ab",
   "execution_count": 2
  },
  {
   "cell_type": "code",
   "outputs": [
    {
     "name": "stderr",
     "output_type": "stream",
     "text": [
      "\u001B[34m\u001B[1mwandb\u001B[0m:   1 of 1 files downloaded.  \n",
      "\u001B[34m\u001B[1mwandb\u001B[0m:   1 of 1 files downloaded.  \n",
      "\u001B[34m\u001B[1mwandb\u001B[0m:   1 of 1 files downloaded.  \n",
      "\u001B[34m\u001B[1mwandb\u001B[0m:   1 of 1 files downloaded.  \n",
      "\u001B[34m\u001B[1mwandb\u001B[0m:   1 of 1 files downloaded.  \n",
      "\u001B[34m\u001B[1mwandb\u001B[0m:   1 of 1 files downloaded.  \n",
      "\u001B[34m\u001B[1mwandb\u001B[0m:   1 of 1 files downloaded.  \n",
      "\u001B[34m\u001B[1mwandb\u001B[0m:   1 of 1 files downloaded.  \n",
      "\u001B[34m\u001B[1mwandb\u001B[0m:   1 of 1 files downloaded.  \n",
      "\u001B[34m\u001B[1mwandb\u001B[0m:   1 of 1 files downloaded.  \n",
      "\u001B[34m\u001B[1mwandb\u001B[0m:   1 of 1 files downloaded.  \n",
      "\u001B[34m\u001B[1mwandb\u001B[0m:   1 of 1 files downloaded.  \n",
      "\u001B[34m\u001B[1mwandb\u001B[0m:   1 of 1 files downloaded.  \n",
      "\u001B[34m\u001B[1mwandb\u001B[0m:   1 of 1 files downloaded.  \n",
      "\u001B[34m\u001B[1mwandb\u001B[0m:   1 of 1 files downloaded.  \n",
      "\u001B[34m\u001B[1mwandb\u001B[0m:   1 of 1 files downloaded.  \n",
      "\u001B[34m\u001B[1mwandb\u001B[0m:   1 of 1 files downloaded.  \n",
      "\u001B[34m\u001B[1mwandb\u001B[0m:   1 of 1 files downloaded.  \n",
      "\u001B[34m\u001B[1mwandb\u001B[0m:   1 of 1 files downloaded.  \n",
      "\u001B[34m\u001B[1mwandb\u001B[0m:   1 of 1 files downloaded.  \n",
      "\u001B[34m\u001B[1mwandb\u001B[0m:   1 of 1 files downloaded.  \n",
      "\u001B[34m\u001B[1mwandb\u001B[0m:   1 of 1 files downloaded.  \n",
      "\u001B[34m\u001B[1mwandb\u001B[0m:   1 of 1 files downloaded.  \n",
      "\u001B[34m\u001B[1mwandb\u001B[0m:   1 of 1 files downloaded.  \n",
      "\u001B[34m\u001B[1mwandb\u001B[0m:   1 of 1 files downloaded.  \n",
      "\u001B[34m\u001B[1mwandb\u001B[0m:   1 of 1 files downloaded.  \n",
      "\u001B[34m\u001B[1mwandb\u001B[0m:   1 of 1 files downloaded.  \n",
      "\u001B[34m\u001B[1mwandb\u001B[0m:   1 of 1 files downloaded.  \n",
      "\u001B[34m\u001B[1mwandb\u001B[0m:   1 of 1 files downloaded.  \n",
      "\u001B[34m\u001B[1mwandb\u001B[0m:   1 of 1 files downloaded.  \n",
      "\u001B[34m\u001B[1mwandb\u001B[0m:   1 of 1 files downloaded.  \n",
      "\u001B[34m\u001B[1mwandb\u001B[0m:   1 of 1 files downloaded.  \n",
      "\u001B[34m\u001B[1mwandb\u001B[0m:   1 of 1 files downloaded.  \n",
      "\u001B[34m\u001B[1mwandb\u001B[0m:   1 of 1 files downloaded.  \n",
      "\u001B[34m\u001B[1mwandb\u001B[0m:   1 of 1 files downloaded.  \n",
      "\u001B[34m\u001B[1mwandb\u001B[0m:   1 of 1 files downloaded.  \n",
      "\u001B[34m\u001B[1mwandb\u001B[0m:   1 of 1 files downloaded.  \n",
      "\u001B[34m\u001B[1mwandb\u001B[0m:   1 of 1 files downloaded.  \n",
      "\u001B[34m\u001B[1mwandb\u001B[0m:   1 of 1 files downloaded.  \n",
      "\u001B[34m\u001B[1mwandb\u001B[0m:   1 of 1 files downloaded.  \n",
      "\u001B[34m\u001B[1mwandb\u001B[0m:   1 of 1 files downloaded.  \n",
      "\u001B[34m\u001B[1mwandb\u001B[0m:   1 of 1 files downloaded.  \n",
      "\u001B[34m\u001B[1mwandb\u001B[0m:   1 of 1 files downloaded.  \n",
      "\u001B[34m\u001B[1mwandb\u001B[0m:   1 of 1 files downloaded.  \n",
      "\u001B[34m\u001B[1mwandb\u001B[0m:   1 of 1 files downloaded.  \n"
     ]
    },
    {
     "name": "stdout",
     "output_type": "stream",
     "text": [
      "Data saved to CSV file\n"
     ]
    }
   ],
   "source": [
    "# read sweep, save raw\n",
    "reader = SweepReader(sweep_id, project_path)\n",
    "df_raw = reader.fetch_sweep_runs()\n",
    "reader.save_to_csv(\"sweeps_raw/\"+sweep_id+\".csv\")"
   ],
   "metadata": {
    "collapsed": false,
    "ExecuteTime": {
     "end_time": "2024-05-05T20:02:29.389186Z",
     "start_time": "2024-05-05T20:01:22.011113Z"
    }
   },
   "id": "c879cc658397ce55",
   "execution_count": 3
  },
  {
   "cell_type": "code",
   "outputs": [],
   "source": [
    "# edit sweep, save edited\n",
    "editor = SweepEditorDataFrame([df_raw,])\n",
    "df_edited = editor.init_edit()\n",
    "df_edited.to_csv(\"sweeps_edited/\"+sweep_id+\".csv\")"
   ],
   "metadata": {
    "collapsed": false,
    "ExecuteTime": {
     "end_time": "2024-05-05T20:02:52.134495Z",
     "start_time": "2024-05-05T20:02:52.114315Z"
    }
   },
   "id": "ebec771a3fb3cdb8",
   "execution_count": 4
  },
  {
   "cell_type": "code",
   "outputs": [
    {
     "data": {
      "text/plain": "                                                    Test F1_mean  Test F1_max  \\\nTransforms                                                                      \nCT.RandomBrightnessByAdd(p=0.5, delta=(-0.35, 0...      0.486309     0.896552   \nCT.RandomBrightnessByAdd(p=1.0, delta=(0.005, 0...      0.281269     0.457143   \nCT.RandomContrastByMultiply(p=0.5, multiplier=(...      0.439933     0.784810   \nMT.RandSmoothFieldAdjustContrast(prob=0.5, spat...      0.446705     0.779221   \nMT.RandSmoothFieldAdjustContrast(prob=0.5, spat...      0.370781     0.813187   \nNone                                                    0.216755     0.530973   \nT.RandomApply([T.RandomAffine(degrees=0, shear=...      0.307746     0.795455   \nT.RandomApply([T.RandomAffine(degrees=0, transl...      0.368172     0.693069   \nT.RandomApply([T.RandomAffine(degrees=0, transl...      0.381532     0.857143   \n\n                                                    Test F1_min  \\\nTransforms                                                        \nCT.RandomBrightnessByAdd(p=0.5, delta=(-0.35, 0...     0.075000   \nCT.RandomBrightnessByAdd(p=1.0, delta=(0.005, 0...     0.009852   \nCT.RandomContrastByMultiply(p=0.5, multiplier=(...     0.110092   \nMT.RandSmoothFieldAdjustContrast(prob=0.5, spat...     0.210970   \nMT.RandSmoothFieldAdjustContrast(prob=0.5, spat...     0.000000   \nNone                                                   0.000000   \nT.RandomApply([T.RandomAffine(degrees=0, shear=...     0.085106   \nT.RandomApply([T.RandomAffine(degrees=0, transl...     0.256881   \nT.RandomApply([T.RandomAffine(degrees=0, transl...     0.057554   \n\n                                                    Test Precision_mean  \\\nTransforms                                                                \nCT.RandomBrightnessByAdd(p=0.5, delta=(-0.35, 0...             0.595588   \nCT.RandomBrightnessByAdd(p=1.0, delta=(0.005, 0...             0.325764   \nCT.RandomContrastByMultiply(p=0.5, multiplier=(...             0.465972   \nMT.RandSmoothFieldAdjustContrast(prob=0.5, spat...             0.495696   \nMT.RandSmoothFieldAdjustContrast(prob=0.5, spat...             0.431857   \nNone                                                           0.434861   \nT.RandomApply([T.RandomAffine(degrees=0, shear=...             0.440923   \nT.RandomApply([T.RandomAffine(degrees=0, transl...             0.450327   \nT.RandomApply([T.RandomAffine(degrees=0, transl...             0.331551   \n\n                                                    Test Precision_max  \\\nTransforms                                                               \nCT.RandomBrightnessByAdd(p=0.5, delta=(-0.35, 0...            0.975000   \nCT.RandomBrightnessByAdd(p=1.0, delta=(0.005, 0...            1.000000   \nCT.RandomContrastByMultiply(p=0.5, multiplier=(...            0.968750   \nMT.RandSmoothFieldAdjustContrast(prob=0.5, spat...            1.000000   \nMT.RandSmoothFieldAdjustContrast(prob=0.5, spat...            1.000000   \nNone                                                          1.000000   \nT.RandomApply([T.RandomAffine(degrees=0, shear=...            1.000000   \nT.RandomApply([T.RandomAffine(degrees=0, transl...            1.000000   \nT.RandomApply([T.RandomAffine(degrees=0, transl...            0.954545   \n\n                                                    Test Precision_min  \\\nTransforms                                                               \nCT.RandomBrightnessByAdd(p=0.5, delta=(-0.35, 0...            0.056604   \nCT.RandomBrightnessByAdd(p=1.0, delta=(0.005, 0...            0.005747   \nCT.RandomContrastByMultiply(p=0.5, multiplier=(...            0.063492   \nMT.RandSmoothFieldAdjustContrast(prob=0.5, spat...            0.120192   \nMT.RandSmoothFieldAdjustContrast(prob=0.5, spat...            0.000000   \nNone                                                          0.000000   \nT.RandomApply([T.RandomAffine(degrees=0, shear=...            0.064516   \nT.RandomApply([T.RandomAffine(degrees=0, transl...            0.148148   \nT.RandomApply([T.RandomAffine(degrees=0, transl...            0.035714   \n\n                                                    Test Recall_mean  \\\nTransforms                                                             \nCT.RandomBrightnessByAdd(p=0.5, delta=(-0.35, 0...          0.438995   \nCT.RandomBrightnessByAdd(p=1.0, delta=(0.005, 0...          0.465944   \nCT.RandomContrastByMultiply(p=0.5, multiplier=(...          0.492345   \nMT.RandSmoothFieldAdjustContrast(prob=0.5, spat...          0.610761   \nMT.RandSmoothFieldAdjustContrast(prob=0.5, spat...          0.350251   \nNone                                                        0.220146   \nT.RandomApply([T.RandomAffine(degrees=0, shear=...          0.346404   \nT.RandomApply([T.RandomAffine(degrees=0, transl...          0.602357   \nT.RandomApply([T.RandomAffine(degrees=0, transl...          0.642693   \n\n                                                    Test Recall_max  \\\nTransforms                                                            \nCT.RandomBrightnessByAdd(p=0.5, delta=(-0.35, 0...         0.829787   \nCT.RandomBrightnessByAdd(p=1.0, delta=(0.005, 0...         1.000000   \nCT.RandomContrastByMultiply(p=0.5, multiplier=(...         0.777778   \nMT.RandSmoothFieldAdjustContrast(prob=0.5, spat...         0.862069   \nMT.RandSmoothFieldAdjustContrast(prob=0.5, spat...         0.787234   \nNone                                                       0.638298   \nT.RandomApply([T.RandomAffine(degrees=0, shear=...         0.744681   \nT.RandomApply([T.RandomAffine(degrees=0, transl...         0.965517   \nT.RandomApply([T.RandomAffine(degrees=0, transl...         1.000000   \n\n                                                    Test Recall_min  \\\nTransforms                                                            \nCT.RandomBrightnessByAdd(p=0.5, delta=(-0.35, 0...         0.111111   \nCT.RandomBrightnessByAdd(p=1.0, delta=(0.005, 0...         0.034483   \nCT.RandomContrastByMultiply(p=0.5, multiplier=(...         0.296296   \nMT.RandSmoothFieldAdjustContrast(prob=0.5, spat...         0.257143   \nMT.RandSmoothFieldAdjustContrast(prob=0.5, spat...         0.000000   \nNone                                                       0.000000   \nT.RandomApply([T.RandomAffine(degrees=0, shear=...         0.074074   \nT.RandomApply([T.RandomAffine(degrees=0, transl...         0.185185   \nT.RandomApply([T.RandomAffine(degrees=0, transl...         0.148148   \n\n                                                   Test Accuracy_mean  \\\nTransforms                                                              \nCT.RandomBrightnessByAdd(p=0.5, delta=(-0.35, 0...                NaN   \nCT.RandomBrightnessByAdd(p=1.0, delta=(0.005, 0...                NaN   \nCT.RandomContrastByMultiply(p=0.5, multiplier=(...                NaN   \nMT.RandSmoothFieldAdjustContrast(prob=0.5, spat...                NaN   \nMT.RandSmoothFieldAdjustContrast(prob=0.5, spat...                NaN   \nNone                                                              NaN   \nT.RandomApply([T.RandomAffine(degrees=0, shear=...                NaN   \nT.RandomApply([T.RandomAffine(degrees=0, transl...                NaN   \nT.RandomApply([T.RandomAffine(degrees=0, transl...                NaN   \n\n                                                   Test Accuracy_max  \\\nTransforms                                                             \nCT.RandomBrightnessByAdd(p=0.5, delta=(-0.35, 0...               NaN   \nCT.RandomBrightnessByAdd(p=1.0, delta=(0.005, 0...               NaN   \nCT.RandomContrastByMultiply(p=0.5, multiplier=(...               NaN   \nMT.RandSmoothFieldAdjustContrast(prob=0.5, spat...               NaN   \nMT.RandSmoothFieldAdjustContrast(prob=0.5, spat...               NaN   \nNone                                                             NaN   \nT.RandomApply([T.RandomAffine(degrees=0, shear=...               NaN   \nT.RandomApply([T.RandomAffine(degrees=0, transl...               NaN   \nT.RandomApply([T.RandomAffine(degrees=0, transl...               NaN   \n\n                                                   Test Accuracy_min  \nTransforms                                                            \nCT.RandomBrightnessByAdd(p=0.5, delta=(-0.35, 0...               NaN  \nCT.RandomBrightnessByAdd(p=1.0, delta=(0.005, 0...               NaN  \nCT.RandomContrastByMultiply(p=0.5, multiplier=(...               NaN  \nMT.RandSmoothFieldAdjustContrast(prob=0.5, spat...               NaN  \nMT.RandSmoothFieldAdjustContrast(prob=0.5, spat...               NaN  \nNone                                                             NaN  \nT.RandomApply([T.RandomAffine(degrees=0, shear=...               NaN  \nT.RandomApply([T.RandomAffine(degrees=0, transl...               NaN  \nT.RandomApply([T.RandomAffine(degrees=0, transl...               NaN  ",
      "text/html": "<div>\n<style scoped>\n    .dataframe tbody tr th:only-of-type {\n        vertical-align: middle;\n    }\n\n    .dataframe tbody tr th {\n        vertical-align: top;\n    }\n\n    .dataframe thead th {\n        text-align: right;\n    }\n</style>\n<table border=\"1\" class=\"dataframe\">\n  <thead>\n    <tr style=\"text-align: right;\">\n      <th></th>\n      <th>Test F1_mean</th>\n      <th>Test F1_max</th>\n      <th>Test F1_min</th>\n      <th>Test Precision_mean</th>\n      <th>Test Precision_max</th>\n      <th>Test Precision_min</th>\n      <th>Test Recall_mean</th>\n      <th>Test Recall_max</th>\n      <th>Test Recall_min</th>\n      <th>Test Accuracy_mean</th>\n      <th>Test Accuracy_max</th>\n      <th>Test Accuracy_min</th>\n    </tr>\n    <tr>\n      <th>Transforms</th>\n      <th></th>\n      <th></th>\n      <th></th>\n      <th></th>\n      <th></th>\n      <th></th>\n      <th></th>\n      <th></th>\n      <th></th>\n      <th></th>\n      <th></th>\n      <th></th>\n    </tr>\n  </thead>\n  <tbody>\n    <tr>\n      <th>CT.RandomBrightnessByAdd(p=0.5, delta=(-0.35, 0.35))\\nCT.RandomContrastByMultiply(p=0.5, multiplier=(0.01, 0.1))\\nT.RandomHorizontalFlip(p=0.5)\\nT.RandomApply([T.ColorJitter(brightness=0.4, contrast=0.4)], p=0.5)\\nT.RandomApply([T.RandomAffine(degrees=0, translate=(0.3, 0.3))], p=0.5)</th>\n      <td>0.486309</td>\n      <td>0.896552</td>\n      <td>0.075000</td>\n      <td>0.595588</td>\n      <td>0.975000</td>\n      <td>0.056604</td>\n      <td>0.438995</td>\n      <td>0.829787</td>\n      <td>0.111111</td>\n      <td>NaN</td>\n      <td>NaN</td>\n      <td>NaN</td>\n    </tr>\n    <tr>\n      <th>CT.RandomBrightnessByAdd(p=1.0, delta=(0.005, 0.015))\\nT.RandomApply([T.RandomAffine(degrees=0, translate=(0.3, 0.3))], p=0.5)\\nT.RandomApply([T.RandomAffine(degrees=0, shear=(-30, 30, -30, 30))], p=0.5)\\nT.RandomApply([T.GaussianBlur(kernel_size=5, sigma=(0.5, 1.0))], p=0.5)\\nMT.RandSmoothFieldAdjustContrast(prob=0.5, spatial_size=(600, 400), rand_size=(2, 2))</th>\n      <td>0.281269</td>\n      <td>0.457143</td>\n      <td>0.009852</td>\n      <td>0.325764</td>\n      <td>1.000000</td>\n      <td>0.005747</td>\n      <td>0.465944</td>\n      <td>1.000000</td>\n      <td>0.034483</td>\n      <td>NaN</td>\n      <td>NaN</td>\n      <td>NaN</td>\n    </tr>\n    <tr>\n      <th>CT.RandomContrastByMultiply(p=0.5, multiplier=(0.01, 0.1))\\nT.RandomAdjustSharpness(sharpness_factor=1.5, p=0.5)\\nT.RandomHorizontalFlip(p=0.5)\\nCT.RandomElasticTransform(p=0.5, alpha=(5.0, 50.0), sigma=(4.0, 5.0))\\nT.RandomApply([T.RandomAffine(degrees=0, translate=(0.3, 0.3))], p=0.5)</th>\n      <td>0.439933</td>\n      <td>0.784810</td>\n      <td>0.110092</td>\n      <td>0.465972</td>\n      <td>0.968750</td>\n      <td>0.063492</td>\n      <td>0.492345</td>\n      <td>0.777778</td>\n      <td>0.296296</td>\n      <td>NaN</td>\n      <td>NaN</td>\n      <td>NaN</td>\n    </tr>\n    <tr>\n      <th>MT.RandSmoothFieldAdjustContrast(prob=0.5, spatial_size=(600, 400), rand_size=(2, 2))\\nT.RandomApply([T.GaussianBlur(kernel_size=5, sigma=(0.5, 1.0))], p=0.5)\\nT.RandomApply([T.RandomAffine(degrees=0, shear=(-30, 30, -30, 30))], p=0.5)\\nT.RandomApply([T.RandomAffine(degrees=0, translate=(0.3, 0.3))], p=0.5)\\nCT.RandomBrightnessByAdd(p=1.0, delta=(0.005, 0.015))</th>\n      <td>0.446705</td>\n      <td>0.779221</td>\n      <td>0.210970</td>\n      <td>0.495696</td>\n      <td>1.000000</td>\n      <td>0.120192</td>\n      <td>0.610761</td>\n      <td>0.862069</td>\n      <td>0.257143</td>\n      <td>NaN</td>\n      <td>NaN</td>\n      <td>NaN</td>\n    </tr>\n    <tr>\n      <th>MT.RandSmoothFieldAdjustContrast(prob=0.5, spatial_size=(600, 400), rand_size=(2, 2))\\nT.RandomApply([T.GaussianBlur(kernel_size=5, sigma=(0.5, 1.0))], p=0.5)\\nT.RandomHorizontalFlip(p=0.5)\\nMT.RandGaussianNoise(prob=0.5, mean=0, std=0.05)\\nT.RandomApply([T.RandomAffine(degrees=0, shear=(-15, 15, -15, 15))], p=0.5)</th>\n      <td>0.370781</td>\n      <td>0.813187</td>\n      <td>0.000000</td>\n      <td>0.431857</td>\n      <td>1.000000</td>\n      <td>0.000000</td>\n      <td>0.350251</td>\n      <td>0.787234</td>\n      <td>0.000000</td>\n      <td>NaN</td>\n      <td>NaN</td>\n      <td>NaN</td>\n    </tr>\n    <tr>\n      <th>None</th>\n      <td>0.216755</td>\n      <td>0.530973</td>\n      <td>0.000000</td>\n      <td>0.434861</td>\n      <td>1.000000</td>\n      <td>0.000000</td>\n      <td>0.220146</td>\n      <td>0.638298</td>\n      <td>0.000000</td>\n      <td>NaN</td>\n      <td>NaN</td>\n      <td>NaN</td>\n    </tr>\n    <tr>\n      <th>T.RandomApply([T.RandomAffine(degrees=0, shear=(-15, 15, -15, 15))], p=0.5)\\nMT.RandGaussianNoise(prob=0.5, mean=0, std=0.05)\\nT.RandomHorizontalFlip(p=0.5)\\nT.RandomApply([T.GaussianBlur(kernel_size=5, sigma=(0.5, 1.0))], p=0.5)\\nMT.RandSmoothFieldAdjustContrast(prob=0.5, spatial_size=(600, 400), rand_size=(2, 2))</th>\n      <td>0.307746</td>\n      <td>0.795455</td>\n      <td>0.085106</td>\n      <td>0.440923</td>\n      <td>1.000000</td>\n      <td>0.064516</td>\n      <td>0.346404</td>\n      <td>0.744681</td>\n      <td>0.074074</td>\n      <td>NaN</td>\n      <td>NaN</td>\n      <td>NaN</td>\n    </tr>\n    <tr>\n      <th>T.RandomApply([T.RandomAffine(degrees=0, translate=(0.3, 0.3))], p=0.5)\\nCT.RandomElasticTransform(p=0.5, alpha=(5.0, 50.0), sigma=(4.0, 5.0))\\nT.RandomHorizontalFlip(p=0.5)\\nT.RandomAdjustSharpness(sharpness_factor=1.5, p=0.5)\\nCT.RandomContrastByMultiply(p=0.5, multiplier=(0.01, 0.1))</th>\n      <td>0.368172</td>\n      <td>0.693069</td>\n      <td>0.256881</td>\n      <td>0.450327</td>\n      <td>1.000000</td>\n      <td>0.148148</td>\n      <td>0.602357</td>\n      <td>0.965517</td>\n      <td>0.185185</td>\n      <td>NaN</td>\n      <td>NaN</td>\n      <td>NaN</td>\n    </tr>\n    <tr>\n      <th>T.RandomApply([T.RandomAffine(degrees=0, translate=(0.3, 0.3))], p=0.5)\\nT.RandomApply([T.ColorJitter(brightness=0.4, contrast=0.4)], p=0.5)\\nT.RandomHorizontalFlip(p=0.5)\\nCT.RandomContrastByMultiply(p=0.5, multiplier=(0.01, 0.1))\\nCT.RandomBrightnessByAdd(p=0.5, delta=(-0.35, 0.35))</th>\n      <td>0.381532</td>\n      <td>0.857143</td>\n      <td>0.057554</td>\n      <td>0.331551</td>\n      <td>0.954545</td>\n      <td>0.035714</td>\n      <td>0.642693</td>\n      <td>1.000000</td>\n      <td>0.148148</td>\n      <td>NaN</td>\n      <td>NaN</td>\n      <td>NaN</td>\n    </tr>\n  </tbody>\n</table>\n</div>"
     },
     "execution_count": 5,
     "metadata": {},
     "output_type": "execute_result"
    }
   ],
   "source": [
    "df_edited"
   ],
   "metadata": {
    "collapsed": false,
    "ExecuteTime": {
     "end_time": "2024-05-05T20:02:54.413233Z",
     "start_time": "2024-05-05T20:02:54.406280Z"
    }
   },
   "id": "dd0fbcf8ccf7d2c6",
   "execution_count": 5
  },
  {
   "cell_type": "code",
   "outputs": [],
   "source": [],
   "metadata": {
    "collapsed": false
   },
   "id": "c274c0e995c7ee88"
  }
 ],
 "metadata": {
  "kernelspec": {
   "display_name": "Python 3",
   "language": "python",
   "name": "python3"
  },
  "language_info": {
   "codemirror_mode": {
    "name": "ipython",
    "version": 2
   },
   "file_extension": ".py",
   "mimetype": "text/x-python",
   "name": "python",
   "nbconvert_exporter": "python",
   "pygments_lexer": "ipython2",
   "version": "2.7.6"
  }
 },
 "nbformat": 4,
 "nbformat_minor": 5
}
