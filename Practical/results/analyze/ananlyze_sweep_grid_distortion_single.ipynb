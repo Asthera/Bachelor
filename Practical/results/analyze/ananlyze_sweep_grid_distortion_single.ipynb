{
 "cells": [
  {
   "cell_type": "code",
   "execution_count": 1,
   "id": "initial_id",
   "metadata": {
    "collapsed": true,
    "ExecuteTime": {
     "end_time": "2024-05-27T14:48:07.536691Z",
     "start_time": "2024-05-27T14:48:06.443010Z"
    }
   },
   "outputs": [],
   "source": [
    "from read_sweep import SweepReader\n",
    "from edit_sweep_df import SweepEditorDataFrame"
   ]
  },
  {
   "cell_type": "code",
   "outputs": [],
   "source": [
    "# affine_single name of the sweep\n",
    "sweep_id = \"yopel9on\"\n",
    "project_path = \"daswoldemar/bachelor\""
   ],
   "metadata": {
    "collapsed": false,
    "ExecuteTime": {
     "end_time": "2024-05-27T14:48:07.547949Z",
     "start_time": "2024-05-27T14:48:07.536907Z"
    }
   },
   "id": "5728c16677d35e7",
   "execution_count": 2
  },
  {
   "cell_type": "code",
   "outputs": [
    {
     "name": "stderr",
     "output_type": "stream",
     "text": [
      "\u001B[34m\u001B[1mwandb\u001B[0m:   1 of 1 files downloaded.  \n",
      "\u001B[34m\u001B[1mwandb\u001B[0m:   1 of 1 files downloaded.  \n",
      "\u001B[34m\u001B[1mwandb\u001B[0m:   1 of 1 files downloaded.  \n",
      "\u001B[34m\u001B[1mwandb\u001B[0m:   1 of 1 files downloaded.  \n",
      "\u001B[34m\u001B[1mwandb\u001B[0m:   1 of 1 files downloaded.  \n",
      "\u001B[34m\u001B[1mwandb\u001B[0m:   1 of 1 files downloaded.  \n",
      "\u001B[34m\u001B[1mwandb\u001B[0m:   1 of 1 files downloaded.  \n",
      "\u001B[34m\u001B[1mwandb\u001B[0m:   1 of 1 files downloaded.  \n",
      "\u001B[34m\u001B[1mwandb\u001B[0m:   1 of 1 files downloaded.  \n",
      "\u001B[34m\u001B[1mwandb\u001B[0m:   1 of 1 files downloaded.  \n",
      "\u001B[34m\u001B[1mwandb\u001B[0m:   1 of 1 files downloaded.  \n",
      "\u001B[34m\u001B[1mwandb\u001B[0m:   1 of 1 files downloaded.  \n",
      "\u001B[34m\u001B[1mwandb\u001B[0m:   1 of 1 files downloaded.  \n",
      "\u001B[34m\u001B[1mwandb\u001B[0m:   1 of 1 files downloaded.  \n",
      "\u001B[34m\u001B[1mwandb\u001B[0m:   1 of 1 files downloaded.  \n",
      "\u001B[34m\u001B[1mwandb\u001B[0m:   1 of 1 files downloaded.  \n",
      "\u001B[34m\u001B[1mwandb\u001B[0m:   1 of 1 files downloaded.  \n",
      "\u001B[34m\u001B[1mwandb\u001B[0m:   1 of 1 files downloaded.  \n",
      "\u001B[34m\u001B[1mwandb\u001B[0m:   1 of 1 files downloaded.  \n",
      "\u001B[34m\u001B[1mwandb\u001B[0m:   1 of 1 files downloaded.  \n",
      "\u001B[34m\u001B[1mwandb\u001B[0m:   1 of 1 files downloaded.  \n",
      "\u001B[34m\u001B[1mwandb\u001B[0m:   1 of 1 files downloaded.  \n",
      "\u001B[34m\u001B[1mwandb\u001B[0m:   1 of 1 files downloaded.  \n",
      "\u001B[34m\u001B[1mwandb\u001B[0m:   1 of 1 files downloaded.  \n",
      "\u001B[34m\u001B[1mwandb\u001B[0m:   1 of 1 files downloaded.  \n",
      "\u001B[34m\u001B[1mwandb\u001B[0m:   1 of 1 files downloaded.  \n",
      "\u001B[34m\u001B[1mwandb\u001B[0m:   1 of 1 files downloaded.  \n",
      "\u001B[34m\u001B[1mwandb\u001B[0m:   1 of 1 files downloaded.  \n",
      "\u001B[34m\u001B[1mwandb\u001B[0m:   1 of 1 files downloaded.  \n",
      "\u001B[34m\u001B[1mwandb\u001B[0m:   1 of 1 files downloaded.  \n",
      "\u001B[34m\u001B[1mwandb\u001B[0m:   1 of 1 files downloaded.  \n",
      "\u001B[34m\u001B[1mwandb\u001B[0m:   1 of 1 files downloaded.  \n",
      "\u001B[34m\u001B[1mwandb\u001B[0m:   1 of 1 files downloaded.  \n",
      "\u001B[34m\u001B[1mwandb\u001B[0m:   1 of 1 files downloaded.  \n",
      "\u001B[34m\u001B[1mwandb\u001B[0m:   1 of 1 files downloaded.  \n",
      "\u001B[34m\u001B[1mwandb\u001B[0m:   1 of 1 files downloaded.  \n",
      "\u001B[34m\u001B[1mwandb\u001B[0m:   1 of 1 files downloaded.  \n",
      "\u001B[34m\u001B[1mwandb\u001B[0m:   1 of 1 files downloaded.  \n",
      "\u001B[34m\u001B[1mwandb\u001B[0m:   1 of 1 files downloaded.  \n",
      "\u001B[34m\u001B[1mwandb\u001B[0m:   1 of 1 files downloaded.  \n",
      "\u001B[34m\u001B[1mwandb\u001B[0m:   1 of 1 files downloaded.  \n",
      "\u001B[34m\u001B[1mwandb\u001B[0m:   1 of 1 files downloaded.  \n",
      "\u001B[34m\u001B[1mwandb\u001B[0m:   1 of 1 files downloaded.  \n",
      "\u001B[34m\u001B[1mwandb\u001B[0m:   1 of 1 files downloaded.  \n",
      "\u001B[34m\u001B[1mwandb\u001B[0m:   1 of 1 files downloaded.  \n",
      "\u001B[34m\u001B[1mwandb\u001B[0m:   1 of 1 files downloaded.  \n",
      "\u001B[34m\u001B[1mwandb\u001B[0m:   1 of 1 files downloaded.  \n",
      "\u001B[34m\u001B[1mwandb\u001B[0m:   1 of 1 files downloaded.  \n",
      "\u001B[34m\u001B[1mwandb\u001B[0m:   1 of 1 files downloaded.  \n",
      "\u001B[34m\u001B[1mwandb\u001B[0m:   1 of 1 files downloaded.  \n",
      "\u001B[34m\u001B[1mwandb\u001B[0m:   1 of 1 files downloaded.  \n",
      "\u001B[34m\u001B[1mwandb\u001B[0m:   1 of 1 files downloaded.  \n",
      "\u001B[34m\u001B[1mwandb\u001B[0m:   1 of 1 files downloaded.  \n",
      "\u001B[34m\u001B[1mwandb\u001B[0m:   1 of 1 files downloaded.  \n",
      "\u001B[34m\u001B[1mwandb\u001B[0m:   1 of 1 files downloaded.  \n",
      "\u001B[34m\u001B[1mwandb\u001B[0m:   1 of 1 files downloaded.  \n",
      "\u001B[34m\u001B[1mwandb\u001B[0m:   1 of 1 files downloaded.  \n",
      "\u001B[34m\u001B[1mwandb\u001B[0m:   1 of 1 files downloaded.  \n",
      "\u001B[34m\u001B[1mwandb\u001B[0m:   1 of 1 files downloaded.  \n",
      "\u001B[34m\u001B[1mwandb\u001B[0m:   1 of 1 files downloaded.  \n",
      "\u001B[34m\u001B[1mwandb\u001B[0m:   1 of 1 files downloaded.  \n",
      "\u001B[34m\u001B[1mwandb\u001B[0m:   1 of 1 files downloaded.  \n",
      "\u001B[34m\u001B[1mwandb\u001B[0m:   1 of 1 files downloaded.  \n",
      "\u001B[34m\u001B[1mwandb\u001B[0m:   1 of 1 files downloaded.  \n",
      "\u001B[34m\u001B[1mwandb\u001B[0m:   1 of 1 files downloaded.  \n",
      "\u001B[34m\u001B[1mwandb\u001B[0m:   1 of 1 files downloaded.  \n",
      "\u001B[34m\u001B[1mwandb\u001B[0m:   1 of 1 files downloaded.  \n",
      "\u001B[34m\u001B[1mwandb\u001B[0m:   1 of 1 files downloaded.  \n",
      "\u001B[34m\u001B[1mwandb\u001B[0m:   1 of 1 files downloaded.  \n",
      "\u001B[34m\u001B[1mwandb\u001B[0m:   1 of 1 files downloaded.  \n",
      "\u001B[34m\u001B[1mwandb\u001B[0m:   1 of 1 files downloaded.  \n",
      "\u001B[34m\u001B[1mwandb\u001B[0m:   1 of 1 files downloaded.  \n",
      "\u001B[34m\u001B[1mwandb\u001B[0m:   1 of 1 files downloaded.  \n",
      "\u001B[34m\u001B[1mwandb\u001B[0m:   1 of 1 files downloaded.  \n",
      "\u001B[34m\u001B[1mwandb\u001B[0m:   1 of 1 files downloaded.  \n",
      "\u001B[34m\u001B[1mwandb\u001B[0m:   1 of 1 files downloaded.  \n",
      "\u001B[34m\u001B[1mwandb\u001B[0m:   1 of 1 files downloaded.  \n",
      "\u001B[34m\u001B[1mwandb\u001B[0m:   1 of 1 files downloaded.  \n",
      "\u001B[34m\u001B[1mwandb\u001B[0m:   1 of 1 files downloaded.  \n",
      "\u001B[34m\u001B[1mwandb\u001B[0m:   1 of 1 files downloaded.  \n",
      "\u001B[34m\u001B[1mwandb\u001B[0m:   1 of 1 files downloaded.  \n",
      "\u001B[34m\u001B[1mwandb\u001B[0m:   1 of 1 files downloaded.  \n",
      "\u001B[34m\u001B[1mwandb\u001B[0m:   1 of 1 files downloaded.  \n",
      "\u001B[34m\u001B[1mwandb\u001B[0m:   1 of 1 files downloaded.  \n",
      "\u001B[34m\u001B[1mwandb\u001B[0m:   1 of 1 files downloaded.  \n",
      "\u001B[34m\u001B[1mwandb\u001B[0m:   1 of 1 files downloaded.  \n",
      "\u001B[34m\u001B[1mwandb\u001B[0m:   1 of 1 files downloaded.  \n",
      "\u001B[34m\u001B[1mwandb\u001B[0m:   1 of 1 files downloaded.  \n",
      "\u001B[34m\u001B[1mwandb\u001B[0m:   1 of 1 files downloaded.  \n",
      "\u001B[34m\u001B[1mwandb\u001B[0m:   1 of 1 files downloaded.  \n",
      "\u001B[34m\u001B[1mwandb\u001B[0m:   1 of 1 files downloaded.  \n",
      "\u001B[34m\u001B[1mwandb\u001B[0m:   1 of 1 files downloaded.  \n",
      "\u001B[34m\u001B[1mwandb\u001B[0m:   1 of 1 files downloaded.  \n",
      "\u001B[34m\u001B[1mwandb\u001B[0m:   1 of 1 files downloaded.  \n",
      "\u001B[34m\u001B[1mwandb\u001B[0m:   1 of 1 files downloaded.  \n",
      "\u001B[34m\u001B[1mwandb\u001B[0m:   1 of 1 files downloaded.  \n",
      "\u001B[34m\u001B[1mwandb\u001B[0m:   1 of 1 files downloaded.  \n",
      "\u001B[34m\u001B[1mwandb\u001B[0m:   1 of 1 files downloaded.  \n",
      "\u001B[34m\u001B[1mwandb\u001B[0m:   1 of 1 files downloaded.  \n",
      "\u001B[34m\u001B[1mwandb\u001B[0m:   1 of 1 files downloaded.  \n",
      "\u001B[34m\u001B[1mwandb\u001B[0m:   1 of 1 files downloaded.  \n",
      "\u001B[34m\u001B[1mwandb\u001B[0m:   1 of 1 files downloaded.  \n",
      "\u001B[34m\u001B[1mwandb\u001B[0m:   1 of 1 files downloaded.  \n",
      "\u001B[34m\u001B[1mwandb\u001B[0m:   1 of 1 files downloaded.  \n",
      "\u001B[34m\u001B[1mwandb\u001B[0m:   1 of 1 files downloaded.  \n"
     ]
    },
    {
     "name": "stdout",
     "output_type": "stream",
     "text": [
      "Data saved to CSV file\n"
     ]
    }
   ],
   "source": [
    "# read sweep, save raw\n",
    "reader = SweepReader(sweep_id, project_path)\n",
    "df_raw = reader.fetch_sweep_runs()\n",
    "reader.save_to_csv(\"../sweeps_raw/\"+sweep_id+\".csv\")"
   ],
   "metadata": {
    "collapsed": false,
    "ExecuteTime": {
     "end_time": "2024-05-27T14:50:39.751343Z",
     "start_time": "2024-05-27T14:48:33.974165Z"
    }
   },
   "id": "8c6f181bff9b3677",
   "execution_count": 3
  },
  {
   "cell_type": "code",
   "outputs": [],
   "source": [
    "# edit sweep, save edited\n",
    "editor = SweepEditorDataFrame([df_raw,])\n",
    "df_edited = editor.init_edit()\n",
    "df_edited.to_csv(\"../sweeps_edited/\"+sweep_id+\".csv\")"
   ],
   "metadata": {
    "collapsed": false,
    "ExecuteTime": {
     "end_time": "2024-05-27T14:50:39.763529Z",
     "start_time": "2024-05-27T14:50:39.754703Z"
    }
   },
   "id": "a88de8e140c3ba2",
   "execution_count": 4
  },
  {
   "cell_type": "code",
   "outputs": [
    {
     "data": {
      "text/plain": "                                                    Test F1_mean  Test F1_max  \\\nTransforms                                                                      \nMT.RandGridDistortion(num_cells=3, prob=0.5, di...      0.202164     0.531250   \nMT.RandGridDistortion(num_cells=3, prob=0.5, di...      0.196506     0.486111   \nMT.RandGridDistortion(num_cells=3, prob=0.5, di...      0.223158     0.800000   \nMT.RandGridDistortion(num_cells=3, prob=0.5, di...      0.195095     0.578512   \nMT.RandGridDistortion(num_cells=3, prob=0.5, di...      0.147898     0.341463   \nMT.RandGridDistortion(num_cells=5, prob=0.5, di...      0.250713     0.654206   \nMT.RandGridDistortion(num_cells=5, prob=0.5, di...      0.273405     0.946237   \nMT.RandGridDistortion(num_cells=5, prob=0.5, di...      0.245896     0.614035   \nMT.RandGridDistortion(num_cells=5, prob=0.5, di...      0.243678     0.694444   \nMT.RandGridDistortion(num_cells=5, prob=0.5, di...      0.157795     0.418605   \nMT.RandGridDistortion(num_cells=7, prob=0.5, di...      0.239087     0.731183   \nMT.RandGridDistortion(num_cells=7, prob=0.5, di...      0.252017     0.839506   \nMT.RandGridDistortion(num_cells=7, prob=0.5, di...      0.142881     0.327273   \nMT.RandGridDistortion(num_cells=7, prob=0.5, di...      0.179134     0.660377   \nMT.RandGridDistortion(num_cells=7, prob=0.5, di...      0.147616     0.479452   \nMT.RandGridDistortion(num_cells=9, prob=0.5, di...      0.267004     0.825000   \nMT.RandGridDistortion(num_cells=9, prob=0.5, di...      0.274354     0.479452   \nMT.RandGridDistortion(num_cells=9, prob=0.5, di...      0.186892     0.615385   \nMT.RandGridDistortion(num_cells=9, prob=0.5, di...      0.268765     0.534351   \nMT.RandGridDistortion(num_cells=9, prob=0.5, di...      0.252564     0.853659   \nNone                                                    0.149733     0.355330   \n\n                                                    Test F1_min  Test F1_std  \\\nTransforms                                                                     \nMT.RandGridDistortion(num_cells=3, prob=0.5, di...     0.000000     0.221379   \nMT.RandGridDistortion(num_cells=3, prob=0.5, di...     0.000000     0.197688   \nMT.RandGridDistortion(num_cells=3, prob=0.5, di...     0.000000     0.350259   \nMT.RandGridDistortion(num_cells=3, prob=0.5, di...     0.000000     0.240267   \nMT.RandGridDistortion(num_cells=3, prob=0.5, di...     0.000000     0.167969   \nMT.RandGridDistortion(num_cells=5, prob=0.5, di...     0.000000     0.320325   \nMT.RandGridDistortion(num_cells=5, prob=0.5, di...     0.000000     0.406610   \nMT.RandGridDistortion(num_cells=5, prob=0.5, di...     0.011111     0.267905   \nMT.RandGridDistortion(num_cells=5, prob=0.5, di...     0.056075     0.260187   \nMT.RandGridDistortion(num_cells=5, prob=0.5, di...     0.000000     0.174688   \nMT.RandGridDistortion(num_cells=7, prob=0.5, di...     0.000000     0.297283   \nMT.RandGridDistortion(num_cells=7, prob=0.5, di...     0.000000     0.340888   \nMT.RandGridDistortion(num_cells=7, prob=0.5, di...     0.000000     0.129382   \nMT.RandGridDistortion(num_cells=7, prob=0.5, di...     0.000000     0.280244   \nMT.RandGridDistortion(num_cells=7, prob=0.5, di...     0.000000     0.202389   \nMT.RandGridDistortion(num_cells=9, prob=0.5, di...     0.000000     0.360931   \nMT.RandGridDistortion(num_cells=9, prob=0.5, di...     0.000000     0.232933   \nMT.RandGridDistortion(num_cells=9, prob=0.5, di...     0.000000     0.263995   \nMT.RandGridDistortion(num_cells=9, prob=0.5, di...     0.032787     0.222697   \nMT.RandGridDistortion(num_cells=9, prob=0.5, di...     0.000000     0.358673   \nNone                                                   0.000000     0.179493   \n\n                                                    Test Precision_mean  \\\nTransforms                                                                \nMT.RandGridDistortion(num_cells=3, prob=0.5, di...             0.328778   \nMT.RandGridDistortion(num_cells=3, prob=0.5, di...             0.144542   \nMT.RandGridDistortion(num_cells=3, prob=0.5, di...             0.237484   \nMT.RandGridDistortion(num_cells=3, prob=0.5, di...             0.158223   \nMT.RandGridDistortion(num_cells=3, prob=0.5, di...             0.111187   \nMT.RandGridDistortion(num_cells=5, prob=0.5, di...             0.324459   \nMT.RandGridDistortion(num_cells=5, prob=0.5, di...             0.263043   \nMT.RandGridDistortion(num_cells=5, prob=0.5, di...             0.282812   \nMT.RandGridDistortion(num_cells=5, prob=0.5, di...             0.351295   \nMT.RandGridDistortion(num_cells=5, prob=0.5, di...             0.161358   \nMT.RandGridDistortion(num_cells=7, prob=0.5, di...             0.409223   \nMT.RandGridDistortion(num_cells=7, prob=0.5, di...             0.419333   \nMT.RandGridDistortion(num_cells=7, prob=0.5, di...             0.370322   \nMT.RandGridDistortion(num_cells=7, prob=0.5, di...             0.149891   \nMT.RandGridDistortion(num_cells=7, prob=0.5, di...             0.105505   \nMT.RandGridDistortion(num_cells=9, prob=0.5, di...             0.316965   \nMT.RandGridDistortion(num_cells=9, prob=0.5, di...             0.477229   \nMT.RandGridDistortion(num_cells=9, prob=0.5, di...             0.145743   \nMT.RandGridDistortion(num_cells=9, prob=0.5, di...             0.327177   \nMT.RandGridDistortion(num_cells=9, prob=0.5, di...             0.259653   \nNone                                                           0.134886   \n\n                                                    Test Precision_max  \\\nTransforms                                                               \nMT.RandGridDistortion(num_cells=3, prob=0.5, di...            1.000000   \nMT.RandGridDistortion(num_cells=3, prob=0.5, di...            0.360825   \nMT.RandGridDistortion(num_cells=3, prob=0.5, di...            0.894737   \nMT.RandGridDistortion(num_cells=3, prob=0.5, di...            0.472973   \nMT.RandGridDistortion(num_cells=3, prob=0.5, di...            0.276596   \nMT.RandGridDistortion(num_cells=5, prob=0.5, di...            1.000000   \nMT.RandGridDistortion(num_cells=5, prob=0.5, di...            0.956522   \nMT.RandGridDistortion(num_cells=5, prob=0.5, di...            0.631579   \nMT.RandGridDistortion(num_cells=5, prob=0.5, di...            1.000000   \nMT.RandGridDistortion(num_cells=5, prob=0.5, di...            0.444444   \nMT.RandGridDistortion(num_cells=7, prob=0.5, di...            1.000000   \nMT.RandGridDistortion(num_cells=7, prob=0.5, di...            1.000000   \nMT.RandGridDistortion(num_cells=7, prob=0.5, di...            1.000000   \nMT.RandGridDistortion(num_cells=7, prob=0.5, di...            0.593220   \nMT.RandGridDistortion(num_cells=7, prob=0.5, di...            0.353535   \nMT.RandGridDistortion(num_cells=9, prob=0.5, di...            1.000000   \nMT.RandGridDistortion(num_cells=9, prob=0.5, di...            1.000000   \nMT.RandGridDistortion(num_cells=9, prob=0.5, di...            0.514286   \nMT.RandGridDistortion(num_cells=9, prob=0.5, di...            0.888889   \nMT.RandGridDistortion(num_cells=9, prob=0.5, di...            1.000000   \nNone                                                          0.400000   \n\n                                                    Test Precision_min  \\\nTransforms                                                               \nMT.RandGridDistortion(num_cells=3, prob=0.5, di...            0.000000   \nMT.RandGridDistortion(num_cells=3, prob=0.5, di...            0.000000   \nMT.RandGridDistortion(num_cells=3, prob=0.5, di...            0.000000   \nMT.RandGridDistortion(num_cells=3, prob=0.5, di...            0.000000   \nMT.RandGridDistortion(num_cells=3, prob=0.5, di...            0.000000   \nMT.RandGridDistortion(num_cells=5, prob=0.5, di...            0.000000   \nMT.RandGridDistortion(num_cells=5, prob=0.5, di...            0.000000   \nMT.RandGridDistortion(num_cells=5, prob=0.5, di...            0.006623   \nMT.RandGridDistortion(num_cells=5, prob=0.5, di...            0.037500   \nMT.RandGridDistortion(num_cells=5, prob=0.5, di...            0.000000   \nMT.RandGridDistortion(num_cells=7, prob=0.5, di...            0.000000   \nMT.RandGridDistortion(num_cells=7, prob=0.5, di...            0.000000   \nMT.RandGridDistortion(num_cells=7, prob=0.5, di...            0.000000   \nMT.RandGridDistortion(num_cells=7, prob=0.5, di...            0.000000   \nMT.RandGridDistortion(num_cells=7, prob=0.5, di...            0.000000   \nMT.RandGridDistortion(num_cells=9, prob=0.5, di...            0.000000   \nMT.RandGridDistortion(num_cells=9, prob=0.5, di...            0.000000   \nMT.RandGridDistortion(num_cells=9, prob=0.5, di...            0.000000   \nMT.RandGridDistortion(num_cells=9, prob=0.5, di...            0.021505   \nMT.RandGridDistortion(num_cells=9, prob=0.5, di...            0.000000   \nNone                                                          0.000000   \n\n                                                    Test Precision_std  \\\nTransforms                                                               \nMT.RandGridDistortion(num_cells=3, prob=0.5, di...            0.414112   \nMT.RandGridDistortion(num_cells=3, prob=0.5, di...            0.152707   \nMT.RandGridDistortion(num_cells=3, prob=0.5, di...            0.388659   \nMT.RandGridDistortion(num_cells=3, prob=0.5, di...            0.196839   \nMT.RandGridDistortion(num_cells=3, prob=0.5, di...            0.128914   \nMT.RandGridDistortion(num_cells=5, prob=0.5, di...            0.451505   \nMT.RandGridDistortion(num_cells=5, prob=0.5, di...            0.411209   \nMT.RandGridDistortion(num_cells=5, prob=0.5, di...            0.283844   \nMT.RandGridDistortion(num_cells=5, prob=0.5, di...            0.407072   \nMT.RandGridDistortion(num_cells=5, prob=0.5, di...            0.192370   \nMT.RandGridDistortion(num_cells=7, prob=0.5, di...            0.440648   \nMT.RandGridDistortion(num_cells=7, prob=0.5, di...            0.426070   \nMT.RandGridDistortion(num_cells=7, prob=0.5, di...            0.403262   \nMT.RandGridDistortion(num_cells=7, prob=0.5, di...            0.253426   \nMT.RandGridDistortion(num_cells=7, prob=0.5, di...            0.149479   \nMT.RandGridDistortion(num_cells=9, prob=0.5, di...            0.445012   \nMT.RandGridDistortion(num_cells=9, prob=0.5, di...            0.496818   \nMT.RandGridDistortion(num_cells=9, prob=0.5, di...            0.219321   \nMT.RandGridDistortion(num_cells=9, prob=0.5, di...            0.351758   \nMT.RandGridDistortion(num_cells=9, prob=0.5, di...            0.423583   \nNone                                                          0.176891   \n\n                                                    Test Recall_mean  \\\nTransforms                                                             \nMT.RandGridDistortion(num_cells=3, prob=0.5, di...          0.241189   \nMT.RandGridDistortion(num_cells=3, prob=0.5, di...          0.355789   \nMT.RandGridDistortion(num_cells=3, prob=0.5, di...          0.213252   \nMT.RandGridDistortion(num_cells=3, prob=0.5, di...          0.260259   \nMT.RandGridDistortion(num_cells=3, prob=0.5, di...          0.252341   \nMT.RandGridDistortion(num_cells=5, prob=0.5, di...          0.245444   \nMT.RandGridDistortion(num_cells=5, prob=0.5, di...          0.295171   \nMT.RandGridDistortion(num_cells=5, prob=0.5, di...          0.261441   \nMT.RandGridDistortion(num_cells=5, prob=0.5, di...          0.303814   \nMT.RandGridDistortion(num_cells=5, prob=0.5, di...          0.289690   \nMT.RandGridDistortion(num_cells=7, prob=0.5, di...          0.295339   \nMT.RandGridDistortion(num_cells=7, prob=0.5, di...          0.216004   \nMT.RandGridDistortion(num_cells=7, prob=0.5, di...          0.116046   \nMT.RandGridDistortion(num_cells=7, prob=0.5, di...          0.245444   \nMT.RandGridDistortion(num_cells=7, prob=0.5, di...          0.252341   \nMT.RandGridDistortion(num_cells=9, prob=0.5, di...          0.250727   \nMT.RandGridDistortion(num_cells=9, prob=0.5, di...          0.278460   \nMT.RandGridDistortion(num_cells=9, prob=0.5, di...          0.278271   \nMT.RandGridDistortion(num_cells=9, prob=0.5, di...          0.293946   \nMT.RandGridDistortion(num_cells=9, prob=0.5, di...          0.281423   \nNone                                                        0.228301   \n\n                                                    Test Recall_max  \\\nTransforms                                                            \nMT.RandGridDistortion(num_cells=3, prob=0.5, di...         0.723404   \nMT.RandGridDistortion(num_cells=3, prob=0.5, di...         0.744681   \nMT.RandGridDistortion(num_cells=3, prob=0.5, di...         0.723404   \nMT.RandGridDistortion(num_cells=3, prob=0.5, di...         0.744681   \nMT.RandGridDistortion(num_cells=3, prob=0.5, di...         0.744681   \nMT.RandGridDistortion(num_cells=5, prob=0.5, di...         0.744681   \nMT.RandGridDistortion(num_cells=5, prob=0.5, di...         0.936170   \nMT.RandGridDistortion(num_cells=5, prob=0.5, di...         0.744681   \nMT.RandGridDistortion(num_cells=5, prob=0.5, di...         0.531915   \nMT.RandGridDistortion(num_cells=5, prob=0.5, di...         0.957447   \nMT.RandGridDistortion(num_cells=7, prob=0.5, di...         0.723404   \nMT.RandGridDistortion(num_cells=7, prob=0.5, di...         0.723404   \nMT.RandGridDistortion(num_cells=7, prob=0.5, di...         0.257143   \nMT.RandGridDistortion(num_cells=7, prob=0.5, di...         0.744681   \nMT.RandGridDistortion(num_cells=7, prob=0.5, di...         0.744681   \nMT.RandGridDistortion(num_cells=9, prob=0.5, di...         0.702128   \nMT.RandGridDistortion(num_cells=9, prob=0.5, di...         0.744681   \nMT.RandGridDistortion(num_cells=9, prob=0.5, di...         0.765957   \nMT.RandGridDistortion(num_cells=9, prob=0.5, di...         0.744681   \nMT.RandGridDistortion(num_cells=9, prob=0.5, di...         0.744681   \nNone                                                       0.744681   \n\n                                                    Test Recall_min  \\\nTransforms                                                            \nMT.RandGridDistortion(num_cells=3, prob=0.5, di...         0.000000   \nMT.RandGridDistortion(num_cells=3, prob=0.5, di...         0.000000   \nMT.RandGridDistortion(num_cells=3, prob=0.5, di...         0.000000   \nMT.RandGridDistortion(num_cells=3, prob=0.5, di...         0.000000   \nMT.RandGridDistortion(num_cells=3, prob=0.5, di...         0.000000   \nMT.RandGridDistortion(num_cells=5, prob=0.5, di...         0.000000   \nMT.RandGridDistortion(num_cells=5, prob=0.5, di...         0.000000   \nMT.RandGridDistortion(num_cells=5, prob=0.5, di...         0.034483   \nMT.RandGridDistortion(num_cells=5, prob=0.5, di...         0.074074   \nMT.RandGridDistortion(num_cells=5, prob=0.5, di...         0.000000   \nMT.RandGridDistortion(num_cells=7, prob=0.5, di...         0.000000   \nMT.RandGridDistortion(num_cells=7, prob=0.5, di...         0.000000   \nMT.RandGridDistortion(num_cells=7, prob=0.5, di...         0.000000   \nMT.RandGridDistortion(num_cells=7, prob=0.5, di...         0.000000   \nMT.RandGridDistortion(num_cells=7, prob=0.5, di...         0.000000   \nMT.RandGridDistortion(num_cells=9, prob=0.5, di...         0.000000   \nMT.RandGridDistortion(num_cells=9, prob=0.5, di...         0.000000   \nMT.RandGridDistortion(num_cells=9, prob=0.5, di...         0.000000   \nMT.RandGridDistortion(num_cells=9, prob=0.5, di...         0.068966   \nMT.RandGridDistortion(num_cells=9, prob=0.5, di...         0.000000   \nNone                                                       0.000000   \n\n                                                    Test Recall_std  \\\nTransforms                                                            \nMT.RandGridDistortion(num_cells=3, prob=0.5, di...         0.309337   \nMT.RandGridDistortion(num_cells=3, prob=0.5, di...         0.306727   \nMT.RandGridDistortion(num_cells=3, prob=0.5, di...         0.321513   \nMT.RandGridDistortion(num_cells=3, prob=0.5, di...         0.304823   \nMT.RandGridDistortion(num_cells=3, prob=0.5, di...         0.311314   \nMT.RandGridDistortion(num_cells=5, prob=0.5, di...         0.317663   \nMT.RandGridDistortion(num_cells=5, prob=0.5, di...         0.399000   \nMT.RandGridDistortion(num_cells=5, prob=0.5, di...         0.295535   \nMT.RandGridDistortion(num_cells=5, prob=0.5, di...         0.204412   \nMT.RandGridDistortion(num_cells=5, prob=0.5, di...         0.398936   \nMT.RandGridDistortion(num_cells=7, prob=0.5, di...         0.293864   \nMT.RandGridDistortion(num_cells=7, prob=0.5, di...         0.290365   \nMT.RandGridDistortion(num_cells=7, prob=0.5, di...         0.096380   \nMT.RandGridDistortion(num_cells=7, prob=0.5, di...         0.317663   \nMT.RandGridDistortion(num_cells=7, prob=0.5, di...         0.311314   \nMT.RandGridDistortion(num_cells=9, prob=0.5, di...         0.288845   \nMT.RandGridDistortion(num_cells=9, prob=0.5, di...         0.286074   \nMT.RandGridDistortion(num_cells=9, prob=0.5, di...         0.345092   \nMT.RandGridDistortion(num_cells=9, prob=0.5, di...         0.274861   \nMT.RandGridDistortion(num_cells=9, prob=0.5, di...         0.330440   \nNone                                                       0.311416   \n\n                                                   Test Accuracy_mean  \\\nTransforms                                                              \nMT.RandGridDistortion(num_cells=3, prob=0.5, di...                NaN   \nMT.RandGridDistortion(num_cells=3, prob=0.5, di...                NaN   \nMT.RandGridDistortion(num_cells=3, prob=0.5, di...                NaN   \nMT.RandGridDistortion(num_cells=3, prob=0.5, di...                NaN   \nMT.RandGridDistortion(num_cells=3, prob=0.5, di...                NaN   \nMT.RandGridDistortion(num_cells=5, prob=0.5, di...                NaN   \nMT.RandGridDistortion(num_cells=5, prob=0.5, di...                NaN   \nMT.RandGridDistortion(num_cells=5, prob=0.5, di...                NaN   \nMT.RandGridDistortion(num_cells=5, prob=0.5, di...                NaN   \nMT.RandGridDistortion(num_cells=5, prob=0.5, di...                NaN   \nMT.RandGridDistortion(num_cells=7, prob=0.5, di...                NaN   \nMT.RandGridDistortion(num_cells=7, prob=0.5, di...                NaN   \nMT.RandGridDistortion(num_cells=7, prob=0.5, di...                NaN   \nMT.RandGridDistortion(num_cells=7, prob=0.5, di...                NaN   \nMT.RandGridDistortion(num_cells=7, prob=0.5, di...                NaN   \nMT.RandGridDistortion(num_cells=9, prob=0.5, di...                NaN   \nMT.RandGridDistortion(num_cells=9, prob=0.5, di...                NaN   \nMT.RandGridDistortion(num_cells=9, prob=0.5, di...                NaN   \nMT.RandGridDistortion(num_cells=9, prob=0.5, di...                NaN   \nMT.RandGridDistortion(num_cells=9, prob=0.5, di...                NaN   \nNone                                                              NaN   \n\n                                                   Test Accuracy_max  \\\nTransforms                                                             \nMT.RandGridDistortion(num_cells=3, prob=0.5, di...               NaN   \nMT.RandGridDistortion(num_cells=3, prob=0.5, di...               NaN   \nMT.RandGridDistortion(num_cells=3, prob=0.5, di...               NaN   \nMT.RandGridDistortion(num_cells=3, prob=0.5, di...               NaN   \nMT.RandGridDistortion(num_cells=3, prob=0.5, di...               NaN   \nMT.RandGridDistortion(num_cells=5, prob=0.5, di...               NaN   \nMT.RandGridDistortion(num_cells=5, prob=0.5, di...               NaN   \nMT.RandGridDistortion(num_cells=5, prob=0.5, di...               NaN   \nMT.RandGridDistortion(num_cells=5, prob=0.5, di...               NaN   \nMT.RandGridDistortion(num_cells=5, prob=0.5, di...               NaN   \nMT.RandGridDistortion(num_cells=7, prob=0.5, di...               NaN   \nMT.RandGridDistortion(num_cells=7, prob=0.5, di...               NaN   \nMT.RandGridDistortion(num_cells=7, prob=0.5, di...               NaN   \nMT.RandGridDistortion(num_cells=7, prob=0.5, di...               NaN   \nMT.RandGridDistortion(num_cells=7, prob=0.5, di...               NaN   \nMT.RandGridDistortion(num_cells=9, prob=0.5, di...               NaN   \nMT.RandGridDistortion(num_cells=9, prob=0.5, di...               NaN   \nMT.RandGridDistortion(num_cells=9, prob=0.5, di...               NaN   \nMT.RandGridDistortion(num_cells=9, prob=0.5, di...               NaN   \nMT.RandGridDistortion(num_cells=9, prob=0.5, di...               NaN   \nNone                                                             NaN   \n\n                                                   Test Accuracy_min  \\\nTransforms                                                             \nMT.RandGridDistortion(num_cells=3, prob=0.5, di...               NaN   \nMT.RandGridDistortion(num_cells=3, prob=0.5, di...               NaN   \nMT.RandGridDistortion(num_cells=3, prob=0.5, di...               NaN   \nMT.RandGridDistortion(num_cells=3, prob=0.5, di...               NaN   \nMT.RandGridDistortion(num_cells=3, prob=0.5, di...               NaN   \nMT.RandGridDistortion(num_cells=5, prob=0.5, di...               NaN   \nMT.RandGridDistortion(num_cells=5, prob=0.5, di...               NaN   \nMT.RandGridDistortion(num_cells=5, prob=0.5, di...               NaN   \nMT.RandGridDistortion(num_cells=5, prob=0.5, di...               NaN   \nMT.RandGridDistortion(num_cells=5, prob=0.5, di...               NaN   \nMT.RandGridDistortion(num_cells=7, prob=0.5, di...               NaN   \nMT.RandGridDistortion(num_cells=7, prob=0.5, di...               NaN   \nMT.RandGridDistortion(num_cells=7, prob=0.5, di...               NaN   \nMT.RandGridDistortion(num_cells=7, prob=0.5, di...               NaN   \nMT.RandGridDistortion(num_cells=7, prob=0.5, di...               NaN   \nMT.RandGridDistortion(num_cells=9, prob=0.5, di...               NaN   \nMT.RandGridDistortion(num_cells=9, prob=0.5, di...               NaN   \nMT.RandGridDistortion(num_cells=9, prob=0.5, di...               NaN   \nMT.RandGridDistortion(num_cells=9, prob=0.5, di...               NaN   \nMT.RandGridDistortion(num_cells=9, prob=0.5, di...               NaN   \nNone                                                             NaN   \n\n                                                    Test Accuracy_std  \nTransforms                                                             \nMT.RandGridDistortion(num_cells=3, prob=0.5, di...                NaN  \nMT.RandGridDistortion(num_cells=3, prob=0.5, di...                NaN  \nMT.RandGridDistortion(num_cells=3, prob=0.5, di...                NaN  \nMT.RandGridDistortion(num_cells=3, prob=0.5, di...                NaN  \nMT.RandGridDistortion(num_cells=3, prob=0.5, di...                NaN  \nMT.RandGridDistortion(num_cells=5, prob=0.5, di...                NaN  \nMT.RandGridDistortion(num_cells=5, prob=0.5, di...                NaN  \nMT.RandGridDistortion(num_cells=5, prob=0.5, di...                NaN  \nMT.RandGridDistortion(num_cells=5, prob=0.5, di...                NaN  \nMT.RandGridDistortion(num_cells=5, prob=0.5, di...                NaN  \nMT.RandGridDistortion(num_cells=7, prob=0.5, di...                NaN  \nMT.RandGridDistortion(num_cells=7, prob=0.5, di...                NaN  \nMT.RandGridDistortion(num_cells=7, prob=0.5, di...                NaN  \nMT.RandGridDistortion(num_cells=7, prob=0.5, di...                NaN  \nMT.RandGridDistortion(num_cells=7, prob=0.5, di...                NaN  \nMT.RandGridDistortion(num_cells=9, prob=0.5, di...                NaN  \nMT.RandGridDistortion(num_cells=9, prob=0.5, di...                NaN  \nMT.RandGridDistortion(num_cells=9, prob=0.5, di...                NaN  \nMT.RandGridDistortion(num_cells=9, prob=0.5, di...                NaN  \nMT.RandGridDistortion(num_cells=9, prob=0.5, di...                NaN  \nNone                                                              NaN  ",
      "text/html": "<div>\n<style scoped>\n    .dataframe tbody tr th:only-of-type {\n        vertical-align: middle;\n    }\n\n    .dataframe tbody tr th {\n        vertical-align: top;\n    }\n\n    .dataframe thead th {\n        text-align: right;\n    }\n</style>\n<table border=\"1\" class=\"dataframe\">\n  <thead>\n    <tr style=\"text-align: right;\">\n      <th></th>\n      <th>Test F1_mean</th>\n      <th>Test F1_max</th>\n      <th>Test F1_min</th>\n      <th>Test F1_std</th>\n      <th>Test Precision_mean</th>\n      <th>Test Precision_max</th>\n      <th>Test Precision_min</th>\n      <th>Test Precision_std</th>\n      <th>Test Recall_mean</th>\n      <th>Test Recall_max</th>\n      <th>Test Recall_min</th>\n      <th>Test Recall_std</th>\n      <th>Test Accuracy_mean</th>\n      <th>Test Accuracy_max</th>\n      <th>Test Accuracy_min</th>\n      <th>Test Accuracy_std</th>\n    </tr>\n    <tr>\n      <th>Transforms</th>\n      <th></th>\n      <th></th>\n      <th></th>\n      <th></th>\n      <th></th>\n      <th></th>\n      <th></th>\n      <th></th>\n      <th></th>\n      <th></th>\n      <th></th>\n      <th></th>\n      <th></th>\n      <th></th>\n      <th></th>\n      <th></th>\n    </tr>\n  </thead>\n  <tbody>\n    <tr>\n      <th>MT.RandGridDistortion(num_cells=3, prob=0.5, distort_limit=(-0.03, 0.03))</th>\n      <td>0.202164</td>\n      <td>0.531250</td>\n      <td>0.000000</td>\n      <td>0.221379</td>\n      <td>0.328778</td>\n      <td>1.000000</td>\n      <td>0.000000</td>\n      <td>0.414112</td>\n      <td>0.241189</td>\n      <td>0.723404</td>\n      <td>0.000000</td>\n      <td>0.309337</td>\n      <td>NaN</td>\n      <td>NaN</td>\n      <td>NaN</td>\n      <td>NaN</td>\n    </tr>\n    <tr>\n      <th>MT.RandGridDistortion(num_cells=3, prob=0.5, distort_limit=(-0.09, 0.09))</th>\n      <td>0.196506</td>\n      <td>0.486111</td>\n      <td>0.000000</td>\n      <td>0.197688</td>\n      <td>0.144542</td>\n      <td>0.360825</td>\n      <td>0.000000</td>\n      <td>0.152707</td>\n      <td>0.355789</td>\n      <td>0.744681</td>\n      <td>0.000000</td>\n      <td>0.306727</td>\n      <td>NaN</td>\n      <td>NaN</td>\n      <td>NaN</td>\n      <td>NaN</td>\n    </tr>\n    <tr>\n      <th>MT.RandGridDistortion(num_cells=3, prob=0.5, distort_limit=(-0.1, 0.1))</th>\n      <td>0.223158</td>\n      <td>0.800000</td>\n      <td>0.000000</td>\n      <td>0.350259</td>\n      <td>0.237484</td>\n      <td>0.894737</td>\n      <td>0.000000</td>\n      <td>0.388659</td>\n      <td>0.213252</td>\n      <td>0.723404</td>\n      <td>0.000000</td>\n      <td>0.321513</td>\n      <td>NaN</td>\n      <td>NaN</td>\n      <td>NaN</td>\n      <td>NaN</td>\n    </tr>\n    <tr>\n      <th>MT.RandGridDistortion(num_cells=3, prob=0.5, distort_limit=(-0.3, 0.3))</th>\n      <td>0.195095</td>\n      <td>0.578512</td>\n      <td>0.000000</td>\n      <td>0.240267</td>\n      <td>0.158223</td>\n      <td>0.472973</td>\n      <td>0.000000</td>\n      <td>0.196839</td>\n      <td>0.260259</td>\n      <td>0.744681</td>\n      <td>0.000000</td>\n      <td>0.304823</td>\n      <td>NaN</td>\n      <td>NaN</td>\n      <td>NaN</td>\n      <td>NaN</td>\n    </tr>\n    <tr>\n      <th>MT.RandGridDistortion(num_cells=3, prob=0.5, distort_limit=(-0.5, 0.5))</th>\n      <td>0.147898</td>\n      <td>0.341463</td>\n      <td>0.000000</td>\n      <td>0.167969</td>\n      <td>0.111187</td>\n      <td>0.276596</td>\n      <td>0.000000</td>\n      <td>0.128914</td>\n      <td>0.252341</td>\n      <td>0.744681</td>\n      <td>0.000000</td>\n      <td>0.311314</td>\n      <td>NaN</td>\n      <td>NaN</td>\n      <td>NaN</td>\n      <td>NaN</td>\n    </tr>\n    <tr>\n      <th>MT.RandGridDistortion(num_cells=5, prob=0.5, distort_limit=(-0.03, 0.03))</th>\n      <td>0.250713</td>\n      <td>0.654206</td>\n      <td>0.000000</td>\n      <td>0.320325</td>\n      <td>0.324459</td>\n      <td>1.000000</td>\n      <td>0.000000</td>\n      <td>0.451505</td>\n      <td>0.245444</td>\n      <td>0.744681</td>\n      <td>0.000000</td>\n      <td>0.317663</td>\n      <td>NaN</td>\n      <td>NaN</td>\n      <td>NaN</td>\n      <td>NaN</td>\n    </tr>\n    <tr>\n      <th>MT.RandGridDistortion(num_cells=5, prob=0.5, distort_limit=(-0.09, 0.09))</th>\n      <td>0.273405</td>\n      <td>0.946237</td>\n      <td>0.000000</td>\n      <td>0.406610</td>\n      <td>0.263043</td>\n      <td>0.956522</td>\n      <td>0.000000</td>\n      <td>0.411209</td>\n      <td>0.295171</td>\n      <td>0.936170</td>\n      <td>0.000000</td>\n      <td>0.399000</td>\n      <td>NaN</td>\n      <td>NaN</td>\n      <td>NaN</td>\n      <td>NaN</td>\n    </tr>\n    <tr>\n      <th>MT.RandGridDistortion(num_cells=5, prob=0.5, distort_limit=(-0.1, 0.1))</th>\n      <td>0.245896</td>\n      <td>0.614035</td>\n      <td>0.011111</td>\n      <td>0.267905</td>\n      <td>0.282812</td>\n      <td>0.631579</td>\n      <td>0.006623</td>\n      <td>0.283844</td>\n      <td>0.261441</td>\n      <td>0.744681</td>\n      <td>0.034483</td>\n      <td>0.295535</td>\n      <td>NaN</td>\n      <td>NaN</td>\n      <td>NaN</td>\n      <td>NaN</td>\n    </tr>\n    <tr>\n      <th>MT.RandGridDistortion(num_cells=5, prob=0.5, distort_limit=(-0.3, 0.3))</th>\n      <td>0.243678</td>\n      <td>0.694444</td>\n      <td>0.056075</td>\n      <td>0.260187</td>\n      <td>0.351295</td>\n      <td>1.000000</td>\n      <td>0.037500</td>\n      <td>0.407072</td>\n      <td>0.303814</td>\n      <td>0.531915</td>\n      <td>0.074074</td>\n      <td>0.204412</td>\n      <td>NaN</td>\n      <td>NaN</td>\n      <td>NaN</td>\n      <td>NaN</td>\n    </tr>\n    <tr>\n      <th>MT.RandGridDistortion(num_cells=5, prob=0.5, distort_limit=(-0.5, 0.5))</th>\n      <td>0.157795</td>\n      <td>0.418605</td>\n      <td>0.000000</td>\n      <td>0.174688</td>\n      <td>0.161358</td>\n      <td>0.444444</td>\n      <td>0.000000</td>\n      <td>0.192370</td>\n      <td>0.289690</td>\n      <td>0.957447</td>\n      <td>0.000000</td>\n      <td>0.398936</td>\n      <td>NaN</td>\n      <td>NaN</td>\n      <td>NaN</td>\n      <td>NaN</td>\n    </tr>\n    <tr>\n      <th>MT.RandGridDistortion(num_cells=7, prob=0.5, distort_limit=(-0.03, 0.03))</th>\n      <td>0.239087</td>\n      <td>0.731183</td>\n      <td>0.000000</td>\n      <td>0.297283</td>\n      <td>0.409223</td>\n      <td>1.000000</td>\n      <td>0.000000</td>\n      <td>0.440648</td>\n      <td>0.295339</td>\n      <td>0.723404</td>\n      <td>0.000000</td>\n      <td>0.293864</td>\n      <td>NaN</td>\n      <td>NaN</td>\n      <td>NaN</td>\n      <td>NaN</td>\n    </tr>\n    <tr>\n      <th>MT.RandGridDistortion(num_cells=7, prob=0.5, distort_limit=(-0.09, 0.09))</th>\n      <td>0.252017</td>\n      <td>0.839506</td>\n      <td>0.000000</td>\n      <td>0.340888</td>\n      <td>0.419333</td>\n      <td>1.000000</td>\n      <td>0.000000</td>\n      <td>0.426070</td>\n      <td>0.216004</td>\n      <td>0.723404</td>\n      <td>0.000000</td>\n      <td>0.290365</td>\n      <td>NaN</td>\n      <td>NaN</td>\n      <td>NaN</td>\n      <td>NaN</td>\n    </tr>\n    <tr>\n      <th>MT.RandGridDistortion(num_cells=7, prob=0.5, distort_limit=(-0.1, 0.1))</th>\n      <td>0.142881</td>\n      <td>0.327273</td>\n      <td>0.000000</td>\n      <td>0.129382</td>\n      <td>0.370322</td>\n      <td>1.000000</td>\n      <td>0.000000</td>\n      <td>0.403262</td>\n      <td>0.116046</td>\n      <td>0.257143</td>\n      <td>0.000000</td>\n      <td>0.096380</td>\n      <td>NaN</td>\n      <td>NaN</td>\n      <td>NaN</td>\n      <td>NaN</td>\n    </tr>\n    <tr>\n      <th>MT.RandGridDistortion(num_cells=7, prob=0.5, distort_limit=(-0.3, 0.3))</th>\n      <td>0.179134</td>\n      <td>0.660377</td>\n      <td>0.000000</td>\n      <td>0.280244</td>\n      <td>0.149891</td>\n      <td>0.593220</td>\n      <td>0.000000</td>\n      <td>0.253426</td>\n      <td>0.245444</td>\n      <td>0.744681</td>\n      <td>0.000000</td>\n      <td>0.317663</td>\n      <td>NaN</td>\n      <td>NaN</td>\n      <td>NaN</td>\n      <td>NaN</td>\n    </tr>\n    <tr>\n      <th>MT.RandGridDistortion(num_cells=7, prob=0.5, distort_limit=(-0.5, 0.5))</th>\n      <td>0.147616</td>\n      <td>0.479452</td>\n      <td>0.000000</td>\n      <td>0.202389</td>\n      <td>0.105505</td>\n      <td>0.353535</td>\n      <td>0.000000</td>\n      <td>0.149479</td>\n      <td>0.252341</td>\n      <td>0.744681</td>\n      <td>0.000000</td>\n      <td>0.311314</td>\n      <td>NaN</td>\n      <td>NaN</td>\n      <td>NaN</td>\n      <td>NaN</td>\n    </tr>\n    <tr>\n      <th>MT.RandGridDistortion(num_cells=9, prob=0.5, distort_limit=(-0.03, 0.03))</th>\n      <td>0.267004</td>\n      <td>0.825000</td>\n      <td>0.000000</td>\n      <td>0.360931</td>\n      <td>0.316965</td>\n      <td>1.000000</td>\n      <td>0.000000</td>\n      <td>0.445012</td>\n      <td>0.250727</td>\n      <td>0.702128</td>\n      <td>0.000000</td>\n      <td>0.288845</td>\n      <td>NaN</td>\n      <td>NaN</td>\n      <td>NaN</td>\n      <td>NaN</td>\n    </tr>\n    <tr>\n      <th>MT.RandGridDistortion(num_cells=9, prob=0.5, distort_limit=(-0.09, 0.09))</th>\n      <td>0.274354</td>\n      <td>0.479452</td>\n      <td>0.000000</td>\n      <td>0.232933</td>\n      <td>0.477229</td>\n      <td>1.000000</td>\n      <td>0.000000</td>\n      <td>0.496818</td>\n      <td>0.278460</td>\n      <td>0.744681</td>\n      <td>0.000000</td>\n      <td>0.286074</td>\n      <td>NaN</td>\n      <td>NaN</td>\n      <td>NaN</td>\n      <td>NaN</td>\n    </tr>\n    <tr>\n      <th>MT.RandGridDistortion(num_cells=9, prob=0.5, distort_limit=(-0.1, 0.1))</th>\n      <td>0.186892</td>\n      <td>0.615385</td>\n      <td>0.000000</td>\n      <td>0.263995</td>\n      <td>0.145743</td>\n      <td>0.514286</td>\n      <td>0.000000</td>\n      <td>0.219321</td>\n      <td>0.278271</td>\n      <td>0.765957</td>\n      <td>0.000000</td>\n      <td>0.345092</td>\n      <td>NaN</td>\n      <td>NaN</td>\n      <td>NaN</td>\n      <td>NaN</td>\n    </tr>\n    <tr>\n      <th>MT.RandGridDistortion(num_cells=9, prob=0.5, distort_limit=(-0.3, 0.3))</th>\n      <td>0.268765</td>\n      <td>0.534351</td>\n      <td>0.032787</td>\n      <td>0.222697</td>\n      <td>0.327177</td>\n      <td>0.888889</td>\n      <td>0.021505</td>\n      <td>0.351758</td>\n      <td>0.293946</td>\n      <td>0.744681</td>\n      <td>0.068966</td>\n      <td>0.274861</td>\n      <td>NaN</td>\n      <td>NaN</td>\n      <td>NaN</td>\n      <td>NaN</td>\n    </tr>\n    <tr>\n      <th>MT.RandGridDistortion(num_cells=9, prob=0.5, distort_limit=(-0.5, 0.5))</th>\n      <td>0.252564</td>\n      <td>0.853659</td>\n      <td>0.000000</td>\n      <td>0.358673</td>\n      <td>0.259653</td>\n      <td>1.000000</td>\n      <td>0.000000</td>\n      <td>0.423583</td>\n      <td>0.281423</td>\n      <td>0.744681</td>\n      <td>0.000000</td>\n      <td>0.330440</td>\n      <td>NaN</td>\n      <td>NaN</td>\n      <td>NaN</td>\n      <td>NaN</td>\n    </tr>\n    <tr>\n      <th>None</th>\n      <td>0.149733</td>\n      <td>0.355330</td>\n      <td>0.000000</td>\n      <td>0.179493</td>\n      <td>0.134886</td>\n      <td>0.400000</td>\n      <td>0.000000</td>\n      <td>0.176891</td>\n      <td>0.228301</td>\n      <td>0.744681</td>\n      <td>0.000000</td>\n      <td>0.311416</td>\n      <td>NaN</td>\n      <td>NaN</td>\n      <td>NaN</td>\n      <td>NaN</td>\n    </tr>\n  </tbody>\n</table>\n</div>"
     },
     "execution_count": 5,
     "metadata": {},
     "output_type": "execute_result"
    }
   ],
   "source": [
    "df_edited"
   ],
   "metadata": {
    "collapsed": false,
    "ExecuteTime": {
     "end_time": "2024-05-27T14:50:39.780588Z",
     "start_time": "2024-05-27T14:50:39.765164Z"
    }
   },
   "id": "c57958f75182f024",
   "execution_count": 5
  },
  {
   "cell_type": "code",
   "outputs": [],
   "source": [],
   "metadata": {
    "collapsed": false
   },
   "id": "4406d840d72c1920"
  }
 ],
 "metadata": {
  "kernelspec": {
   "display_name": "Python 3",
   "language": "python",
   "name": "python3"
  },
  "language_info": {
   "codemirror_mode": {
    "name": "ipython",
    "version": 2
   },
   "file_extension": ".py",
   "mimetype": "text/x-python",
   "name": "python",
   "nbconvert_exporter": "python",
   "pygments_lexer": "ipython2",
   "version": "2.7.6"
  }
 },
 "nbformat": 4,
 "nbformat_minor": 5
}
