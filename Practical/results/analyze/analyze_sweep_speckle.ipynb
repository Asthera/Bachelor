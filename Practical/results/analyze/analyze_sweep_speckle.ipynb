{
 "cells": [
  {
   "cell_type": "code",
   "execution_count": 1,
   "id": "initial_id",
   "metadata": {
    "collapsed": true,
    "ExecuteTime": {
     "end_time": "2024-05-27T15:29:38.540049Z",
     "start_time": "2024-05-27T15:29:37.619985Z"
    }
   },
   "outputs": [],
   "source": [
    "from read_sweep import SweepReader\n",
    "from edit_sweep_df import SweepEditorDataFrame"
   ]
  },
  {
   "cell_type": "code",
   "outputs": [],
   "source": [
    "# paper_11 - name of the sweep\n",
    "sweep_id = \"tqx61cub\"\n",
    "project_path = \"daswoldemar/bachelor\""
   ],
   "metadata": {
    "collapsed": false,
    "ExecuteTime": {
     "end_time": "2024-05-27T15:29:38.548876Z",
     "start_time": "2024-05-27T15:29:38.541019Z"
    }
   },
   "id": "97f656853cbf629b",
   "execution_count": 2
  },
  {
   "cell_type": "code",
   "outputs": [
    {
     "name": "stderr",
     "output_type": "stream",
     "text": [
      "\u001B[34m\u001B[1mwandb\u001B[0m:   1 of 1 files downloaded.  \n",
      "\u001B[34m\u001B[1mwandb\u001B[0m:   1 of 1 files downloaded.  \n",
      "\u001B[34m\u001B[1mwandb\u001B[0m:   1 of 1 files downloaded.  \n",
      "\u001B[34m\u001B[1mwandb\u001B[0m:   1 of 1 files downloaded.  \n",
      "\u001B[34m\u001B[1mwandb\u001B[0m:   1 of 1 files downloaded.  \n",
      "\u001B[34m\u001B[1mwandb\u001B[0m:   1 of 1 files downloaded.  \n",
      "\u001B[34m\u001B[1mwandb\u001B[0m:   1 of 1 files downloaded.  \n",
      "\u001B[34m\u001B[1mwandb\u001B[0m:   1 of 1 files downloaded.  \n",
      "\u001B[34m\u001B[1mwandb\u001B[0m:   1 of 1 files downloaded.  \n",
      "\u001B[34m\u001B[1mwandb\u001B[0m:   1 of 1 files downloaded.  \n",
      "\u001B[34m\u001B[1mwandb\u001B[0m:   1 of 1 files downloaded.  \n",
      "\u001B[34m\u001B[1mwandb\u001B[0m:   1 of 1 files downloaded.  \n",
      "\u001B[34m\u001B[1mwandb\u001B[0m:   1 of 1 files downloaded.  \n",
      "\u001B[34m\u001B[1mwandb\u001B[0m:   1 of 1 files downloaded.  \n",
      "\u001B[34m\u001B[1mwandb\u001B[0m:   1 of 1 files downloaded.  \n",
      "\u001B[34m\u001B[1mwandb\u001B[0m:   1 of 1 files downloaded.  \n",
      "\u001B[34m\u001B[1mwandb\u001B[0m:   1 of 1 files downloaded.  \n",
      "\u001B[34m\u001B[1mwandb\u001B[0m:   1 of 1 files downloaded.  \n",
      "\u001B[34m\u001B[1mwandb\u001B[0m:   1 of 1 files downloaded.  \n",
      "\u001B[34m\u001B[1mwandb\u001B[0m:   1 of 1 files downloaded.  \n",
      "\u001B[34m\u001B[1mwandb\u001B[0m:   1 of 1 files downloaded.  \n",
      "\u001B[34m\u001B[1mwandb\u001B[0m:   1 of 1 files downloaded.  \n",
      "\u001B[34m\u001B[1mwandb\u001B[0m:   1 of 1 files downloaded.  \n",
      "\u001B[34m\u001B[1mwandb\u001B[0m:   1 of 1 files downloaded.  \n",
      "\u001B[34m\u001B[1mwandb\u001B[0m:   1 of 1 files downloaded.  \n"
     ]
    },
    {
     "name": "stdout",
     "output_type": "stream",
     "text": [
      "Data saved to CSV file\n"
     ]
    }
   ],
   "source": [
    "# read sweep, save raw\n",
    "reader = SweepReader(sweep_id, project_path)\n",
    "df_raw = reader.fetch_sweep_runs()\n",
    "reader.save_to_csv(\"../sweeps_raw/\"+sweep_id+\".csv\")"
   ],
   "metadata": {
    "collapsed": false,
    "ExecuteTime": {
     "end_time": "2024-05-27T15:30:20.587365Z",
     "start_time": "2024-05-27T15:29:48.724517Z"
    }
   },
   "id": "1560027410bafdbc",
   "execution_count": 3
  },
  {
   "cell_type": "code",
   "outputs": [],
   "source": [
    "# edit sweep, save edited\n",
    "editor = SweepEditorDataFrame([df_raw,])\n",
    "df_edited = editor.init_edit()\n",
    "df_edited.to_csv(\"../sweeps_edited/\"+sweep_id+\".csv\")"
   ],
   "metadata": {
    "collapsed": false,
    "ExecuteTime": {
     "end_time": "2024-05-27T15:30:20.600590Z",
     "start_time": "2024-05-27T15:30:20.594992Z"
    }
   },
   "id": "66da1a4d2ff933a1",
   "execution_count": 4
  },
  {
   "cell_type": "code",
   "outputs": [
    {
     "data": {
      "text/plain": "                                                Test F1_mean  Test F1_max  \\\nTransforms                                                                  \nCT.RandomSpeckleNoise(p=0.5, mean=0, std=0.05)      0.215698     0.752688   \nCT.RandomSpeckleNoise(p=0.5, mean=0, std=0.1)       0.197811     0.518519   \nCT.RandomSpeckleNoise(p=0.5, mean=0, std=0.5)       0.225224     0.823529   \nCT.RandomSpeckleNoise(p=0.5, mean=0, std=0.8)       0.243307     0.853659   \nNone                                                0.153264     0.400000   \n\n                                                Test F1_min  Test F1_std  \\\nTransforms                                                                 \nCT.RandomSpeckleNoise(p=0.5, mean=0, std=0.05)     0.000000     0.321873   \nCT.RandomSpeckleNoise(p=0.5, mean=0, std=0.1)      0.021978     0.218992   \nCT.RandomSpeckleNoise(p=0.5, mean=0, std=0.5)      0.000000     0.341136   \nCT.RandomSpeckleNoise(p=0.5, mean=0, std=0.8)      0.000000     0.365847   \nNone                                               0.000000     0.169931   \n\n                                                Test Precision_mean  \\\nTransforms                                                            \nCT.RandomSpeckleNoise(p=0.5, mean=0, std=0.05)             0.251276   \nCT.RandomSpeckleNoise(p=0.5, mean=0, std=0.1)              0.410691   \nCT.RandomSpeckleNoise(p=0.5, mean=0, std=0.5)              0.237314   \nCT.RandomSpeckleNoise(p=0.5, mean=0, std=0.8)              0.261088   \nNone                                                       0.213021   \n\n                                                Test Precision_max  \\\nTransforms                                                           \nCT.RandomSpeckleNoise(p=0.5, mean=0, std=0.05)            0.760870   \nCT.RandomSpeckleNoise(p=0.5, mean=0, std=0.1)             1.000000   \nCT.RandomSpeckleNoise(p=0.5, mean=0, std=0.5)             0.921053   \nCT.RandomSpeckleNoise(p=0.5, mean=0, std=0.8)             1.000000   \nNone                                                      0.500000   \n\n                                                Test Precision_min  \\\nTransforms                                                           \nCT.RandomSpeckleNoise(p=0.5, mean=0, std=0.05)            0.000000   \nCT.RandomSpeckleNoise(p=0.5, mean=0, std=0.1)             0.013072   \nCT.RandomSpeckleNoise(p=0.5, mean=0, std=0.5)             0.000000   \nCT.RandomSpeckleNoise(p=0.5, mean=0, std=0.8)             0.000000   \nNone                                                      0.000000   \n\n                                                Test Precision_std  \\\nTransforms                                                           \nCT.RandomSpeckleNoise(p=0.5, mean=0, std=0.05)            0.347071   \nCT.RandomSpeckleNoise(p=0.5, mean=0, std=0.1)             0.416672   \nCT.RandomSpeckleNoise(p=0.5, mean=0, std=0.5)             0.389538   \nCT.RandomSpeckleNoise(p=0.5, mean=0, std=0.8)             0.429098   \nNone                                                      0.213862   \n\n                                                Test Recall_mean  \\\nTransforms                                                         \nCT.RandomSpeckleNoise(p=0.5, mean=0, std=0.05)          0.211158   \nCT.RandomSpeckleNoise(p=0.5, mean=0, std=0.1)           0.238073   \nCT.RandomSpeckleNoise(p=0.5, mean=0, std=0.5)           0.260617   \nCT.RandomSpeckleNoise(p=0.5, mean=0, std=0.8)           0.245444   \nNone                                                    0.203751   \n\n                                                Test Recall_max  \\\nTransforms                                                        \nCT.RandomSpeckleNoise(p=0.5, mean=0, std=0.05)         0.744681   \nCT.RandomSpeckleNoise(p=0.5, mean=0, std=0.1)          0.744681   \nCT.RandomSpeckleNoise(p=0.5, mean=0, std=0.5)          0.744681   \nCT.RandomSpeckleNoise(p=0.5, mean=0, std=0.8)          0.744681   \nNone                                                   0.744681   \n\n                                                Test Recall_min  \\\nTransforms                                                        \nCT.RandomSpeckleNoise(p=0.5, mean=0, std=0.05)         0.000000   \nCT.RandomSpeckleNoise(p=0.5, mean=0, std=0.1)          0.037037   \nCT.RandomSpeckleNoise(p=0.5, mean=0, std=0.5)          0.000000   \nCT.RandomSpeckleNoise(p=0.5, mean=0, std=0.8)          0.000000   \nNone                                                   0.000000   \n\n                                                Test Recall_std  \\\nTransforms                                                        \nCT.RandomSpeckleNoise(p=0.5, mean=0, std=0.05)         0.309821   \nCT.RandomSpeckleNoise(p=0.5, mean=0, std=0.1)          0.292350   \nCT.RandomSpeckleNoise(p=0.5, mean=0, std=0.5)          0.288435   \nCT.RandomSpeckleNoise(p=0.5, mean=0, std=0.8)          0.317663   \nNone                                                   0.313235   \n\n                                               Test Accuracy_mean  \\\nTransforms                                                          \nCT.RandomSpeckleNoise(p=0.5, mean=0, std=0.05)                NaN   \nCT.RandomSpeckleNoise(p=0.5, mean=0, std=0.1)                 NaN   \nCT.RandomSpeckleNoise(p=0.5, mean=0, std=0.5)                 NaN   \nCT.RandomSpeckleNoise(p=0.5, mean=0, std=0.8)                 NaN   \nNone                                                          NaN   \n\n                                               Test Accuracy_max  \\\nTransforms                                                         \nCT.RandomSpeckleNoise(p=0.5, mean=0, std=0.05)               NaN   \nCT.RandomSpeckleNoise(p=0.5, mean=0, std=0.1)                NaN   \nCT.RandomSpeckleNoise(p=0.5, mean=0, std=0.5)                NaN   \nCT.RandomSpeckleNoise(p=0.5, mean=0, std=0.8)                NaN   \nNone                                                         NaN   \n\n                                               Test Accuracy_min  \\\nTransforms                                                         \nCT.RandomSpeckleNoise(p=0.5, mean=0, std=0.05)               NaN   \nCT.RandomSpeckleNoise(p=0.5, mean=0, std=0.1)                NaN   \nCT.RandomSpeckleNoise(p=0.5, mean=0, std=0.5)                NaN   \nCT.RandomSpeckleNoise(p=0.5, mean=0, std=0.8)                NaN   \nNone                                                         NaN   \n\n                                                Test Accuracy_std  \nTransforms                                                         \nCT.RandomSpeckleNoise(p=0.5, mean=0, std=0.05)                NaN  \nCT.RandomSpeckleNoise(p=0.5, mean=0, std=0.1)                 NaN  \nCT.RandomSpeckleNoise(p=0.5, mean=0, std=0.5)                 NaN  \nCT.RandomSpeckleNoise(p=0.5, mean=0, std=0.8)                 NaN  \nNone                                                          NaN  ",
      "text/html": "<div>\n<style scoped>\n    .dataframe tbody tr th:only-of-type {\n        vertical-align: middle;\n    }\n\n    .dataframe tbody tr th {\n        vertical-align: top;\n    }\n\n    .dataframe thead th {\n        text-align: right;\n    }\n</style>\n<table border=\"1\" class=\"dataframe\">\n  <thead>\n    <tr style=\"text-align: right;\">\n      <th></th>\n      <th>Test F1_mean</th>\n      <th>Test F1_max</th>\n      <th>Test F1_min</th>\n      <th>Test F1_std</th>\n      <th>Test Precision_mean</th>\n      <th>Test Precision_max</th>\n      <th>Test Precision_min</th>\n      <th>Test Precision_std</th>\n      <th>Test Recall_mean</th>\n      <th>Test Recall_max</th>\n      <th>Test Recall_min</th>\n      <th>Test Recall_std</th>\n      <th>Test Accuracy_mean</th>\n      <th>Test Accuracy_max</th>\n      <th>Test Accuracy_min</th>\n      <th>Test Accuracy_std</th>\n    </tr>\n    <tr>\n      <th>Transforms</th>\n      <th></th>\n      <th></th>\n      <th></th>\n      <th></th>\n      <th></th>\n      <th></th>\n      <th></th>\n      <th></th>\n      <th></th>\n      <th></th>\n      <th></th>\n      <th></th>\n      <th></th>\n      <th></th>\n      <th></th>\n      <th></th>\n    </tr>\n  </thead>\n  <tbody>\n    <tr>\n      <th>CT.RandomSpeckleNoise(p=0.5, mean=0, std=0.05)</th>\n      <td>0.215698</td>\n      <td>0.752688</td>\n      <td>0.000000</td>\n      <td>0.321873</td>\n      <td>0.251276</td>\n      <td>0.760870</td>\n      <td>0.000000</td>\n      <td>0.347071</td>\n      <td>0.211158</td>\n      <td>0.744681</td>\n      <td>0.000000</td>\n      <td>0.309821</td>\n      <td>NaN</td>\n      <td>NaN</td>\n      <td>NaN</td>\n      <td>NaN</td>\n    </tr>\n    <tr>\n      <th>CT.RandomSpeckleNoise(p=0.5, mean=0, std=0.1)</th>\n      <td>0.197811</td>\n      <td>0.518519</td>\n      <td>0.021978</td>\n      <td>0.218992</td>\n      <td>0.410691</td>\n      <td>1.000000</td>\n      <td>0.013072</td>\n      <td>0.416672</td>\n      <td>0.238073</td>\n      <td>0.744681</td>\n      <td>0.037037</td>\n      <td>0.292350</td>\n      <td>NaN</td>\n      <td>NaN</td>\n      <td>NaN</td>\n      <td>NaN</td>\n    </tr>\n    <tr>\n      <th>CT.RandomSpeckleNoise(p=0.5, mean=0, std=0.5)</th>\n      <td>0.225224</td>\n      <td>0.823529</td>\n      <td>0.000000</td>\n      <td>0.341136</td>\n      <td>0.237314</td>\n      <td>0.921053</td>\n      <td>0.000000</td>\n      <td>0.389538</td>\n      <td>0.260617</td>\n      <td>0.744681</td>\n      <td>0.000000</td>\n      <td>0.288435</td>\n      <td>NaN</td>\n      <td>NaN</td>\n      <td>NaN</td>\n      <td>NaN</td>\n    </tr>\n    <tr>\n      <th>CT.RandomSpeckleNoise(p=0.5, mean=0, std=0.8)</th>\n      <td>0.243307</td>\n      <td>0.853659</td>\n      <td>0.000000</td>\n      <td>0.365847</td>\n      <td>0.261088</td>\n      <td>1.000000</td>\n      <td>0.000000</td>\n      <td>0.429098</td>\n      <td>0.245444</td>\n      <td>0.744681</td>\n      <td>0.000000</td>\n      <td>0.317663</td>\n      <td>NaN</td>\n      <td>NaN</td>\n      <td>NaN</td>\n      <td>NaN</td>\n    </tr>\n    <tr>\n      <th>None</th>\n      <td>0.153264</td>\n      <td>0.400000</td>\n      <td>0.000000</td>\n      <td>0.169931</td>\n      <td>0.213021</td>\n      <td>0.500000</td>\n      <td>0.000000</td>\n      <td>0.213862</td>\n      <td>0.203751</td>\n      <td>0.744681</td>\n      <td>0.000000</td>\n      <td>0.313235</td>\n      <td>NaN</td>\n      <td>NaN</td>\n      <td>NaN</td>\n      <td>NaN</td>\n    </tr>\n  </tbody>\n</table>\n</div>"
     },
     "execution_count": 5,
     "metadata": {},
     "output_type": "execute_result"
    }
   ],
   "source": [
    "df_edited"
   ],
   "metadata": {
    "collapsed": false,
    "ExecuteTime": {
     "end_time": "2024-05-27T15:30:20.621493Z",
     "start_time": "2024-05-27T15:30:20.600977Z"
    }
   },
   "id": "8429b47fe5a7b7f8",
   "execution_count": 5
  },
  {
   "cell_type": "code",
   "outputs": [],
   "source": [
    "2"
   ],
   "metadata": {
    "collapsed": false
   },
   "id": "59814f6d9f94aa7c"
  }
 ],
 "metadata": {
  "kernelspec": {
   "display_name": "Python 3",
   "language": "python",
   "name": "python3"
  },
  "language_info": {
   "codemirror_mode": {
    "name": "ipython",
    "version": 2
   },
   "file_extension": ".py",
   "mimetype": "text/x-python",
   "name": "python",
   "nbconvert_exporter": "python",
   "pygments_lexer": "ipython2",
   "version": "2.7.6"
  }
 },
 "nbformat": 4,
 "nbformat_minor": 5
}
