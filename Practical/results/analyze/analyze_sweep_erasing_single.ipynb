{
 "cells": [
  {
   "cell_type": "code",
   "execution_count": 1,
   "id": "initial_id",
   "metadata": {
    "collapsed": true,
    "ExecuteTime": {
     "end_time": "2024-05-08T10:19:08.819727Z",
     "start_time": "2024-05-08T10:19:05.563184Z"
    }
   },
   "outputs": [],
   "source": [
    "from read_sweep import SweepReader\n",
    "from edit_sweep_df import SweepEditorDataFrame"
   ]
  },
  {
   "cell_type": "code",
   "outputs": [],
   "source": [
    "# affine_single name of the sweep\n",
    "sweep_id = \"97eubagm\"\n",
    "project_path = \"daswoldemar/bachelor\""
   ],
   "metadata": {
    "collapsed": false,
    "ExecuteTime": {
     "end_time": "2024-05-08T10:19:08.830878Z",
     "start_time": "2024-05-08T10:19:08.820893Z"
    }
   },
   "id": "f0cc7a4866a390ca",
   "execution_count": 2
  },
  {
   "cell_type": "code",
   "outputs": [
    {
     "name": "stderr",
     "output_type": "stream",
     "text": [
      "\u001B[34m\u001B[1mwandb\u001B[0m:   1 of 1 files downloaded.  \n",
      "\u001B[34m\u001B[1mwandb\u001B[0m:   1 of 1 files downloaded.  \n",
      "\u001B[34m\u001B[1mwandb\u001B[0m:   1 of 1 files downloaded.  \n",
      "\u001B[34m\u001B[1mwandb\u001B[0m:   1 of 1 files downloaded.  \n",
      "\u001B[34m\u001B[1mwandb\u001B[0m:   1 of 1 files downloaded.  \n",
      "\u001B[34m\u001B[1mwandb\u001B[0m:   1 of 1 files downloaded.  \n",
      "\u001B[34m\u001B[1mwandb\u001B[0m:   1 of 1 files downloaded.  \n",
      "\u001B[34m\u001B[1mwandb\u001B[0m:   1 of 1 files downloaded.  \n",
      "\u001B[34m\u001B[1mwandb\u001B[0m:   1 of 1 files downloaded.  \n",
      "\u001B[34m\u001B[1mwandb\u001B[0m:   1 of 1 files downloaded.  \n",
      "\u001B[34m\u001B[1mwandb\u001B[0m:   1 of 1 files downloaded.  \n",
      "\u001B[34m\u001B[1mwandb\u001B[0m:   1 of 1 files downloaded.  \n",
      "\u001B[34m\u001B[1mwandb\u001B[0m:   1 of 1 files downloaded.  \n",
      "\u001B[34m\u001B[1mwandb\u001B[0m:   1 of 1 files downloaded.  \n",
      "\u001B[34m\u001B[1mwandb\u001B[0m:   1 of 1 files downloaded.  \n",
      "\u001B[34m\u001B[1mwandb\u001B[0m:   1 of 1 files downloaded.  \n",
      "\u001B[34m\u001B[1mwandb\u001B[0m:   1 of 1 files downloaded.  \n",
      "\u001B[34m\u001B[1mwandb\u001B[0m:   1 of 1 files downloaded.  \n",
      "\u001B[34m\u001B[1mwandb\u001B[0m:   1 of 1 files downloaded.  \n",
      "\u001B[34m\u001B[1mwandb\u001B[0m:   1 of 1 files downloaded.  \n",
      "\u001B[34m\u001B[1mwandb\u001B[0m:   1 of 1 files downloaded.  \n",
      "\u001B[34m\u001B[1mwandb\u001B[0m:   1 of 1 files downloaded.  \n",
      "\u001B[34m\u001B[1mwandb\u001B[0m:   1 of 1 files downloaded.  \n",
      "\u001B[34m\u001B[1mwandb\u001B[0m:   1 of 1 files downloaded.  \n",
      "\u001B[34m\u001B[1mwandb\u001B[0m:   1 of 1 files downloaded.  \n"
     ]
    },
    {
     "name": "stdout",
     "output_type": "stream",
     "text": [
      "Data saved to CSV file\n"
     ]
    }
   ],
   "source": [
    "# read sweep, save raw\n",
    "reader = SweepReader(sweep_id, project_path)\n",
    "df_raw = reader.fetch_sweep_runs()\n",
    "reader.save_to_csv(\"sweeps_raw/\"+sweep_id+\".csv\")"
   ],
   "metadata": {
    "collapsed": false,
    "ExecuteTime": {
     "end_time": "2024-05-08T10:19:47.159354Z",
     "start_time": "2024-05-08T10:19:08.831119Z"
    }
   },
   "id": "ab56c131acb990a2",
   "execution_count": 3
  },
  {
   "cell_type": "code",
   "outputs": [],
   "source": [
    "# edit sweep, save edited\n",
    "editor = SweepEditorDataFrame([df_raw,])\n",
    "df_edited = editor.init_edit()\n",
    "df_edited.to_csv(\"sweeps_edited/\"+sweep_id+\".csv\")"
   ],
   "metadata": {
    "collapsed": false,
    "ExecuteTime": {
     "end_time": "2024-05-08T10:51:54.206130Z",
     "start_time": "2024-05-08T10:51:54.186125Z"
    }
   },
   "id": "2b7b29799eb558e",
   "execution_count": 4
  },
  {
   "cell_type": "code",
   "outputs": [
    {
     "data": {
      "text/plain": "                                                    Test F1_mean  Test F1_max  \\\nTransforms                                                                      \n\"T.RandomErasing(p=0.5, scale=(0.001, 0.01), ra...      0.254103     0.829268   \n\"T.RandomErasing(p=0.7, scale=(0.001, 0.01), ra...      0.238687     0.588235   \nNone                                                    0.209870     0.510949   \nT.RandomErasing(p=0.5, scale=(0.001, 0.01), rat...      0.197842     0.510949   \nT.RandomErasing(p=0.7, scale=(0.001, 0.01), rat...      0.158196     0.448718   \n\n                                                    Test F1_min  \\\nTransforms                                                        \n\"T.RandomErasing(p=0.5, scale=(0.001, 0.01), ra...      0.00000   \n\"T.RandomErasing(p=0.7, scale=(0.001, 0.01), ra...      0.00000   \nNone                                                    0.01087   \nT.RandomErasing(p=0.5, scale=(0.001, 0.01), rat...      0.00000   \nT.RandomErasing(p=0.7, scale=(0.001, 0.01), rat...      0.00000   \n\n                                                    Test Precision_mean  \\\nTransforms                                                                \n\"T.RandomErasing(p=0.5, scale=(0.001, 0.01), ra...             0.486186   \n\"T.RandomErasing(p=0.7, scale=(0.001, 0.01), ra...             0.426263   \nNone                                                           0.187281   \nT.RandomErasing(p=0.5, scale=(0.001, 0.01), rat...             0.277778   \nT.RandomErasing(p=0.7, scale=(0.001, 0.01), rat...             0.248534   \n\n                                                    Test Precision_max  \\\nTransforms                                                               \n\"T.RandomErasing(p=0.5, scale=(0.001, 0.01), ra...            1.000000   \n\"T.RandomErasing(p=0.7, scale=(0.001, 0.01), ra...            1.000000   \nNone                                                          0.388889   \nT.RandomErasing(p=0.5, scale=(0.001, 0.01), rat...            1.000000   \nT.RandomErasing(p=0.7, scale=(0.001, 0.01), rat...            0.833333   \n\n                                                    Test Precision_min  \\\nTransforms                                                               \n\"T.RandomErasing(p=0.5, scale=(0.001, 0.01), ra...            0.000000   \n\"T.RandomErasing(p=0.7, scale=(0.001, 0.01), ra...            0.000000   \nNone                                                          0.006452   \nT.RandomErasing(p=0.5, scale=(0.001, 0.01), rat...            0.000000   \nT.RandomErasing(p=0.7, scale=(0.001, 0.01), rat...            0.000000   \n\n                                                    Test Recall_mean  \\\nTransforms                                                             \n\"T.RandomErasing(p=0.5, scale=(0.001, 0.01), ra...          0.225739   \n\"T.RandomErasing(p=0.7, scale=(0.001, 0.01), ra...          0.248830   \nNone                                                        0.268849   \nT.RandomErasing(p=0.5, scale=(0.001, 0.01), rat...          0.211793   \nT.RandomErasing(p=0.7, scale=(0.001, 0.01), rat...          0.199730   \n\n                                                    Test Recall_max  \\\nTransforms                                                            \n\"T.RandomErasing(p=0.5, scale=(0.001, 0.01), ra...         0.723404   \n\"T.RandomErasing(p=0.7, scale=(0.001, 0.01), ra...         0.744681   \nNone                                                       0.744681   \nT.RandomErasing(p=0.5, scale=(0.001, 0.01), rat...         0.744681   \nT.RandomErasing(p=0.7, scale=(0.001, 0.01), rat...         0.744681   \n\n                                                    Test Recall_min  \\\nTransforms                                                            \n\"T.RandomErasing(p=0.5, scale=(0.001, 0.01), ra...         0.000000   \n\"T.RandomErasing(p=0.7, scale=(0.001, 0.01), ra...         0.000000   \nNone                                                       0.034483   \nT.RandomErasing(p=0.5, scale=(0.001, 0.01), rat...         0.000000   \nT.RandomErasing(p=0.7, scale=(0.001, 0.01), rat...         0.000000   \n\n                                                   Test Accuracy_mean  \\\nTransforms                                                              \n\"T.RandomErasing(p=0.5, scale=(0.001, 0.01), ra...                NaN   \n\"T.RandomErasing(p=0.7, scale=(0.001, 0.01), ra...                NaN   \nNone                                                              NaN   \nT.RandomErasing(p=0.5, scale=(0.001, 0.01), rat...                NaN   \nT.RandomErasing(p=0.7, scale=(0.001, 0.01), rat...                NaN   \n\n                                                   Test Accuracy_max  \\\nTransforms                                                             \n\"T.RandomErasing(p=0.5, scale=(0.001, 0.01), ra...               NaN   \n\"T.RandomErasing(p=0.7, scale=(0.001, 0.01), ra...               NaN   \nNone                                                             NaN   \nT.RandomErasing(p=0.5, scale=(0.001, 0.01), rat...               NaN   \nT.RandomErasing(p=0.7, scale=(0.001, 0.01), rat...               NaN   \n\n                                                   Test Accuracy_min  \nTransforms                                                            \n\"T.RandomErasing(p=0.5, scale=(0.001, 0.01), ra...               NaN  \n\"T.RandomErasing(p=0.7, scale=(0.001, 0.01), ra...               NaN  \nNone                                                             NaN  \nT.RandomErasing(p=0.5, scale=(0.001, 0.01), rat...               NaN  \nT.RandomErasing(p=0.7, scale=(0.001, 0.01), rat...               NaN  ",
      "text/html": "<div>\n<style scoped>\n    .dataframe tbody tr th:only-of-type {\n        vertical-align: middle;\n    }\n\n    .dataframe tbody tr th {\n        vertical-align: top;\n    }\n\n    .dataframe thead th {\n        text-align: right;\n    }\n</style>\n<table border=\"1\" class=\"dataframe\">\n  <thead>\n    <tr style=\"text-align: right;\">\n      <th></th>\n      <th>Test F1_mean</th>\n      <th>Test F1_max</th>\n      <th>Test F1_min</th>\n      <th>Test Precision_mean</th>\n      <th>Test Precision_max</th>\n      <th>Test Precision_min</th>\n      <th>Test Recall_mean</th>\n      <th>Test Recall_max</th>\n      <th>Test Recall_min</th>\n      <th>Test Accuracy_mean</th>\n      <th>Test Accuracy_max</th>\n      <th>Test Accuracy_min</th>\n    </tr>\n    <tr>\n      <th>Transforms</th>\n      <th></th>\n      <th></th>\n      <th></th>\n      <th></th>\n      <th></th>\n      <th></th>\n      <th></th>\n      <th></th>\n      <th></th>\n      <th></th>\n      <th></th>\n      <th></th>\n    </tr>\n  </thead>\n  <tbody>\n    <tr>\n      <th>\"T.RandomErasing(p=0.5, scale=(0.001, 0.01), ratio=(0.3, 3.3), value=random, inplace=False)\"</th>\n      <td>0.254103</td>\n      <td>0.829268</td>\n      <td>0.00000</td>\n      <td>0.486186</td>\n      <td>1.000000</td>\n      <td>0.000000</td>\n      <td>0.225739</td>\n      <td>0.723404</td>\n      <td>0.000000</td>\n      <td>NaN</td>\n      <td>NaN</td>\n      <td>NaN</td>\n    </tr>\n    <tr>\n      <th>\"T.RandomErasing(p=0.7, scale=(0.001, 0.01), ratio=(0.3, 3.3), value=random, inplace=False)\"</th>\n      <td>0.238687</td>\n      <td>0.588235</td>\n      <td>0.00000</td>\n      <td>0.426263</td>\n      <td>1.000000</td>\n      <td>0.000000</td>\n      <td>0.248830</td>\n      <td>0.744681</td>\n      <td>0.000000</td>\n      <td>NaN</td>\n      <td>NaN</td>\n      <td>NaN</td>\n    </tr>\n    <tr>\n      <th>None</th>\n      <td>0.209870</td>\n      <td>0.510949</td>\n      <td>0.01087</td>\n      <td>0.187281</td>\n      <td>0.388889</td>\n      <td>0.006452</td>\n      <td>0.268849</td>\n      <td>0.744681</td>\n      <td>0.034483</td>\n      <td>NaN</td>\n      <td>NaN</td>\n      <td>NaN</td>\n    </tr>\n    <tr>\n      <th>T.RandomErasing(p=0.5, scale=(0.001, 0.01), ratio=(0.3, 3.3), value=0, inplace=False)</th>\n      <td>0.197842</td>\n      <td>0.510949</td>\n      <td>0.00000</td>\n      <td>0.277778</td>\n      <td>1.000000</td>\n      <td>0.000000</td>\n      <td>0.211793</td>\n      <td>0.744681</td>\n      <td>0.000000</td>\n      <td>NaN</td>\n      <td>NaN</td>\n      <td>NaN</td>\n    </tr>\n    <tr>\n      <th>T.RandomErasing(p=0.7, scale=(0.001, 0.01), ratio=(0.3, 3.3), value=0, inplace=False)</th>\n      <td>0.158196</td>\n      <td>0.448718</td>\n      <td>0.00000</td>\n      <td>0.248534</td>\n      <td>0.833333</td>\n      <td>0.000000</td>\n      <td>0.199730</td>\n      <td>0.744681</td>\n      <td>0.000000</td>\n      <td>NaN</td>\n      <td>NaN</td>\n      <td>NaN</td>\n    </tr>\n  </tbody>\n</table>\n</div>"
     },
     "execution_count": 5,
     "metadata": {},
     "output_type": "execute_result"
    }
   ],
   "source": [
    "df_edited"
   ],
   "metadata": {
    "collapsed": false,
    "ExecuteTime": {
     "end_time": "2024-05-08T10:51:55.198862Z",
     "start_time": "2024-05-08T10:51:55.182288Z"
    }
   },
   "id": "96f7223d234c1d75",
   "execution_count": 5
  },
  {
   "cell_type": "code",
   "outputs": [],
   "source": [
    "\\subsection{Pixel-level Transformation}\n",
    "\n",
    "Considering the results for Noise and Noise with Fixed Value (FV), all runs with these methods had an f1-mean lower than the best baseline. For salt and pepper noise, the results were not as clear-cut. Among the three closely valued parameters, one achieved an f1-mean of 0.303765 and an f1-max of 0.303765, while the other two had f1-means of approximately 0.15 and f1-max values around 0.50. This indicates a significant variation in performance depending on the specific noise parameter applied (see Table \\ref{tab:pixellevel}).\n",
    "\\\\\n",
    "\n",
    "\\noindent\n",
    "Speckle noise demonstrated more stable results across different parameters, with f1-means ranging from 0.19781 to 0.243307, which is better compared to all baseline runs and similar to the best baseline run. Gaussian noise showed results lower than the best baseline model, with f1-means ranging from 0.151506 to 0.246527. It is worth noting that at least one run for each noise type experienced very low f1-mean values (Noise with FV: 0.091463, Speckle noise: 0.064286, 0.010811). This is likely due to the use of excessively large parameters, making the noise too aggressive and potentially distorting or completely removing important classification information, such as artifact structures.\n",
    "\\\\\n",
    "\n",
    "\\noindent\n",
    "Next, we evaluated brightness, contrast, and sharpness adjustments. The brightness adjustment by addition method, even with non-optimally selected parameters, was relatively stable (compared to all baseline runs), with f1-means ranging from 0.215564 to 0.333553, and one run with 0.177327. Notably, when the parameter included negative values (e.g., (-0.15, 0.15)), the f1-means were 0.215564, 0.231989, and 0.333553.\n",
    "\\\\\n",
    "\n",
    "\\noindent\n",
    "Contrast by multiplication showed that only half of the experiments achieved an f1-mean close to the best baseline f1-mean, and two even slightly exceeded the best baseline f1-mean. This suggests that this method, with the best parameters, improved the f1-mean by only 0.047 compared to the best baseline f1-mean. For ColorJitter, the results indicate that with relatively small selected parameters (up to 0.3 for contrast or the combination of contrast and brightness), the f1-means ranged from 0.223082 to 0.282096, which is quite effective in increasing the minimum f1-mean.\n",
    "\\\\\n",
    "\n",
    "\\noindent\n",
    "RandSmoothFieldAdjustContrast demonstrated that only one of the first parameters produced good results, with f1-means ranging from 0.210342 to 0.315087. The other two methods yielded lower results, 0.149126 to 0.212566 respectively. This method should be explored further for the influence of the first parameter, as well-chosen values can improve stability (min f1) compared to baseline runs.\n",
    "\\\\\n",
    "\n",
    "\\noindent\n",
    "RandGaussianSharpen and RandomAdjustSharpness showed f1-means of 0.229106-0.254306 and 0.202591-0.269351 among all experimented parameters, respectively. These methods did not significantly increase the f1-mean compared to the best baseline model run but positively influenced the increase and stabilization of the minimum f1 value, maintaining at least the 0.20 mark.\n",
    "\\\\\n",
    "\n",
    "\\noindent\n",
    "The final two methods, RandShiftIntensity and GaussianBlur, both showed stable improvements in f1-means to about 0.20. In the first method, the best parameter achieved an f1-mean of 0.311274 and an f1-max of 0.839506. In the second method, the f1-mean was 0.259813, and the f1-max was 0.853659, indicating these methods enhance classification accuracy but not as significantly as some other top-performing methods (see Table \\ref{tab:pixellevel}).\n",
    "\\\\\n",
    "\n",
    "\\begin{table}[h!]\n",
    "    \\centering\n",
    "    \\begin{tabular}{|l|l|c|c|}\n",
    "        \\hline\n",
    "        \\textbf{Method} & \\textbf{Best Parameter} & \\textbf{Test-1 Mean} & \\textbf{Test-1 Max} \\\\\n",
    "        \\hline\n",
    "        BrightnessByAdd & (-0.35, 0.35) & 0.333553 & 0.777778 \\\\ \\hline\n",
    "        ContrastByMultiply & (0.01, 0.1) & 0.295984 & 0.853659 \\\\ \\hline\n",
    "        Noise & (0.05) & 0.215494 & 0.853659 \\\\ \\hline\n",
    "        NoiseWithFV & (0.5, 1.0) & 0.220813 & 0.839506 \\\\ \\hline\n",
    "        SaltAndPepperNoise & (0.005, 0.01) & 0.303765 & 0.843373 \\\\ \\hline\n",
    "        mSpeckleNoise & std (0.8) & 0.243307 & 0.853659 \\\\ \\hline\n",
    "        RandGaussianNoise & (0.1) & 0.245031 & 0.744681 \\\\ \\hline\n",
    "        RandGaussianSharpen & 2.0 & 0.254306 & 0.608696 \\\\ \\hline\n",
    "        RandShiftIntensity & (0.1, 0.4) & 0.311274 & 0.839506 \\\\ \\hline\n",
    "        RandSmoothFieldAdjustContrast & ((2, 2), gamma) & 0.315087 & 0.660377 \\\\ \\hline\n",
    "        RandomAdjustSharpness & (-0.35, 0.35) & 0.269351 & 0.853659 \\\\ \\hline\n",
    "        ColorJitter & (b0.1, c0.1) & 0.282096 & 0.853659 \\\\ \\hline\n",
    "        GaussianBlur & ker=5 (0.1, 0.5)  & 0.269272 & 0.853659 \\\\ \\hline\n",
    "    \\end{tabular}\n",
    "    \\caption{Results for pixel-level transforms}\n",
    "    \\label{tab:pixellevel}\n",
    "\\end{table}\n"
   ],
   "metadata": {
    "collapsed": false
   },
   "id": "551c0f53d28be2a0"
  }
 ],
 "metadata": {
  "kernelspec": {
   "display_name": "Python 3",
   "language": "python",
   "name": "python3"
  },
  "language_info": {
   "codemirror_mode": {
    "name": "ipython",
    "version": 2
   },
   "file_extension": ".py",
   "mimetype": "text/x-python",
   "name": "python",
   "nbconvert_exporter": "python",
   "pygments_lexer": "ipython2",
   "version": "2.7.6"
  }
 },
 "nbformat": 4,
 "nbformat_minor": 5
}
