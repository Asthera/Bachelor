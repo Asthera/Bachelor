{
 "cells": [
  {
   "cell_type": "code",
   "execution_count": 1,
   "id": "initial_id",
   "metadata": {
    "collapsed": true,
    "ExecuteTime": {
     "end_time": "2024-04-24T17:22:30.778414Z",
     "start_time": "2024-04-24T17:22:29.918870Z"
    }
   },
   "outputs": [],
   "source": [
    "from read_sweep import SweepReader\n",
    "from edit_sweep_df import SweepEditorDataFrame"
   ]
  },
  {
   "cell_type": "code",
   "outputs": [],
   "source": [
    "# paper_11 - name of the sweep\n",
    "sweep_id = \"db2snkal\"\n",
    "project_path = \"daswoldemar/bachelor\""
   ],
   "metadata": {
    "collapsed": false,
    "ExecuteTime": {
     "end_time": "2024-04-24T17:24:31.968763Z",
     "start_time": "2024-04-24T17:24:31.964366Z"
    }
   },
   "id": "56e26baca919871d",
   "execution_count": 3
  },
  {
   "cell_type": "code",
   "outputs": [
    {
     "name": "stderr",
     "output_type": "stream",
     "text": [
      "\u001B[34m\u001B[1mwandb\u001B[0m:   1 of 1 files downloaded.  \n",
      "\u001B[34m\u001B[1mwandb\u001B[0m:   1 of 1 files downloaded.  \n",
      "\u001B[34m\u001B[1mwandb\u001B[0m:   1 of 1 files downloaded.  \n",
      "\u001B[34m\u001B[1mwandb\u001B[0m:   1 of 1 files downloaded.  \n",
      "\u001B[34m\u001B[1mwandb\u001B[0m:   1 of 1 files downloaded.  \n",
      "\u001B[34m\u001B[1mwandb\u001B[0m:   1 of 1 files downloaded.  \n",
      "\u001B[34m\u001B[1mwandb\u001B[0m:   1 of 1 files downloaded.  \n",
      "\u001B[34m\u001B[1mwandb\u001B[0m:   1 of 1 files downloaded.  \n",
      "\u001B[34m\u001B[1mwandb\u001B[0m:   1 of 1 files downloaded.  \n",
      "\u001B[34m\u001B[1mwandb\u001B[0m:   1 of 1 files downloaded.  \n",
      "\u001B[34m\u001B[1mwandb\u001B[0m:   1 of 1 files downloaded.  \n",
      "\u001B[34m\u001B[1mwandb\u001B[0m:   1 of 1 files downloaded.  \n",
      "\u001B[34m\u001B[1mwandb\u001B[0m:   1 of 1 files downloaded.  \n",
      "\u001B[34m\u001B[1mwandb\u001B[0m:   1 of 1 files downloaded.  \n",
      "\u001B[34m\u001B[1mwandb\u001B[0m:   1 of 1 files downloaded.  \n",
      "\u001B[34m\u001B[1mwandb\u001B[0m:   1 of 1 files downloaded.  \n",
      "\u001B[34m\u001B[1mwandb\u001B[0m:   1 of 1 files downloaded.  \n",
      "\u001B[34m\u001B[1mwandb\u001B[0m:   1 of 1 files downloaded.  \n",
      "\u001B[34m\u001B[1mwandb\u001B[0m:   1 of 1 files downloaded.  \n",
      "\u001B[34m\u001B[1mwandb\u001B[0m:   1 of 1 files downloaded.  \n",
      "\u001B[34m\u001B[1mwandb\u001B[0m:   1 of 1 files downloaded.  \n",
      "\u001B[34m\u001B[1mwandb\u001B[0m:   1 of 1 files downloaded.  \n",
      "\u001B[34m\u001B[1mwandb\u001B[0m:   1 of 1 files downloaded.  \n",
      "\u001B[34m\u001B[1mwandb\u001B[0m:   1 of 1 files downloaded.  \n",
      "\u001B[34m\u001B[1mwandb\u001B[0m:   1 of 1 files downloaded.  \n",
      "\u001B[34m\u001B[1mwandb\u001B[0m:   1 of 1 files downloaded.  \n",
      "\u001B[34m\u001B[1mwandb\u001B[0m:   1 of 1 files downloaded.  \n",
      "\u001B[34m\u001B[1mwandb\u001B[0m:   1 of 1 files downloaded.  \n",
      "\u001B[34m\u001B[1mwandb\u001B[0m:   1 of 1 files downloaded.  \n",
      "\u001B[34m\u001B[1mwandb\u001B[0m:   1 of 1 files downloaded.  \n",
      "\u001B[34m\u001B[1mwandb\u001B[0m:   1 of 1 files downloaded.  \n",
      "\u001B[34m\u001B[1mwandb\u001B[0m:   1 of 1 files downloaded.  \n",
      "\u001B[34m\u001B[1mwandb\u001B[0m:   1 of 1 files downloaded.  \n",
      "\u001B[34m\u001B[1mwandb\u001B[0m:   1 of 1 files downloaded.  \n",
      "\u001B[34m\u001B[1mwandb\u001B[0m:   1 of 1 files downloaded.  \n",
      "\u001B[34m\u001B[1mwandb\u001B[0m:   1 of 1 files downloaded.  \n",
      "\u001B[34m\u001B[1mwandb\u001B[0m:   1 of 1 files downloaded.  \n",
      "\u001B[34m\u001B[1mwandb\u001B[0m:   1 of 1 files downloaded.  \n",
      "\u001B[34m\u001B[1mwandb\u001B[0m:   1 of 1 files downloaded.  \n",
      "\u001B[34m\u001B[1mwandb\u001B[0m:   1 of 1 files downloaded.  \n",
      "\u001B[34m\u001B[1mwandb\u001B[0m:   1 of 1 files downloaded.  \n",
      "\u001B[34m\u001B[1mwandb\u001B[0m:   1 of 1 files downloaded.  \n",
      "\u001B[34m\u001B[1mwandb\u001B[0m:   1 of 1 files downloaded.  \n",
      "\u001B[34m\u001B[1mwandb\u001B[0m:   1 of 1 files downloaded.  \n",
      "\u001B[34m\u001B[1mwandb\u001B[0m:   1 of 1 files downloaded.  \n",
      "\u001B[34m\u001B[1mwandb\u001B[0m:   1 of 1 files downloaded.  \n",
      "\u001B[34m\u001B[1mwandb\u001B[0m:   1 of 1 files downloaded.  \n",
      "\u001B[34m\u001B[1mwandb\u001B[0m:   1 of 1 files downloaded.  \n",
      "\u001B[34m\u001B[1mwandb\u001B[0m:   1 of 1 files downloaded.  \n",
      "\u001B[34m\u001B[1mwandb\u001B[0m:   1 of 1 files downloaded.  \n",
      "\u001B[34m\u001B[1mwandb\u001B[0m:   1 of 1 files downloaded.  \n",
      "\u001B[34m\u001B[1mwandb\u001B[0m:   1 of 1 files downloaded.  \n",
      "\u001B[34m\u001B[1mwandb\u001B[0m:   1 of 1 files downloaded.  \n",
      "\u001B[34m\u001B[1mwandb\u001B[0m:   1 of 1 files downloaded.  \n",
      "\u001B[34m\u001B[1mwandb\u001B[0m:   1 of 1 files downloaded.  \n",
      "\u001B[34m\u001B[1mwandb\u001B[0m:   1 of 1 files downloaded.  \n",
      "\u001B[34m\u001B[1mwandb\u001B[0m:   1 of 1 files downloaded.  \n",
      "\u001B[34m\u001B[1mwandb\u001B[0m:   1 of 1 files downloaded.  \n",
      "\u001B[34m\u001B[1mwandb\u001B[0m:   1 of 1 files downloaded.  \n",
      "\u001B[34m\u001B[1mwandb\u001B[0m:   1 of 1 files downloaded.  \n"
     ]
    },
    {
     "name": "stdout",
     "output_type": "stream",
     "text": [
      "Data saved to CSV file\n"
     ]
    }
   ],
   "source": [
    "# read sweep, save raw\n",
    "reader = SweepReader(sweep_id, project_path)\n",
    "df_raw = reader.fetch_sweep_runs()\n",
    "reader.save_to_csv(\"sweeps_raw/\"+sweep_id+\".csv\")"
   ],
   "metadata": {
    "collapsed": false,
    "ExecuteTime": {
     "end_time": "2024-04-24T17:27:18.581544Z",
     "start_time": "2024-04-24T17:25:45.988327Z"
    }
   },
   "id": "7be8499a3ba95e1f",
   "execution_count": 4
  },
  {
   "cell_type": "code",
   "outputs": [],
   "source": [
    "# edit sweep, save edited\n",
    "editor = SweepEditorDataFrame([df_raw,])\n",
    "df_edited = editor.init_edit()\n",
    "df_edited.to_csv(\"sweeps_edited/\"+sweep_id+\".csv\")"
   ],
   "metadata": {
    "collapsed": false,
    "ExecuteTime": {
     "end_time": "2024-04-24T17:29:37.650260Z",
     "start_time": "2024-04-24T17:29:37.643487Z"
    }
   },
   "id": "cbe38e91a7db06ed",
   "execution_count": 9
  },
  {
   "cell_type": "code",
   "outputs": [
    {
     "data": {
      "text/plain": "                                                    Test F1_mean  Test F1_max  \\\nTransforms                                                                      \nNone                                                    0.204330     0.608696   \nT.RandomApply([T.ColorJitter(brightness=(0.5, 1...      0.275445     0.870588   \nT.RandomApply([T.RandomAffine(degrees=(-25, 25)...      0.285827     0.409091   \nT.RandomApply([T.RandomAffine(degrees=(-25, 25)...      0.255848     0.757895   \nT.RandomApply([T.RandomAffine(degrees=0, shear=...      0.308161     0.833333   \nT.RandomApply([T.RandomAffine(degrees=0, transl...      0.357589     0.769231   \nT.RandomApply([T.RandomAffine(degrees=0, transl...      0.291074     0.853659   \nT.RandomApply([T.RandomAffine(degrees=0, transl...      0.196882     0.371134   \nT.RandomApply([T.RandomChoice([CT.RandomNoiseWi...      0.362304     0.901961   \nT.RandomApply([T.RandomChoice([CT.RandomNoiseWi...      0.154705     0.619469   \nT.RandomApply([T.RandomChoice([CT.RandomSaltAnd...      0.168140     0.614035   \nT.RandomApply([T.RandomChoice([CT.RandomSaltAnd...      0.159499     0.637681   \n\n                                                    Test F1_min  \\\nTransforms                                                        \nNone                                                   0.000000   \nT.RandomApply([T.ColorJitter(brightness=(0.5, 1...     0.000000   \nT.RandomApply([T.RandomAffine(degrees=(-25, 25)...     0.047244   \nT.RandomApply([T.RandomAffine(degrees=(-25, 25)...     0.019608   \nT.RandomApply([T.RandomAffine(degrees=0, shear=...     0.028846   \nT.RandomApply([T.RandomAffine(degrees=0, transl...     0.074074   \nT.RandomApply([T.RandomAffine(degrees=0, transl...     0.061224   \nT.RandomApply([T.RandomAffine(degrees=0, transl...     0.045802   \nT.RandomApply([T.RandomChoice([CT.RandomNoiseWi...     0.068966   \nT.RandomApply([T.RandomChoice([CT.RandomNoiseWi...     0.000000   \nT.RandomApply([T.RandomChoice([CT.RandomSaltAnd...     0.000000   \nT.RandomApply([T.RandomChoice([CT.RandomSaltAnd...     0.016260   \n\n                                                    Test Precision_mean  \\\nTransforms                                                                \nNone                                                           0.189608   \nT.RandomApply([T.ColorJitter(brightness=(0.5, 1...             0.308490   \nT.RandomApply([T.RandomAffine(degrees=(-25, 25)...             0.400719   \nT.RandomApply([T.RandomAffine(degrees=(-25, 25)...             0.400255   \nT.RandomApply([T.RandomAffine(degrees=0, shear=...             0.422319   \nT.RandomApply([T.RandomAffine(degrees=0, transl...             0.418091   \nT.RandomApply([T.RandomAffine(degrees=0, transl...             0.432609   \nT.RandomApply([T.RandomAffine(degrees=0, transl...             0.314140   \nT.RandomApply([T.RandomChoice([CT.RandomNoiseWi...             0.319905   \nT.RandomApply([T.RandomChoice([CT.RandomNoiseWi...             0.130981   \nT.RandomApply([T.RandomChoice([CT.RandomSaltAnd...             0.152697   \nT.RandomApply([T.RandomChoice([CT.RandomSaltAnd...             0.416157   \n\n                                                    Test Precision_max  \\\nTransforms                                                               \nNone                                                          0.514706   \nT.RandomApply([T.ColorJitter(brightness=(0.5, 1...            0.973684   \nT.RandomApply([T.RandomAffine(degrees=(-25, 25)...            1.000000   \nT.RandomApply([T.RandomAffine(degrees=(-25, 25)...            1.000000   \nT.RandomApply([T.RandomAffine(degrees=0, shear=...            1.000000   \nT.RandomApply([T.RandomAffine(degrees=0, transl...            1.000000   \nT.RandomApply([T.RandomAffine(degrees=0, transl...            1.000000   \nT.RandomApply([T.RandomAffine(degrees=0, transl...            1.000000   \nT.RandomApply([T.RandomChoice([CT.RandomNoiseWi...            0.958333   \nT.RandomApply([T.RandomChoice([CT.RandomNoiseWi...            0.530303   \nT.RandomApply([T.RandomChoice([CT.RandomSaltAnd...            0.522388   \nT.RandomApply([T.RandomChoice([CT.RandomSaltAnd...            1.000000   \n\n                                                    Test Precision_min  \\\nTransforms                                                               \nNone                                                          0.000000   \nT.RandomApply([T.ColorJitter(brightness=(0.5, 1...            0.000000   \nT.RandomApply([T.RandomAffine(degrees=(-25, 25)...            0.030000   \nT.RandomApply([T.RandomAffine(degrees=(-25, 25)...            0.011429   \nT.RandomApply([T.RandomAffine(degrees=0, shear=...            0.016760   \nT.RandomApply([T.RandomAffine(degrees=0, transl...            0.049383   \nT.RandomApply([T.RandomAffine(degrees=0, transl...            0.047619   \nT.RandomApply([T.RandomAffine(degrees=0, transl...            0.028846   \nT.RandomApply([T.RandomChoice([CT.RandomNoiseWi...            0.050000   \nT.RandomApply([T.RandomChoice([CT.RandomNoiseWi...            0.000000   \nT.RandomApply([T.RandomChoice([CT.RandomSaltAnd...            0.000000   \nT.RandomApply([T.RandomChoice([CT.RandomSaltAnd...            0.010638   \n\n                                                    Test Recall_mean  \\\nTransforms                                                             \nNone                                                        0.228301   \nT.RandomApply([T.ColorJitter(brightness=(0.5, 1...          0.259669   \nT.RandomApply([T.RandomAffine(degrees=(-25, 25)...          0.441336   \nT.RandomApply([T.RandomAffine(degrees=(-25, 25)...          0.274286   \nT.RandomApply([T.RandomAffine(degrees=0, shear=...          0.287086   \nT.RandomApply([T.RandomAffine(degrees=0, transl...          0.492246   \nT.RandomApply([T.RandomAffine(degrees=0, transl...          0.308608   \nT.RandomApply([T.RandomAffine(degrees=0, transl...          0.299033   \nT.RandomApply([T.RandomChoice([CT.RandomNoiseWi...          0.508576   \nT.RandomApply([T.RandomChoice([CT.RandomNoiseWi...          0.194016   \nT.RandomApply([T.RandomChoice([CT.RandomSaltAnd...          0.199730   \nT.RandomApply([T.RandomChoice([CT.RandomSaltAnd...          0.128450   \n\n                                                    Test Recall_max  \\\nTransforms                                                            \nNone                                                       0.744681   \nT.RandomApply([T.ColorJitter(brightness=(0.5, 1...         0.787234   \nT.RandomApply([T.RandomAffine(degrees=(-25, 25)...         0.793103   \nT.RandomApply([T.RandomAffine(degrees=(-25, 25)...         0.765957   \nT.RandomApply([T.RandomAffine(degrees=0, shear=...         0.744681   \nT.RandomApply([T.RandomAffine(degrees=0, transl...         0.744681   \nT.RandomApply([T.RandomAffine(degrees=0, transl...         0.744681   \nT.RandomApply([T.RandomAffine(degrees=0, transl...         0.765957   \nT.RandomApply([T.RandomChoice([CT.RandomNoiseWi...         0.914894   \nT.RandomApply([T.RandomChoice([CT.RandomNoiseWi...         0.744681   \nT.RandomApply([T.RandomChoice([CT.RandomSaltAnd...         0.744681   \nT.RandomApply([T.RandomChoice([CT.RandomSaltAnd...         0.468085   \n\n                                                    Test Recall_min  \\\nTransforms                                                            \nNone                                                       0.000000   \nT.RandomApply([T.ColorJitter(brightness=(0.5, 1...         0.000000   \nT.RandomApply([T.RandomAffine(degrees=(-25, 25)...         0.111111   \nT.RandomApply([T.RandomAffine(degrees=(-25, 25)...         0.068966   \nT.RandomApply([T.RandomAffine(degrees=0, shear=...         0.103448   \nT.RandomApply([T.RandomAffine(degrees=0, transl...         0.148148   \nT.RandomApply([T.RandomAffine(degrees=0, transl...         0.085714   \nT.RandomApply([T.RandomAffine(degrees=0, transl...         0.111111   \nT.RandomApply([T.RandomChoice([CT.RandomNoiseWi...         0.111111   \nT.RandomApply([T.RandomChoice([CT.RandomNoiseWi...         0.000000   \nT.RandomApply([T.RandomChoice([CT.RandomSaltAnd...         0.000000   \nT.RandomApply([T.RandomChoice([CT.RandomSaltAnd...         0.028571   \n\n                                                   Test Accuracy_mean  \\\nTransforms                                                              \nNone                                                              NaN   \nT.RandomApply([T.ColorJitter(brightness=(0.5, 1...                NaN   \nT.RandomApply([T.RandomAffine(degrees=(-25, 25)...                NaN   \nT.RandomApply([T.RandomAffine(degrees=(-25, 25)...                NaN   \nT.RandomApply([T.RandomAffine(degrees=0, shear=...                NaN   \nT.RandomApply([T.RandomAffine(degrees=0, transl...                NaN   \nT.RandomApply([T.RandomAffine(degrees=0, transl...                NaN   \nT.RandomApply([T.RandomAffine(degrees=0, transl...                NaN   \nT.RandomApply([T.RandomChoice([CT.RandomNoiseWi...                NaN   \nT.RandomApply([T.RandomChoice([CT.RandomNoiseWi...                NaN   \nT.RandomApply([T.RandomChoice([CT.RandomSaltAnd...                NaN   \nT.RandomApply([T.RandomChoice([CT.RandomSaltAnd...                NaN   \n\n                                                   Test Accuracy_max  \\\nTransforms                                                             \nNone                                                             NaN   \nT.RandomApply([T.ColorJitter(brightness=(0.5, 1...               NaN   \nT.RandomApply([T.RandomAffine(degrees=(-25, 25)...               NaN   \nT.RandomApply([T.RandomAffine(degrees=(-25, 25)...               NaN   \nT.RandomApply([T.RandomAffine(degrees=0, shear=...               NaN   \nT.RandomApply([T.RandomAffine(degrees=0, transl...               NaN   \nT.RandomApply([T.RandomAffine(degrees=0, transl...               NaN   \nT.RandomApply([T.RandomAffine(degrees=0, transl...               NaN   \nT.RandomApply([T.RandomChoice([CT.RandomNoiseWi...               NaN   \nT.RandomApply([T.RandomChoice([CT.RandomNoiseWi...               NaN   \nT.RandomApply([T.RandomChoice([CT.RandomSaltAnd...               NaN   \nT.RandomApply([T.RandomChoice([CT.RandomSaltAnd...               NaN   \n\n                                                   Test Accuracy_min  \nTransforms                                                            \nNone                                                             NaN  \nT.RandomApply([T.ColorJitter(brightness=(0.5, 1...               NaN  \nT.RandomApply([T.RandomAffine(degrees=(-25, 25)...               NaN  \nT.RandomApply([T.RandomAffine(degrees=(-25, 25)...               NaN  \nT.RandomApply([T.RandomAffine(degrees=0, shear=...               NaN  \nT.RandomApply([T.RandomAffine(degrees=0, transl...               NaN  \nT.RandomApply([T.RandomAffine(degrees=0, transl...               NaN  \nT.RandomApply([T.RandomAffine(degrees=0, transl...               NaN  \nT.RandomApply([T.RandomChoice([CT.RandomNoiseWi...               NaN  \nT.RandomApply([T.RandomChoice([CT.RandomNoiseWi...               NaN  \nT.RandomApply([T.RandomChoice([CT.RandomSaltAnd...               NaN  \nT.RandomApply([T.RandomChoice([CT.RandomSaltAnd...               NaN  ",
      "text/html": "<div>\n<style scoped>\n    .dataframe tbody tr th:only-of-type {\n        vertical-align: middle;\n    }\n\n    .dataframe tbody tr th {\n        vertical-align: top;\n    }\n\n    .dataframe thead th {\n        text-align: right;\n    }\n</style>\n<table border=\"1\" class=\"dataframe\">\n  <thead>\n    <tr style=\"text-align: right;\">\n      <th></th>\n      <th>Test F1_mean</th>\n      <th>Test F1_max</th>\n      <th>Test F1_min</th>\n      <th>Test Precision_mean</th>\n      <th>Test Precision_max</th>\n      <th>Test Precision_min</th>\n      <th>Test Recall_mean</th>\n      <th>Test Recall_max</th>\n      <th>Test Recall_min</th>\n      <th>Test Accuracy_mean</th>\n      <th>Test Accuracy_max</th>\n      <th>Test Accuracy_min</th>\n    </tr>\n    <tr>\n      <th>Transforms</th>\n      <th></th>\n      <th></th>\n      <th></th>\n      <th></th>\n      <th></th>\n      <th></th>\n      <th></th>\n      <th></th>\n      <th></th>\n      <th></th>\n      <th></th>\n      <th></th>\n    </tr>\n  </thead>\n  <tbody>\n    <tr>\n      <th>None</th>\n      <td>0.204330</td>\n      <td>0.608696</td>\n      <td>0.000000</td>\n      <td>0.189608</td>\n      <td>0.514706</td>\n      <td>0.000000</td>\n      <td>0.228301</td>\n      <td>0.744681</td>\n      <td>0.000000</td>\n      <td>NaN</td>\n      <td>NaN</td>\n      <td>NaN</td>\n    </tr>\n    <tr>\n      <th>T.RandomApply([T.ColorJitter(brightness=(0.5, 1.5), saturation=(0.5, 1.5)), T.RandomAdjustSharpness(sharpness_factor=2, p=0.5), T.ColorJitter(contrast=(0.5, 1.5))], p=0.5)</th>\n      <td>0.275445</td>\n      <td>0.870588</td>\n      <td>0.000000</td>\n      <td>0.308490</td>\n      <td>0.973684</td>\n      <td>0.000000</td>\n      <td>0.259669</td>\n      <td>0.787234</td>\n      <td>0.000000</td>\n      <td>NaN</td>\n      <td>NaN</td>\n      <td>NaN</td>\n    </tr>\n    <tr>\n      <th>T.RandomApply([T.RandomAffine(degrees=(-25, 25)), T.RandomAffine(degrees=0, translate=(0.15, 0.15))], p=0.5)</th>\n      <td>0.285827</td>\n      <td>0.409091</td>\n      <td>0.047244</td>\n      <td>0.400719</td>\n      <td>1.000000</td>\n      <td>0.030000</td>\n      <td>0.441336</td>\n      <td>0.793103</td>\n      <td>0.111111</td>\n      <td>NaN</td>\n      <td>NaN</td>\n      <td>NaN</td>\n    </tr>\n    <tr>\n      <th>T.RandomApply([T.RandomAffine(degrees=(-25, 25))], p=0.5)</th>\n      <td>0.255848</td>\n      <td>0.757895</td>\n      <td>0.019608</td>\n      <td>0.400255</td>\n      <td>1.000000</td>\n      <td>0.011429</td>\n      <td>0.274286</td>\n      <td>0.765957</td>\n      <td>0.068966</td>\n      <td>NaN</td>\n      <td>NaN</td>\n      <td>NaN</td>\n    </tr>\n    <tr>\n      <th>T.RandomApply([T.RandomAffine(degrees=0, shear=(-15, 15, -15, 15))], p=0.5)</th>\n      <td>0.308161</td>\n      <td>0.833333</td>\n      <td>0.028846</td>\n      <td>0.422319</td>\n      <td>1.000000</td>\n      <td>0.016760</td>\n      <td>0.287086</td>\n      <td>0.744681</td>\n      <td>0.103448</td>\n      <td>NaN</td>\n      <td>NaN</td>\n      <td>NaN</td>\n    </tr>\n    <tr>\n      <th>T.RandomApply([T.RandomAffine(degrees=0, translate=(0.15, 0.15)), T.RandomAffine(degrees=0, shear=(-15, 15, -15, 15)), T.RandomAffine(degrees=(-25, 25))], p=0.5)</th>\n      <td>0.357589</td>\n      <td>0.769231</td>\n      <td>0.074074</td>\n      <td>0.418091</td>\n      <td>1.000000</td>\n      <td>0.049383</td>\n      <td>0.492246</td>\n      <td>0.744681</td>\n      <td>0.148148</td>\n      <td>NaN</td>\n      <td>NaN</td>\n      <td>NaN</td>\n    </tr>\n    <tr>\n      <th>T.RandomApply([T.RandomAffine(degrees=0, translate=(0.15, 0.15)), T.RandomAffine(degrees=0, shear=(-15, 15, -15, 15))], p=0.5)</th>\n      <td>0.291074</td>\n      <td>0.853659</td>\n      <td>0.061224</td>\n      <td>0.432609</td>\n      <td>1.000000</td>\n      <td>0.047619</td>\n      <td>0.308608</td>\n      <td>0.744681</td>\n      <td>0.085714</td>\n      <td>NaN</td>\n      <td>NaN</td>\n      <td>NaN</td>\n    </tr>\n    <tr>\n      <th>T.RandomApply([T.RandomAffine(degrees=0, translate=(0.15, 0.15))], p=0.5)</th>\n      <td>0.196882</td>\n      <td>0.371134</td>\n      <td>0.045802</td>\n      <td>0.314140</td>\n      <td>1.000000</td>\n      <td>0.028846</td>\n      <td>0.299033</td>\n      <td>0.765957</td>\n      <td>0.111111</td>\n      <td>NaN</td>\n      <td>NaN</td>\n      <td>NaN</td>\n    </tr>\n    <tr>\n      <th>T.RandomApply([T.RandomChoice([CT.RandomNoiseWithFV(p=1.0, fv=(0.3, 0.3)), CT.RandomNoiseWithFV(p=1.0, fv=(0.4, 0.4)), CT.RandomNoiseWithFV(p=1.0, fv=(0.5, 0.5))]), T.RandomAffine(degrees=(-25, 25))], p=0.5)</th>\n      <td>0.362304</td>\n      <td>0.901961</td>\n      <td>0.068966</td>\n      <td>0.319905</td>\n      <td>0.958333</td>\n      <td>0.050000</td>\n      <td>0.508576</td>\n      <td>0.914894</td>\n      <td>0.111111</td>\n      <td>NaN</td>\n      <td>NaN</td>\n      <td>NaN</td>\n    </tr>\n    <tr>\n      <th>T.RandomApply([T.RandomChoice([CT.RandomNoiseWithFV(p=1.0, fv=(0.3, 0.3)), CT.RandomNoiseWithFV(p=1.0, fv=(0.4, 0.4)), CT.RandomNoiseWithFV(p=1.0, fv=(0.5, 0.5))])], p=0.5)</th>\n      <td>0.154705</td>\n      <td>0.619469</td>\n      <td>0.000000</td>\n      <td>0.130981</td>\n      <td>0.530303</td>\n      <td>0.000000</td>\n      <td>0.194016</td>\n      <td>0.744681</td>\n      <td>0.000000</td>\n      <td>NaN</td>\n      <td>NaN</td>\n      <td>NaN</td>\n    </tr>\n    <tr>\n      <th>T.RandomApply([T.RandomChoice([CT.RandomSaltAndPepperNoise(p=1.0, density=(0.01, 0.01)), CT.RandomSaltAndPepperNoise(p=1.0, density=(0.02, 0.02)), CT.RandomSaltAndPepperNoise(p=1.0, density=(0.03, 0.03))]), T.RandomAffine(degrees=0, shear=(-15, 15, -15, 15))], p=0.5)</th>\n      <td>0.168140</td>\n      <td>0.614035</td>\n      <td>0.000000</td>\n      <td>0.152697</td>\n      <td>0.522388</td>\n      <td>0.000000</td>\n      <td>0.199730</td>\n      <td>0.744681</td>\n      <td>0.000000</td>\n      <td>NaN</td>\n      <td>NaN</td>\n      <td>NaN</td>\n    </tr>\n    <tr>\n      <th>T.RandomApply([T.RandomChoice([CT.RandomSaltAndPepperNoise(p=1.0, density=(0.01, 0.01)), CT.RandomSaltAndPepperNoise(p=1.0, density=(0.02, 0.02)), CT.RandomSaltAndPepperNoise(p=1.0, density=(0.03, 0.03))])], p=0.5)</th>\n      <td>0.159499</td>\n      <td>0.637681</td>\n      <td>0.016260</td>\n      <td>0.416157</td>\n      <td>1.000000</td>\n      <td>0.010638</td>\n      <td>0.128450</td>\n      <td>0.468085</td>\n      <td>0.028571</td>\n      <td>NaN</td>\n      <td>NaN</td>\n      <td>NaN</td>\n    </tr>\n  </tbody>\n</table>\n</div>"
     },
     "execution_count": 11,
     "metadata": {},
     "output_type": "execute_result"
    }
   ],
   "source": [
    "df_edited"
   ],
   "metadata": {
    "collapsed": false,
    "ExecuteTime": {
     "end_time": "2024-04-24T17:29:51.702828Z",
     "start_time": "2024-04-24T17:29:51.684493Z"
    }
   },
   "id": "49edf9e30e1d1c20",
   "execution_count": 11
  },
  {
   "cell_type": "code",
   "outputs": [],
   "source": [],
   "metadata": {
    "collapsed": false
   },
   "id": "15f1f54561779d7d"
  }
 ],
 "metadata": {
  "kernelspec": {
   "display_name": "Python 3",
   "language": "python",
   "name": "python3"
  },
  "language_info": {
   "codemirror_mode": {
    "name": "ipython",
    "version": 2
   },
   "file_extension": ".py",
   "mimetype": "text/x-python",
   "name": "python",
   "nbconvert_exporter": "python",
   "pygments_lexer": "ipython2",
   "version": "2.7.6"
  }
 },
 "nbformat": 4,
 "nbformat_minor": 5
}
