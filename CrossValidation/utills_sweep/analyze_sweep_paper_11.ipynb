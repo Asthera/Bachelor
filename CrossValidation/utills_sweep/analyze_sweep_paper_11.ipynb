{
 "cells": [
  {
   "cell_type": "code",
   "execution_count": 1,
   "id": "initial_id",
   "metadata": {
    "collapsed": true,
    "ExecuteTime": {
     "end_time": "2024-04-24T07:44:52.132100Z",
     "start_time": "2024-04-24T07:44:51.322870Z"
    }
   },
   "outputs": [],
   "source": [
    "from read_sweep import SweepReader\n",
    "from edit_sweep_df import SweepEditorDataFrame"
   ]
  },
  {
   "cell_type": "code",
   "outputs": [],
   "source": [
    "# paper_11 - name of the sweep\n",
    "sweep_id_1 = \"nmr2duru\"\n",
    "project_path = \"daswoldemar/bachelor\"\n",
    "\n",
    "# paper_11_600x400 - name of the sweep\n",
    "sweep_id_2 = \"25oanqcs\"\n",
    "\n",
    "path_raw = \"sweeps_raw/\"\n",
    "path_edited = \"sweeps_edited/\""
   ],
   "metadata": {
    "collapsed": false,
    "ExecuteTime": {
     "end_time": "2024-04-24T07:44:52.141084Z",
     "start_time": "2024-04-24T07:44:52.131079Z"
    }
   },
   "id": "56e26baca919871d",
   "execution_count": 2
  },
  {
   "cell_type": "code",
   "outputs": [
    {
     "data": {
      "text/plain": "                                           Transforms  Test F1_mean  \\\n0                                       No Transforms      0.239515   \n1   T.RandomApply([T.ColorJitter(brightness=(0.5, ...      0.258648   \n2   T.RandomApply([T.RandomAffine(degrees=(-25, 25...      0.161190   \n3   T.RandomApply([T.RandomAffine(degrees=(-25, 25...      0.224874   \n4   T.RandomApply([T.RandomAffine(degrees=0, shear...      0.219674   \n5   T.RandomApply([T.RandomAffine(degrees=0, trans...      0.250967   \n6   T.RandomApply([T.RandomAffine(degrees=0, trans...      0.287460   \n7   T.RandomApply([T.RandomAffine(degrees=0, trans...      0.133188   \n8   T.RandomApply([T.RandomChoice([CT.RandomNoiseW...      0.264628   \n9   T.RandomApply([T.RandomChoice([CT.RandomNoiseW...      0.123921   \n10  T.RandomApply([T.RandomChoice([CT.RandomSaltAn...      0.234706   \n11  T.RandomApply([T.RandomChoice([CT.RandomSaltAn...      0.186812   \n\n    Test F1_max  Test F1_min  Test Precision_mean  Test Precision_max  \\\n0      0.843373     0.000000             0.256141            0.972222   \n1      0.767442     0.000000             0.322702            0.846154   \n2      0.315789     0.057143             0.180052            0.555556   \n3      0.588235     0.046512             0.338679            1.000000   \n4      0.839506     0.010929             0.427273            1.000000   \n5      0.693069     0.029412             0.377280            1.000000   \n6      0.565217     0.041237             0.267321            0.684211   \n7      0.355212     0.000000             0.098245            0.216981   \n8      0.822222     0.000000             0.271468            0.860465   \n9      0.361538     0.000000             0.079531            0.220657   \n10     0.440252     0.055046             0.317436            1.000000   \n11     0.810127     0.000000             0.216786            1.000000   \n\n    Test Precision_min  Test Recall_mean  Test Recall_max  Test Recall_min  \\\n0             0.000000          0.239730         0.744681         0.000000   \n1             0.000000          0.259156         0.702128         0.000000   \n2             0.041096          0.270973         0.765957         0.085714   \n3             0.029412          0.271724         0.744681         0.068966   \n4             0.006494          0.215493         0.723404         0.034483   \n5             0.030303          0.357205         0.827586         0.028571   \n6             0.028571          0.397576         0.957447         0.074074   \n7             0.000000          0.276168         0.978723         0.000000   \n8             0.000000          0.277206         0.787234         0.000000   \n9             0.000000          0.296508         1.000000         0.000000   \n10            0.036585          0.368984         0.744681         0.111111   \n11            0.000000          0.198589         0.680851         0.000000   \n\n    Test Accuracy_mean  Test Accuracy_max  Test Accuracy_min  \n0                  NaN                NaN                NaN  \n1                  NaN                NaN                NaN  \n2                  NaN                NaN                NaN  \n3                  NaN                NaN                NaN  \n4                  NaN                NaN                NaN  \n5                  NaN                NaN                NaN  \n6                  NaN                NaN                NaN  \n7                  NaN                NaN                NaN  \n8                  NaN                NaN                NaN  \n9                  NaN                NaN                NaN  \n10                 NaN                NaN                NaN  \n11                 NaN                NaN                NaN  ",
      "text/html": "<div>\n<style scoped>\n    .dataframe tbody tr th:only-of-type {\n        vertical-align: middle;\n    }\n\n    .dataframe tbody tr th {\n        vertical-align: top;\n    }\n\n    .dataframe thead th {\n        text-align: right;\n    }\n</style>\n<table border=\"1\" class=\"dataframe\">\n  <thead>\n    <tr style=\"text-align: right;\">\n      <th></th>\n      <th>Transforms</th>\n      <th>Test F1_mean</th>\n      <th>Test F1_max</th>\n      <th>Test F1_min</th>\n      <th>Test Precision_mean</th>\n      <th>Test Precision_max</th>\n      <th>Test Precision_min</th>\n      <th>Test Recall_mean</th>\n      <th>Test Recall_max</th>\n      <th>Test Recall_min</th>\n      <th>Test Accuracy_mean</th>\n      <th>Test Accuracy_max</th>\n      <th>Test Accuracy_min</th>\n    </tr>\n  </thead>\n  <tbody>\n    <tr>\n      <th>0</th>\n      <td>No Transforms</td>\n      <td>0.239515</td>\n      <td>0.843373</td>\n      <td>0.000000</td>\n      <td>0.256141</td>\n      <td>0.972222</td>\n      <td>0.000000</td>\n      <td>0.239730</td>\n      <td>0.744681</td>\n      <td>0.000000</td>\n      <td>NaN</td>\n      <td>NaN</td>\n      <td>NaN</td>\n    </tr>\n    <tr>\n      <th>1</th>\n      <td>T.RandomApply([T.ColorJitter(brightness=(0.5, ...</td>\n      <td>0.258648</td>\n      <td>0.767442</td>\n      <td>0.000000</td>\n      <td>0.322702</td>\n      <td>0.846154</td>\n      <td>0.000000</td>\n      <td>0.259156</td>\n      <td>0.702128</td>\n      <td>0.000000</td>\n      <td>NaN</td>\n      <td>NaN</td>\n      <td>NaN</td>\n    </tr>\n    <tr>\n      <th>2</th>\n      <td>T.RandomApply([T.RandomAffine(degrees=(-25, 25...</td>\n      <td>0.161190</td>\n      <td>0.315789</td>\n      <td>0.057143</td>\n      <td>0.180052</td>\n      <td>0.555556</td>\n      <td>0.041096</td>\n      <td>0.270973</td>\n      <td>0.765957</td>\n      <td>0.085714</td>\n      <td>NaN</td>\n      <td>NaN</td>\n      <td>NaN</td>\n    </tr>\n    <tr>\n      <th>3</th>\n      <td>T.RandomApply([T.RandomAffine(degrees=(-25, 25...</td>\n      <td>0.224874</td>\n      <td>0.588235</td>\n      <td>0.046512</td>\n      <td>0.338679</td>\n      <td>1.000000</td>\n      <td>0.029412</td>\n      <td>0.271724</td>\n      <td>0.744681</td>\n      <td>0.068966</td>\n      <td>NaN</td>\n      <td>NaN</td>\n      <td>NaN</td>\n    </tr>\n    <tr>\n      <th>4</th>\n      <td>T.RandomApply([T.RandomAffine(degrees=0, shear...</td>\n      <td>0.219674</td>\n      <td>0.839506</td>\n      <td>0.010929</td>\n      <td>0.427273</td>\n      <td>1.000000</td>\n      <td>0.006494</td>\n      <td>0.215493</td>\n      <td>0.723404</td>\n      <td>0.034483</td>\n      <td>NaN</td>\n      <td>NaN</td>\n      <td>NaN</td>\n    </tr>\n    <tr>\n      <th>5</th>\n      <td>T.RandomApply([T.RandomAffine(degrees=0, trans...</td>\n      <td>0.250967</td>\n      <td>0.693069</td>\n      <td>0.029412</td>\n      <td>0.377280</td>\n      <td>1.000000</td>\n      <td>0.030303</td>\n      <td>0.357205</td>\n      <td>0.827586</td>\n      <td>0.028571</td>\n      <td>NaN</td>\n      <td>NaN</td>\n      <td>NaN</td>\n    </tr>\n    <tr>\n      <th>6</th>\n      <td>T.RandomApply([T.RandomAffine(degrees=0, trans...</td>\n      <td>0.287460</td>\n      <td>0.565217</td>\n      <td>0.041237</td>\n      <td>0.267321</td>\n      <td>0.684211</td>\n      <td>0.028571</td>\n      <td>0.397576</td>\n      <td>0.957447</td>\n      <td>0.074074</td>\n      <td>NaN</td>\n      <td>NaN</td>\n      <td>NaN</td>\n    </tr>\n    <tr>\n      <th>7</th>\n      <td>T.RandomApply([T.RandomAffine(degrees=0, trans...</td>\n      <td>0.133188</td>\n      <td>0.355212</td>\n      <td>0.000000</td>\n      <td>0.098245</td>\n      <td>0.216981</td>\n      <td>0.000000</td>\n      <td>0.276168</td>\n      <td>0.978723</td>\n      <td>0.000000</td>\n      <td>NaN</td>\n      <td>NaN</td>\n      <td>NaN</td>\n    </tr>\n    <tr>\n      <th>8</th>\n      <td>T.RandomApply([T.RandomChoice([CT.RandomNoiseW...</td>\n      <td>0.264628</td>\n      <td>0.822222</td>\n      <td>0.000000</td>\n      <td>0.271468</td>\n      <td>0.860465</td>\n      <td>0.000000</td>\n      <td>0.277206</td>\n      <td>0.787234</td>\n      <td>0.000000</td>\n      <td>NaN</td>\n      <td>NaN</td>\n      <td>NaN</td>\n    </tr>\n    <tr>\n      <th>9</th>\n      <td>T.RandomApply([T.RandomChoice([CT.RandomNoiseW...</td>\n      <td>0.123921</td>\n      <td>0.361538</td>\n      <td>0.000000</td>\n      <td>0.079531</td>\n      <td>0.220657</td>\n      <td>0.000000</td>\n      <td>0.296508</td>\n      <td>1.000000</td>\n      <td>0.000000</td>\n      <td>NaN</td>\n      <td>NaN</td>\n      <td>NaN</td>\n    </tr>\n    <tr>\n      <th>10</th>\n      <td>T.RandomApply([T.RandomChoice([CT.RandomSaltAn...</td>\n      <td>0.234706</td>\n      <td>0.440252</td>\n      <td>0.055046</td>\n      <td>0.317436</td>\n      <td>1.000000</td>\n      <td>0.036585</td>\n      <td>0.368984</td>\n      <td>0.744681</td>\n      <td>0.111111</td>\n      <td>NaN</td>\n      <td>NaN</td>\n      <td>NaN</td>\n    </tr>\n    <tr>\n      <th>11</th>\n      <td>T.RandomApply([T.RandomChoice([CT.RandomSaltAn...</td>\n      <td>0.186812</td>\n      <td>0.810127</td>\n      <td>0.000000</td>\n      <td>0.216786</td>\n      <td>1.000000</td>\n      <td>0.000000</td>\n      <td>0.198589</td>\n      <td>0.680851</td>\n      <td>0.000000</td>\n      <td>NaN</td>\n      <td>NaN</td>\n      <td>NaN</td>\n    </tr>\n  </tbody>\n</table>\n</div>"
     },
     "execution_count": 3,
     "metadata": {},
     "output_type": "execute_result"
    }
   ],
   "source": [
    "sweep_raw_1 = SweepReader(sweep_id_1, project_path)\n",
    "sweep_raw_2 = SweepReader(sweep_id_1, project_path)\n",
    "\n",
    "sweep_raw_1.read_from_csv(path_edited + sweep_id_1 + '.csv')"
   ],
   "metadata": {
    "collapsed": false,
    "ExecuteTime": {
     "end_time": "2024-04-24T07:44:52.150696Z",
     "start_time": "2024-04-24T07:44:52.134726Z"
    }
   },
   "id": "cbe38e91a7db06ed",
   "execution_count": 3
  },
  {
   "cell_type": "code",
   "outputs": [
    {
     "data": {
      "text/plain": "                                           Transforms  Test F1_mean  \\\n0                                       No Transforms      0.312613   \n1   T.RandomApply([T.ColorJitter(brightness=(0.5, ...      0.311605   \n2   T.RandomApply([T.RandomAffine(degrees=(-25, 25...      0.277801   \n3   T.RandomApply([T.RandomAffine(degrees=(-25, 25...      0.282870   \n4   T.RandomApply([T.RandomAffine(degrees=0, shear...      0.398349   \n5   T.RandomApply([T.RandomAffine(degrees=0, trans...      0.249857   \n6   T.RandomApply([T.RandomAffine(degrees=0, trans...      0.296368   \n7   T.RandomApply([T.RandomAffine(degrees=0, trans...      0.193091   \n8   T.RandomApply([T.RandomChoice([CT.RandomNoiseW...      0.197438   \n9   T.RandomApply([T.RandomChoice([CT.RandomNoiseW...      0.189235   \n10  T.RandomApply([T.RandomChoice([CT.RandomSaltAn...      0.303548   \n11  T.RandomApply([T.RandomChoice([CT.RandomSaltAn...      0.180130   \n\n    Test F1_max  Test F1_min  Test Precision_mean  Test Precision_max  \\\n0      0.825000     0.000000             0.560000            1.000000   \n1      0.839506     0.053571             0.472453            1.000000   \n2      0.823529     0.057143             0.455076            1.000000   \n3      0.699029     0.046154             0.311761            0.642857   \n4      0.823529     0.067416             0.468179            1.000000   \n5      0.642202     0.075000             0.351591            1.000000   \n6      0.625000     0.111111             0.369270            1.000000   \n7      0.496454     0.049180             0.311074            1.000000   \n8      0.554054     0.000000             0.327285            1.000000   \n9      0.752688     0.000000             0.194364            0.760870   \n10     0.650000     0.046875             0.320442            1.000000   \n11     0.760870     0.000000             0.176537            0.777778   \n\n    Test Precision_min  Test Recall_mean  Test Recall_max  Test Recall_min  \\\n0             0.000000          0.238627         0.702128         0.000000   \n1             0.035294          0.392789         0.724138         0.111111   \n2             0.038462          0.402408         0.862069         0.037037   \n3             0.029126          0.407525         0.765957         0.111111   \n4             0.048387          0.409560         0.744681         0.111111   \n5             0.056604          0.340215         0.744681         0.111111   \n6             0.076142          0.375559         0.744681         0.148148   \n7             0.031579          0.287174         0.744681         0.068966   \n8             0.000000          0.274362         0.872340         0.000000   \n9             0.000000          0.194016         0.744681         0.000000   \n10            0.029703          0.472972         0.827586         0.111111   \n11            0.000000          0.195709         0.744681         0.000000   \n\n    Test Accuracy_mean  Test Accuracy_max  Test Accuracy_min  \n0                  NaN                NaN                NaN  \n1                  NaN                NaN                NaN  \n2                  NaN                NaN                NaN  \n3                  NaN                NaN                NaN  \n4                  NaN                NaN                NaN  \n5                  NaN                NaN                NaN  \n6                  NaN                NaN                NaN  \n7                  NaN                NaN                NaN  \n8                  NaN                NaN                NaN  \n9                  NaN                NaN                NaN  \n10                 NaN                NaN                NaN  \n11                 NaN                NaN                NaN  ",
      "text/html": "<div>\n<style scoped>\n    .dataframe tbody tr th:only-of-type {\n        vertical-align: middle;\n    }\n\n    .dataframe tbody tr th {\n        vertical-align: top;\n    }\n\n    .dataframe thead th {\n        text-align: right;\n    }\n</style>\n<table border=\"1\" class=\"dataframe\">\n  <thead>\n    <tr style=\"text-align: right;\">\n      <th></th>\n      <th>Transforms</th>\n      <th>Test F1_mean</th>\n      <th>Test F1_max</th>\n      <th>Test F1_min</th>\n      <th>Test Precision_mean</th>\n      <th>Test Precision_max</th>\n      <th>Test Precision_min</th>\n      <th>Test Recall_mean</th>\n      <th>Test Recall_max</th>\n      <th>Test Recall_min</th>\n      <th>Test Accuracy_mean</th>\n      <th>Test Accuracy_max</th>\n      <th>Test Accuracy_min</th>\n    </tr>\n  </thead>\n  <tbody>\n    <tr>\n      <th>0</th>\n      <td>No Transforms</td>\n      <td>0.312613</td>\n      <td>0.825000</td>\n      <td>0.000000</td>\n      <td>0.560000</td>\n      <td>1.000000</td>\n      <td>0.000000</td>\n      <td>0.238627</td>\n      <td>0.702128</td>\n      <td>0.000000</td>\n      <td>NaN</td>\n      <td>NaN</td>\n      <td>NaN</td>\n    </tr>\n    <tr>\n      <th>1</th>\n      <td>T.RandomApply([T.ColorJitter(brightness=(0.5, ...</td>\n      <td>0.311605</td>\n      <td>0.839506</td>\n      <td>0.053571</td>\n      <td>0.472453</td>\n      <td>1.000000</td>\n      <td>0.035294</td>\n      <td>0.392789</td>\n      <td>0.724138</td>\n      <td>0.111111</td>\n      <td>NaN</td>\n      <td>NaN</td>\n      <td>NaN</td>\n    </tr>\n    <tr>\n      <th>2</th>\n      <td>T.RandomApply([T.RandomAffine(degrees=(-25, 25...</td>\n      <td>0.277801</td>\n      <td>0.823529</td>\n      <td>0.057143</td>\n      <td>0.455076</td>\n      <td>1.000000</td>\n      <td>0.038462</td>\n      <td>0.402408</td>\n      <td>0.862069</td>\n      <td>0.037037</td>\n      <td>NaN</td>\n      <td>NaN</td>\n      <td>NaN</td>\n    </tr>\n    <tr>\n      <th>3</th>\n      <td>T.RandomApply([T.RandomAffine(degrees=(-25, 25...</td>\n      <td>0.282870</td>\n      <td>0.699029</td>\n      <td>0.046154</td>\n      <td>0.311761</td>\n      <td>0.642857</td>\n      <td>0.029126</td>\n      <td>0.407525</td>\n      <td>0.765957</td>\n      <td>0.111111</td>\n      <td>NaN</td>\n      <td>NaN</td>\n      <td>NaN</td>\n    </tr>\n    <tr>\n      <th>4</th>\n      <td>T.RandomApply([T.RandomAffine(degrees=0, shear...</td>\n      <td>0.398349</td>\n      <td>0.823529</td>\n      <td>0.067416</td>\n      <td>0.468179</td>\n      <td>1.000000</td>\n      <td>0.048387</td>\n      <td>0.409560</td>\n      <td>0.744681</td>\n      <td>0.111111</td>\n      <td>NaN</td>\n      <td>NaN</td>\n      <td>NaN</td>\n    </tr>\n    <tr>\n      <th>5</th>\n      <td>T.RandomApply([T.RandomAffine(degrees=0, trans...</td>\n      <td>0.249857</td>\n      <td>0.642202</td>\n      <td>0.075000</td>\n      <td>0.351591</td>\n      <td>1.000000</td>\n      <td>0.056604</td>\n      <td>0.340215</td>\n      <td>0.744681</td>\n      <td>0.111111</td>\n      <td>NaN</td>\n      <td>NaN</td>\n      <td>NaN</td>\n    </tr>\n    <tr>\n      <th>6</th>\n      <td>T.RandomApply([T.RandomAffine(degrees=0, trans...</td>\n      <td>0.296368</td>\n      <td>0.625000</td>\n      <td>0.111111</td>\n      <td>0.369270</td>\n      <td>1.000000</td>\n      <td>0.076142</td>\n      <td>0.375559</td>\n      <td>0.744681</td>\n      <td>0.148148</td>\n      <td>NaN</td>\n      <td>NaN</td>\n      <td>NaN</td>\n    </tr>\n    <tr>\n      <th>7</th>\n      <td>T.RandomApply([T.RandomAffine(degrees=0, trans...</td>\n      <td>0.193091</td>\n      <td>0.496454</td>\n      <td>0.049180</td>\n      <td>0.311074</td>\n      <td>1.000000</td>\n      <td>0.031579</td>\n      <td>0.287174</td>\n      <td>0.744681</td>\n      <td>0.068966</td>\n      <td>NaN</td>\n      <td>NaN</td>\n      <td>NaN</td>\n    </tr>\n    <tr>\n      <th>8</th>\n      <td>T.RandomApply([T.RandomChoice([CT.RandomNoiseW...</td>\n      <td>0.197438</td>\n      <td>0.554054</td>\n      <td>0.000000</td>\n      <td>0.327285</td>\n      <td>1.000000</td>\n      <td>0.000000</td>\n      <td>0.274362</td>\n      <td>0.872340</td>\n      <td>0.000000</td>\n      <td>NaN</td>\n      <td>NaN</td>\n      <td>NaN</td>\n    </tr>\n    <tr>\n      <th>9</th>\n      <td>T.RandomApply([T.RandomChoice([CT.RandomNoiseW...</td>\n      <td>0.189235</td>\n      <td>0.752688</td>\n      <td>0.000000</td>\n      <td>0.194364</td>\n      <td>0.760870</td>\n      <td>0.000000</td>\n      <td>0.194016</td>\n      <td>0.744681</td>\n      <td>0.000000</td>\n      <td>NaN</td>\n      <td>NaN</td>\n      <td>NaN</td>\n    </tr>\n    <tr>\n      <th>10</th>\n      <td>T.RandomApply([T.RandomChoice([CT.RandomSaltAn...</td>\n      <td>0.303548</td>\n      <td>0.650000</td>\n      <td>0.046875</td>\n      <td>0.320442</td>\n      <td>1.000000</td>\n      <td>0.029703</td>\n      <td>0.472972</td>\n      <td>0.827586</td>\n      <td>0.111111</td>\n      <td>NaN</td>\n      <td>NaN</td>\n      <td>NaN</td>\n    </tr>\n    <tr>\n      <th>11</th>\n      <td>T.RandomApply([T.RandomChoice([CT.RandomSaltAn...</td>\n      <td>0.180130</td>\n      <td>0.760870</td>\n      <td>0.000000</td>\n      <td>0.176537</td>\n      <td>0.777778</td>\n      <td>0.000000</td>\n      <td>0.195709</td>\n      <td>0.744681</td>\n      <td>0.000000</td>\n      <td>NaN</td>\n      <td>NaN</td>\n      <td>NaN</td>\n    </tr>\n  </tbody>\n</table>\n</div>"
     },
     "execution_count": 4,
     "metadata": {},
     "output_type": "execute_result"
    }
   ],
   "source": [
    "sweep_raw_2.read_from_csv(path_edited + sweep_id_2 + '.csv')"
   ],
   "metadata": {
    "collapsed": false,
    "ExecuteTime": {
     "end_time": "2024-04-24T07:44:52.526709Z",
     "start_time": "2024-04-24T07:44:52.496859Z"
    }
   },
   "id": "49edf9e30e1d1c20",
   "execution_count": 4
  },
  {
   "cell_type": "markdown",
   "source": [
    "### Compare one sweep, with different init transform 600x600/600x400"
   ],
   "metadata": {
    "collapsed": false
   },
   "id": "544186ac6c5d9b35"
  },
  {
   "cell_type": "code",
   "outputs": [
    {
     "data": {
      "text/plain": "(0.21546522750045616, 0.2660753440342475)"
     },
     "execution_count": 6,
     "metadata": {},
     "output_type": "execute_result"
    }
   ],
   "source": [
    "# Take average of \"Test F1_mean\" of each sweep\n",
    "\n",
    "sweep_raw_1.get_dataframe()[\"Test F1_mean\"].mean(), sweep_raw_2.get_dataframe()[\"Test F1_mean\"].mean()"
   ],
   "metadata": {
    "collapsed": false,
    "ExecuteTime": {
     "end_time": "2024-04-24T07:46:32.565941Z",
     "start_time": "2024-04-24T07:46:32.560970Z"
    }
   },
   "id": "14185a66b3631c72",
   "execution_count": 6
  },
  {
   "cell_type": "code",
   "outputs": [
    {
     "name": "stdout",
     "output_type": "stream",
     "text": [
      "0.2395154859150376 0.3126129032258064 True\n",
      "0.2586480772527283 0.3116045607034342 True\n",
      "0.1611896407685881 0.2778008679611822 True\n",
      "0.2248741457072951 0.2828702176088404 True\n",
      "0.2196735789794275 0.3983488028564471 True\n",
      "0.2509668025626091 0.2498567453752443 False\n",
      "0.2874601098499888 0.2963682973859964 True\n",
      "0.1331882262648613 0.1930909908106969 True\n",
      "0.2646278053872991 0.1974380579349123 False\n",
      "0.1239205955334987 0.1892349524162649 True\n",
      "0.2347063594659093 0.3035476473534245 True\n",
      "0.1868119023182314 0.1801300847787197 False\n"
     ]
    }
   ],
   "source": [
    "# Print each value of \"Test F1_mean\" of each sweep with name of transform if second sweep is better print True\n",
    "\n",
    "for i in range(len(sweep_raw_1.get_dataframe()[\"Test F1_mean\"])):\n",
    "    print(sweep_raw_1.get_dataframe()[\"Test F1_mean\"][i], sweep_raw_2.get_dataframe()[\"Test F1_mean\"][i], sweep_raw_1.get_dataframe()[\"Test F1_mean\"][i] < sweep_raw_2.get_dataframe()[\"Test F1_mean\"][i])"
   ],
   "metadata": {
    "collapsed": false,
    "ExecuteTime": {
     "end_time": "2024-04-24T07:50:23.345170Z",
     "start_time": "2024-04-24T07:50:23.336297Z"
    }
   },
   "id": "8367cb8a21e746a1",
   "execution_count": 11
  },
  {
   "cell_type": "markdown",
   "source": [
    "So, the second sweep (with init transform 600x400) is better than the first one(600x600) in terms of \"Test F1_mean\" metric."
   ],
   "metadata": {
    "collapsed": false
   },
   "id": "837ba9c7b16079be"
  }
 ],
 "metadata": {
  "kernelspec": {
   "display_name": "Python 3",
   "language": "python",
   "name": "python3"
  },
  "language_info": {
   "codemirror_mode": {
    "name": "ipython",
    "version": 2
   },
   "file_extension": ".py",
   "mimetype": "text/x-python",
   "name": "python",
   "nbconvert_exporter": "python",
   "pygments_lexer": "ipython2",
   "version": "2.7.6"
  }
 },
 "nbformat": 4,
 "nbformat_minor": 5
}
