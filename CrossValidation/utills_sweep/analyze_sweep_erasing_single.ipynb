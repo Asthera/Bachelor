{
 "cells": [
  {
   "cell_type": "code",
   "execution_count": 1,
   "id": "initial_id",
   "metadata": {
    "collapsed": true,
    "ExecuteTime": {
     "end_time": "2024-05-08T10:19:08.819727Z",
     "start_time": "2024-05-08T10:19:05.563184Z"
    }
   },
   "outputs": [],
   "source": [
    "from read_sweep import SweepReader\n",
    "from edit_sweep_df import SweepEditorDataFrame"
   ]
  },
  {
   "cell_type": "code",
   "outputs": [],
   "source": [
    "# affine_single name of the sweep\n",
    "sweep_id = \"97eubagm\"\n",
    "project_path = \"daswoldemar/bachelor\""
   ],
   "metadata": {
    "collapsed": false,
    "ExecuteTime": {
     "end_time": "2024-05-08T10:19:08.830878Z",
     "start_time": "2024-05-08T10:19:08.820893Z"
    }
   },
   "id": "f0cc7a4866a390ca",
   "execution_count": 2
  },
  {
   "cell_type": "code",
   "outputs": [
    {
     "name": "stderr",
     "output_type": "stream",
     "text": [
      "\u001B[34m\u001B[1mwandb\u001B[0m:   1 of 1 files downloaded.  \n",
      "\u001B[34m\u001B[1mwandb\u001B[0m:   1 of 1 files downloaded.  \n",
      "\u001B[34m\u001B[1mwandb\u001B[0m:   1 of 1 files downloaded.  \n",
      "\u001B[34m\u001B[1mwandb\u001B[0m:   1 of 1 files downloaded.  \n",
      "\u001B[34m\u001B[1mwandb\u001B[0m:   1 of 1 files downloaded.  \n",
      "\u001B[34m\u001B[1mwandb\u001B[0m:   1 of 1 files downloaded.  \n",
      "\u001B[34m\u001B[1mwandb\u001B[0m:   1 of 1 files downloaded.  \n",
      "\u001B[34m\u001B[1mwandb\u001B[0m:   1 of 1 files downloaded.  \n",
      "\u001B[34m\u001B[1mwandb\u001B[0m:   1 of 1 files downloaded.  \n",
      "\u001B[34m\u001B[1mwandb\u001B[0m:   1 of 1 files downloaded.  \n",
      "\u001B[34m\u001B[1mwandb\u001B[0m:   1 of 1 files downloaded.  \n",
      "\u001B[34m\u001B[1mwandb\u001B[0m:   1 of 1 files downloaded.  \n",
      "\u001B[34m\u001B[1mwandb\u001B[0m:   1 of 1 files downloaded.  \n",
      "\u001B[34m\u001B[1mwandb\u001B[0m:   1 of 1 files downloaded.  \n",
      "\u001B[34m\u001B[1mwandb\u001B[0m:   1 of 1 files downloaded.  \n",
      "\u001B[34m\u001B[1mwandb\u001B[0m:   1 of 1 files downloaded.  \n",
      "\u001B[34m\u001B[1mwandb\u001B[0m:   1 of 1 files downloaded.  \n",
      "\u001B[34m\u001B[1mwandb\u001B[0m:   1 of 1 files downloaded.  \n",
      "\u001B[34m\u001B[1mwandb\u001B[0m:   1 of 1 files downloaded.  \n",
      "\u001B[34m\u001B[1mwandb\u001B[0m:   1 of 1 files downloaded.  \n",
      "\u001B[34m\u001B[1mwandb\u001B[0m:   1 of 1 files downloaded.  \n",
      "\u001B[34m\u001B[1mwandb\u001B[0m:   1 of 1 files downloaded.  \n",
      "\u001B[34m\u001B[1mwandb\u001B[0m:   1 of 1 files downloaded.  \n",
      "\u001B[34m\u001B[1mwandb\u001B[0m:   1 of 1 files downloaded.  \n",
      "\u001B[34m\u001B[1mwandb\u001B[0m:   1 of 1 files downloaded.  \n"
     ]
    },
    {
     "name": "stdout",
     "output_type": "stream",
     "text": [
      "Data saved to CSV file\n"
     ]
    }
   ],
   "source": [
    "# read sweep, save raw\n",
    "reader = SweepReader(sweep_id, project_path)\n",
    "df_raw = reader.fetch_sweep_runs()\n",
    "reader.save_to_csv(\"sweeps_raw/\"+sweep_id+\".csv\")"
   ],
   "metadata": {
    "collapsed": false,
    "ExecuteTime": {
     "end_time": "2024-05-08T10:19:47.159354Z",
     "start_time": "2024-05-08T10:19:08.831119Z"
    }
   },
   "id": "ab56c131acb990a2",
   "execution_count": 3
  },
  {
   "cell_type": "code",
   "outputs": [],
   "source": [
    "# edit sweep, save edited\n",
    "editor = SweepEditorDataFrame([df_raw,])\n",
    "df_edited = editor.init_edit()\n",
    "df_edited.to_csv(\"sweeps_edited/\"+sweep_id+\".csv\")"
   ],
   "metadata": {
    "collapsed": false,
    "ExecuteTime": {
     "end_time": "2024-05-08T10:51:54.206130Z",
     "start_time": "2024-05-08T10:51:54.186125Z"
    }
   },
   "id": "2b7b29799eb558e",
   "execution_count": 4
  },
  {
   "cell_type": "code",
   "outputs": [
    {
     "data": {
      "text/plain": "                                                    Test F1_mean  Test F1_max  \\\nTransforms                                                                      \n\"T.RandomErasing(p=0.5, scale=(0.001, 0.01), ra...      0.254103     0.829268   \n\"T.RandomErasing(p=0.7, scale=(0.001, 0.01), ra...      0.238687     0.588235   \nNone                                                    0.209870     0.510949   \nT.RandomErasing(p=0.5, scale=(0.001, 0.01), rat...      0.197842     0.510949   \nT.RandomErasing(p=0.7, scale=(0.001, 0.01), rat...      0.158196     0.448718   \n\n                                                    Test F1_min  \\\nTransforms                                                        \n\"T.RandomErasing(p=0.5, scale=(0.001, 0.01), ra...      0.00000   \n\"T.RandomErasing(p=0.7, scale=(0.001, 0.01), ra...      0.00000   \nNone                                                    0.01087   \nT.RandomErasing(p=0.5, scale=(0.001, 0.01), rat...      0.00000   \nT.RandomErasing(p=0.7, scale=(0.001, 0.01), rat...      0.00000   \n\n                                                    Test Precision_mean  \\\nTransforms                                                                \n\"T.RandomErasing(p=0.5, scale=(0.001, 0.01), ra...             0.486186   \n\"T.RandomErasing(p=0.7, scale=(0.001, 0.01), ra...             0.426263   \nNone                                                           0.187281   \nT.RandomErasing(p=0.5, scale=(0.001, 0.01), rat...             0.277778   \nT.RandomErasing(p=0.7, scale=(0.001, 0.01), rat...             0.248534   \n\n                                                    Test Precision_max  \\\nTransforms                                                               \n\"T.RandomErasing(p=0.5, scale=(0.001, 0.01), ra...            1.000000   \n\"T.RandomErasing(p=0.7, scale=(0.001, 0.01), ra...            1.000000   \nNone                                                          0.388889   \nT.RandomErasing(p=0.5, scale=(0.001, 0.01), rat...            1.000000   \nT.RandomErasing(p=0.7, scale=(0.001, 0.01), rat...            0.833333   \n\n                                                    Test Precision_min  \\\nTransforms                                                               \n\"T.RandomErasing(p=0.5, scale=(0.001, 0.01), ra...            0.000000   \n\"T.RandomErasing(p=0.7, scale=(0.001, 0.01), ra...            0.000000   \nNone                                                          0.006452   \nT.RandomErasing(p=0.5, scale=(0.001, 0.01), rat...            0.000000   \nT.RandomErasing(p=0.7, scale=(0.001, 0.01), rat...            0.000000   \n\n                                                    Test Recall_mean  \\\nTransforms                                                             \n\"T.RandomErasing(p=0.5, scale=(0.001, 0.01), ra...          0.225739   \n\"T.RandomErasing(p=0.7, scale=(0.001, 0.01), ra...          0.248830   \nNone                                                        0.268849   \nT.RandomErasing(p=0.5, scale=(0.001, 0.01), rat...          0.211793   \nT.RandomErasing(p=0.7, scale=(0.001, 0.01), rat...          0.199730   \n\n                                                    Test Recall_max  \\\nTransforms                                                            \n\"T.RandomErasing(p=0.5, scale=(0.001, 0.01), ra...         0.723404   \n\"T.RandomErasing(p=0.7, scale=(0.001, 0.01), ra...         0.744681   \nNone                                                       0.744681   \nT.RandomErasing(p=0.5, scale=(0.001, 0.01), rat...         0.744681   \nT.RandomErasing(p=0.7, scale=(0.001, 0.01), rat...         0.744681   \n\n                                                    Test Recall_min  \\\nTransforms                                                            \n\"T.RandomErasing(p=0.5, scale=(0.001, 0.01), ra...         0.000000   \n\"T.RandomErasing(p=0.7, scale=(0.001, 0.01), ra...         0.000000   \nNone                                                       0.034483   \nT.RandomErasing(p=0.5, scale=(0.001, 0.01), rat...         0.000000   \nT.RandomErasing(p=0.7, scale=(0.001, 0.01), rat...         0.000000   \n\n                                                   Test Accuracy_mean  \\\nTransforms                                                              \n\"T.RandomErasing(p=0.5, scale=(0.001, 0.01), ra...                NaN   \n\"T.RandomErasing(p=0.7, scale=(0.001, 0.01), ra...                NaN   \nNone                                                              NaN   \nT.RandomErasing(p=0.5, scale=(0.001, 0.01), rat...                NaN   \nT.RandomErasing(p=0.7, scale=(0.001, 0.01), rat...                NaN   \n\n                                                   Test Accuracy_max  \\\nTransforms                                                             \n\"T.RandomErasing(p=0.5, scale=(0.001, 0.01), ra...               NaN   \n\"T.RandomErasing(p=0.7, scale=(0.001, 0.01), ra...               NaN   \nNone                                                             NaN   \nT.RandomErasing(p=0.5, scale=(0.001, 0.01), rat...               NaN   \nT.RandomErasing(p=0.7, scale=(0.001, 0.01), rat...               NaN   \n\n                                                   Test Accuracy_min  \nTransforms                                                            \n\"T.RandomErasing(p=0.5, scale=(0.001, 0.01), ra...               NaN  \n\"T.RandomErasing(p=0.7, scale=(0.001, 0.01), ra...               NaN  \nNone                                                             NaN  \nT.RandomErasing(p=0.5, scale=(0.001, 0.01), rat...               NaN  \nT.RandomErasing(p=0.7, scale=(0.001, 0.01), rat...               NaN  ",
      "text/html": "<div>\n<style scoped>\n    .dataframe tbody tr th:only-of-type {\n        vertical-align: middle;\n    }\n\n    .dataframe tbody tr th {\n        vertical-align: top;\n    }\n\n    .dataframe thead th {\n        text-align: right;\n    }\n</style>\n<table border=\"1\" class=\"dataframe\">\n  <thead>\n    <tr style=\"text-align: right;\">\n      <th></th>\n      <th>Test F1_mean</th>\n      <th>Test F1_max</th>\n      <th>Test F1_min</th>\n      <th>Test Precision_mean</th>\n      <th>Test Precision_max</th>\n      <th>Test Precision_min</th>\n      <th>Test Recall_mean</th>\n      <th>Test Recall_max</th>\n      <th>Test Recall_min</th>\n      <th>Test Accuracy_mean</th>\n      <th>Test Accuracy_max</th>\n      <th>Test Accuracy_min</th>\n    </tr>\n    <tr>\n      <th>Transforms</th>\n      <th></th>\n      <th></th>\n      <th></th>\n      <th></th>\n      <th></th>\n      <th></th>\n      <th></th>\n      <th></th>\n      <th></th>\n      <th></th>\n      <th></th>\n      <th></th>\n    </tr>\n  </thead>\n  <tbody>\n    <tr>\n      <th>\"T.RandomErasing(p=0.5, scale=(0.001, 0.01), ratio=(0.3, 3.3), value=random, inplace=False)\"</th>\n      <td>0.254103</td>\n      <td>0.829268</td>\n      <td>0.00000</td>\n      <td>0.486186</td>\n      <td>1.000000</td>\n      <td>0.000000</td>\n      <td>0.225739</td>\n      <td>0.723404</td>\n      <td>0.000000</td>\n      <td>NaN</td>\n      <td>NaN</td>\n      <td>NaN</td>\n    </tr>\n    <tr>\n      <th>\"T.RandomErasing(p=0.7, scale=(0.001, 0.01), ratio=(0.3, 3.3), value=random, inplace=False)\"</th>\n      <td>0.238687</td>\n      <td>0.588235</td>\n      <td>0.00000</td>\n      <td>0.426263</td>\n      <td>1.000000</td>\n      <td>0.000000</td>\n      <td>0.248830</td>\n      <td>0.744681</td>\n      <td>0.000000</td>\n      <td>NaN</td>\n      <td>NaN</td>\n      <td>NaN</td>\n    </tr>\n    <tr>\n      <th>None</th>\n      <td>0.209870</td>\n      <td>0.510949</td>\n      <td>0.01087</td>\n      <td>0.187281</td>\n      <td>0.388889</td>\n      <td>0.006452</td>\n      <td>0.268849</td>\n      <td>0.744681</td>\n      <td>0.034483</td>\n      <td>NaN</td>\n      <td>NaN</td>\n      <td>NaN</td>\n    </tr>\n    <tr>\n      <th>T.RandomErasing(p=0.5, scale=(0.001, 0.01), ratio=(0.3, 3.3), value=0, inplace=False)</th>\n      <td>0.197842</td>\n      <td>0.510949</td>\n      <td>0.00000</td>\n      <td>0.277778</td>\n      <td>1.000000</td>\n      <td>0.000000</td>\n      <td>0.211793</td>\n      <td>0.744681</td>\n      <td>0.000000</td>\n      <td>NaN</td>\n      <td>NaN</td>\n      <td>NaN</td>\n    </tr>\n    <tr>\n      <th>T.RandomErasing(p=0.7, scale=(0.001, 0.01), ratio=(0.3, 3.3), value=0, inplace=False)</th>\n      <td>0.158196</td>\n      <td>0.448718</td>\n      <td>0.00000</td>\n      <td>0.248534</td>\n      <td>0.833333</td>\n      <td>0.000000</td>\n      <td>0.199730</td>\n      <td>0.744681</td>\n      <td>0.000000</td>\n      <td>NaN</td>\n      <td>NaN</td>\n      <td>NaN</td>\n    </tr>\n  </tbody>\n</table>\n</div>"
     },
     "execution_count": 5,
     "metadata": {},
     "output_type": "execute_result"
    }
   ],
   "source": [
    "df_edited"
   ],
   "metadata": {
    "collapsed": false,
    "ExecuteTime": {
     "end_time": "2024-05-08T10:51:55.198862Z",
     "start_time": "2024-05-08T10:51:55.182288Z"
    }
   },
   "id": "96f7223d234c1d75",
   "execution_count": 5
  },
  {
   "cell_type": "code",
   "outputs": [],
   "source": [],
   "metadata": {
    "collapsed": false
   },
   "id": "551c0f53d28be2a0"
  }
 ],
 "metadata": {
  "kernelspec": {
   "display_name": "Python 3",
   "language": "python",
   "name": "python3"
  },
  "language_info": {
   "codemirror_mode": {
    "name": "ipython",
    "version": 2
   },
   "file_extension": ".py",
   "mimetype": "text/x-python",
   "name": "python",
   "nbconvert_exporter": "python",
   "pygments_lexer": "ipython2",
   "version": "2.7.6"
  }
 },
 "nbformat": 4,
 "nbformat_minor": 5
}
