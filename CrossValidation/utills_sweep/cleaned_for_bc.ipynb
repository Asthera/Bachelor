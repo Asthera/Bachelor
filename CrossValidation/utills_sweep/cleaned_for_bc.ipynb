{
 "cells": [
  {
   "cell_type": "code",
   "execution_count": 13,
   "id": "initial_id",
   "metadata": {
    "collapsed": true,
    "ExecuteTime": {
     "end_time": "2024-05-21T17:44:13.765836Z",
     "start_time": "2024-05-21T17:44:13.751069Z"
    }
   },
   "outputs": [
    {
     "data": {
      "text/plain": "                                            Transforms  Test F1_mean  \\\n33   CT.RandomBrightnessByAdd(p=0.5, delta=(-0.15, ...      0.215564   \n34   CT.RandomBrightnessByAdd(p=0.5, delta=(-0.25, ...      0.231989   \n35   CT.RandomBrightnessByAdd(p=0.5, delta=(-0.35, ...      0.333553   \n36   CT.RandomBrightnessByAdd(p=0.5, delta=(0.05, 0...      0.264183   \n37   CT.RandomBrightnessByAdd(p=0.5, delta=(0.15, 0...      0.177327   \n..                                                 ...           ...   \n104  T.RandomApply([T.GaussianBlur(kernel_size=3, s...      0.253364   \n105  T.RandomApply([T.GaussianBlur(kernel_size=5, s...      0.269272   \n106  T.RandomApply([T.GaussianBlur(kernel_size=5, s...      0.132826   \n107  T.RandomApply([T.GaussianBlur(kernel_size=5, s...      0.259813   \n108  T.RandomApply([T.GaussianBlur(kernel_size=5, s...      0.097065   \n\n     Test F1_max  Test F1_min  Test Precision_mean  Test Precision_max  \\\n33      0.588235          0.0             0.250272            0.733333   \n34      0.794872          0.0             0.261442            1.000000   \n35      0.777778          0.0             0.554446            1.000000   \n36      0.538462          0.0             0.419690            1.000000   \n37      0.421053          0.0             0.360313            1.000000   \n..           ...          ...                  ...                 ...   \n104     0.636364          0.0             0.429199            1.000000   \n105     0.853659          0.0             0.606316            1.000000   \n106     0.419355          0.0             0.301904            1.000000   \n107     0.853659          0.0             0.445552            1.000000   \n108     0.351351          0.0             0.282456            1.000000   \n\n     Test Precision_min  Test Recall_mean  Test Recall_max  Test Recall_min  \\\n33                  0.0          0.234016         0.744681              0.0   \n34                  0.0          0.228423         0.659574              0.0   \n35                  0.0          0.282481         0.744681              0.0   \n36                  0.0          0.271053         0.744681              0.0   \n37                  0.0          0.247137         0.744681              0.0   \n..                  ...               ...              ...              ...   \n104                 0.0          0.250523         0.744681              0.0   \n105                 0.0          0.224280         0.744681              0.0   \n106                 0.0          0.118730         0.371429              0.0   \n107                 0.0          0.260259         0.744681              0.0   \n108                 0.0          0.100763         0.371429              0.0   \n\n     Test Accuracy_mean  Test Accuracy_max  Test Accuracy_min   sweep_type  \\\n33                  NaN                NaN                NaN  pixel-level   \n34                  NaN                NaN                NaN  pixel-level   \n35                  NaN                NaN                NaN  pixel-level   \n36                  NaN                NaN                NaN  pixel-level   \n37                  NaN                NaN                NaN  pixel-level   \n..                  ...                ...                ...          ...   \n104                 NaN                NaN                NaN  pixel-level   \n105                 NaN                NaN                NaN  pixel-level   \n106                 NaN                NaN                NaN  pixel-level   \n107                 NaN                NaN                NaN  pixel-level   \n108                 NaN                NaN                NaN  pixel-level   \n\n     average_metric  \n33         0.182316  \n34         0.228571  \n35         0.255621  \n36         0.186947  \n37         0.137409  \n..              ...  \n104        0.203282  \n105        0.251513  \n106        0.123719  \n107        0.248675  \n108        0.099390  \n\n[75 rows x 15 columns]",
      "text/html": "<div>\n<style scoped>\n    .dataframe tbody tr th:only-of-type {\n        vertical-align: middle;\n    }\n\n    .dataframe tbody tr th {\n        vertical-align: top;\n    }\n\n    .dataframe thead th {\n        text-align: right;\n    }\n</style>\n<table border=\"1\" class=\"dataframe\">\n  <thead>\n    <tr style=\"text-align: right;\">\n      <th></th>\n      <th>Transforms</th>\n      <th>Test F1_mean</th>\n      <th>Test F1_max</th>\n      <th>Test F1_min</th>\n      <th>Test Precision_mean</th>\n      <th>Test Precision_max</th>\n      <th>Test Precision_min</th>\n      <th>Test Recall_mean</th>\n      <th>Test Recall_max</th>\n      <th>Test Recall_min</th>\n      <th>Test Accuracy_mean</th>\n      <th>Test Accuracy_max</th>\n      <th>Test Accuracy_min</th>\n      <th>sweep_type</th>\n      <th>average_metric</th>\n    </tr>\n  </thead>\n  <tbody>\n    <tr>\n      <th>33</th>\n      <td>CT.RandomBrightnessByAdd(p=0.5, delta=(-0.15, ...</td>\n      <td>0.215564</td>\n      <td>0.588235</td>\n      <td>0.0</td>\n      <td>0.250272</td>\n      <td>0.733333</td>\n      <td>0.0</td>\n      <td>0.234016</td>\n      <td>0.744681</td>\n      <td>0.0</td>\n      <td>NaN</td>\n      <td>NaN</td>\n      <td>NaN</td>\n      <td>pixel-level</td>\n      <td>0.182316</td>\n    </tr>\n    <tr>\n      <th>34</th>\n      <td>CT.RandomBrightnessByAdd(p=0.5, delta=(-0.25, ...</td>\n      <td>0.231989</td>\n      <td>0.794872</td>\n      <td>0.0</td>\n      <td>0.261442</td>\n      <td>1.000000</td>\n      <td>0.0</td>\n      <td>0.228423</td>\n      <td>0.659574</td>\n      <td>0.0</td>\n      <td>NaN</td>\n      <td>NaN</td>\n      <td>NaN</td>\n      <td>pixel-level</td>\n      <td>0.228571</td>\n    </tr>\n    <tr>\n      <th>35</th>\n      <td>CT.RandomBrightnessByAdd(p=0.5, delta=(-0.35, ...</td>\n      <td>0.333553</td>\n      <td>0.777778</td>\n      <td>0.0</td>\n      <td>0.554446</td>\n      <td>1.000000</td>\n      <td>0.0</td>\n      <td>0.282481</td>\n      <td>0.744681</td>\n      <td>0.0</td>\n      <td>NaN</td>\n      <td>NaN</td>\n      <td>NaN</td>\n      <td>pixel-level</td>\n      <td>0.255621</td>\n    </tr>\n    <tr>\n      <th>36</th>\n      <td>CT.RandomBrightnessByAdd(p=0.5, delta=(0.05, 0...</td>\n      <td>0.264183</td>\n      <td>0.538462</td>\n      <td>0.0</td>\n      <td>0.419690</td>\n      <td>1.000000</td>\n      <td>0.0</td>\n      <td>0.271053</td>\n      <td>0.744681</td>\n      <td>0.0</td>\n      <td>NaN</td>\n      <td>NaN</td>\n      <td>NaN</td>\n      <td>pixel-level</td>\n      <td>0.186947</td>\n    </tr>\n    <tr>\n      <th>37</th>\n      <td>CT.RandomBrightnessByAdd(p=0.5, delta=(0.15, 0...</td>\n      <td>0.177327</td>\n      <td>0.421053</td>\n      <td>0.0</td>\n      <td>0.360313</td>\n      <td>1.000000</td>\n      <td>0.0</td>\n      <td>0.247137</td>\n      <td>0.744681</td>\n      <td>0.0</td>\n      <td>NaN</td>\n      <td>NaN</td>\n      <td>NaN</td>\n      <td>pixel-level</td>\n      <td>0.137409</td>\n    </tr>\n    <tr>\n      <th>...</th>\n      <td>...</td>\n      <td>...</td>\n      <td>...</td>\n      <td>...</td>\n      <td>...</td>\n      <td>...</td>\n      <td>...</td>\n      <td>...</td>\n      <td>...</td>\n      <td>...</td>\n      <td>...</td>\n      <td>...</td>\n      <td>...</td>\n      <td>...</td>\n      <td>...</td>\n    </tr>\n    <tr>\n      <th>104</th>\n      <td>T.RandomApply([T.GaussianBlur(kernel_size=3, s...</td>\n      <td>0.253364</td>\n      <td>0.636364</td>\n      <td>0.0</td>\n      <td>0.429199</td>\n      <td>1.000000</td>\n      <td>0.0</td>\n      <td>0.250523</td>\n      <td>0.744681</td>\n      <td>0.0</td>\n      <td>NaN</td>\n      <td>NaN</td>\n      <td>NaN</td>\n      <td>pixel-level</td>\n      <td>0.203282</td>\n    </tr>\n    <tr>\n      <th>105</th>\n      <td>T.RandomApply([T.GaussianBlur(kernel_size=5, s...</td>\n      <td>0.269272</td>\n      <td>0.853659</td>\n      <td>0.0</td>\n      <td>0.606316</td>\n      <td>1.000000</td>\n      <td>0.0</td>\n      <td>0.224280</td>\n      <td>0.744681</td>\n      <td>0.0</td>\n      <td>NaN</td>\n      <td>NaN</td>\n      <td>NaN</td>\n      <td>pixel-level</td>\n      <td>0.251513</td>\n    </tr>\n    <tr>\n      <th>106</th>\n      <td>T.RandomApply([T.GaussianBlur(kernel_size=5, s...</td>\n      <td>0.132826</td>\n      <td>0.419355</td>\n      <td>0.0</td>\n      <td>0.301904</td>\n      <td>1.000000</td>\n      <td>0.0</td>\n      <td>0.118730</td>\n      <td>0.371429</td>\n      <td>0.0</td>\n      <td>NaN</td>\n      <td>NaN</td>\n      <td>NaN</td>\n      <td>pixel-level</td>\n      <td>0.123719</td>\n    </tr>\n    <tr>\n      <th>107</th>\n      <td>T.RandomApply([T.GaussianBlur(kernel_size=5, s...</td>\n      <td>0.259813</td>\n      <td>0.853659</td>\n      <td>0.0</td>\n      <td>0.445552</td>\n      <td>1.000000</td>\n      <td>0.0</td>\n      <td>0.260259</td>\n      <td>0.744681</td>\n      <td>0.0</td>\n      <td>NaN</td>\n      <td>NaN</td>\n      <td>NaN</td>\n      <td>pixel-level</td>\n      <td>0.248675</td>\n    </tr>\n    <tr>\n      <th>108</th>\n      <td>T.RandomApply([T.GaussianBlur(kernel_size=5, s...</td>\n      <td>0.097065</td>\n      <td>0.351351</td>\n      <td>0.0</td>\n      <td>0.282456</td>\n      <td>1.000000</td>\n      <td>0.0</td>\n      <td>0.100763</td>\n      <td>0.371429</td>\n      <td>0.0</td>\n      <td>NaN</td>\n      <td>NaN</td>\n      <td>NaN</td>\n      <td>pixel-level</td>\n      <td>0.099390</td>\n    </tr>\n  </tbody>\n</table>\n<p>75 rows × 15 columns</p>\n</div>"
     },
     "execution_count": 13,
     "metadata": {},
     "output_type": "execute_result"
    }
   ],
   "source": [
    "# read csv and leave rows where column \"Test F1_mean\" is > 0.7\n",
    "\n",
    "import pandas as pd\n",
    "\n",
    "\n",
    "df = pd.read_csv(\"general_single.csv\")\n",
    "df = df[df[\"sweep_type\"] == \"pixel-level\"]\n",
    "df"
   ]
  },
  {
   "cell_type": "code",
   "outputs": [],
   "source": [
    "# leave only columns \"Transforms, \"Test F1_mean\", \"Test F1_max\", \"Test F1_min\"\n",
    "\n",
    "df_pixel_level = df_pixel_level[[\"Transforms\", \"Test F1_mean\", \"Test F1_max\", \"Test F1_min\"]]\n",
    "\n",
    "# save to csv\n",
    "df_pixel_level.to_csv(\"without augmentation.csv\", index=False)"
   ],
   "metadata": {
    "collapsed": false,
    "ExecuteTime": {
     "end_time": "2024-05-20T07:49:53.577593Z",
     "start_time": "2024-05-20T07:49:53.573413Z"
    }
   },
   "id": "41ad29e7dc2f6a6f",
   "execution_count": 3
  },
  {
   "cell_type": "code",
   "outputs": [],
   "source": [],
   "metadata": {
    "collapsed": false
   },
   "id": "b02ea663ac06853c"
  }
 ],
 "metadata": {
  "kernelspec": {
   "display_name": "Python 3",
   "language": "python",
   "name": "python3"
  },
  "language_info": {
   "codemirror_mode": {
    "name": "ipython",
    "version": 2
   },
   "file_extension": ".py",
   "mimetype": "text/x-python",
   "name": "python",
   "nbconvert_exporter": "python",
   "pygments_lexer": "ipython2",
   "version": "2.7.6"
  }
 },
 "nbformat": 4,
 "nbformat_minor": 5
}
