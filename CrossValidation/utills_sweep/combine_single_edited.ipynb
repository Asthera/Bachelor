{
 "cells": [
  {
   "cell_type": "markdown",
   "source": [
    "## Here we will combine .csv files from\n",
    "- affine\n",
    "- elastic\n",
    "- pixel-level\n",
    "### transformations, with adding a column to each file that will indicate the type of transformation.\n",
    "- check is transform is None, replace it with \"None\""
   ],
   "metadata": {
    "collapsed": false
   },
   "id": "f06c03f231fb986"
  },
  {
   "cell_type": "markdown",
   "source": [
    "And add metric which combine \"Test F1_mean\" - 50%, \"Test F1_max\" - 40%, \"Test F1_min\" - 10%"
   ],
   "metadata": {
    "collapsed": false
   },
   "id": "2d3d323b0b5e19e8"
  },
  {
   "cell_type": "code",
   "outputs": [],
   "source": [
    "import pandas as pd"
   ],
   "metadata": {
    "collapsed": false,
    "ExecuteTime": {
     "end_time": "2024-05-14T13:19:25.763100Z",
     "start_time": "2024-05-14T13:19:24.666015Z"
    }
   },
   "id": "90df4c62f25891ac",
   "execution_count": 1
  },
  {
   "cell_type": "code",
   "execution_count": 3,
   "id": "initial_id",
   "metadata": {
    "collapsed": true,
    "ExecuteTime": {
     "end_time": "2024-05-14T13:58:54.725058Z",
     "start_time": "2024-05-14T13:58:54.696389Z"
    }
   },
   "outputs": [],
   "source": [
    "sweeps_id = {\n",
    "    \"affine\": \"m2a2visa.csv\",\n",
    "    \"elastic\": \"d1x4gpe3.csv\",\n",
    "    \"pixel-level\": \"cruht9ii.csv\",\n",
    "    \"grid_distortion\": \"yopel9on.csv\",\n",
    "    \"random_erasing_small_region\": \"97eubagm.csv\"\n",
    "}\n",
    "\n",
    "\n",
    "file_dir = \"sweeps_edited/\"\n",
    "\n",
    "general_df = pd.DataFrame()\n",
    "general_df_name = \"general_single.csv\"\n",
    "\n",
    "# Add combined metrric\n",
    "def add_metric(df):\n",
    "    df[\"average_metric\"] = 0.3 * df[\"Test F1_mean\"] + 0.2 * df[\"Test F1_max\"] + 0.5 * df[\"Test F1_min\"]\n",
    "    return df\n",
    "\n",
    "for sweep_type, file_name in sweeps_id.items():\n",
    "    df = pd.read_csv(file_dir + file_name)\n",
    "    \n",
    "    \n",
    "    if \"Transforms\" in df.columns:\n",
    "        df[\"Transforms\"] = df[\"Transforms\"].fillna(\"None\")\n",
    "    df[\"sweep_type\"] = sweep_type\n",
    "    \n",
    "    # check it Transforms is None, replace sweep_type with \"None\"\n",
    "    df[\"sweep_type\"] = df[\"sweep_type\"].where((df[\"Transforms\"] != \"None\"), \"without augmentation\")\n",
    "    \n",
    "    df = add_metric(df)\n",
    "    general_df = pd.concat([general_df, df])\n",
    "\n",
    "general_df.to_csv(general_df_name, index=False)"
   ]
  },
  {
   "cell_type": "code",
   "outputs": [],
   "source": [],
   "metadata": {
    "collapsed": false
   },
   "id": "d9e25dce8aacd90a"
  }
 ],
 "metadata": {
  "kernelspec": {
   "display_name": "Python 3",
   "language": "python",
   "name": "python3"
  },
  "language_info": {
   "codemirror_mode": {
    "name": "ipython",
    "version": 2
   },
   "file_extension": ".py",
   "mimetype": "text/x-python",
   "name": "python",
   "nbconvert_exporter": "python",
   "pygments_lexer": "ipython2",
   "version": "2.7.6"
  }
 },
 "nbformat": 4,
 "nbformat_minor": 5
}
