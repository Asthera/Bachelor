{
 "cells": [
  {
   "cell_type": "code",
   "outputs": [],
   "source": [
    "from read_sweep import SweepReader\n",
    "from edit_sweep_df import SweepEditorDataFrame"
   ],
   "metadata": {
    "collapsed": false,
    "ExecuteTime": {
     "end_time": "2024-04-25T12:40:16.294903Z",
     "start_time": "2024-04-25T12:40:15.395133Z"
    }
   },
   "id": "e12f1f8704b72cc8",
   "execution_count": 1
  },
  {
   "cell_type": "code",
   "outputs": [],
   "source": [
    "# affine_single name of the sweep\n",
    "sweep_id = \"d1x4gpe3\"\n",
    "project_path = \"daswoldemar/bachelor\""
   ],
   "metadata": {
    "collapsed": false,
    "ExecuteTime": {
     "end_time": "2024-04-25T12:40:18.508649Z",
     "start_time": "2024-04-25T12:40:18.505975Z"
    }
   },
   "id": "8deadb8cf145f9c2",
   "execution_count": 2
  },
  {
   "cell_type": "code",
   "outputs": [
    {
     "name": "stderr",
     "output_type": "stream",
     "text": [
      "\u001B[34m\u001B[1mwandb\u001B[0m:   1 of 1 files downloaded.  \n",
      "\u001B[34m\u001B[1mwandb\u001B[0m:   1 of 1 files downloaded.  \n",
      "\u001B[34m\u001B[1mwandb\u001B[0m:   1 of 1 files downloaded.  \n",
      "\u001B[34m\u001B[1mwandb\u001B[0m:   1 of 1 files downloaded.  \n",
      "\u001B[34m\u001B[1mwandb\u001B[0m:   1 of 1 files downloaded.  \n",
      "\u001B[34m\u001B[1mwandb\u001B[0m:   1 of 1 files downloaded.  \n",
      "\u001B[34m\u001B[1mwandb\u001B[0m:   1 of 1 files downloaded.  \n",
      "\u001B[34m\u001B[1mwandb\u001B[0m:   1 of 1 files downloaded.  \n",
      "\u001B[34m\u001B[1mwandb\u001B[0m:   1 of 1 files downloaded.  \n",
      "\u001B[34m\u001B[1mwandb\u001B[0m:   1 of 1 files downloaded.  \n",
      "\u001B[34m\u001B[1mwandb\u001B[0m:   1 of 1 files downloaded.  \n",
      "\u001B[34m\u001B[1mwandb\u001B[0m:   1 of 1 files downloaded.  \n",
      "\u001B[34m\u001B[1mwandb\u001B[0m:   1 of 1 files downloaded.  \n",
      "\u001B[34m\u001B[1mwandb\u001B[0m:   1 of 1 files downloaded.  \n",
      "\u001B[34m\u001B[1mwandb\u001B[0m:   1 of 1 files downloaded.  \n",
      "\u001B[34m\u001B[1mwandb\u001B[0m:   1 of 1 files downloaded.  \n",
      "\u001B[34m\u001B[1mwandb\u001B[0m:   1 of 1 files downloaded.  \n",
      "\u001B[34m\u001B[1mwandb\u001B[0m:   1 of 1 files downloaded.  \n",
      "\u001B[34m\u001B[1mwandb\u001B[0m:   1 of 1 files downloaded.  \n",
      "\u001B[34m\u001B[1mwandb\u001B[0m:   1 of 1 files downloaded.  \n",
      "\u001B[34m\u001B[1mwandb\u001B[0m:   1 of 1 files downloaded.  \n",
      "\u001B[34m\u001B[1mwandb\u001B[0m:   1 of 1 files downloaded.  \n",
      "\u001B[34m\u001B[1mwandb\u001B[0m:   1 of 1 files downloaded.  \n",
      "\u001B[34m\u001B[1mwandb\u001B[0m:   1 of 1 files downloaded.  \n",
      "\u001B[34m\u001B[1mwandb\u001B[0m:   1 of 1 files downloaded.  \n",
      "\u001B[34m\u001B[1mwandb\u001B[0m:   1 of 1 files downloaded.  \n",
      "\u001B[34m\u001B[1mwandb\u001B[0m:   1 of 1 files downloaded.  \n",
      "\u001B[34m\u001B[1mwandb\u001B[0m:   1 of 1 files downloaded.  \n",
      "\u001B[34m\u001B[1mwandb\u001B[0m:   1 of 1 files downloaded.  \n",
      "\u001B[34m\u001B[1mwandb\u001B[0m:   1 of 1 files downloaded.  \n",
      "\u001B[34m\u001B[1mwandb\u001B[0m:   1 of 1 files downloaded.  \n",
      "\u001B[34m\u001B[1mwandb\u001B[0m:   1 of 1 files downloaded.  \n",
      "\u001B[34m\u001B[1mwandb\u001B[0m:   1 of 1 files downloaded.  \n",
      "\u001B[34m\u001B[1mwandb\u001B[0m:   1 of 1 files downloaded.  \n",
      "\u001B[34m\u001B[1mwandb\u001B[0m:   1 of 1 files downloaded.  \n",
      "\u001B[34m\u001B[1mwandb\u001B[0m:   1 of 1 files downloaded.  \n",
      "\u001B[34m\u001B[1mwandb\u001B[0m:   1 of 1 files downloaded.  \n",
      "\u001B[34m\u001B[1mwandb\u001B[0m:   1 of 1 files downloaded.  \n",
      "\u001B[34m\u001B[1mwandb\u001B[0m:   1 of 1 files downloaded.  \n",
      "\u001B[34m\u001B[1mwandb\u001B[0m:   1 of 1 files downloaded.  \n",
      "\u001B[34m\u001B[1mwandb\u001B[0m:   1 of 1 files downloaded.  \n",
      "\u001B[34m\u001B[1mwandb\u001B[0m:   1 of 1 files downloaded.  \n",
      "\u001B[34m\u001B[1mwandb\u001B[0m:   1 of 1 files downloaded.  \n",
      "\u001B[34m\u001B[1mwandb\u001B[0m:   1 of 1 files downloaded.  \n",
      "\u001B[34m\u001B[1mwandb\u001B[0m:   1 of 1 files downloaded.  \n",
      "\u001B[34m\u001B[1mwandb\u001B[0m:   1 of 1 files downloaded.  \n",
      "\u001B[34m\u001B[1mwandb\u001B[0m:   1 of 1 files downloaded.  \n",
      "\u001B[34m\u001B[1mwandb\u001B[0m:   1 of 1 files downloaded.  \n",
      "\u001B[34m\u001B[1mwandb\u001B[0m:   1 of 1 files downloaded.  \n",
      "\u001B[34m\u001B[1mwandb\u001B[0m:   1 of 1 files downloaded.  \n"
     ]
    },
    {
     "name": "stdout",
     "output_type": "stream",
     "text": [
      "Data saved to CSV file\n"
     ]
    }
   ],
   "source": [
    "# read sweep, save raw\n",
    "reader = SweepReader(sweep_id, project_path)\n",
    "df_raw = reader.fetch_sweep_runs()\n",
    "reader.save_to_csv(\"sweeps_raw/\" + sweep_id + \".csv\")"
   ],
   "metadata": {
    "collapsed": false,
    "ExecuteTime": {
     "end_time": "2024-04-25T12:41:28.726232Z",
     "start_time": "2024-04-25T12:40:19.595392Z"
    }
   },
   "id": "66a1f5d885dde896",
   "execution_count": 3
  },
  {
   "cell_type": "code",
   "outputs": [
    {
     "data": {
      "text/plain": "                                                    Test F1_mean  Test F1_max  \\\nTransforms                                                                      \n\"MT.Rand2DElastic(prob=0.5, spacing=(30, 30), m...      0.198382     0.642202   \n\"MT.Rand2DElastic(prob=0.5, spacing=(30, 30), m...      0.226520     0.636364   \n\"MT.Rand2DElastic(prob=0.5, spacing=(30, 30), m...      0.202791     0.511364   \n\"MT.Rand2DElastic(prob=0.5, spacing=(45, 45), m...      0.239560     0.769231   \nCT.RandomElasticTransform(p=0.5, alpha=(20.0, 5...      0.221948     0.700000   \nCT.RandomElasticTransform(p=0.5, alpha=(5.0, 10...      0.168549     0.507246   \nCT.RandomElasticTransform(p=0.5, alpha=(5.0, 20...      0.219231     0.666667   \nCT.RandomElasticTransform(p=0.5, alpha=(5.0, 40...      0.249659     0.679612   \nCT.RandomElasticTransform(p=0.5, alpha=(5.0, 50...      0.268857     0.551181   \nNone                                                    0.235569     0.715789   \n\n                                                    Test F1_min  \\\nTransforms                                                        \n\"MT.Rand2DElastic(prob=0.5, spacing=(30, 30), m...     0.000000   \n\"MT.Rand2DElastic(prob=0.5, spacing=(30, 30), m...     0.000000   \n\"MT.Rand2DElastic(prob=0.5, spacing=(30, 30), m...     0.000000   \n\"MT.Rand2DElastic(prob=0.5, spacing=(45, 45), m...     0.000000   \nCT.RandomElasticTransform(p=0.5, alpha=(20.0, 5...     0.000000   \nCT.RandomElasticTransform(p=0.5, alpha=(5.0, 10...     0.000000   \nCT.RandomElasticTransform(p=0.5, alpha=(5.0, 20...     0.000000   \nCT.RandomElasticTransform(p=0.5, alpha=(5.0, 40...     0.040201   \nCT.RandomElasticTransform(p=0.5, alpha=(5.0, 50...     0.111111   \nNone                                                   0.000000   \n\n                                                    Test Precision_mean  \\\nTransforms                                                                \n\"MT.Rand2DElastic(prob=0.5, spacing=(30, 30), m...             0.189267   \n\"MT.Rand2DElastic(prob=0.5, spacing=(30, 30), m...             0.370422   \n\"MT.Rand2DElastic(prob=0.5, spacing=(30, 30), m...             0.149468   \n\"MT.Rand2DElastic(prob=0.5, spacing=(45, 45), m...             0.418213   \nCT.RandomElasticTransform(p=0.5, alpha=(20.0, 5...             0.369228   \nCT.RandomElasticTransform(p=0.5, alpha=(5.0, 10...             0.200733   \nCT.RandomElasticTransform(p=0.5, alpha=(5.0, 20...             0.276572   \nCT.RandomElasticTransform(p=0.5, alpha=(5.0, 40...             0.335160   \nCT.RandomElasticTransform(p=0.5, alpha=(5.0, 50...             0.388680   \nNone                                                           0.423469   \n\n                                                    Test Precision_max  \\\nTransforms                                                               \n\"MT.Rand2DElastic(prob=0.5, spacing=(30, 30), m...            0.564516   \n\"MT.Rand2DElastic(prob=0.5, spacing=(30, 30), m...            1.000000   \n\"MT.Rand2DElastic(prob=0.5, spacing=(30, 30), m...            0.348837   \n\"MT.Rand2DElastic(prob=0.5, spacing=(45, 45), m...            1.000000   \nCT.RandomElasticTransform(p=0.5, alpha=(20.0, 5...            1.000000   \nCT.RandomElasticTransform(p=0.5, alpha=(5.0, 10...            0.384615   \nCT.RandomElasticTransform(p=0.5, alpha=(5.0, 20...            0.750000   \nCT.RandomElasticTransform(p=0.5, alpha=(5.0, 40...            0.666667   \nCT.RandomElasticTransform(p=0.5, alpha=(5.0, 50...            1.000000   \nNone                                                          1.000000   \n\n                                                    Test Precision_min  \\\nTransforms                                                               \n\"MT.Rand2DElastic(prob=0.5, spacing=(30, 30), m...            0.000000   \n\"MT.Rand2DElastic(prob=0.5, spacing=(30, 30), m...            0.000000   \n\"MT.Rand2DElastic(prob=0.5, spacing=(30, 30), m...            0.000000   \n\"MT.Rand2DElastic(prob=0.5, spacing=(45, 45), m...            0.000000   \nCT.RandomElasticTransform(p=0.5, alpha=(20.0, 5...            0.000000   \nCT.RandomElasticTransform(p=0.5, alpha=(5.0, 10...            0.000000   \nCT.RandomElasticTransform(p=0.5, alpha=(5.0, 20...            0.000000   \nCT.RandomElasticTransform(p=0.5, alpha=(5.0, 40...            0.023529   \nCT.RandomElasticTransform(p=0.5, alpha=(5.0, 50...            0.111111   \nNone                                                          0.000000   \n\n                                                    Test Recall_mean  \\\nTransforms                                                             \n\"MT.Rand2DElastic(prob=0.5, spacing=(30, 30), m...          0.226608   \n\"MT.Rand2DElastic(prob=0.5, spacing=(30, 30), m...          0.260259   \n\"MT.Rand2DElastic(prob=0.5, spacing=(30, 30), m...          0.377652   \n\"MT.Rand2DElastic(prob=0.5, spacing=(45, 45), m...          0.252852   \nCT.RandomElasticTransform(p=0.5, alpha=(20.0, 5...          0.265973   \nCT.RandomElasticTransform(p=0.5, alpha=(5.0, 10...          0.198037   \nCT.RandomElasticTransform(p=0.5, alpha=(5.0, 20...          0.222587   \nCT.RandomElasticTransform(p=0.5, alpha=(5.0, 40...          0.287845   \nCT.RandomElasticTransform(p=0.5, alpha=(5.0, 50...          0.459077   \nNone                                                        0.237168   \n\n                                                    Test Recall_max  \\\nTransforms                                                            \n\"MT.Rand2DElastic(prob=0.5, spacing=(30, 30), m...         0.744681   \n\"MT.Rand2DElastic(prob=0.5, spacing=(30, 30), m...         0.744681   \n\"MT.Rand2DElastic(prob=0.5, spacing=(30, 30), m...         0.957447   \n\"MT.Rand2DElastic(prob=0.5, spacing=(45, 45), m...         0.744681   \nCT.RandomElasticTransform(p=0.5, alpha=(20.0, 5...         0.744681   \nCT.RandomElasticTransform(p=0.5, alpha=(5.0, 10...         0.744681   \nCT.RandomElasticTransform(p=0.5, alpha=(5.0, 20...         0.744681   \nCT.RandomElasticTransform(p=0.5, alpha=(5.0, 40...         0.744681   \nCT.RandomElasticTransform(p=0.5, alpha=(5.0, 50...         0.965517   \nNone                                                       0.723404   \n\n                                                    Test Recall_min  \\\nTransforms                                                            \n\"MT.Rand2DElastic(prob=0.5, spacing=(30, 30), m...         0.000000   \n\"MT.Rand2DElastic(prob=0.5, spacing=(30, 30), m...         0.000000   \n\"MT.Rand2DElastic(prob=0.5, spacing=(30, 30), m...         0.000000   \n\"MT.Rand2DElastic(prob=0.5, spacing=(45, 45), m...         0.000000   \nCT.RandomElasticTransform(p=0.5, alpha=(20.0, 5...         0.000000   \nCT.RandomElasticTransform(p=0.5, alpha=(5.0, 10...         0.000000   \nCT.RandomElasticTransform(p=0.5, alpha=(5.0, 20...         0.000000   \nCT.RandomElasticTransform(p=0.5, alpha=(5.0, 40...         0.074074   \nCT.RandomElasticTransform(p=0.5, alpha=(5.0, 50...         0.074074   \nNone                                                       0.000000   \n\n                                                   Test Accuracy_mean  \\\nTransforms                                                              \n\"MT.Rand2DElastic(prob=0.5, spacing=(30, 30), m...                NaN   \n\"MT.Rand2DElastic(prob=0.5, spacing=(30, 30), m...                NaN   \n\"MT.Rand2DElastic(prob=0.5, spacing=(30, 30), m...                NaN   \n\"MT.Rand2DElastic(prob=0.5, spacing=(45, 45), m...                NaN   \nCT.RandomElasticTransform(p=0.5, alpha=(20.0, 5...                NaN   \nCT.RandomElasticTransform(p=0.5, alpha=(5.0, 10...                NaN   \nCT.RandomElasticTransform(p=0.5, alpha=(5.0, 20...                NaN   \nCT.RandomElasticTransform(p=0.5, alpha=(5.0, 40...                NaN   \nCT.RandomElasticTransform(p=0.5, alpha=(5.0, 50...                NaN   \nNone                                                              NaN   \n\n                                                   Test Accuracy_max  \\\nTransforms                                                             \n\"MT.Rand2DElastic(prob=0.5, spacing=(30, 30), m...               NaN   \n\"MT.Rand2DElastic(prob=0.5, spacing=(30, 30), m...               NaN   \n\"MT.Rand2DElastic(prob=0.5, spacing=(30, 30), m...               NaN   \n\"MT.Rand2DElastic(prob=0.5, spacing=(45, 45), m...               NaN   \nCT.RandomElasticTransform(p=0.5, alpha=(20.0, 5...               NaN   \nCT.RandomElasticTransform(p=0.5, alpha=(5.0, 10...               NaN   \nCT.RandomElasticTransform(p=0.5, alpha=(5.0, 20...               NaN   \nCT.RandomElasticTransform(p=0.5, alpha=(5.0, 40...               NaN   \nCT.RandomElasticTransform(p=0.5, alpha=(5.0, 50...               NaN   \nNone                                                             NaN   \n\n                                                   Test Accuracy_min  \nTransforms                                                            \n\"MT.Rand2DElastic(prob=0.5, spacing=(30, 30), m...               NaN  \n\"MT.Rand2DElastic(prob=0.5, spacing=(30, 30), m...               NaN  \n\"MT.Rand2DElastic(prob=0.5, spacing=(30, 30), m...               NaN  \n\"MT.Rand2DElastic(prob=0.5, spacing=(45, 45), m...               NaN  \nCT.RandomElasticTransform(p=0.5, alpha=(20.0, 5...               NaN  \nCT.RandomElasticTransform(p=0.5, alpha=(5.0, 10...               NaN  \nCT.RandomElasticTransform(p=0.5, alpha=(5.0, 20...               NaN  \nCT.RandomElasticTransform(p=0.5, alpha=(5.0, 40...               NaN  \nCT.RandomElasticTransform(p=0.5, alpha=(5.0, 50...               NaN  \nNone                                                             NaN  ",
      "text/html": "<div>\n<style scoped>\n    .dataframe tbody tr th:only-of-type {\n        vertical-align: middle;\n    }\n\n    .dataframe tbody tr th {\n        vertical-align: top;\n    }\n\n    .dataframe thead th {\n        text-align: right;\n    }\n</style>\n<table border=\"1\" class=\"dataframe\">\n  <thead>\n    <tr style=\"text-align: right;\">\n      <th></th>\n      <th>Test F1_mean</th>\n      <th>Test F1_max</th>\n      <th>Test F1_min</th>\n      <th>Test Precision_mean</th>\n      <th>Test Precision_max</th>\n      <th>Test Precision_min</th>\n      <th>Test Recall_mean</th>\n      <th>Test Recall_max</th>\n      <th>Test Recall_min</th>\n      <th>Test Accuracy_mean</th>\n      <th>Test Accuracy_max</th>\n      <th>Test Accuracy_min</th>\n    </tr>\n    <tr>\n      <th>Transforms</th>\n      <th></th>\n      <th></th>\n      <th></th>\n      <th></th>\n      <th></th>\n      <th></th>\n      <th></th>\n      <th></th>\n      <th></th>\n      <th></th>\n      <th></th>\n      <th></th>\n    </tr>\n  </thead>\n  <tbody>\n    <tr>\n      <th>\"MT.Rand2DElastic(prob=0.5, spacing=(30, 30), magnitude_range=(1.0, 2.0), padding_mode=zeros, spatial_size=(600, 400))\"</th>\n      <td>0.198382</td>\n      <td>0.642202</td>\n      <td>0.000000</td>\n      <td>0.189267</td>\n      <td>0.564516</td>\n      <td>0.000000</td>\n      <td>0.226608</td>\n      <td>0.744681</td>\n      <td>0.000000</td>\n      <td>NaN</td>\n      <td>NaN</td>\n      <td>NaN</td>\n    </tr>\n    <tr>\n      <th>\"MT.Rand2DElastic(prob=0.5, spacing=(30, 30), magnitude_range=(1.0, 3.0), padding_mode=zeros, spatial_size=(600, 400))\"</th>\n      <td>0.226520</td>\n      <td>0.636364</td>\n      <td>0.000000</td>\n      <td>0.370422</td>\n      <td>1.000000</td>\n      <td>0.000000</td>\n      <td>0.260259</td>\n      <td>0.744681</td>\n      <td>0.000000</td>\n      <td>NaN</td>\n      <td>NaN</td>\n      <td>NaN</td>\n    </tr>\n    <tr>\n      <th>\"MT.Rand2DElastic(prob=0.5, spacing=(30, 30), magnitude_range=(2.5, 3.0), padding_mode=zeros, spatial_size=(600, 400))\"</th>\n      <td>0.202791</td>\n      <td>0.511364</td>\n      <td>0.000000</td>\n      <td>0.149468</td>\n      <td>0.348837</td>\n      <td>0.000000</td>\n      <td>0.377652</td>\n      <td>0.957447</td>\n      <td>0.000000</td>\n      <td>NaN</td>\n      <td>NaN</td>\n      <td>NaN</td>\n    </tr>\n    <tr>\n      <th>\"MT.Rand2DElastic(prob=0.5, spacing=(45, 45), magnitude_range=(1.0, 3.0), padding_mode=zeros, spatial_size=(600, 400))\"</th>\n      <td>0.239560</td>\n      <td>0.769231</td>\n      <td>0.000000</td>\n      <td>0.418213</td>\n      <td>1.000000</td>\n      <td>0.000000</td>\n      <td>0.252852</td>\n      <td>0.744681</td>\n      <td>0.000000</td>\n      <td>NaN</td>\n      <td>NaN</td>\n      <td>NaN</td>\n    </tr>\n    <tr>\n      <th>CT.RandomElasticTransform(p=0.5, alpha=(20.0, 5.0), sigma=(4.0, 5.0))</th>\n      <td>0.221948</td>\n      <td>0.700000</td>\n      <td>0.000000</td>\n      <td>0.369228</td>\n      <td>1.000000</td>\n      <td>0.000000</td>\n      <td>0.265973</td>\n      <td>0.744681</td>\n      <td>0.000000</td>\n      <td>NaN</td>\n      <td>NaN</td>\n      <td>NaN</td>\n    </tr>\n    <tr>\n      <th>CT.RandomElasticTransform(p=0.5, alpha=(5.0, 10.0), sigma=(3.0, 5.0))</th>\n      <td>0.168549</td>\n      <td>0.507246</td>\n      <td>0.000000</td>\n      <td>0.200733</td>\n      <td>0.384615</td>\n      <td>0.000000</td>\n      <td>0.198037</td>\n      <td>0.744681</td>\n      <td>0.000000</td>\n      <td>NaN</td>\n      <td>NaN</td>\n      <td>NaN</td>\n    </tr>\n    <tr>\n      <th>CT.RandomElasticTransform(p=0.5, alpha=(5.0, 20.0), sigma=(3.0, 5.0))</th>\n      <td>0.219231</td>\n      <td>0.666667</td>\n      <td>0.000000</td>\n      <td>0.276572</td>\n      <td>0.750000</td>\n      <td>0.000000</td>\n      <td>0.222587</td>\n      <td>0.744681</td>\n      <td>0.000000</td>\n      <td>NaN</td>\n      <td>NaN</td>\n      <td>NaN</td>\n    </tr>\n    <tr>\n      <th>CT.RandomElasticTransform(p=0.5, alpha=(5.0, 40.0), sigma=(4.0, 5.0))</th>\n      <td>0.249659</td>\n      <td>0.679612</td>\n      <td>0.040201</td>\n      <td>0.335160</td>\n      <td>0.666667</td>\n      <td>0.023529</td>\n      <td>0.287845</td>\n      <td>0.744681</td>\n      <td>0.074074</td>\n      <td>NaN</td>\n      <td>NaN</td>\n      <td>NaN</td>\n    </tr>\n    <tr>\n      <th>CT.RandomElasticTransform(p=0.5, alpha=(5.0, 50.0), sigma=(4.0, 5.0))</th>\n      <td>0.268857</td>\n      <td>0.551181</td>\n      <td>0.111111</td>\n      <td>0.388680</td>\n      <td>1.000000</td>\n      <td>0.111111</td>\n      <td>0.459077</td>\n      <td>0.965517</td>\n      <td>0.074074</td>\n      <td>NaN</td>\n      <td>NaN</td>\n      <td>NaN</td>\n    </tr>\n    <tr>\n      <th>None</th>\n      <td>0.235569</td>\n      <td>0.715789</td>\n      <td>0.000000</td>\n      <td>0.423469</td>\n      <td>1.000000</td>\n      <td>0.000000</td>\n      <td>0.237168</td>\n      <td>0.723404</td>\n      <td>0.000000</td>\n      <td>NaN</td>\n      <td>NaN</td>\n      <td>NaN</td>\n    </tr>\n  </tbody>\n</table>\n</div>"
     },
     "execution_count": 4,
     "metadata": {},
     "output_type": "execute_result"
    }
   ],
   "source": [
    "# edit sweep, save edited\n",
    "editor = SweepEditorDataFrame([df_raw, ])\n",
    "df_edited = editor.init_edit()\n",
    "df_edited.to_csv(\"sweeps_edited/\" + sweep_id + \".csv\")\n",
    "df_edited"
   ],
   "metadata": {
    "collapsed": false,
    "ExecuteTime": {
     "end_time": "2024-04-25T12:42:04.594278Z",
     "start_time": "2024-04-25T12:42:04.569935Z"
    }
   },
   "id": "559f91fa3f532a74",
   "execution_count": 4
  },
  {
   "cell_type": "code",
   "outputs": [],
   "source": [],
   "metadata": {
    "collapsed": false
   },
   "id": "c5e0ccc2f6b10f72"
  }
 ],
 "metadata": {
  "kernelspec": {
   "display_name": "Python 3",
   "language": "python",
   "name": "python3"
  },
  "language_info": {
   "codemirror_mode": {
    "name": "ipython",
    "version": 2
   },
   "file_extension": ".py",
   "mimetype": "text/x-python",
   "name": "python",
   "nbconvert_exporter": "python",
   "pygments_lexer": "ipython2",
   "version": "2.7.6"
  }
 },
 "nbformat": 4,
 "nbformat_minor": 5
}
