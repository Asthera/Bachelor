{
 "cells": [
  {
   "cell_type": "code",
   "outputs": [],
   "source": [
    "from read_sweep import SweepReader\n",
    "from edit_sweep_df import SweepEditorDataFrame"
   ],
   "metadata": {
    "collapsed": false,
    "ExecuteTime": {
     "end_time": "2024-05-09T12:46:33.167817Z",
     "start_time": "2024-05-09T12:46:32.349833Z"
    }
   },
   "id": "a4d3a40e84546e45",
   "execution_count": 1
  },
  {
   "cell_type": "code",
   "outputs": [],
   "source": [
    "# affine_single name of the sweep\n",
    "sweep_id = \"ky2kmeuh\"\n",
    "project_path = \"daswoldemar/bachelor\""
   ],
   "metadata": {
    "collapsed": false,
    "ExecuteTime": {
     "end_time": "2024-05-09T12:46:33.704061Z",
     "start_time": "2024-05-09T12:46:33.701212Z"
    }
   },
   "id": "335e6c82eb86c000",
   "execution_count": 2
  },
  {
   "cell_type": "code",
   "outputs": [
    {
     "name": "stderr",
     "output_type": "stream",
     "text": [
      "\u001B[34m\u001B[1mwandb\u001B[0m:   1 of 1 files downloaded.  \n",
      "\u001B[34m\u001B[1mwandb\u001B[0m:   1 of 1 files downloaded.  \n",
      "\u001B[34m\u001B[1mwandb\u001B[0m:   1 of 1 files downloaded.  \n",
      "\u001B[34m\u001B[1mwandb\u001B[0m:   1 of 1 files downloaded.  \n",
      "\u001B[34m\u001B[1mwandb\u001B[0m:   1 of 1 files downloaded.  \n",
      "\u001B[34m\u001B[1mwandb\u001B[0m:   1 of 1 files downloaded.  \n",
      "\u001B[34m\u001B[1mwandb\u001B[0m:   1 of 1 files downloaded.  \n",
      "\u001B[34m\u001B[1mwandb\u001B[0m:   1 of 1 files downloaded.  \n",
      "\u001B[34m\u001B[1mwandb\u001B[0m:   1 of 1 files downloaded.  \n",
      "\u001B[34m\u001B[1mwandb\u001B[0m:   1 of 1 files downloaded.  \n",
      "\u001B[34m\u001B[1mwandb\u001B[0m:   1 of 1 files downloaded.  \n",
      "\u001B[34m\u001B[1mwandb\u001B[0m:   1 of 1 files downloaded.  \n",
      "\u001B[34m\u001B[1mwandb\u001B[0m:   1 of 1 files downloaded.  \n",
      "\u001B[34m\u001B[1mwandb\u001B[0m:   1 of 1 files downloaded.  \n",
      "\u001B[34m\u001B[1mwandb\u001B[0m:   1 of 1 files downloaded.  \n",
      "\u001B[34m\u001B[1mwandb\u001B[0m:   1 of 1 files downloaded.  \n",
      "\u001B[34m\u001B[1mwandb\u001B[0m:   1 of 1 files downloaded.  \n",
      "\u001B[34m\u001B[1mwandb\u001B[0m:   1 of 1 files downloaded.  \n",
      "\u001B[34m\u001B[1mwandb\u001B[0m:   1 of 1 files downloaded.  \n",
      "\u001B[34m\u001B[1mwandb\u001B[0m:   1 of 1 files downloaded.  \n",
      "\u001B[34m\u001B[1mwandb\u001B[0m:   1 of 1 files downloaded.  \n",
      "\u001B[34m\u001B[1mwandb\u001B[0m:   1 of 1 files downloaded.  \n",
      "\u001B[34m\u001B[1mwandb\u001B[0m:   1 of 1 files downloaded.  \n",
      "\u001B[34m\u001B[1mwandb\u001B[0m:   1 of 1 files downloaded.  \n",
      "\u001B[34m\u001B[1mwandb\u001B[0m:   1 of 1 files downloaded.  \n",
      "\u001B[34m\u001B[1mwandb\u001B[0m:   1 of 1 files downloaded.  \n",
      "\u001B[34m\u001B[1mwandb\u001B[0m:   1 of 1 files downloaded.  \n",
      "\u001B[34m\u001B[1mwandb\u001B[0m:   1 of 1 files downloaded.  \n",
      "\u001B[34m\u001B[1mwandb\u001B[0m:   1 of 1 files downloaded.  \n",
      "\u001B[34m\u001B[1mwandb\u001B[0m:   1 of 1 files downloaded.  \n",
      "\u001B[34m\u001B[1mwandb\u001B[0m:   1 of 1 files downloaded.  \n",
      "\u001B[34m\u001B[1mwandb\u001B[0m:   1 of 1 files downloaded.  \n",
      "\u001B[34m\u001B[1mwandb\u001B[0m:   1 of 1 files downloaded.  \n",
      "\u001B[34m\u001B[1mwandb\u001B[0m:   1 of 1 files downloaded.  \n",
      "\u001B[34m\u001B[1mwandb\u001B[0m:   1 of 1 files downloaded.  \n",
      "\u001B[34m\u001B[1mwandb\u001B[0m:   1 of 1 files downloaded.  \n",
      "\u001B[34m\u001B[1mwandb\u001B[0m:   1 of 1 files downloaded.  \n",
      "\u001B[34m\u001B[1mwandb\u001B[0m:   1 of 1 files downloaded.  \n",
      "\u001B[34m\u001B[1mwandb\u001B[0m:   1 of 1 files downloaded.  \n",
      "\u001B[34m\u001B[1mwandb\u001B[0m:   1 of 1 files downloaded.  \n",
      "\u001B[34m\u001B[1mwandb\u001B[0m:   1 of 1 files downloaded.  \n",
      "\u001B[34m\u001B[1mwandb\u001B[0m:   1 of 1 files downloaded.  \n",
      "\u001B[34m\u001B[1mwandb\u001B[0m:   1 of 1 files downloaded.  \n",
      "\u001B[34m\u001B[1mwandb\u001B[0m:   1 of 1 files downloaded.  \n",
      "\u001B[34m\u001B[1mwandb\u001B[0m:   1 of 1 files downloaded.  \n",
      "\u001B[34m\u001B[1mwandb\u001B[0m:   1 of 1 files downloaded.  \n",
      "\u001B[34m\u001B[1mwandb\u001B[0m:   1 of 1 files downloaded.  \n",
      "\u001B[34m\u001B[1mwandb\u001B[0m:   1 of 1 files downloaded.  \n",
      "\u001B[34m\u001B[1mwandb\u001B[0m:   1 of 1 files downloaded.  \n",
      "\u001B[34m\u001B[1mwandb\u001B[0m:   1 of 1 files downloaded.  \n"
     ]
    },
    {
     "name": "stdout",
     "output_type": "stream",
     "text": [
      "Data saved to CSV file\n"
     ]
    }
   ],
   "source": [
    "# read sweep, save raw\n",
    "reader = SweepReader(sweep_id, project_path)\n",
    "df_raw = reader.fetch_sweep_runs()\n",
    "reader.save_to_csv(\"sweeps_raw/\"+sweep_id+\".csv\")"
   ],
   "metadata": {
    "collapsed": false,
    "ExecuteTime": {
     "end_time": "2024-05-09T12:47:39.719996Z",
     "start_time": "2024-05-09T12:46:34.595937Z"
    }
   },
   "id": "320fd29a498eda84",
   "execution_count": 3
  },
  {
   "cell_type": "code",
   "outputs": [],
   "source": [
    "# edit sweep, save edited\n",
    "editor = SweepEditorDataFrame([df_raw,])\n",
    "df_edited = editor.init_edit()\n",
    "df_edited.to_csv(\"sweeps_edited/\"+sweep_id+\".csv\")"
   ],
   "metadata": {
    "collapsed": false,
    "ExecuteTime": {
     "end_time": "2024-05-09T12:47:49.519978Z",
     "start_time": "2024-05-09T12:47:49.517084Z"
    }
   },
   "id": "1f7720ea5dabf1e9",
   "execution_count": 4
  },
  {
   "cell_type": "code",
   "outputs": [
    {
     "data": {
      "text/plain": "                                                    Test F1_mean  Test F1_max  \\\nTransforms                                                                      \nNone                                                    0.178997     0.505376   \nRandGaussianNoise(prob=0.5, mean=0.3, std=0.3)\\...      0.389230     0.912281   \nRandGaussianNoise(prob=0.5, mean=0.3, std=0.3)\\...      0.154620     0.361538   \nRandGaussianNoise(prob=0.5, mean=0.3, std=0.3)\\...      0.299397     0.710526   \nRandGaussianNoise(prob=0.5, mean=0.3, std=0.3)\\...      0.149917     0.342412   \nRandGridDistortion(num_cells=5, prob=0.5, disto...      0.227105     0.608696   \nRandomResizedCrop(510, antialias=True)\\nRandomV...      0.145466     0.286885   \nRandomResizedCrop(510, antialias=True)\\nRandomV...      0.223126     0.718750   \nRandomResizedCrop(510, antialias=True)\\nRandomV...      0.278362     0.491228   \nRandomVerticalFlip()\\nRandomRotation(degrees=10...      0.061502     0.272727   \n\n                                                    Test F1_min  \\\nTransforms                                                        \nNone                                                   0.000000   \nRandGaussianNoise(prob=0.5, mean=0.3, std=0.3)\\...     0.000000   \nRandGaussianNoise(prob=0.5, mean=0.3, std=0.3)\\...     0.000000   \nRandGaussianNoise(prob=0.5, mean=0.3, std=0.3)\\...     0.000000   \nRandGaussianNoise(prob=0.5, mean=0.3, std=0.3)\\...     0.000000   \nRandGridDistortion(num_cells=5, prob=0.5, disto...     0.051282   \nRandomResizedCrop(510, antialias=True)\\nRandomV...     0.000000   \nRandomResizedCrop(510, antialias=True)\\nRandomV...     0.000000   \nRandomResizedCrop(510, antialias=True)\\nRandomV...     0.000000   \nRandomVerticalFlip()\\nRandomRotation(degrees=10...     0.000000   \n\n                                                    Test Precision_mean  \\\nTransforms                                                                \nNone                                                           0.132449   \nRandGaussianNoise(prob=0.5, mean=0.3, std=0.3)\\...             0.441897   \nRandGaussianNoise(prob=0.5, mean=0.3, std=0.3)\\...             0.090279   \nRandGaussianNoise(prob=0.5, mean=0.3, std=0.3)\\...             0.295887   \nRandGaussianNoise(prob=0.5, mean=0.3, std=0.3)\\...             0.087481   \nRandGridDistortion(num_cells=5, prob=0.5, disto...             0.352899   \nRandomResizedCrop(510, antialias=True)\\nRandomV...             0.085516   \nRandomResizedCrop(510, antialias=True)\\nRandomV...             0.593915   \nRandomResizedCrop(510, antialias=True)\\nRandomV...             0.515310   \nRandomVerticalFlip()\\nRandomRotation(degrees=10...             0.036230   \n\n                                                    Test Precision_max  \\\nTransforms                                                               \nNone                                                          0.338129   \nRandGaussianNoise(prob=0.5, mean=0.3, std=0.3)\\...            0.866667   \nRandGaussianNoise(prob=0.5, mean=0.3, std=0.3)\\...            0.220657   \nRandGaussianNoise(prob=0.5, mean=0.3, std=0.3)\\...            0.700000   \nRandGaussianNoise(prob=0.5, mean=0.3, std=0.3)\\...            0.209524   \nRandGridDistortion(num_cells=5, prob=0.5, disto...            1.000000   \nRandomResizedCrop(510, antialias=True)\\nRandomV...            0.177665   \nRandomResizedCrop(510, antialias=True)\\nRandomV...            1.000000   \nRandomResizedCrop(510, antialias=True)\\nRandomV...            1.000000   \nRandomVerticalFlip()\\nRandomRotation(degrees=10...            0.157895   \n\n                                                    Test Precision_min  \\\nTransforms                                                               \nNone                                                          0.000000   \nRandGaussianNoise(prob=0.5, mean=0.3, std=0.3)\\...            0.000000   \nRandGaussianNoise(prob=0.5, mean=0.3, std=0.3)\\...            0.000000   \nRandGaussianNoise(prob=0.5, mean=0.3, std=0.3)\\...            0.000000   \nRandGaussianNoise(prob=0.5, mean=0.3, std=0.3)\\...            0.000000   \nRandGridDistortion(num_cells=5, prob=0.5, disto...            0.041096   \nRandomResizedCrop(510, antialias=True)\\nRandomV...            0.000000   \nRandomResizedCrop(510, antialias=True)\\nRandomV...            0.000000   \nRandomResizedCrop(510, antialias=True)\\nRandomV...            0.000000   \nRandomVerticalFlip()\\nRandomRotation(degrees=10...            0.000000   \n\n                                                    Test Recall_mean  \\\nTransforms                                                             \nNone                                                        0.317198   \nRandGaussianNoise(prob=0.5, mean=0.3, std=0.3)\\...          0.575814   \nRandGaussianNoise(prob=0.5, mean=0.3, std=0.3)\\...          0.600000   \nRandGaussianNoise(prob=0.5, mean=0.3, std=0.3)\\...          0.651852   \nRandGaussianNoise(prob=0.5, mean=0.3, std=0.3)\\...          0.587234   \nRandGridDistortion(num_cells=5, prob=0.5, disto...          0.264827   \nRandomResizedCrop(510, antialias=True)\\nRandomV...          0.548936   \nRandomResizedCrop(510, antialias=True)\\nRandomV...          0.287919   \nRandomResizedCrop(510, antialias=True)\\nRandomV...          0.281899   \nRandomVerticalFlip()\\nRandomRotation(degrees=10...          0.213793   \n\n                                                    Test Recall_max  \\\nTransforms                                                            \nNone                                                       1.000000   \nRandGaussianNoise(prob=0.5, mean=0.3, std=0.3)\\...         1.000000   \nRandGaussianNoise(prob=0.5, mean=0.3, std=0.3)\\...         1.000000   \nRandGaussianNoise(prob=0.5, mean=0.3, std=0.3)\\...         1.000000   \nRandGaussianNoise(prob=0.5, mean=0.3, std=0.3)\\...         1.000000   \nRandGridDistortion(num_cells=5, prob=0.5, disto...         0.744681   \nRandomResizedCrop(510, antialias=True)\\nRandomV...         1.000000   \nRandomResizedCrop(510, antialias=True)\\nRandomV...         0.724138   \nRandomResizedCrop(510, antialias=True)\\nRandomV...         0.553191   \nRandomVerticalFlip()\\nRandomRotation(degrees=10...         1.000000   \n\n                                                    Test Recall_min  \\\nTransforms                                                            \nNone                                                       0.000000   \nRandGaussianNoise(prob=0.5, mean=0.3, std=0.3)\\...         0.000000   \nRandGaussianNoise(prob=0.5, mean=0.3, std=0.3)\\...         0.000000   \nRandGaussianNoise(prob=0.5, mean=0.3, std=0.3)\\...         0.000000   \nRandGaussianNoise(prob=0.5, mean=0.3, std=0.3)\\...         0.000000   \nRandGridDistortion(num_cells=5, prob=0.5, disto...         0.034483   \nRandomResizedCrop(510, antialias=True)\\nRandomV...         0.000000   \nRandomResizedCrop(510, antialias=True)\\nRandomV...         0.000000   \nRandomResizedCrop(510, antialias=True)\\nRandomV...         0.000000   \nRandomVerticalFlip()\\nRandomRotation(degrees=10...         0.000000   \n\n                                                   Test Accuracy_mean  \\\nTransforms                                                              \nNone                                                              NaN   \nRandGaussianNoise(prob=0.5, mean=0.3, std=0.3)\\...                NaN   \nRandGaussianNoise(prob=0.5, mean=0.3, std=0.3)\\...                NaN   \nRandGaussianNoise(prob=0.5, mean=0.3, std=0.3)\\...                NaN   \nRandGaussianNoise(prob=0.5, mean=0.3, std=0.3)\\...                NaN   \nRandGridDistortion(num_cells=5, prob=0.5, disto...                NaN   \nRandomResizedCrop(510, antialias=True)\\nRandomV...                NaN   \nRandomResizedCrop(510, antialias=True)\\nRandomV...                NaN   \nRandomResizedCrop(510, antialias=True)\\nRandomV...                NaN   \nRandomVerticalFlip()\\nRandomRotation(degrees=10...                NaN   \n\n                                                   Test Accuracy_max  \\\nTransforms                                                             \nNone                                                             NaN   \nRandGaussianNoise(prob=0.5, mean=0.3, std=0.3)\\...               NaN   \nRandGaussianNoise(prob=0.5, mean=0.3, std=0.3)\\...               NaN   \nRandGaussianNoise(prob=0.5, mean=0.3, std=0.3)\\...               NaN   \nRandGaussianNoise(prob=0.5, mean=0.3, std=0.3)\\...               NaN   \nRandGridDistortion(num_cells=5, prob=0.5, disto...               NaN   \nRandomResizedCrop(510, antialias=True)\\nRandomV...               NaN   \nRandomResizedCrop(510, antialias=True)\\nRandomV...               NaN   \nRandomResizedCrop(510, antialias=True)\\nRandomV...               NaN   \nRandomVerticalFlip()\\nRandomRotation(degrees=10...               NaN   \n\n                                                   Test Accuracy_min  \nTransforms                                                            \nNone                                                             NaN  \nRandGaussianNoise(prob=0.5, mean=0.3, std=0.3)\\...               NaN  \nRandGaussianNoise(prob=0.5, mean=0.3, std=0.3)\\...               NaN  \nRandGaussianNoise(prob=0.5, mean=0.3, std=0.3)\\...               NaN  \nRandGaussianNoise(prob=0.5, mean=0.3, std=0.3)\\...               NaN  \nRandGridDistortion(num_cells=5, prob=0.5, disto...               NaN  \nRandomResizedCrop(510, antialias=True)\\nRandomV...               NaN  \nRandomResizedCrop(510, antialias=True)\\nRandomV...               NaN  \nRandomResizedCrop(510, antialias=True)\\nRandomV...               NaN  \nRandomVerticalFlip()\\nRandomRotation(degrees=10...               NaN  ",
      "text/html": "<div>\n<style scoped>\n    .dataframe tbody tr th:only-of-type {\n        vertical-align: middle;\n    }\n\n    .dataframe tbody tr th {\n        vertical-align: top;\n    }\n\n    .dataframe thead th {\n        text-align: right;\n    }\n</style>\n<table border=\"1\" class=\"dataframe\">\n  <thead>\n    <tr style=\"text-align: right;\">\n      <th></th>\n      <th>Test F1_mean</th>\n      <th>Test F1_max</th>\n      <th>Test F1_min</th>\n      <th>Test Precision_mean</th>\n      <th>Test Precision_max</th>\n      <th>Test Precision_min</th>\n      <th>Test Recall_mean</th>\n      <th>Test Recall_max</th>\n      <th>Test Recall_min</th>\n      <th>Test Accuracy_mean</th>\n      <th>Test Accuracy_max</th>\n      <th>Test Accuracy_min</th>\n    </tr>\n    <tr>\n      <th>Transforms</th>\n      <th></th>\n      <th></th>\n      <th></th>\n      <th></th>\n      <th></th>\n      <th></th>\n      <th></th>\n      <th></th>\n      <th></th>\n      <th></th>\n      <th></th>\n      <th></th>\n    </tr>\n  </thead>\n  <tbody>\n    <tr>\n      <th>None</th>\n      <td>0.178997</td>\n      <td>0.505376</td>\n      <td>0.000000</td>\n      <td>0.132449</td>\n      <td>0.338129</td>\n      <td>0.000000</td>\n      <td>0.317198</td>\n      <td>1.000000</td>\n      <td>0.000000</td>\n      <td>NaN</td>\n      <td>NaN</td>\n      <td>NaN</td>\n    </tr>\n    <tr>\n      <th>RandGaussianNoise(prob=0.5, mean=0.3, std=0.3)\\nRandAdjustContrast(prob=0.5, gamma=(0.5, 4.5))\\nRandHistogramShift(num_control_points=10, prob=0.5)\\nRandBiasField(degree=3, coeff_range=(0.0, 0.1), prob=0.5)\\nRandFlip(prob=0.5, spatial_axis=1)\\nRandGibbsNoise(prob=0.5, alpha=(0.4, 1.0))\\nRandZoom(prob=0.5, min_zoom=0.8, max_zoom=1.4)\\nRandRotate(range_x=10.0, prob=0.5, keep_size=True)\\nRandGaussianSmooth(sigma_x=(0.25, 1.5), sigma_y=(0.25, 1.5), prob=0.8)\\nRandAffine(prob=0.5)\\nRandGridDistortion(num_cells=5, prob=0.5, distort_limit=(-0.03, 0.03))\\nRand2DElastic(spacing=(20,20), magnitude_range=(1,2), prob=0.4)\\nRandCoarseDropout(holes=5, spatial_size=(30,30), fill_value=0, prob=0.6)\\nRandGaussianNoise(prob=0.5, mean=0.3, std=0.3)</th>\n      <td>0.389230</td>\n      <td>0.912281</td>\n      <td>0.000000</td>\n      <td>0.441897</td>\n      <td>0.866667</td>\n      <td>0.000000</td>\n      <td>0.575814</td>\n      <td>1.000000</td>\n      <td>0.000000</td>\n      <td>NaN</td>\n      <td>NaN</td>\n      <td>NaN</td>\n    </tr>\n    <tr>\n      <th>RandGaussianNoise(prob=0.5, mean=0.3, std=0.3)\\nRandAdjustContrast(prob=0.5, gamma=(0.5, 4.5))\\nRandHistogramShift(num_control_points=10, prob=0.5)\\nRandBiasField(degree=3, coeff_range=(0.0, 0.1), prob=0.5)\\nRandFlip(prob=0.5, spatial_axis=1)\\nRandGibbsNoise(prob=0.5, alpha=(0.4, 1.0))\\nRandZoom(prob=0.5, min_zoom=0.8, max_zoom=1.4)\\nRandRotate(range_x=10.0, prob=0.5, keep_size=True)\\nRandGaussianSmooth(sigma_x=(0.25, 1.5), sigma_y=(0.25, 1.5), prob=0.8)\\nRandAffine(prob=0.5)\\nRandGridDistortion(num_cells=5, prob=0.5, distort_limit=(-0.03, 0.03))\\nRand2DElastic(spacing=(20,20), magnitude_range=(1,2), prob=0.4)\\nRandCoarseDropout(holes=5, spatial_size=(30,30), fill_value=0,prob=0.6)\\nRandGaussianNoise(prob=0.5, mean=0.3, std=0.3)\\nNormalizeIntensity()</th>\n      <td>0.154620</td>\n      <td>0.361538</td>\n      <td>0.000000</td>\n      <td>0.090279</td>\n      <td>0.220657</td>\n      <td>0.000000</td>\n      <td>0.600000</td>\n      <td>1.000000</td>\n      <td>0.000000</td>\n      <td>NaN</td>\n      <td>NaN</td>\n      <td>NaN</td>\n    </tr>\n    <tr>\n      <th>RandGaussianNoise(prob=0.5, mean=0.3, std=0.3)\\nRandFlip(prob=0.5, spatial_axis=1)\\nRandZoom(prob=0.5, min_zoom=0.8, max_zoom=1.4)\\nNormalizeIntensity()</th>\n      <td>0.299397</td>\n      <td>0.710526</td>\n      <td>0.000000</td>\n      <td>0.295887</td>\n      <td>0.700000</td>\n      <td>0.000000</td>\n      <td>0.651852</td>\n      <td>1.000000</td>\n      <td>0.000000</td>\n      <td>NaN</td>\n      <td>NaN</td>\n      <td>NaN</td>\n    </tr>\n    <tr>\n      <th>RandGaussianNoise(prob=0.5, mean=0.3, std=0.3)\\nRandGibbsNoise(prob=0.5, alpha=(0.4, 1.0))\\nRandGaussianSmooth(sigma_x=(0.25, 1.5), sigma_y=(0.25, 1.5), prob=0.8)\\nNormalizeIntensity()</th>\n      <td>0.149917</td>\n      <td>0.342412</td>\n      <td>0.000000</td>\n      <td>0.087481</td>\n      <td>0.209524</td>\n      <td>0.000000</td>\n      <td>0.587234</td>\n      <td>1.000000</td>\n      <td>0.000000</td>\n      <td>NaN</td>\n      <td>NaN</td>\n      <td>NaN</td>\n    </tr>\n    <tr>\n      <th>RandGridDistortion(num_cells=5, prob=0.5, distort_limit=(-0.03, 0.03))\\nRand2DElastic(spacing=(20,20), magnitude_range=(1,2), prob=0.4)</th>\n      <td>0.227105</td>\n      <td>0.608696</td>\n      <td>0.051282</td>\n      <td>0.352899</td>\n      <td>1.000000</td>\n      <td>0.041096</td>\n      <td>0.264827</td>\n      <td>0.744681</td>\n      <td>0.034483</td>\n      <td>NaN</td>\n      <td>NaN</td>\n      <td>NaN</td>\n    </tr>\n    <tr>\n      <th>RandomResizedCrop(510, antialias=True)\\nRandomVerticalFlip()\\nRandomRotation(degrees=15)\\nColorJitter(brightness=0.2, contrast=0.2, saturation=0.2, hue=0.1)\\nRandomAffine(degrees=15, translate=(0.1, 0.1), scale=(0.8, 1.2), shear=10)\\nNormalize(mean=(0.5, 0.5, 0.5), std=(0.5, 0.5, 0.5))</th>\n      <td>0.145466</td>\n      <td>0.286885</td>\n      <td>0.000000</td>\n      <td>0.085516</td>\n      <td>0.177665</td>\n      <td>0.000000</td>\n      <td>0.548936</td>\n      <td>1.000000</td>\n      <td>0.000000</td>\n      <td>NaN</td>\n      <td>NaN</td>\n      <td>NaN</td>\n    </tr>\n    <tr>\n      <th>RandomResizedCrop(510, antialias=True)\\nRandomVerticalFlip()\\nRandomRotation(degrees=15)\\nRandomAffine(degrees=15, translate=(0.1, 0.1), scale=(0.8, 1.2), shear=10)\\nNormalize(mean=(0.5, 0.5, 0.5), std=(0.5, 0.5, 0.5))</th>\n      <td>0.223126</td>\n      <td>0.718750</td>\n      <td>0.000000</td>\n      <td>0.593915</td>\n      <td>1.000000</td>\n      <td>0.000000</td>\n      <td>0.287919</td>\n      <td>0.724138</td>\n      <td>0.000000</td>\n      <td>NaN</td>\n      <td>NaN</td>\n      <td>NaN</td>\n    </tr>\n    <tr>\n      <th>RandomResizedCrop(510, antialias=True)\\nRandomVerticalFlip()\\nRandomRotation(degrees=15)\\nRandomAffine(degrees=15, translate=(0.1, 0.1), scale=(0.8, 1.2), shear=10)\\nRandGaussianNoise(prob=0.5, mean=0, std=0.0001)\\nNormalize(mean=(0.5, 0.5, 0.5), std=(0.5, 0.5, 0.5))</th>\n      <td>0.278362</td>\n      <td>0.491228</td>\n      <td>0.000000</td>\n      <td>0.515310</td>\n      <td>1.000000</td>\n      <td>0.000000</td>\n      <td>0.281899</td>\n      <td>0.553191</td>\n      <td>0.000000</td>\n      <td>NaN</td>\n      <td>NaN</td>\n      <td>NaN</td>\n    </tr>\n    <tr>\n      <th>RandomVerticalFlip()\\nRandomRotation(degrees=10)\\nRandomAffine(degrees=10, translate=(0.2, 0.2), scale=(0.8, 1.2), shear=10)\\nColorJitter(brightness=0.2, contrast=0.2, saturation=0.2, hue=0.1)\\nRandGaussianNoise(prob=0.5, mean=0.4, std=0.5)\\nNormalize(mean=(0.5, 0.5, 0.5), std=(0.5, 0.5, 0.5))</th>\n      <td>0.061502</td>\n      <td>0.272727</td>\n      <td>0.000000</td>\n      <td>0.036230</td>\n      <td>0.157895</td>\n      <td>0.000000</td>\n      <td>0.213793</td>\n      <td>1.000000</td>\n      <td>0.000000</td>\n      <td>NaN</td>\n      <td>NaN</td>\n      <td>NaN</td>\n    </tr>\n  </tbody>\n</table>\n</div>"
     },
     "execution_count": 5,
     "metadata": {},
     "output_type": "execute_result"
    }
   ],
   "source": [
    "df_edited"
   ],
   "metadata": {
    "collapsed": false,
    "ExecuteTime": {
     "end_time": "2024-05-09T12:47:50.555689Z",
     "start_time": "2024-05-09T12:47:50.546537Z"
    }
   },
   "id": "76766756bfbaeb8d",
   "execution_count": 5
  },
  {
   "cell_type": "code",
   "outputs": [],
   "source": [],
   "metadata": {
    "collapsed": false
   },
   "id": "bc966df2483422f3"
  }
 ],
 "metadata": {
  "kernelspec": {
   "display_name": "Python 3",
   "language": "python",
   "name": "python3"
  },
  "language_info": {
   "codemirror_mode": {
    "name": "ipython",
    "version": 2
   },
   "file_extension": ".py",
   "mimetype": "text/x-python",
   "name": "python",
   "nbconvert_exporter": "python",
   "pygments_lexer": "ipython2",
   "version": "2.7.6"
  }
 },
 "nbformat": 4,
 "nbformat_minor": 5
}
