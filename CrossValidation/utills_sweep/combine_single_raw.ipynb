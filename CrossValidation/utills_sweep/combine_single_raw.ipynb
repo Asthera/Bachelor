{
 "cells": [
  {
   "cell_type": "code",
   "execution_count": 1,
   "id": "initial_id",
   "metadata": {
    "collapsed": true,
    "ExecuteTime": {
     "end_time": "2024-05-10T09:05:25.665672Z",
     "start_time": "2024-05-10T09:05:25.334780Z"
    }
   },
   "outputs": [],
   "source": [
    "import pandas as pd"
   ]
  },
  {
   "cell_type": "code",
   "outputs": [],
   "source": [
    "sweeps_id = {\n",
    "    \"affine\": \"m2a2visa.csv\",\n",
    "    \"elastic\": \"d1x4gpe3.csv\",\n",
    "    \"pixel-level\": \"cruht9ii.csv\",\n",
    "    \"grid_distortion\": \"yopel9on.csv\"\n",
    "}\n",
    "\n",
    "file_dir = \"sweeps_raw/\"\n",
    "\n",
    "general_df = pd.DataFrame()\n",
    "general_df_name = \"general_single_raw.csv\"\n",
    "\n",
    "\n",
    "for sweep_type, file_name in sweeps_id.items():\n",
    "    df = pd.read_csv(file_dir + file_name)\n",
    "    if \"Transforms\" in df.columns:\n",
    "        df[\"Transforms\"] = df[\"Transforms\"].fillna(\"None\")\n",
    "    df[\"sweep_type\"] = sweep_type\n",
    "    general_df = pd.concat([general_df, df])\n",
    "\n",
    "general_df.to_csv(general_df_name, index=False)"
   ],
   "metadata": {
    "collapsed": false,
    "ExecuteTime": {
     "end_time": "2024-05-10T09:05:26.347501Z",
     "start_time": "2024-05-10T09:05:26.322823Z"
    }
   },
   "id": "1d4a4796e900fbb6",
   "execution_count": 2
  },
  {
   "cell_type": "code",
   "outputs": [],
   "source": [],
   "metadata": {
    "collapsed": false
   },
   "id": "4cb7a2e03e637e4e"
  }
 ],
 "metadata": {
  "kernelspec": {
   "display_name": "Python 3",
   "language": "python",
   "name": "python3"
  },
  "language_info": {
   "codemirror_mode": {
    "name": "ipython",
    "version": 2
   },
   "file_extension": ".py",
   "mimetype": "text/x-python",
   "name": "python",
   "nbconvert_exporter": "python",
   "pygments_lexer": "ipython2",
   "version": "2.7.6"
  }
 },
 "nbformat": 4,
 "nbformat_minor": 5
}
