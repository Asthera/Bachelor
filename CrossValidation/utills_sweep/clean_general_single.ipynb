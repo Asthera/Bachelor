{
 "cells": [
  {
   "cell_type": "code",
   "execution_count": 1,
   "id": "initial_id",
   "metadata": {
    "collapsed": true,
    "ExecuteTime": {
     "end_time": "2024-05-10T10:24:26.152701Z",
     "start_time": "2024-05-10T10:24:25.888804Z"
    }
   },
   "outputs": [],
   "source": [
    "import pandas as pd\n",
    "\n",
    "\n",
    "general_df_name = \"general_single.csv\""
   ]
  },
  {
   "cell_type": "code",
   "outputs": [
    {
     "name": "stdout",
     "output_type": "stream",
     "text": [
      "    Transforms  Test F1_mean  Test F1_max  Test F1_min  Test Precision_mean  \\\n",
      "0          NaN      0.249238     0.531250      0.04800             0.562854   \n",
      "32         NaN      0.235569     0.715789      0.00000             0.423469   \n",
      "85         NaN      0.174774     0.466667      0.00000             0.340342   \n",
      "129        NaN      0.149733     0.355330      0.00000             0.134886   \n",
      "132        NaN      0.209870     0.510949      0.01087             0.187281   \n",
      "\n",
      "     Test Precision_max  Test Precision_min  Test Recall_mean  \\\n",
      "0              1.000000            0.030612          0.267093   \n",
      "32             1.000000            0.000000          0.237168   \n",
      "85             1.000000            0.000000          0.229994   \n",
      "129            0.400000            0.000000          0.228301   \n",
      "132            0.388889            0.006452          0.268849   \n",
      "\n",
      "     Test Recall_max  Test Recall_min  Test Accuracy_mean  Test Accuracy_max  \\\n",
      "0           0.482759         0.037037                 NaN                NaN   \n",
      "32          0.723404         0.000000                 NaN                NaN   \n",
      "85          0.744681         0.000000                 NaN                NaN   \n",
      "129         0.744681         0.000000                 NaN                NaN   \n",
      "132         0.744681         0.034483                 NaN                NaN   \n",
      "\n",
      "     Test Accuracy_min sweep_type  average_metric  \n",
      "0                  NaN        NaN        0.341919  \n",
      "32                 NaN        NaN        0.404100  \n",
      "85                 NaN        NaN        0.274054  \n",
      "129                NaN        NaN        0.216998  \n",
      "132                NaN        NaN        0.310402  \n",
      "Transforms                  NaN\n",
      "Test F1_mean           0.249238\n",
      "Test F1_max             0.53125\n",
      "Test F1_min               0.048\n",
      "Test Precision_mean    0.562854\n",
      "Test Precision_max          1.0\n",
      "Test Precision_min     0.030612\n",
      "Test Recall_mean       0.267093\n",
      "Test Recall_max        0.482759\n",
      "Test Recall_min        0.037037\n",
      "Test Accuracy_mean          NaN\n",
      "Test Accuracy_max           NaN\n",
      "Test Accuracy_min           NaN\n",
      "sweep_type                  NaN\n",
      "average_metric         0.341919\n",
      "Name: 0, dtype: object\n"
     ]
    }
   ],
   "source": [
    "general_df = pd.read_csv(general_df_name)\n",
    "\n",
    "# Check is NaN\n",
    "filtered_df = general_df[general_df['Transforms'].isnull()]\n",
    "print(filtered_df.head())\n",
    "\n",
    "# Find the row with the highest \"Test F1_mean\"\n",
    "best_row = filtered_df.loc[filtered_df['Test F1_mean'].idxmax()]\n",
    "# leave it and leave rows with have higher\"Test F1_mean\" than this row\n",
    "print(best_row)\n",
    "\n",
    "another_filtered_df = general_df[general_df['Test F1_mean'] >= best_row['Test F1_mean']]\n",
    "\n",
    "\n",
    "another_filtered_df.to_csv(general_df_name[:-4] + \"higher_than_best_none\" + general_df_name[-4:], index=False)"
   ],
   "metadata": {
    "collapsed": false,
    "ExecuteTime": {
     "end_time": "2024-05-10T10:24:26.902727Z",
     "start_time": "2024-05-10T10:24:26.884179Z"
    }
   },
   "id": "b5527960703ddd28",
   "execution_count": 2
  },
  {
   "cell_type": "code",
   "outputs": [],
   "source": [],
   "metadata": {
    "collapsed": false
   },
   "id": "69ba0efafe1325b8"
  }
 ],
 "metadata": {
  "kernelspec": {
   "display_name": "Python 3",
   "language": "python",
   "name": "python3"
  },
  "language_info": {
   "codemirror_mode": {
    "name": "ipython",
    "version": 2
   },
   "file_extension": ".py",
   "mimetype": "text/x-python",
   "name": "python",
   "nbconvert_exporter": "python",
   "pygments_lexer": "ipython2",
   "version": "2.7.6"
  }
 },
 "nbformat": 4,
 "nbformat_minor": 5
}
